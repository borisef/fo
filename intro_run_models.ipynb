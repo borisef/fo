{
 "cells": [
  {
   "cell_type": "markdown",
   "id": "332a914e-7034-49bd-a2cf-148d8fe1de97",
   "metadata": {},
   "source": [
    "Function to run faster on dataset"
   ]
  },
  {
   "cell_type": "code",
   "execution_count": 14,
   "id": "cbf1769e-8996-48c2-b7dd-01a43d721a2b",
   "metadata": {},
   "outputs": [],
   "source": [
    "import torch\n",
    "import torchvision\n",
    "import fiftyone as fo\n",
    "from PIL import Image\n",
    "from torchvision.transforms import functional as func\n",
    "\n",
    "\n",
    "def add_detect_to_dataset(dataset, num_samples = None, map_labels={}, predictions_label = \"predictions\"):\n",
    "    if(num_samples is None):\n",
    "        num_samples = len(dataset)\n",
    "\n",
    "    # Run the model on GPU if it is available\n",
    "    device = torch.device(\"cuda:0\" if torch.cuda.is_available() else \"cpu\")\n",
    "\n",
    "    # Load a pre-trained Faster R-CNN model\n",
    "    model = torchvision.models.detection.fasterrcnn_resnet50_fpn(pretrained=True)\n",
    "    model.to(device)\n",
    "    model.eval()\n",
    "\n",
    "    print(\"Model ready\")\n",
    "\n",
    "    # Choose a random subset of 100 samples to add predictions to\n",
    "    predictions_view = dataset.take(num_samples, seed=51)\n",
    "\n",
    "    # Get class list\n",
    "    classes = dataset.distinct(\"predictions.detections.label\") #dataset.default_classes\n",
    "    print(classes)\n",
    "\n",
    "    # Add predictions to samples\n",
    "    with fo.ProgressBar() as pb:\n",
    "        for sample in pb(predictions_view):\n",
    "            # Load image\n",
    "            image = Image.open(sample.filepath)\n",
    "            image = func.to_tensor(image).to(device)\n",
    "            c, h, w = image.shape\n",
    "\n",
    "            # Perform inference\n",
    "            preds = model([image])[0]\n",
    "            labels = preds[\"labels\"].cpu().detach().numpy()\n",
    "            scores = preds[\"scores\"].cpu().detach().numpy()\n",
    "            boxes = preds[\"boxes\"].cpu().detach().numpy()\n",
    "\n",
    "            # Convert detections to FiftyOne format\n",
    "            detections = []\n",
    "\n",
    "            keys = map_labels.keys()\n",
    "            true_labels = []\n",
    "            true_scores = []\n",
    "            true_boxes = []\n",
    "            if(len(map_labels) == 0):\n",
    "                true_labels = labels\n",
    "                true_scores = scores\n",
    "                true_boxes = boxes\n",
    "            else:\n",
    "                for label, score, box in zip(labels, scores, boxes):\n",
    "                    if(label in keys):\n",
    "                        true_labels.append(map_labels[label])\n",
    "                        true_scores.append(score)\n",
    "                        true_boxes.append(box)\n",
    "\n",
    "            for label, score, box in zip(true_labels, true_scores, true_boxes):\n",
    "                # Convert to [top-left-x, top-left-y, width, height]\n",
    "                # in relative coordinates in [0, 1] x [0, 1]\n",
    "                x1, y1, x2, y2 = box\n",
    "                rel_box = [x1 / w, y1 / h, (x2 - x1) / w, (y2 - y1) / h]\n",
    "\n",
    "                detections.append(\n",
    "                    fo.Detection(\n",
    "                        label=classes[label],\n",
    "                        bounding_box=rel_box,\n",
    "                        confidence=score\n",
    "                    )\n",
    "                )\n",
    "\n",
    "            # Save predictions to dataset\n",
    "            sample[predictions_label] = fo.Detections(detections=detections)\n",
    "            sample.save()\n",
    "\n",
    "        return dataset\n"
   ]
  },
  {
   "cell_type": "markdown",
   "id": "f78c7b7f-51a0-4afe-b030-b72a2fefd61d",
   "metadata": {},
   "source": [
    "Function to read coco from file"
   ]
  },
  {
   "cell_type": "code",
   "execution_count": 15,
   "id": "aaf2e289-37a5-412a-a2cb-81e5cbe10ba7",
   "metadata": {},
   "outputs": [
    {
     "name": "stdout",
     "output_type": "stream",
     "text": [
      "Dataset already downloaded\n",
      "Loading existing dataset 'quickstart'. To reload from disk, either delete the existing dataset or provide a custom `dataset_name` to use\n"
     ]
    }
   ],
   "source": [
    "import fiftyone as fo\n",
    "import fiftyone.zoo as foz\n",
    "dataset = foz.load_zoo_dataset('quickstart')"
   ]
  },
  {
   "cell_type": "code",
   "execution_count": 16,
   "id": "eee646b1-2362-4dde-94c8-17e18a2f6aaa",
   "metadata": {},
   "outputs": [
    {
     "name": "stdout",
     "output_type": "stream",
     "text": [
      "Model ready\n",
      "['airplane', 'apple', 'backpack', 'banana', 'baseball glove', 'bear', 'bed', 'bench', 'bicycle', 'bird', 'boat', 'book', 'bottle', 'bowl', 'broccoli', 'bus', 'cake', 'car', 'carrot', 'cat', 'cell phone', 'chair', 'clock', 'couch', 'cow', 'cup', 'dining table', 'dog', 'donut', 'elephant', 'fire hydrant', 'fork', 'frisbee', 'giraffe', 'hair drier', 'handbag', 'horse', 'hot dog', 'keyboard', 'kite', 'knife', 'laptop', 'microwave', 'motorcycle', 'mouse', 'orange', 'oven', 'parking meter', 'person', 'pizza', 'potted plant', 'refrigerator', 'remote', 'sandwich', 'scissors', 'sheep', 'sink', 'skateboard', 'skis', 'snowboard', 'spoon', 'sports ball', 'stop sign', 'suitcase', 'surfboard', 'teddy bear', 'tennis racket', 'tie', 'toaster', 'toilet', 'toothbrush', 'traffic light', 'train', 'truck', 'tv', 'umbrella', 'vase', 'wine glass', 'zebra']\n",
      "   1% |\\----------------|   2/200 [4.9s elapsed, 8.1m remaining, 0.6 samples/s] \n"
     ]
    },
    {
     "ename": "IndexError",
     "evalue": "list index out of range",
     "output_type": "error",
     "traceback": [
      "\u001b[0;31m---------------------------------------------------------------------------\u001b[0m",
      "\u001b[0;31mIndexError\u001b[0m                                Traceback (most recent call last)",
      "Cell \u001b[0;32mIn[16], line 1\u001b[0m\n\u001b[0;32m----> 1\u001b[0m dataset \u001b[38;5;241m=\u001b[39m \u001b[43madd_detect_to_dataset\u001b[49m\u001b[43m(\u001b[49m\u001b[43mdataset\u001b[49m\u001b[43m,\u001b[49m\u001b[43mnum_samples\u001b[49m\u001b[38;5;241;43m=\u001b[39;49m\u001b[38;5;28;43;01mNone\u001b[39;49;00m\u001b[43m,\u001b[49m\u001b[43m \u001b[49m\u001b[43mmap_labels\u001b[49m\u001b[38;5;241;43m=\u001b[39;49m\u001b[43m{\u001b[49m\u001b[43m}\u001b[49m\u001b[43m,\u001b[49m\u001b[43mpredictions_label\u001b[49m\u001b[38;5;241;43m=\u001b[39;49m\u001b[38;5;124;43m\"\u001b[39;49m\u001b[38;5;124;43mpredictions_faster\u001b[39;49m\u001b[38;5;124;43m\"\u001b[39;49m\u001b[43m)\u001b[49m\n",
      "Cell \u001b[0;32mIn[14], line 69\u001b[0m, in \u001b[0;36madd_detect_to_dataset\u001b[0;34m(dataset, num_samples, map_labels, predictions_label)\u001b[0m\n\u001b[1;32m     64\u001b[0m     x1, y1, x2, y2 \u001b[38;5;241m=\u001b[39m box\n\u001b[1;32m     65\u001b[0m     rel_box \u001b[38;5;241m=\u001b[39m [x1 \u001b[38;5;241m/\u001b[39m w, y1 \u001b[38;5;241m/\u001b[39m h, (x2 \u001b[38;5;241m-\u001b[39m x1) \u001b[38;5;241m/\u001b[39m w, (y2 \u001b[38;5;241m-\u001b[39m y1) \u001b[38;5;241m/\u001b[39m h]\n\u001b[1;32m     67\u001b[0m     detections\u001b[38;5;241m.\u001b[39mappend(\n\u001b[1;32m     68\u001b[0m         fo\u001b[38;5;241m.\u001b[39mDetection(\n\u001b[0;32m---> 69\u001b[0m             label\u001b[38;5;241m=\u001b[39m\u001b[43mclasses\u001b[49m\u001b[43m[\u001b[49m\u001b[43mlabel\u001b[49m\u001b[43m]\u001b[49m,\n\u001b[1;32m     70\u001b[0m             bounding_box\u001b[38;5;241m=\u001b[39mrel_box,\n\u001b[1;32m     71\u001b[0m             confidence\u001b[38;5;241m=\u001b[39mscore\n\u001b[1;32m     72\u001b[0m         )\n\u001b[1;32m     73\u001b[0m     )\n\u001b[1;32m     75\u001b[0m \u001b[38;5;66;03m# Save predictions to dataset\u001b[39;00m\n\u001b[1;32m     76\u001b[0m sample[predictions_label] \u001b[38;5;241m=\u001b[39m fo\u001b[38;5;241m.\u001b[39mDetections(detections\u001b[38;5;241m=\u001b[39mdetections)\n",
      "\u001b[0;31mIndexError\u001b[0m: list index out of range"
     ]
    }
   ],
   "source": [
    "dataset = add_detect_to_dataset(dataset,num_samples=None, map_labels={},predictions_label=\"predictions_faster\")"
   ]
  },
  {
   "cell_type": "code",
   "execution_count": 13,
   "id": "483d83cb-3401-4102-85be-47b059c3c03d",
   "metadata": {},
   "outputs": [
    {
     "name": "stdout",
     "output_type": "stream",
     "text": [
      "Name:        quickstart\n",
      "Media type:  image\n",
      "Num samples: 200\n",
      "Persistent:  False\n",
      "Tags:        ['small']\n",
      "Sample fields:\n",
      "    id:                fiftyone.core.fields.ObjectIdField\n",
      "    filepath:          fiftyone.core.fields.StringField\n",
      "    tags:              fiftyone.core.fields.ListField(fiftyone.core.fields.StringField)\n",
      "    metadata:          fiftyone.core.fields.EmbeddedDocumentField(fiftyone.core.metadata.ImageMetadata)\n",
      "    ground_truth:      fiftyone.core.fields.EmbeddedDocumentField(fiftyone.core.labels.Detections)\n",
      "    uniqueness:        fiftyone.core.fields.FloatField\n",
      "    predictions:       fiftyone.core.fields.EmbeddedDocumentField(fiftyone.core.labels.Detections)\n",
      "    my_uniqueness:     fiftyone.core.fields.FloatField\n",
      "    eval_tp:           fiftyone.core.fields.IntField\n",
      "    eval_fp:           fiftyone.core.fields.IntField\n",
      "    eval_fn:           fiftyone.core.fields.IntField\n",
      "    mistakenness:      fiftyone.core.fields.FloatField\n",
      "    possible_missing:  fiftyone.core.fields.IntField\n",
      "    possible_spurious: fiftyone.core.fields.IntField\n",
      "    blurriness:        fiftyone.core.fields.FloatField\n",
      "    owlvit_1:          fiftyone.core.fields.EmbeddedDocumentField(fiftyone.core.labels.Detections)\n"
     ]
    }
   ],
   "source": [
    "print(dataset)"
   ]
  },
  {
   "cell_type": "code",
   "execution_count": null,
   "id": "26bd10cc-ae44-454d-9c3c-3d8aa6672339",
   "metadata": {},
   "outputs": [],
   "source": []
  }
 ],
 "metadata": {
  "kernelspec": {
   "display_name": "Python 3 (ipykernel)",
   "language": "python",
   "name": "python3"
  },
  "language_info": {
   "codemirror_mode": {
    "name": "ipython",
    "version": 3
   },
   "file_extension": ".py",
   "mimetype": "text/x-python",
   "name": "python",
   "nbconvert_exporter": "python",
   "pygments_lexer": "ipython3",
   "version": "3.8.10"
  }
 },
 "nbformat": 4,
 "nbformat_minor": 5
}
