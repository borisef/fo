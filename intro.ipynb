{
 "cells": [
  {
   "cell_type": "markdown",
   "id": "7c7393d6-5909-472f-a4a2-671d9c2b5a48",
   "metadata": {},
   "source": [
    "Core Components: "
   ]
  },
  {
   "cell_type": "markdown",
   "id": "0a50d030-d2bf-44b4-a810-1152a7b573ff",
   "metadata": {},
   "source": [
    "* Fiftyone library\n",
    "* Fiftyone App\n",
    "* FiftyOne Brain \n",
    "* Dataset / Model Zoo\n",
    "* Plugins\n"
   ]
  },
  {
   "cell_type": "markdown",
   "id": "45739239-72cf-4eb1-a792-d5daa53f6b23",
   "metadata": {},
   "source": [
    "Data model"
   ]
  },
  {
   "cell_type": "markdown",
   "id": "5c194cbe-d471-4e9c-a423-c5e2ab11d645",
   "metadata": {},
   "source": [
    "* Dataset\n",
    "* Sample\n",
    "* View\n",
    "* ViewStage\n",
    "* Field\n",
    "* Label\n",
    "* Tag\n",
    "* Metadata\n",
    "* Aggregation"
   ]
  },
  {
   "cell_type": "code",
   "execution_count": 1,
   "id": "26449a9b-bfa5-4409-86e0-49e01243eb99",
   "metadata": {},
   "outputs": [],
   "source": [
    "import fiftyone as fo\n",
    "import fiftyone.zoo as foz"
   ]
  },
  {
   "cell_type": "markdown",
   "id": "408230ed-f628-4de7-b57b-eedc1ae130f3",
   "metadata": {},
   "source": [
    "List zoo models and datasets"
   ]
  },
  {
   "cell_type": "code",
   "execution_count": 7,
   "id": "4ff0378a-a504-4ac5-8d59-5c64750bae15",
   "metadata": {},
   "outputs": [
    {
     "name": "stdout",
     "output_type": "stream",
     "text": [
      "['coco-2014', 'coco-2017', 'kitti', 'kitti-multiview', 'open-images-v6', 'open-images-v7', 'sama-coco', 'voc-2007', 'voc-2012']\n"
     ]
    }
   ],
   "source": [
    "list_zoo_datasets_detection = foz.list_zoo_datasets('detection')\n",
    "print(list_zoo_datasets_detection)"
   ]
  },
  {
   "cell_type": "code",
   "execution_count": 8,
   "id": "2f34e7ad-c055-4105-a771-92a027ea3174",
   "metadata": {
    "scrolled": true
   },
   "outputs": [
    {
     "data": {
      "text/plain": [
       "['centernet-hg104-1024-coco-tf2',\n",
       " 'centernet-hg104-512-coco-tf2',\n",
       " 'centernet-mobilenet-v2-fpn-512-coco-tf2',\n",
       " 'centernet-resnet101-v1-fpn-512-coco-tf2',\n",
       " 'centernet-resnet50-v1-fpn-512-coco-tf2',\n",
       " 'centernet-resnet50-v2-512-coco-tf2',\n",
       " 'efficientdet-d0-512-coco-tf2',\n",
       " 'efficientdet-d0-coco-tf1',\n",
       " 'efficientdet-d1-640-coco-tf2',\n",
       " 'efficientdet-d1-coco-tf1',\n",
       " 'efficientdet-d2-768-coco-tf2',\n",
       " 'efficientdet-d2-coco-tf1',\n",
       " 'efficientdet-d3-896-coco-tf2',\n",
       " 'efficientdet-d3-coco-tf1',\n",
       " 'efficientdet-d4-1024-coco-tf2',\n",
       " 'efficientdet-d4-coco-tf1',\n",
       " 'efficientdet-d5-1280-coco-tf2',\n",
       " 'efficientdet-d5-coco-tf1',\n",
       " 'efficientdet-d6-1280-coco-tf2',\n",
       " 'efficientdet-d6-coco-tf1',\n",
       " 'efficientdet-d7-1536-coco-tf2',\n",
       " 'faster-rcnn-inception-resnet-atrous-v2-coco-tf',\n",
       " 'faster-rcnn-inception-resnet-atrous-v2-lowproposals-coco-tf',\n",
       " 'faster-rcnn-inception-v2-coco-tf',\n",
       " 'faster-rcnn-nas-coco-tf',\n",
       " 'faster-rcnn-nas-lowproposals-coco-tf',\n",
       " 'faster-rcnn-resnet101-coco-tf',\n",
       " 'faster-rcnn-resnet101-lowproposals-coco-tf',\n",
       " 'faster-rcnn-resnet50-coco-tf',\n",
       " 'faster-rcnn-resnet50-fpn-coco-torch',\n",
       " 'faster-rcnn-resnet50-lowproposals-coco-tf',\n",
       " 'retinanet-resnet50-fpn-coco-torch',\n",
       " 'rfcn-resnet101-coco-tf',\n",
       " 'ssd-inception-v2-coco-tf',\n",
       " 'ssd-mobilenet-v1-coco-tf',\n",
       " 'ssd-mobilenet-v1-fpn-640-coco17',\n",
       " 'ssd-mobilenet-v1-fpn-coco-tf',\n",
       " 'ssd-mobilenet-v2-320-coco17',\n",
       " 'ssd-resnet50-fpn-coco-tf',\n",
       " 'yolo-v2-coco-tf1',\n",
       " 'yolov5l-coco-torch',\n",
       " 'yolov5m-coco-torch',\n",
       " 'yolov5n-coco-torch',\n",
       " 'yolov5s-coco-torch',\n",
       " 'yolov5x-coco-torch']"
      ]
     },
     "execution_count": 8,
     "metadata": {},
     "output_type": "execute_result"
    }
   ],
   "source": [
    "foz.list_zoo_models(\"detection\")"
   ]
  },
  {
   "cell_type": "code",
   "execution_count": 9,
   "id": "ea19ef1f-b1df-4eb2-ac6d-022e14f5986d",
   "metadata": {},
   "outputs": [
    {
     "data": {
      "text/plain": [
       "{'mobilenet-v2-imagenet-torch': ('/home/borisef/fiftyone/__models__/mobilenet_v2-b0353104.pth',\n",
       "  <fiftyone.zoo.models.ZooModel at 0x7f97d07a15b0>),\n",
       " 'clip-vit-base32-torch': ('/home/borisef/fiftyone/__models__/CLIP-ViT-B-32.pt',\n",
       "  <fiftyone.zoo.models.ZooModel at 0x7f97d07a68b0>)}"
      ]
     },
     "execution_count": 9,
     "metadata": {},
     "output_type": "execute_result"
    }
   ],
   "source": [
    "foz.list_downloaded_zoo_models()"
   ]
  },
  {
   "cell_type": "code",
   "execution_count": 10,
   "id": "0102f099-86f6-4ea2-8a66-a540b0ebe7db",
   "metadata": {},
   "outputs": [
    {
     "name": "stdout",
     "output_type": "stream",
     "text": [
      "Dataset already downloaded\n",
      "Loading existing dataset 'quickstart'. To reload from disk, either delete the existing dataset or provide a custom `dataset_name` to use\n"
     ]
    }
   ],
   "source": [
    "dataset = foz.load_zoo_dataset('quickstart')"
   ]
  },
  {
   "cell_type": "code",
   "execution_count": 11,
   "id": "59792fbc-c9a4-4514-89d0-0be55c349fd5",
   "metadata": {},
   "outputs": [
    {
     "name": "stdout",
     "output_type": "stream",
     "text": [
      "Session launched. Run `session.show()` to open the App in a cell output.\n"
     ]
    }
   ],
   "source": [
    "session1 = fo.launch_app(dataset, auto=False, desktop=False)"
   ]
  },
  {
   "cell_type": "code",
   "execution_count": 35,
   "id": "bc4af692-6148-4bf4-b027-c2091157862f",
   "metadata": {},
   "outputs": [
    {
     "data": {
      "text/html": [
       "\n",
       "<style>\n",
       "@import url(\"https://fonts.googleapis.com/css2?family=Palanquin&display=swap\");\n",
       "\n",
       "body, html {\n",
       "  margin: 0;\n",
       "  padding: 0;\n",
       "  width: 100%;\n",
       "}\n",
       "\n",
       "#focontainer-24a85c08-dd56-4ec1-968f-429196975731 {\n",
       "  position: relative;\n",
       "  height: 800px;\n",
       "  display: block !important;\n",
       "}\n",
       "#foactivate-24a85c08-dd56-4ec1-968f-429196975731 {\n",
       "  font-weight: bold;\n",
       "  cursor: pointer;\n",
       "  font-size: 24px;\n",
       "  border-radius: 3px;\n",
       "  text-align: center;\n",
       "  padding: 0.5em;\n",
       "  color: rgb(255, 255, 255);\n",
       "  font-family: \"Palanquin\", sans-serif;\n",
       "  position: absolute;\n",
       "  left: 50%;\n",
       "  top: 50%;\n",
       "  width: 160px;\n",
       "  margin-left: -80px;\n",
       "  margin-top: -23px;\n",
       "  background: hsla(210,11%,15%, 0.8);\n",
       "  border: none;\n",
       "}\n",
       "#foactivate-24a85c08-dd56-4ec1-968f-429196975731:focus {\n",
       "  outline: none;\n",
       "}\n",
       "#fooverlay-24a85c08-dd56-4ec1-968f-429196975731 {\n",
       "  width: 100%;\n",
       "  height: 100%;\n",
       "  background: hsla(208, 7%, 46%, 0.7);\n",
       "  position: absolute;\n",
       "  top: 0;\n",
       "  left: 0;\n",
       "  display: none;\n",
       "  cursor: pointer;\n",
       "}\n",
       "</style>\n",
       "\n",
       "<div id=\"focontainer-24a85c08-dd56-4ec1-968f-429196975731\">\n",
       "   <div id=\"fooverlay-24a85c08-dd56-4ec1-968f-429196975731\" style=\"display: none;\">\n",
       "      <button id=\"foactivate-24a85c08-dd56-4ec1-968f-429196975731\" >Activate</button>\n",
       "   </div>\n",
       "   <img src='data:image/jpeg;base64,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' style=\"width: 100%; max-width: 1193px;\"/>\n",
       "</div>\n",
       "\n",
       "<script type=\"text/javascript\">\n",
       "   (function() {\n",
       "     var container = document.getElementById(\"focontainer-24a85c08-dd56-4ec1-968f-429196975731\");\n",
       "     var overlay = document.getElementById(\"fooverlay-24a85c08-dd56-4ec1-968f-429196975731\");\n",
       "     fetch(`http://localhost:5151/fiftyone`)\n",
       "     .then(() => {\n",
       "        overlay.addEventListener(\"click\", () => {\n",
       "          fetch(`http://localhost:5151/event`, {\n",
       "            method: \"POST\",\n",
       "            body: JSON.stringify({\n",
       "              event: \"reactivate_notebook_cell\",\n",
       "              data: { subscription: \"24a85c08-dd56-4ec1-968f-429196975731\" },\n",
       "              subscription: \"24a85c08-dd56-4ec1-968f-429196975731\"\n",
       "            })\n",
       "          })\n",
       "        });\n",
       "        container.addEventListener(\"mouseenter\", () => overlay.style.display = \"block\");\n",
       "        container.addEventListener(\"mouseleave\", () => overlay.style.display = \"none\");\n",
       "     });\n",
       "   })();\n",
       "</script>"
      ],
      "text/plain": [
       "<IPython.core.display.HTML object>"
      ]
     },
     "metadata": {},
     "output_type": "display_data"
    }
   ],
   "source": [
    "session1.show()"
   ]
  },
  {
   "cell_type": "code",
   "execution_count": 15,
   "id": "3fcc3bab-7475-4b68-b050-b92e2c88b758",
   "metadata": {},
   "outputs": [],
   "source": [
    "session1.freeze() # freezing app in notebook"
   ]
  },
  {
   "cell_type": "code",
   "execution_count": 18,
   "id": "f12680e0-4775-4891-9ac4-ebe847bca6f9",
   "metadata": {},
   "outputs": [],
   "source": [
    "import fiftyone.brain as fob"
   ]
  },
  {
   "cell_type": "code",
   "execution_count": 19,
   "id": "15de38e9-ad91-46e4-a128-c90169c2c214",
   "metadata": {},
   "outputs": [
    {
     "name": "stdout",
     "output_type": "stream",
     "text": [
      "Computing embeddings...\n"
     ]
    },
    {
     "name": "stderr",
     "output_type": "stream",
     "text": [
      "/home/borisef/Envs/fo_python38/lib/python3.8/site-packages/torch/cuda/__init__.py:138: UserWarning: CUDA initialization: The NVIDIA driver on your system is too old (found version 11040). Please update your GPU driver by downloading and installing a new version from the URL: http://www.nvidia.com/Download/index.aspx Alternatively, go to: https://pytorch.org to install a PyTorch version that has been compiled with your version of the CUDA driver. (Triggered internally at ../c10/cuda/CUDAFunctions.cpp:108.)\n",
      "  return torch._C._cuda_getDeviceCount() > 0\n"
     ]
    },
    {
     "name": "stdout",
     "output_type": "stream",
     "text": []
    },
    {
     "name": "stdout",
     "output_type": "stream",
     "text": [
      " 100% |█████████████████| 200/200 [885.7ms elapsed, 0s remaining, 232.2 samples/s]      \n",
      "Computing uniqueness...\n",
      "Uniqueness computation complete\n"
     ]
    }
   ],
   "source": [
    "fob.compute_uniqueness(dataset, uniqueness_field=\"my_uniqueness\")"
   ]
  },
  {
   "cell_type": "code",
   "execution_count": 23,
   "id": "fee22c91-eb83-4460-af82-0da2bd971172",
   "metadata": {},
   "outputs": [
    {
     "data": {
      "text/plain": [
       "\u001b[0;31mSignature:\u001b[0m \u001b[0mfob\u001b[0m\u001b[0;34m.\u001b[0m\u001b[0mcompute_exact_duplicates\u001b[0m\u001b[0;34m(\u001b[0m\u001b[0msamples\u001b[0m\u001b[0;34m,\u001b[0m \u001b[0mnum_workers\u001b[0m\u001b[0;34m=\u001b[0m\u001b[0;32mNone\u001b[0m\u001b[0;34m,\u001b[0m \u001b[0mskip_failures\u001b[0m\u001b[0;34m=\u001b[0m\u001b[0;32mTrue\u001b[0m\u001b[0;34m)\u001b[0m\u001b[0;34m\u001b[0m\u001b[0;34m\u001b[0m\u001b[0m\n",
       "\u001b[0;31mDocstring:\u001b[0m\n",
       "Detects duplicate media in a sample collection.\n",
       "\n",
       "This method detects exact duplicates with the same filehash. Use\n",
       ":meth:`compute_similarity` to detect near-duplicate images.\n",
       "\n",
       "If duplicates are found, the first instance in ``samples`` will be the key\n",
       "in the returned dictionary, while the subsequent duplicates will be the\n",
       "values in the corresponding list.\n",
       "\n",
       "Args:\n",
       "    samples: a :class:`fiftyone.core.collections.SampleCollection`\n",
       "    num_workers (None): an optional number of processes to use\n",
       "    skip_failures (True): whether to gracefully ignore samples whose\n",
       "        filehash cannot be computed\n",
       "\n",
       "Returns:\n",
       "    a dictionary mapping IDs of samples with exact duplicates to lists of\n",
       "    IDs of the duplicates for the corresponding sample\n",
       "\u001b[0;31mFile:\u001b[0m      ~/Envs/fo_python38/lib/python3.8/site-packages/fiftyone/brain/__init__.py\n",
       "\u001b[0;31mType:\u001b[0m      function"
      ]
     },
     "metadata": {},
     "output_type": "display_data"
    }
   ],
   "source": [
    "fob.compute_exact_duplicates?"
   ]
  },
  {
   "cell_type": "code",
   "execution_count": 25,
   "id": "437453da-125d-4bf5-8d66-d39e769eafc5",
   "metadata": {},
   "outputs": [
    {
     "name": "stdout",
     "output_type": "stream",
     "text": [
      "Computing embeddings...\n",
      " 100% |█████████████████| 200/200 [13.5s elapsed, 0s remaining, 15.2 samples/s]      \n"
     ]
    },
    {
     "data": {
      "text/plain": [
       "<fiftyone.brain.internal.core.sklearn.SklearnSimilarityIndex at 0x7f97c2c76460>"
      ]
     },
     "execution_count": 25,
     "metadata": {},
     "output_type": "execute_result"
    }
   ],
   "source": [
    "fob.compute_similarity(dataset,brain_key = \"sim\") # TODO: EXPLORE"
   ]
  },
  {
   "cell_type": "code",
   "execution_count": 27,
   "id": "3098cccc-d3e5-47ee-a8fc-09e5699b3f42",
   "metadata": {},
   "outputs": [
    {
     "name": "stdout",
     "output_type": "stream",
     "text": [
      "Computing embeddings...\n",
      " 100% |█████████████████| 200/200 [13.9s elapsed, 0s remaining, 15.7 samples/s]      \n",
      "Generating visualization...\n",
      "UMAP( verbose=True)\n",
      "Tue Dec  5 21:31:41 2023 Construct fuzzy simplicial set\n",
      "Tue Dec  5 21:31:41 2023 Finding Nearest Neighbors\n",
      "Tue Dec  5 21:31:43 2023 Finished Nearest Neighbor Search\n",
      "Tue Dec  5 21:31:45 2023 Construct embedding\n"
     ]
    },
    {
     "data": {
      "application/vnd.jupyter.widget-view+json": {
       "model_id": "acec7d441005441cb1bb2db9a7232d1f",
       "version_major": 2,
       "version_minor": 0
      },
      "text/plain": [
       "Epochs completed:   0%|            0/500 [00:00]"
      ]
     },
     "metadata": {},
     "output_type": "display_data"
    },
    {
     "name": "stdout",
     "output_type": "stream",
     "text": [
      "\tcompleted  0  /  500 epochs\n",
      "\tcompleted  50  /  500 epochs\n",
      "\tcompleted  100  /  500 epochs\n",
      "\tcompleted  150  /  500 epochs\n",
      "\tcompleted  200  /  500 epochs\n",
      "\tcompleted  250  /  500 epochs\n",
      "\tcompleted  300  /  500 epochs\n",
      "\tcompleted  350  /  500 epochs\n",
      "\tcompleted  400  /  500 epochs\n",
      "\tcompleted  450  /  500 epochs\n",
      "Tue Dec  5 21:31:47 2023 Finished embedding\n"
     ]
    },
    {
     "data": {
      "text/plain": [
       "<fiftyone.brain.visualization.VisualizationResults at 0x7f97d0c83550>"
      ]
     },
     "execution_count": 27,
     "metadata": {},
     "output_type": "execute_result"
    }
   ],
   "source": [
    "# Image embeddings. Run this. See results in App\n",
    "fob.compute_visualization(dataset, brain_key=\"img_viz\")"
   ]
  },
  {
   "cell_type": "code",
   "execution_count": 33,
   "id": "dcd7fd8f-0c9c-4514-921a-ad001bdf7089",
   "metadata": {},
   "outputs": [
    {
     "name": "stdout",
     "output_type": "stream",
     "text": [
      "Computing patch embeddings...\n",
      " 100% |█████████████████| 200/200 [6.4m elapsed, 0s remaining, 0.5 samples/s]    \n",
      "Generating visualization...\n",
      "UMAP( verbose=True)\n",
      "Tue Dec  5 21:45:24 2023 Construct fuzzy simplicial set\n",
      "Tue Dec  5 21:45:24 2023 Finding Nearest Neighbors\n",
      "Tue Dec  5 21:45:24 2023 Building RP forest with 9 trees\n",
      "Tue Dec  5 21:45:27 2023 NN descent for 12 iterations\n",
      "\t 1  /  12\n",
      "\t 2  /  12\n",
      "\t 3  /  12\n",
      "\t 4  /  12\n",
      "\tStopping threshold met -- exiting after 4 iterations\n",
      "Tue Dec  5 21:45:36 2023 Finished Nearest Neighbor Search\n",
      "Tue Dec  5 21:45:36 2023 Construct embedding\n"
     ]
    },
    {
     "data": {
      "application/vnd.jupyter.widget-view+json": {
       "model_id": "dc1f9d6fab4e41d0af15b8ae5d8a376d",
       "version_major": 2,
       "version_minor": 0
      },
      "text/plain": [
       "Epochs completed:   0%|            0/500 [00:00]"
      ]
     },
     "metadata": {},
     "output_type": "display_data"
    },
    {
     "name": "stdout",
     "output_type": "stream",
     "text": [
      "\tcompleted  0  /  500 epochs\n",
      "\tcompleted  50  /  500 epochs\n",
      "\tcompleted  100  /  500 epochs\n",
      "\tcompleted  150  /  500 epochs\n",
      "\tcompleted  200  /  500 epochs\n",
      "\tcompleted  250  /  500 epochs\n",
      "\tcompleted  300  /  500 epochs\n",
      "\tcompleted  350  /  500 epochs\n",
      "\tcompleted  400  /  500 epochs\n",
      "\tcompleted  450  /  500 epochs\n",
      "Tue Dec  5 21:45:41 2023 Finished embedding\n"
     ]
    },
    {
     "data": {
      "text/plain": [
       "<fiftyone.brain.visualization.VisualizationResults at 0x7f96c589bc70>"
      ]
     },
     "execution_count": 33,
     "metadata": {},
     "output_type": "execute_result"
    }
   ],
   "source": [
    "# Object patch embeddings\n",
    "fob.compute_visualization(\n",
    "    dataset, patches_field=\"predictions\", brain_key=\"prediction_bb_viz\"\n",
    ")"
   ]
  },
  {
   "cell_type": "code",
   "execution_count": 34,
   "id": "3cd31424-be2a-4b6f-97f2-8da7e8876923",
   "metadata": {},
   "outputs": [
    {
     "name": "stdout",
     "output_type": "stream",
     "text": [
      "Computing metadata...\n",
      " 100% |█████████████████| 200/200 [620.3ms elapsed, 0s remaining, 322.4 samples/s]      \n"
     ]
    }
   ],
   "source": [
    "# Compute metadata so we can reference image height/width in our view\n",
    "dataset.compute_metadata()"
   ]
  },
  {
   "cell_type": "markdown",
   "id": "253ff9b5-b01b-4ad7-a458-32877df3dd84",
   "metadata": {},
   "source": [
    "In this dataset we already have GT and predictions, lets do evaluation "
   ]
  },
  {
   "cell_type": "code",
   "execution_count": 45,
   "id": "a945a91e-c435-4ecb-b69c-2fa9e0dd5d1c",
   "metadata": {},
   "outputs": [],
   "source": [
    "#evaluate only predictions with high confidence\n",
    "from fiftyone import ViewField as F\n",
    "low_conf_view = dataset.filter_labels(\"predictions\", F(\"confidence\") < 0.75, only_matches=False)\n"
   ]
  },
  {
   "cell_type": "code",
   "execution_count": 46,
   "id": "83e92360-c5d6-4dd1-b32d-18124e913c92",
   "metadata": {},
   "outputs": [
    {
     "name": "stdout",
     "output_type": "stream",
     "text": [
      "Evaluating detections...\n",
      " 100% |█████████████████| 200/200 [15.2s elapsed, 0s remaining, 9.2 samples/s]       \n"
     ]
    }
   ],
   "source": [
    "eval_results = fo.evaluate_detections(low_conf_view,pred_field=\"predictions\",gt_field = \"ground_truth\",eval_key = 'eval',method=None,classwise=True)"
   ]
  },
  {
   "cell_type": "code",
   "execution_count": 47,
   "id": "f870c120-20b2-45fb-b304-df30d70c6f7c",
   "metadata": {},
   "outputs": [
    {
     "name": "stdout",
     "output_type": "stream",
     "text": [
      "                precision    recall  f1-score   support\n",
      "\n",
      "      airplane       0.06      0.08      0.07        24\n",
      "         apple       0.00      0.00      0.00         2\n",
      "      backpack       0.05      0.43      0.08         7\n",
      "        banana       0.00      0.00      0.00         3\n",
      "baseball glove       0.29      0.50      0.36         4\n",
      "          bear       0.00      0.00      0.00         6\n",
      "           bed       0.00      0.00      0.00         1\n",
      "         bench       0.10      0.26      0.14        23\n",
      "       bicycle       0.00      0.00      0.00         0\n",
      "          bird       0.56      0.57      0.56        96\n",
      "          boat       0.06      0.24      0.09        37\n",
      "          book       0.06      0.82      0.12        11\n",
      "        bottle       0.05      0.40      0.09        10\n",
      "          bowl       0.11      0.53      0.18        15\n",
      "      broccoli       0.08      0.62      0.14        16\n",
      "           bus       0.06      1.00      0.12         1\n",
      "          cake       0.00      0.00      0.00         4\n",
      "           car       0.10      0.39      0.16        61\n",
      "        carrot       0.06      0.47      0.11        47\n",
      "           cat       0.15      0.19      0.17        16\n",
      "    cell phone       0.00      0.00      0.00         1\n",
      "         chair       0.05      0.30      0.08        23\n",
      "         clock       0.09      0.50      0.15         4\n",
      "         couch       0.13      1.00      0.23         4\n",
      "           cow       0.05      0.14      0.07        22\n",
      "           cup       0.08      0.29      0.12        21\n",
      "  dining table       0.04      0.40      0.07        15\n",
      "           dog       0.06      0.13      0.08        15\n",
      "         donut       0.17      0.46      0.24        13\n",
      "      elephant       0.42      0.50      0.46        22\n",
      "  fire hydrant       0.20      0.50      0.29         2\n",
      "          fork       0.04      0.22      0.07         9\n",
      "       frisbee       0.00      0.00      0.00         2\n",
      "       giraffe       0.12      0.17      0.15        23\n",
      "    hair drier       0.00      0.00      0.00         0\n",
      "       handbag       0.10      0.47      0.16        15\n",
      "         horse       0.08      0.24      0.12        17\n",
      "       hot dog       0.12      0.20      0.15         5\n",
      "      keyboard       0.00      0.00      0.00         0\n",
      "          kite       0.47      0.51      0.49       122\n",
      "         knife       0.08      0.56      0.14         9\n",
      "        laptop       0.14      0.50      0.22         4\n",
      "     microwave       0.33      1.00      0.50         1\n",
      "    motorcycle       0.59      0.81      0.68        36\n",
      "         mouse       0.00      0.00      0.00         0\n",
      "        orange       0.06      0.50      0.11         2\n",
      "          oven       0.04      1.00      0.07         2\n",
      " parking meter       0.00      0.00      0.00         1\n",
      "        person       0.43      0.60      0.50       670\n",
      "         pizza       0.11      0.33      0.17         9\n",
      "  potted plant       0.00      0.00      0.00         0\n",
      "  refrigerator       0.08      0.33      0.13         3\n",
      "        remote       0.00      0.00      0.00         0\n",
      "      sandwich       0.06      0.17      0.09         6\n",
      "      scissors       0.11      1.00      0.20         1\n",
      "         sheep       0.03      0.50      0.06         2\n",
      "          sink       0.02      0.40      0.04         5\n",
      "    skateboard       0.00      0.00      0.00         3\n",
      "          skis       0.14      0.75      0.23         8\n",
      "     snowboard       0.06      0.50      0.11         2\n",
      "         spoon       0.09      0.56      0.15         9\n",
      "   sports ball       0.12      0.33      0.18         3\n",
      "     stop sign       0.00      0.00      0.00         2\n",
      "      suitcase       0.11      0.22      0.15         9\n",
      "     surfboard       0.12      0.43      0.19        30\n",
      "    teddy bear       0.17      1.00      0.29         1\n",
      " tennis racket       0.07      0.50      0.12         2\n",
      "           tie       0.07      0.50      0.13         6\n",
      "       toaster       0.00      0.00      0.00         0\n",
      "        toilet       0.00      0.00      0.00         0\n",
      "    toothbrush       0.00      0.00      0.00         2\n",
      " traffic light       0.09      0.17      0.12        24\n",
      "         train       0.11      0.60      0.18         5\n",
      "         truck       0.10      0.42      0.16        19\n",
      "            tv       0.00      0.00      0.00         1\n",
      "      umbrella       0.20      0.33      0.25        27\n",
      "          vase       0.03      1.00      0.06         1\n",
      "    wine glass       0.03      0.25      0.06         4\n",
      "         zebra       0.09      0.07      0.08        14\n",
      "\n",
      "     micro avg       0.17      0.49      0.26      1642\n",
      "     macro avg       0.10      0.35      0.14      1642\n",
      "  weighted avg       0.30      0.49      0.35      1642\n",
      "\n"
     ]
    }
   ],
   "source": [
    "eval_results.print_report()"
   ]
  },
  {
   "cell_type": "code",
   "execution_count": 54,
   "id": "65e524d5-d3de-4e84-8b87-b03c54e12031",
   "metadata": {},
   "outputs": [],
   "source": [
    "# The top-10 most common classes\n",
    "counts = dataset.count_values(\"ground_truth.detections.label\")\n",
    "classes = sorted(counts, key=counts.get, reverse=True)[:10]"
   ]
  },
  {
   "cell_type": "code",
   "execution_count": 55,
   "id": "c9c0e635-9f30-4d5a-81c1-9b935d8e4841",
   "metadata": {},
   "outputs": [],
   "source": [
    "#PLOTS\n",
    "cm = eval_results.plot_confusion_matrix(classes=classes)"
   ]
  },
  {
   "cell_type": "code",
   "execution_count": 56,
   "id": "9a32a634-a072-42c9-aebe-e174b456da28",
   "metadata": {},
   "outputs": [],
   "source": [
    "session1.plots.attach(cm) # only jupyter"
   ]
  },
  {
   "cell_type": "code",
   "execution_count": 57,
   "id": "38b5361c-c11e-468f-b0c7-e68f152200d2",
   "metadata": {},
   "outputs": [
    {
     "data": {
      "text/plain": []
     },
     "metadata": {},
     "output_type": "display_data"
    },
    {
     "data": {
      "text/plain": []
     },
     "metadata": {},
     "output_type": "display_data"
    },
    {
     "data": {
      "application/vnd.jupyter.widget-view+json": {
       "model_id": "6206fe36ed294d82825fbb8cb14bfd0f",
       "version_major": 2,
       "version_minor": 0
      },
      "text/plain": [
       "FigureWidget({\n",
       "    'data': [{'mode': 'markers',\n",
       "              'opacity': 0.1,\n",
       "              'selectedpoints': [],\n",
       "              'type': 'scatter',\n",
       "              'uid': 'b7f5e25c-dd85-4d5b-aa86-7ade1e75f3b5',\n",
       "              'x': array([ 0,  1,  2,  3,  4,  5,  6,  7,  8,  9, 10,  0,  1,  2,  3,  4,  5,  6,\n",
       "                           7,  8,  9, 10,  0,  1,  2,  3,  4,  5,  6,  7,  8,  9, 10,  0,  1,  2,\n",
       "                           3,  4,  5,  6,  7,  8,  9, 10,  0,  1,  2,  3,  4,  5,  6,  7,  8,  9,\n",
       "                          10,  0,  1,  2,  3,  4,  5,  6,  7,  8,  9, 10,  0,  1,  2,  3,  4,  5,\n",
       "                           6,  7,  8,  9, 10,  0,  1,  2,  3,  4,  5,  6,  7,  8,  9, 10,  0,  1,\n",
       "                           2,  3,  4,  5,  6,  7,  8,  9, 10,  0,  1,  2,  3,  4,  5,  6,  7,  8,\n",
       "                           9, 10,  0,  1,  2,  3,  4,  5,  6,  7,  8,  9, 10]),\n",
       "              'y': array([ 0,  0,  0,  0,  0,  0,  0,  0,  0,  0,  0,  1,  1,  1,  1,  1,  1,  1,\n",
       "                           1,  1,  1,  1,  2,  2,  2,  2,  2,  2,  2,  2,  2,  2,  2,  3,  3,  3,\n",
       "                           3,  3,  3,  3,  3,  3,  3,  3,  4,  4,  4,  4,  4,  4,  4,  4,  4,  4,\n",
       "                           4,  5,  5,  5,  5,  5,  5,  5,  5,  5,  5,  5,  6,  6,  6,  6,  6,  6,\n",
       "                           6,  6,  6,  6,  6,  7,  7,  7,  7,  7,  7,  7,  7,  7,  7,  7,  8,  8,\n",
       "                           8,  8,  8,  8,  8,  8,  8,  8,  8,  9,  9,  9,  9,  9,  9,  9,  9,  9,\n",
       "                           9,  9, 10, 10, 10, 10, 10, 10, 10, 10, 10, 10, 10])},\n",
       "             {'colorscale': [[0.0, 'rgb(255,245,235)'], [0.125,\n",
       "                             'rgb(254,230,206)'], [0.25, 'rgb(253,208,162)'],\n",
       "                             [0.375, 'rgb(253,174,107)'], [0.5, 'rgb(253,141,60)'],\n",
       "                             [0.625, 'rgb(241,105,19)'], [0.75, 'rgb(217,72,1)'],\n",
       "                             [0.875, 'rgb(166,54,3)'], [1.0, 'rgb(127,39,4)']],\n",
       "              'hoverinfo': 'skip',\n",
       "              'showscale': False,\n",
       "              'type': 'heatmap',\n",
       "              'uid': 'd7a10ae5-db14-4f23-a5ed-ac62e2b78450',\n",
       "              'z': array([[538,  71, 211,  44, 329, 151,  94,  39,  33, 135,   0],\n",
       "                          [  0,   0,   0,   0,   0,   0,   0,   0,   0,   7,  16],\n",
       "                          [  0,   0,   0,   0,   0,   0,   0,   0,   2,   0,  22],\n",
       "                          [  0,   0,   0,   0,   0,   0,   0,   4,   0,   0,  20],\n",
       "                          [  0,   0,   0,   0,   0,   0,  13,   0,   0,   0,  17],\n",
       "                          [  0,   0,   0,   0,   0,   9,   0,   0,   0,   0,  28],\n",
       "                          [  0,   0,   0,   0,  22,   0,   0,   0,   0,   0,  25],\n",
       "                          [  0,   0,   0,  55,   0,   0,   0,   0,   0,   0,  41],\n",
       "                          [  0,   0,  24,   0,   0,   0,   0,   0,   0,   0,  37],\n",
       "                          [  0,  62,   0,   0,   0,   0,   0,   0,   0,   0,  60],\n",
       "                          [403,   0,   0,   0,   0,   0,   0,   0,   0,   0, 267]]),\n",
       "              'zmax': 538,\n",
       "              'zmin': 0},\n",
       "             {'colorbar': {'len': 1, 'lenmode': 'fraction'},\n",
       "              'colorscale': [[0.0, 'rgb(255,245,235)'], [0.125,\n",
       "                             'rgb(254,230,206)'], [0.25, 'rgb(253,208,162)'],\n",
       "                             [0.375, 'rgb(253,174,107)'], [0.5, 'rgb(253,141,60)'],\n",
       "                             [0.625, 'rgb(241,105,19)'], [0.75, 'rgb(217,72,1)'],\n",
       "                             [0.875, 'rgb(166,54,3)'], [1.0, 'rgb(127,39,4)']],\n",
       "              'hovertemplate': '<b>count: %{z}</b><br>truth: %{y}<br>predicted: %{x}<extra></extra>',\n",
       "              'opacity': 0.25,\n",
       "              'type': 'heatmap',\n",
       "              'uid': '56fd55e5-51a8-4993-9f6e-b739afc2e78a',\n",
       "              'z': array([[538,  71, 211,  44, 329, 151,  94,  39,  33, 135,   0],\n",
       "                          [  0,   0,   0,   0,   0,   0,   0,   0,   0,   7,  16],\n",
       "                          [  0,   0,   0,   0,   0,   0,   0,   0,   2,   0,  22],\n",
       "                          [  0,   0,   0,   0,   0,   0,   0,   4,   0,   0,  20],\n",
       "                          [  0,   0,   0,   0,   0,   0,  13,   0,   0,   0,  17],\n",
       "                          [  0,   0,   0,   0,   0,   9,   0,   0,   0,   0,  28],\n",
       "                          [  0,   0,   0,   0,  22,   0,   0,   0,   0,   0,  25],\n",
       "                          [  0,   0,   0,  55,   0,   0,   0,   0,   0,   0,  41],\n",
       "                          [  0,   0,  24,   0,   0,   0,   0,   0,   0,   0,  37],\n",
       "                          [  0,  62,   0,   0,   0,   0,   0,   0,   0,   0,  60],\n",
       "                          [403,   0,   0,   0,   0,   0,   0,   0,   0,   0, 267]]),\n",
       "              'zmax': 538,\n",
       "              'zmin': 0}],\n",
       "    'layout': {'clickmode': 'event',\n",
       "               'margin': {'b': 0, 'l': 0, 'r': 0, 't': 30},\n",
       "               'template': '...',\n",
       "               'title': {},\n",
       "               'xaxis': {'constrain': 'domain',\n",
       "                         'range': [-0.5, 10.5],\n",
       "                         'tickmode': 'array',\n",
       "                         'ticktext': [person, kite, car, bird, carrot, boat,\n",
       "                                      surfboard, traffic light, airplane, chair,\n",
       "                                      (none)],\n",
       "                         'tickvals': array([ 0,  1,  2,  3,  4,  5,  6,  7,  8,  9, 10])},\n",
       "               'yaxis': {'constrain': 'domain',\n",
       "                         'range': [-0.5, 10.5],\n",
       "                         'scaleanchor': 'x',\n",
       "                         'scaleratio': 1,\n",
       "                         'tickmode': 'array',\n",
       "                         'ticktext': array(['(none)', 'chair', 'airplane', 'traffic light', 'surfboard', 'boat',\n",
       "                                            'carrot', 'bird', 'car', 'kite', 'person'], dtype=object),\n",
       "                         'tickvals': array([ 0,  1,  2,  3,  4,  5,  6,  7,  8,  9, 10])}}\n",
       "})"
      ]
     },
     "metadata": {},
     "output_type": "display_data"
    }
   ],
   "source": [
    "cm.show() #won't work in pycharm"
   ]
  },
  {
   "cell_type": "code",
   "execution_count": 51,
   "id": "cd76c3b4-7e43-42c1-8428-513983ece54c",
   "metadata": {},
   "outputs": [
    {
     "data": {
      "text/html": [
       "\n",
       "        <iframe\n",
       "            width=\"100%\"\n",
       "            height=\"800\"\n",
       "            src=\"http://localhost:5151/?notebook=True&subscription=dfb52ab2-85de-47dc-b144-90f36082a654\"\n",
       "            frameborder=\"0\"\n",
       "            allowfullscreen\n",
       "            \n",
       "        ></iframe>\n",
       "        "
      ],
      "text/plain": [
       "<IPython.lib.display.IFrame at 0x7f96953802b0>"
      ]
     },
     "metadata": {},
     "output_type": "display_data"
    }
   ],
   "source": [
    "session1.show()"
   ]
  },
  {
   "cell_type": "markdown",
   "id": "b33b20bf-97d0-4f62-8e17-92f320c9dfda",
   "metadata": {},
   "source": [
    "RUN DETECTION MODEL (see https://docs.voxel51.com/recipes/adding_detections.html)"
   ]
  }
 ],
 "metadata": {
  "kernelspec": {
   "display_name": "Python 3 (ipykernel)",
   "language": "python",
   "name": "python3"
  },
  "language_info": {
   "codemirror_mode": {
    "name": "ipython",
    "version": 3
   },
   "file_extension": ".py",
   "mimetype": "text/x-python",
   "name": "python",
   "nbconvert_exporter": "python",
   "pygments_lexer": "ipython3",
   "version": "3.8.10"
  }
 },
 "nbformat": 4,
 "nbformat_minor": 5
}
