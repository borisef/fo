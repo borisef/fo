{
 "cells": [
  {
   "cell_type": "markdown",
   "id": "7c7393d6-5909-472f-a4a2-671d9c2b5a48",
   "metadata": {},
   "source": [
    "<B> Core Components: "
   ]
  },
  {
   "cell_type": "markdown",
   "id": "0a50d030-d2bf-44b4-a810-1152a7b573ff",
   "metadata": {},
   "source": [
    "* Fiftyone library\n",
    "* Fiftyone App\n",
    "* FiftyOne Brain \n",
    "* Dataset / Model Zoo\n",
    "* Plugins\n"
   ]
  },
  {
   "cell_type": "markdown",
   "id": "45739239-72cf-4eb1-a792-d5daa53f6b23",
   "metadata": {},
   "source": [
    "Data model"
   ]
  },
  {
   "cell_type": "markdown",
   "id": "5c194cbe-d471-4e9c-a423-c5e2ab11d645",
   "metadata": {},
   "source": [
    "* Dataset\n",
    "* Sample\n",
    "* View\n",
    "* ViewStage\n",
    "* Field\n",
    "* Label\n",
    "* Tag\n",
    "* Metadata\n",
    "* Aggregation"
   ]
  },
  {
   "cell_type": "code",
   "execution_count": 1,
   "id": "26449a9b-bfa5-4409-86e0-49e01243eb99",
   "metadata": {},
   "outputs": [],
   "source": [
    "import fiftyone as fo\n",
    "import fiftyone.zoo as foz"
   ]
  },
  {
   "cell_type": "markdown",
   "id": "408230ed-f628-4de7-b57b-eedc1ae130f3",
   "metadata": {},
   "source": [
    "\n",
    "<B> List or load zoo models and datasets\n",
    "\n",
    "\n"
   ]
  },
  {
   "cell_type": "code",
   "execution_count": 2,
   "id": "4ff0378a-a504-4ac5-8d59-5c64750bae15",
   "metadata": {},
   "outputs": [
    {
     "name": "stdout",
     "output_type": "stream",
     "text": [
      "['coco-2014', 'coco-2017', 'kitti', 'kitti-multiview', 'open-images-v6', 'open-images-v7', 'sama-coco', 'voc-2007', 'voc-2012']\n"
     ]
    }
   ],
   "source": [
    "list_zoo_datasets_detection = foz.list_zoo_datasets('detection')\n",
    "print(list_zoo_datasets_detection)"
   ]
  },
  {
   "cell_type": "code",
   "execution_count": 3,
   "id": "2f34e7ad-c055-4105-a771-92a027ea3174",
   "metadata": {
    "scrolled": true
   },
   "outputs": [
    {
     "data": {
      "text/plain": [
       "['centernet-hg104-1024-coco-tf2',\n",
       " 'centernet-hg104-512-coco-tf2',\n",
       " 'centernet-mobilenet-v2-fpn-512-coco-tf2',\n",
       " 'centernet-resnet101-v1-fpn-512-coco-tf2',\n",
       " 'centernet-resnet50-v1-fpn-512-coco-tf2',\n",
       " 'centernet-resnet50-v2-512-coco-tf2',\n",
       " 'efficientdet-d0-512-coco-tf2',\n",
       " 'efficientdet-d0-coco-tf1',\n",
       " 'efficientdet-d1-640-coco-tf2',\n",
       " 'efficientdet-d1-coco-tf1',\n",
       " 'efficientdet-d2-768-coco-tf2',\n",
       " 'efficientdet-d2-coco-tf1',\n",
       " 'efficientdet-d3-896-coco-tf2',\n",
       " 'efficientdet-d3-coco-tf1',\n",
       " 'efficientdet-d4-1024-coco-tf2',\n",
       " 'efficientdet-d4-coco-tf1',\n",
       " 'efficientdet-d5-1280-coco-tf2',\n",
       " 'efficientdet-d5-coco-tf1',\n",
       " 'efficientdet-d6-1280-coco-tf2',\n",
       " 'efficientdet-d6-coco-tf1',\n",
       " 'efficientdet-d7-1536-coco-tf2',\n",
       " 'faster-rcnn-inception-resnet-atrous-v2-coco-tf',\n",
       " 'faster-rcnn-inception-resnet-atrous-v2-lowproposals-coco-tf',\n",
       " 'faster-rcnn-inception-v2-coco-tf',\n",
       " 'faster-rcnn-nas-coco-tf',\n",
       " 'faster-rcnn-nas-lowproposals-coco-tf',\n",
       " 'faster-rcnn-resnet101-coco-tf',\n",
       " 'faster-rcnn-resnet101-lowproposals-coco-tf',\n",
       " 'faster-rcnn-resnet50-coco-tf',\n",
       " 'faster-rcnn-resnet50-fpn-coco-torch',\n",
       " 'faster-rcnn-resnet50-lowproposals-coco-tf',\n",
       " 'retinanet-resnet50-fpn-coco-torch',\n",
       " 'rfcn-resnet101-coco-tf',\n",
       " 'ssd-inception-v2-coco-tf',\n",
       " 'ssd-mobilenet-v1-coco-tf',\n",
       " 'ssd-mobilenet-v1-fpn-640-coco17',\n",
       " 'ssd-mobilenet-v1-fpn-coco-tf',\n",
       " 'ssd-mobilenet-v2-320-coco17',\n",
       " 'ssd-resnet50-fpn-coco-tf',\n",
       " 'yolo-v2-coco-tf1',\n",
       " 'yolov5l-coco-torch',\n",
       " 'yolov5m-coco-torch',\n",
       " 'yolov5n-coco-torch',\n",
       " 'yolov5s-coco-torch',\n",
       " 'yolov5x-coco-torch']"
      ]
     },
     "execution_count": 3,
     "metadata": {},
     "output_type": "execute_result"
    }
   ],
   "source": [
    "foz.list_zoo_models(\"detection\")"
   ]
  },
  {
   "cell_type": "code",
   "execution_count": 4,
   "id": "ea19ef1f-b1df-4eb2-ac6d-022e14f5986d",
   "metadata": {},
   "outputs": [
    {
     "data": {
      "text/plain": [
       "{'mobilenet-v2-imagenet-torch': ('/home/borisef/fiftyone/__models__/mobilenet_v2-b0353104.pth',\n",
       "  <fiftyone.zoo.models.ZooModel at 0x7f481456bb50>),\n",
       " 'clip-vit-base32-torch': ('/home/borisef/fiftyone/__models__/CLIP-ViT-B-32.pt',\n",
       "  <fiftyone.zoo.models.ZooModel at 0x7f481454ee50>)}"
      ]
     },
     "execution_count": 4,
     "metadata": {},
     "output_type": "execute_result"
    }
   ],
   "source": [
    "foz.list_downloaded_zoo_models()"
   ]
  },
  {
   "cell_type": "code",
   "execution_count": 11,
   "id": "0102f099-86f6-4ea2-8a66-a540b0ebe7db",
   "metadata": {},
   "outputs": [
    {
     "name": "stdout",
     "output_type": "stream",
     "text": [
      "Dataset already downloaded\n",
      "Loading existing dataset 'quickstart'. To reload from disk, either delete the existing dataset or provide a custom `dataset_name` to use\n"
     ]
    }
   ],
   "source": [
    "dataset = foz.load_zoo_dataset('quickstart')"
   ]
  },
  {
   "cell_type": "markdown",
   "id": "bbc1a9e6-1b65-4963-8f7a-29d4d924cd7f",
   "metadata": {},
   "source": [
    "<B> ____________________________"
   ]
  },
  {
   "cell_type": "markdown",
   "id": "fc1937b9-b0ba-4b5c-af66-281f0a80d21e",
   "metadata": {},
   "source": [
    "<B> APPs and SESSIONS"
   ]
  },
  {
   "cell_type": "code",
   "execution_count": 7,
   "id": "59792fbc-c9a4-4514-89d0-0be55c349fd5",
   "metadata": {},
   "outputs": [
    {
     "name": "stdout",
     "output_type": "stream",
     "text": [
      "Session launched. Run `session.show()` to open the App in a cell output.\n"
     ]
    }
   ],
   "source": [
    "session1 = fo.launch_app(dataset, auto=False, desktop=False)"
   ]
  },
  {
   "cell_type": "code",
   "execution_count": 45,
   "id": "bc4af692-6148-4bf4-b027-c2091157862f",
   "metadata": {},
   "outputs": [
    {
     "data": {
      "text/html": [
       "\n",
       "<style>\n",
       "@import url(\"https://fonts.googleapis.com/css2?family=Palanquin&display=swap\");\n",
       "\n",
       "body, html {\n",
       "  margin: 0;\n",
       "  padding: 0;\n",
       "  width: 100%;\n",
       "}\n",
       "\n",
       "#focontainer-77d1eba5-15f1-4c58-ac1e-3114110d441d {\n",
       "  position: relative;\n",
       "  height: 800px;\n",
       "  display: block !important;\n",
       "}\n",
       "#foactivate-77d1eba5-15f1-4c58-ac1e-3114110d441d {\n",
       "  font-weight: bold;\n",
       "  cursor: pointer;\n",
       "  font-size: 24px;\n",
       "  border-radius: 3px;\n",
       "  text-align: center;\n",
       "  padding: 0.5em;\n",
       "  color: rgb(255, 255, 255);\n",
       "  font-family: \"Palanquin\", sans-serif;\n",
       "  position: absolute;\n",
       "  left: 50%;\n",
       "  top: 50%;\n",
       "  width: 160px;\n",
       "  margin-left: -80px;\n",
       "  margin-top: -23px;\n",
       "  background: hsla(210,11%,15%, 0.8);\n",
       "  border: none;\n",
       "}\n",
       "#foactivate-77d1eba5-15f1-4c58-ac1e-3114110d441d:focus {\n",
       "  outline: none;\n",
       "}\n",
       "#fooverlay-77d1eba5-15f1-4c58-ac1e-3114110d441d {\n",
       "  width: 100%;\n",
       "  height: 100%;\n",
       "  background: hsla(208, 7%, 46%, 0.7);\n",
       "  position: absolute;\n",
       "  top: 0;\n",
       "  left: 0;\n",
       "  display: none;\n",
       "  cursor: pointer;\n",
       "}\n",
       "</style>\n",
       "\n",
       "<div id=\"focontainer-77d1eba5-15f1-4c58-ac1e-3114110d441d\">\n",
       "   <div id=\"fooverlay-77d1eba5-15f1-4c58-ac1e-3114110d441d\" style=\"display: none;\">\n",
       "      <button id=\"foactivate-77d1eba5-15f1-4c58-ac1e-3114110d441d\" >Activate</button>\n",
       "   </div>\n",
       "   <img src='data:image/jpeg;base64,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' style=\"width: 100%; max-width: 1193px;\"/>\n",
       "</div>\n",
       "\n",
       "<script type=\"text/javascript\">\n",
       "   (function() {\n",
       "     var container = document.getElementById(\"focontainer-77d1eba5-15f1-4c58-ac1e-3114110d441d\");\n",
       "     var overlay = document.getElementById(\"fooverlay-77d1eba5-15f1-4c58-ac1e-3114110d441d\");\n",
       "     fetch(`http://localhost:5151/fiftyone`)\n",
       "     .then(() => {\n",
       "        overlay.addEventListener(\"click\", () => {\n",
       "          fetch(`http://localhost:5151/event`, {\n",
       "            method: \"POST\",\n",
       "            body: JSON.stringify({\n",
       "              event: \"reactivate_notebook_cell\",\n",
       "              data: { subscription: \"77d1eba5-15f1-4c58-ac1e-3114110d441d\" },\n",
       "              subscription: \"77d1eba5-15f1-4c58-ac1e-3114110d441d\"\n",
       "            })\n",
       "          })\n",
       "        });\n",
       "        container.addEventListener(\"mouseenter\", () => overlay.style.display = \"block\");\n",
       "        container.addEventListener(\"mouseleave\", () => overlay.style.display = \"none\");\n",
       "     });\n",
       "   })();\n",
       "</script>"
      ],
      "text/plain": [
       "<IPython.core.display.HTML object>"
      ]
     },
     "metadata": {},
     "output_type": "display_data"
    }
   ],
   "source": [
    "session1.show()"
   ]
  },
  {
   "cell_type": "code",
   "execution_count": 12,
   "id": "3fcc3bab-7475-4b68-b050-b92e2c88b758",
   "metadata": {},
   "outputs": [],
   "source": [
    "session1.freeze() # freezing app in notebook"
   ]
  },
  {
   "cell_type": "markdown",
   "id": "b9527c75-82d5-4de0-8863-d3ff8782716d",
   "metadata": {},
   "source": [
    "<B> Let's Add some interesting stuff"
   ]
  },
  {
   "cell_type": "code",
   "execution_count": 13,
   "id": "f12680e0-4775-4891-9ac4-ebe847bca6f9",
   "metadata": {},
   "outputs": [],
   "source": [
    "import fiftyone.brain as fob"
   ]
  },
  {
   "cell_type": "code",
   "execution_count": 14,
   "id": "15de38e9-ad91-46e4-a128-c90169c2c214",
   "metadata": {},
   "outputs": [
    {
     "name": "stdout",
     "output_type": "stream",
     "text": [
      "Computing embeddings...\n"
     ]
    },
    {
     "name": "stderr",
     "output_type": "stream",
     "text": [
      "/home/borisef/Envs/fo_python38/lib/python3.8/site-packages/torch/cuda/__init__.py:138: UserWarning: CUDA initialization: The NVIDIA driver on your system is too old (found version 11040). Please update your GPU driver by downloading and installing a new version from the URL: http://www.nvidia.com/Download/index.aspx Alternatively, go to: https://pytorch.org to install a PyTorch version that has been compiled with your version of the CUDA driver. (Triggered internally at ../c10/cuda/CUDAFunctions.cpp:108.)\n",
      "  return torch._C._cuda_getDeviceCount() > 0\n"
     ]
    },
    {
     "name": "stdout",
     "output_type": "stream",
     "text": []
    },
    {
     "name": "stdout",
     "output_type": "stream",
     "text": [
      " 100% |█████████████████| 200/200 [889.0ms elapsed, 0s remaining, 225.0 samples/s]      \n",
      "Computing uniqueness...\n",
      "Uniqueness computation complete\n"
     ]
    }
   ],
   "source": [
    "fob.compute_uniqueness(dataset, uniqueness_field=\"my_uniqueness\")"
   ]
  },
  {
   "cell_type": "code",
   "execution_count": 15,
   "id": "fee22c91-eb83-4460-af82-0da2bd971172",
   "metadata": {},
   "outputs": [
    {
     "data": {
      "text/plain": [
       "\u001b[0;31mSignature:\u001b[0m \u001b[0mfob\u001b[0m\u001b[0;34m.\u001b[0m\u001b[0mcompute_exact_duplicates\u001b[0m\u001b[0;34m(\u001b[0m\u001b[0msamples\u001b[0m\u001b[0;34m,\u001b[0m \u001b[0mnum_workers\u001b[0m\u001b[0;34m=\u001b[0m\u001b[0;32mNone\u001b[0m\u001b[0;34m,\u001b[0m \u001b[0mskip_failures\u001b[0m\u001b[0;34m=\u001b[0m\u001b[0;32mTrue\u001b[0m\u001b[0;34m)\u001b[0m\u001b[0;34m\u001b[0m\u001b[0;34m\u001b[0m\u001b[0m\n",
       "\u001b[0;31mDocstring:\u001b[0m\n",
       "Detects duplicate media in a sample collection.\n",
       "\n",
       "This method detects exact duplicates with the same filehash. Use\n",
       ":meth:`compute_similarity` to detect near-duplicate images.\n",
       "\n",
       "If duplicates are found, the first instance in ``samples`` will be the key\n",
       "in the returned dictionary, while the subsequent duplicates will be the\n",
       "values in the corresponding list.\n",
       "\n",
       "Args:\n",
       "    samples: a :class:`fiftyone.core.collections.SampleCollection`\n",
       "    num_workers (None): an optional number of processes to use\n",
       "    skip_failures (True): whether to gracefully ignore samples whose\n",
       "        filehash cannot be computed\n",
       "\n",
       "Returns:\n",
       "    a dictionary mapping IDs of samples with exact duplicates to lists of\n",
       "    IDs of the duplicates for the corresponding sample\n",
       "\u001b[0;31mFile:\u001b[0m      ~/Envs/fo_python38/lib/python3.8/site-packages/fiftyone/brain/__init__.py\n",
       "\u001b[0;31mType:\u001b[0m      function"
      ]
     },
     "metadata": {},
     "output_type": "display_data"
    }
   ],
   "source": [
    "fob.compute_exact_duplicates?"
   ]
  },
  {
   "cell_type": "code",
   "execution_count": 17,
   "id": "437453da-125d-4bf5-8d66-d39e769eafc5",
   "metadata": {},
   "outputs": [
    {
     "name": "stdout",
     "output_type": "stream",
     "text": [
      "Computing embeddings...\n",
      " 100% |█████████████████| 200/200 [13.2s elapsed, 0s remaining, 15.8 samples/s]      \n"
     ]
    },
    {
     "data": {
      "text/plain": [
       "<fiftyone.brain.internal.core.sklearn.SklearnSimilarityIndex at 0x7f472b768e20>"
      ]
     },
     "execution_count": 17,
     "metadata": {},
     "output_type": "execute_result"
    }
   ],
   "source": [
    "fob.compute_similarity(dataset,brain_key = \"sim1\") # TODO: EXPLORE"
   ]
  },
  {
   "cell_type": "code",
   "execution_count": 18,
   "id": "3098cccc-d3e5-47ee-a8fc-09e5699b3f42",
   "metadata": {},
   "outputs": [
    {
     "name": "stdout",
     "output_type": "stream",
     "text": [
      "Computing embeddings...\n",
      " 100% |█████████████████| 200/200 [13.4s elapsed, 0s remaining, 15.8 samples/s]      \n",
      "Generating visualization...\n",
      "UMAP( verbose=True)\n",
      "Wed Dec  6 10:54:14 2023 Construct fuzzy simplicial set\n",
      "Wed Dec  6 10:54:14 2023 Finding Nearest Neighbors\n",
      "Wed Dec  6 10:54:16 2023 Finished Nearest Neighbor Search\n",
      "Wed Dec  6 10:54:18 2023 Construct embedding\n"
     ]
    },
    {
     "data": {
      "application/vnd.jupyter.widget-view+json": {
       "model_id": "c98d003344d241f7980498d8d04e6716",
       "version_major": 2,
       "version_minor": 0
      },
      "text/plain": [
       "Epochs completed:   0%|            0/500 [00:00]"
      ]
     },
     "metadata": {},
     "output_type": "display_data"
    },
    {
     "name": "stdout",
     "output_type": "stream",
     "text": [
      "\tcompleted  0  /  500 epochs\n",
      "\tcompleted  50  /  500 epochs\n",
      "\tcompleted  100  /  500 epochs\n",
      "\tcompleted  150  /  500 epochs\n",
      "\tcompleted  200  /  500 epochs\n",
      "\tcompleted  250  /  500 epochs\n",
      "\tcompleted  300  /  500 epochs\n",
      "\tcompleted  350  /  500 epochs\n",
      "\tcompleted  400  /  500 epochs\n",
      "\tcompleted  450  /  500 epochs\n",
      "Wed Dec  6 10:54:19 2023 Finished embedding\n"
     ]
    },
    {
     "data": {
      "text/plain": [
       "<fiftyone.brain.visualization.VisualizationResults at 0x7f472b768af0>"
      ]
     },
     "execution_count": 18,
     "metadata": {},
     "output_type": "execute_result"
    }
   ],
   "source": [
    "# Image embeddings. Run this. See results in App\n",
    "fob.compute_visualization(dataset, brain_key=\"img_viz\")"
   ]
  },
  {
   "cell_type": "code",
   "execution_count": 19,
   "id": "dcd7fd8f-0c9c-4514-921a-ad001bdf7089",
   "metadata": {},
   "outputs": [
    {
     "name": "stdout",
     "output_type": "stream",
     "text": [
      "Computing patch embeddings...\n",
      " 100% |█████████████████| 200/200 [6.0m elapsed, 0s remaining, 0.7 samples/s]    \n",
      "Generating visualization...\n",
      "UMAP( verbose=True)\n",
      "Wed Dec  6 11:00:26 2023 Construct fuzzy simplicial set\n",
      "Wed Dec  6 11:00:26 2023 Finding Nearest Neighbors\n",
      "Wed Dec  6 11:00:26 2023 Building RP forest with 9 trees\n",
      "Wed Dec  6 11:00:29 2023 NN descent for 12 iterations\n",
      "\t 1  /  12\n",
      "\t 2  /  12\n",
      "\t 3  /  12\n",
      "\t 4  /  12\n",
      "\tStopping threshold met -- exiting after 4 iterations\n",
      "Wed Dec  6 11:00:38 2023 Finished Nearest Neighbor Search\n",
      "Wed Dec  6 11:00:38 2023 Construct embedding\n"
     ]
    },
    {
     "data": {
      "application/vnd.jupyter.widget-view+json": {
       "model_id": "152af7c91656409d882f7b65cbc06d48",
       "version_major": 2,
       "version_minor": 0
      },
      "text/plain": [
       "Epochs completed:   0%|            0/500 [00:00]"
      ]
     },
     "metadata": {},
     "output_type": "display_data"
    },
    {
     "name": "stdout",
     "output_type": "stream",
     "text": [
      "\tcompleted  0  /  500 epochs\n",
      "\tcompleted  50  /  500 epochs\n",
      "\tcompleted  100  /  500 epochs\n",
      "\tcompleted  150  /  500 epochs\n",
      "\tcompleted  200  /  500 epochs\n",
      "\tcompleted  250  /  500 epochs\n",
      "\tcompleted  300  /  500 epochs\n",
      "\tcompleted  350  /  500 epochs\n",
      "\tcompleted  400  /  500 epochs\n",
      "\tcompleted  450  /  500 epochs\n",
      "Wed Dec  6 11:00:43 2023 Finished embedding\n"
     ]
    },
    {
     "data": {
      "text/plain": [
       "<fiftyone.brain.visualization.VisualizationResults at 0x7f4710cfcc70>"
      ]
     },
     "execution_count": 19,
     "metadata": {},
     "output_type": "execute_result"
    }
   ],
   "source": [
    "# Object patch embeddings\n",
    "fob.compute_visualization(\n",
    "    dataset, patches_field=\"predictions\", brain_key=\"prediction_bb_viz\"\n",
    ")"
   ]
  },
  {
   "cell_type": "code",
   "execution_count": 20,
   "id": "3cd31424-be2a-4b6f-97f2-8da7e8876923",
   "metadata": {},
   "outputs": [],
   "source": [
    "# Compute metadata so we can reference image height/width in our view\n",
    "dataset.compute_metadata()"
   ]
  },
  {
   "cell_type": "code",
   "execution_count": 39,
   "id": "f5ffc25c-e3c4-48e2-a090-587802fef2ab",
   "metadata": {},
   "outputs": [
    {
     "data": {
      "text/plain": [
       "<SampleView: {\n",
       "    'id': '6565a8f33cb18decd840b3ef',\n",
       "    'media_type': 'image',\n",
       "    'filepath': '/home/borisef/fiftyone/quickstart/data/000880.jpg',\n",
       "    'tags': ['validation'],\n",
       "    'metadata': <ImageMetadata: {\n",
       "        'size_bytes': 225193,\n",
       "        'mime_type': 'image/jpeg',\n",
       "        'width': 640,\n",
       "        'height': 480,\n",
       "        'num_channels': 3,\n",
       "        'range2target': 262,\n",
       "    }>,\n",
       "    'ground_truth': <Detections: {\n",
       "        'detections': [\n",
       "            <Detection: {\n",
       "                'id': '5f452471ef00e6374aac53c8',\n",
       "                'attributes': {},\n",
       "                'tags': [],\n",
       "                'label': 'bird',\n",
       "                'bounding_box': [0.21084375, 0.0034375, 0.46190625, 0.9442083333333334],\n",
       "                'mask': None,\n",
       "                'confidence': None,\n",
       "                'index': None,\n",
       "                'area': 73790.37944999996,\n",
       "                'iscrowd': 0.0,\n",
       "                'eval': 'tp',\n",
       "                'eval_id': '5f452c60ef00e6374aad9394',\n",
       "                'eval_iou': 0.8575063187115628,\n",
       "                'bb_max_side': 0.9442083333333334,\n",
       "            }>,\n",
       "            <Detection: {\n",
       "                'id': '5f452471ef00e6374aac53c9',\n",
       "                'attributes': {},\n",
       "                'tags': [],\n",
       "                'label': 'bird',\n",
       "                'bounding_box': [0.74946875, 0.489375, 0.2164375, 0.23183333333333334],\n",
       "                'mask': None,\n",
       "                'confidence': None,\n",
       "                'index': None,\n",
       "                'area': 3935.7593000000006,\n",
       "                'iscrowd': 0.0,\n",
       "                'eval': 'fn',\n",
       "                'eval_id': '',\n",
       "                'bb_max_side': 0.23183333333333334,\n",
       "            }>,\n",
       "            <Detection: {\n",
       "                'id': '5f452471ef00e6374aac53ca',\n",
       "                'attributes': {},\n",
       "                'tags': [],\n",
       "                'label': 'bird',\n",
       "                'bounding_box': [\n",
       "                    0.044234375,\n",
       "                    0.5282083333333333,\n",
       "                    0.151390625,\n",
       "                    0.14145833333333335,\n",
       "                ],\n",
       "                'mask': None,\n",
       "                'confidence': None,\n",
       "                'index': None,\n",
       "                'area': 4827.32605,\n",
       "                'iscrowd': 0.0,\n",
       "                'eval': 'tp',\n",
       "                'eval_id': '5f452c60ef00e6374aad9396',\n",
       "                'eval_iou': 0.5616570254202724,\n",
       "                'bb_max_side': 0.151390625,\n",
       "            }>,\n",
       "        ],\n",
       "    }>,\n",
       "    'uniqueness': 0.8175834390151201,\n",
       "    'predictions': <Detections: {\n",
       "        'detections': [\n",
       "            <Detection: {\n",
       "                'id': '5f452c60ef00e6374aad9394',\n",
       "                'attributes': {},\n",
       "                'tags': [],\n",
       "                'label': 'bird',\n",
       "                'bounding_box': [\n",
       "                    0.22192673683166503,\n",
       "                    0.06093006531397502,\n",
       "                    0.4808845520019531,\n",
       "                    0.8937615712483724,\n",
       "                ],\n",
       "                'mask': None,\n",
       "                'confidence': 0.9750854969024658,\n",
       "                'index': None,\n",
       "                'eval': 'tp',\n",
       "                'eval_id': '5f452471ef00e6374aac53c8',\n",
       "                'eval_iou': 0.8575063187115628,\n",
       "            }>,\n",
       "            <Detection: {\n",
       "                'id': '5f452c60ef00e6374aad9395',\n",
       "                'attributes': {},\n",
       "                'tags': [],\n",
       "                'label': 'bird',\n",
       "                'bounding_box': [\n",
       "                    0.3962469816207886,\n",
       "                    0.006943931678930918,\n",
       "                    0.27418792247772217,\n",
       "                    0.46793556213378906,\n",
       "                ],\n",
       "                'mask': None,\n",
       "                'confidence': 0.759726881980896,\n",
       "                'index': None,\n",
       "                'eval': 'fp',\n",
       "                'eval_id': '',\n",
       "            }>,\n",
       "            <Detection: {\n",
       "                'id': '5f452c60ef00e6374aad9396',\n",
       "                'attributes': {},\n",
       "                'tags': [],\n",
       "                'label': 'bird',\n",
       "                'bounding_box': [\n",
       "                    0.02506386339664459,\n",
       "                    0.548487663269043,\n",
       "                    0.16438478231430054,\n",
       "                    0.16736234029134114,\n",
       "                ],\n",
       "                'mask': None,\n",
       "                'confidence': 0.6569182276725769,\n",
       "                'index': None,\n",
       "                'eval': 'tp',\n",
       "                'eval_id': '5f452471ef00e6374aac53ca',\n",
       "                'eval_iou': 0.5616570254202724,\n",
       "            }>,\n",
       "            <Detection: {\n",
       "                'id': '5f452c60ef00e6374aad9397',\n",
       "                'attributes': {},\n",
       "                'tags': [],\n",
       "                'label': 'bird',\n",
       "                'bounding_box': [\n",
       "                    0.4889101028442383,\n",
       "                    0.009576511383056641,\n",
       "                    0.13802199363708495,\n",
       "                    0.2093157132466634,\n",
       "                ],\n",
       "                'mask': None,\n",
       "                'confidence': 0.2359301745891571,\n",
       "                'index': None,\n",
       "                'eval': 'fp',\n",
       "                'eval_id': '',\n",
       "            }>,\n",
       "            <Detection: {\n",
       "                'id': '5f452c60ef00e6374aad9398',\n",
       "                'attributes': {},\n",
       "                'tags': [],\n",
       "                'label': 'elephant',\n",
       "                'bounding_box': [\n",
       "                    0.015171945095062256,\n",
       "                    0.555288823445638,\n",
       "                    0.1813342332839966,\n",
       "                    0.15938574473063152,\n",
       "                ],\n",
       "                'mask': None,\n",
       "                'confidence': 0.221974179148674,\n",
       "                'index': None,\n",
       "                'eval': 'fp',\n",
       "                'eval_id': '',\n",
       "            }>,\n",
       "            <Detection: {\n",
       "                'id': '5f452c60ef00e6374aad9399',\n",
       "                'attributes': {},\n",
       "                'tags': [],\n",
       "                'label': 'bear',\n",
       "                'bounding_box': [\n",
       "                    0.017808181047439576,\n",
       "                    0.5488224665323893,\n",
       "                    0.17450940608978271,\n",
       "                    0.16891117095947267,\n",
       "                ],\n",
       "                'mask': None,\n",
       "                'confidence': 0.1965726613998413,\n",
       "                'index': None,\n",
       "                'eval': 'fp',\n",
       "                'eval_id': '',\n",
       "            }>,\n",
       "            <Detection: {\n",
       "                'id': '5f452c60ef00e6374aad939a',\n",
       "                'attributes': {},\n",
       "                'tags': [],\n",
       "                'label': 'elephant',\n",
       "                'bounding_box': [\n",
       "                    0.16558188199996948,\n",
       "                    0.5723957061767578,\n",
       "                    0.09993256330490112,\n",
       "                    0.10098978678385416,\n",
       "                ],\n",
       "                'mask': None,\n",
       "                'confidence': 0.18904592096805573,\n",
       "                'index': None,\n",
       "                'eval': 'fp',\n",
       "                'eval_id': '',\n",
       "            }>,\n",
       "            <Detection: {\n",
       "                'id': '5f452c60ef00e6374aad939b',\n",
       "                'attributes': {},\n",
       "                'tags': [],\n",
       "                'label': 'sheep',\n",
       "                'bounding_box': [\n",
       "                    0.213010573387146,\n",
       "                    0.05354320605595907,\n",
       "                    0.5153374671936035,\n",
       "                    0.8933518091837566,\n",
       "                ],\n",
       "                'mask': None,\n",
       "                'confidence': 0.11480894684791565,\n",
       "                'index': None,\n",
       "                'eval': 'fp',\n",
       "                'eval_id': '',\n",
       "            }>,\n",
       "            <Detection: {\n",
       "                'id': '5f452c60ef00e6374aad939c',\n",
       "                'attributes': {},\n",
       "                'tags': [],\n",
       "                'label': 'bird',\n",
       "                'bounding_box': [\n",
       "                    0.29751906394958494,\n",
       "                    0.010790024201075237,\n",
       "                    0.3315577507019043,\n",
       "                    0.34026527404785156,\n",
       "                ],\n",
       "                'mask': None,\n",
       "                'confidence': 0.11089690029621124,\n",
       "                'index': None,\n",
       "                'eval': 'fp',\n",
       "                'eval_id': '',\n",
       "            }>,\n",
       "            <Detection: {\n",
       "                'id': '5f452c60ef00e6374aad939d',\n",
       "                'attributes': {},\n",
       "                'tags': [],\n",
       "                'label': 'elephant',\n",
       "                'bounding_box': [\n",
       "                    0.08351035118103027,\n",
       "                    0.5574632008870443,\n",
       "                    0.18209288120269776,\n",
       "                    0.1426785151163737,\n",
       "                ],\n",
       "                'mask': None,\n",
       "                'confidence': 0.0971052274107933,\n",
       "                'index': None,\n",
       "                'eval': 'fp',\n",
       "                'eval_id': '',\n",
       "            }>,\n",
       "            <Detection: {\n",
       "                'id': '5f452c60ef00e6374aad939e',\n",
       "                'attributes': {},\n",
       "                'tags': [],\n",
       "                'label': 'bird',\n",
       "                'bounding_box': [\n",
       "                    0.4461814880371094,\n",
       "                    0.0007838249827424685,\n",
       "                    0.209574556350708,\n",
       "                    0.309667714436849,\n",
       "                ],\n",
       "                'mask': None,\n",
       "                'confidence': 0.08403241634368896,\n",
       "                'index': None,\n",
       "                'eval': 'fp',\n",
       "                'eval_id': '',\n",
       "            }>,\n",
       "            <Detection: {\n",
       "                'id': '5f452c60ef00e6374aad939f',\n",
       "                'attributes': {},\n",
       "                'tags': [],\n",
       "                'label': 'bird',\n",
       "                'bounding_box': [\n",
       "                    0.5395165920257569,\n",
       "                    0.034476550420125325,\n",
       "                    0.07703280448913574,\n",
       "                    0.16296254793802897,\n",
       "                ],\n",
       "                'mask': None,\n",
       "                'confidence': 0.07699568569660187,\n",
       "                'index': None,\n",
       "                'eval': 'fp',\n",
       "                'eval_id': '',\n",
       "            }>,\n",
       "            <Detection: {\n",
       "                'id': '5f452c60ef00e6374aad93a0',\n",
       "                'attributes': {},\n",
       "                'tags': [],\n",
       "                'label': 'bear',\n",
       "                'bounding_box': [\n",
       "                    0.217216157913208,\n",
       "                    0.05954849322636922,\n",
       "                    0.49451656341552735,\n",
       "                    0.8721434275309244,\n",
       "                ],\n",
       "                'mask': None,\n",
       "                'confidence': 0.058097004890441895,\n",
       "                'index': None,\n",
       "                'eval': 'fp',\n",
       "                'eval_id': '',\n",
       "            }>,\n",
       "            <Detection: {\n",
       "                'id': '5f452c60ef00e6374aad93a1',\n",
       "                'attributes': {},\n",
       "                'tags': [],\n",
       "                'label': 'sheep',\n",
       "                'bounding_box': [\n",
       "                    0.018094074726104737,\n",
       "                    0.5562847137451172,\n",
       "                    0.17362892627716064,\n",
       "                    0.15742950439453124,\n",
       "                ],\n",
       "                'mask': None,\n",
       "                'confidence': 0.0519101656973362,\n",
       "                'index': None,\n",
       "                'eval': 'fp',\n",
       "                'eval_id': '',\n",
       "            }>,\n",
       "        ],\n",
       "    }>,\n",
       "    'eval_tp': 2,\n",
       "    'eval_fp': 12,\n",
       "    'eval_fn': 1,\n",
       "    'my_uniqueness': 0.48707140297217894,\n",
       "}>"
      ]
     },
     "execution_count": 39,
     "metadata": {},
     "output_type": "execute_result"
    }
   ],
   "source": [
    "v = list(dataset.view())\n",
    "v[0]"
   ]
  },
  {
   "cell_type": "code",
   "execution_count": 42,
   "id": "2211bb64-eb0f-431a-b1d3-ec75a2218d07",
   "metadata": {},
   "outputs": [],
   "source": [
    "for sample in dataset.view():\n",
    "    for d in sample['ground_truth']['detections']:\n",
    "        d[\"bb_max_side\"] = max(d['bounding_box'][2],d['bounding_box'][3])\n",
    "        d[\"bb_max_side_pixel\"] = max(d['bounding_box'][2]*sample['metadata']['height'],d['bounding_box'][3]*sample['metadata']['width'])\n",
    "    sample.save()"
   ]
  },
  {
   "cell_type": "code",
   "execution_count": 43,
   "id": "85594fa1-7fab-4bcf-b1af-eda96b4b6030",
   "metadata": {},
   "outputs": [],
   "source": [
    "#lets add pseudo metadata \n",
    "import random \n",
    "for sample in dataset.view():\n",
    "    sample['metadata']['range2target'] = random.randint(10,1000)\n",
    "    sample.save()\n",
    "\n",
    "dataset.add_dynamic_sample_fields()"
   ]
  },
  {
   "cell_type": "markdown",
   "id": "71f0cf25-dc28-4e0f-8b8f-fd4300f9fb17",
   "metadata": {},
   "source": [
    "<B> -------------------------------------------------------"
   ]
  },
  {
   "cell_type": "markdown",
   "id": "253ff9b5-b01b-4ad7-a458-32877df3dd84",
   "metadata": {},
   "source": [
    "<B> In this dataset we already have GT and predictions, lets do <b> EVALUATION </b> "
   ]
  },
  {
   "cell_type": "code",
   "execution_count": 46,
   "id": "a945a91e-c435-4ecb-b69c-2fa9e0dd5d1c",
   "metadata": {},
   "outputs": [],
   "source": [
    "#evaluate only predictions with high confidence\n",
    "from fiftyone import ViewField as F\n",
    "high_conf_view = dataset.filter_labels(\"predictions\", F(\"confidence\") > 0.75, only_matches=False)\n"
   ]
  },
  {
   "cell_type": "code",
   "execution_count": 47,
   "id": "83e92360-c5d6-4dd1-b32d-18124e913c92",
   "metadata": {},
   "outputs": [
    {
     "name": "stdout",
     "output_type": "stream",
     "text": [
      "Evaluating detections...\n",
      " 100% |█████████████████| 200/200 [14.8s elapsed, 0s remaining, 9.3 samples/s]       \n"
     ]
    }
   ],
   "source": [
    "eval_results = fo.evaluate_detections(dataset,pred_field=\"predictions\",gt_field = \"ground_truth\",eval_key = 'eval',method=None,classwise=True)"
   ]
  },
  {
   "cell_type": "code",
   "execution_count": 48,
   "id": "f870c120-20b2-45fb-b304-df30d70c6f7c",
   "metadata": {},
   "outputs": [
    {
     "name": "stdout",
     "output_type": "stream",
     "text": [
      "                precision    recall  f1-score   support\n",
      "\n",
      "      airplane       0.36      0.83      0.50        24\n",
      "         apple       0.07      1.00      0.13         2\n",
      "      backpack       0.09      0.86      0.16         7\n",
      "        banana       0.04      1.00      0.08         3\n",
      "baseball glove       0.38      0.75      0.50         4\n",
      "          bear       0.42      0.83      0.56         6\n",
      "           bed       0.05      1.00      0.09         1\n",
      "         bench       0.17      0.52      0.26        23\n",
      "       bicycle       0.00      0.00      0.00         0\n",
      "          bird       0.65      0.78      0.71       110\n",
      "          boat       0.09      0.46      0.16        37\n",
      "          book       0.07      0.91      0.13        11\n",
      "        bottle       0.10      0.90      0.18        10\n",
      "          bowl       0.16      0.93      0.28        15\n",
      "      broccoli       0.10      1.00      0.19        16\n",
      "           bus       0.06      1.00      0.12         1\n",
      "          cake       0.11      0.75      0.19         4\n",
      "           car       0.18      0.80      0.29        61\n",
      "        carrot       0.09      0.74      0.16        47\n",
      "           cat       0.43      0.94      0.59        16\n",
      "    cell phone       0.00      0.00      0.00         1\n",
      "         chair       0.07      0.48      0.13        23\n",
      "         clock       0.11      0.75      0.19         4\n",
      "         couch       0.12      1.00      0.22         4\n",
      "           cow       0.25      0.91      0.39        22\n",
      "           cup       0.18      0.81      0.30        21\n",
      "  dining table       0.08      0.93      0.15        15\n",
      "           dog       0.24      0.80      0.38        15\n",
      "         donut       0.17      0.46      0.24        13\n",
      "      elephant       0.57      1.00      0.72        25\n",
      "  fire hydrant       0.33      1.00      0.50         2\n",
      "          fork       0.15      1.00      0.26         9\n",
      "       frisbee       0.22      1.00      0.36         2\n",
      "       giraffe       0.36      0.91      0.52        23\n",
      "    hair drier       0.00      0.00      0.00         0\n",
      "       handbag       0.10      0.53      0.17        15\n",
      "         horse       0.24      0.88      0.37        17\n",
      "       hot dog       0.12      0.20      0.15         5\n",
      "      keyboard       0.00      0.00      0.00         0\n",
      "          kite       0.59      0.88      0.71       140\n",
      "         knife       0.11      0.78      0.19         9\n",
      "        laptop       0.19      0.75      0.30         4\n",
      "     microwave       0.33      1.00      0.50         1\n",
      "    motorcycle       0.64      1.00      0.78        41\n",
      "         mouse       0.00      0.00      0.00         0\n",
      "        orange       0.11      1.00      0.20         2\n",
      "          oven       0.04      1.00      0.07         2\n",
      " parking meter       0.00      0.00      0.00         1\n",
      "        person       0.52      0.94      0.67       716\n",
      "         pizza       0.18      0.78      0.29         9\n",
      "  potted plant       0.00      0.00      0.00         0\n",
      "  refrigerator       0.21      1.00      0.35         3\n",
      "        remote       0.00      0.00      0.00         0\n",
      "      sandwich       0.25      1.00      0.40         6\n",
      "      scissors       0.11      1.00      0.20         1\n",
      "         sheep       0.07      1.00      0.12         2\n",
      "          sink       0.03      0.60      0.06         5\n",
      "    skateboard       0.12      1.00      0.22         3\n",
      "          skis       0.15      1.00      0.27         8\n",
      "     snowboard       0.06      0.50      0.10         2\n",
      "         spoon       0.10      0.67      0.18         9\n",
      "   sports ball       0.27      1.00      0.43         3\n",
      "     stop sign       0.50      0.50      0.50         2\n",
      "      suitcase       0.11      0.22      0.15         9\n",
      "     surfboard       0.17      0.73      0.28        30\n",
      "    teddy bear       0.14      1.00      0.25         1\n",
      " tennis racket       0.12      1.00      0.22         2\n",
      "           tie       0.11      0.83      0.20         6\n",
      "       toaster       0.00      0.00      0.00         0\n",
      "        toilet       0.00      0.00      0.00         0\n",
      "    toothbrush       0.06      0.50      0.10         2\n",
      " traffic light       0.32      0.79      0.45        24\n",
      "         train       0.16      1.00      0.27         5\n",
      "         truck       0.15      0.68      0.24        19\n",
      "            tv       0.06      1.00      0.12         1\n",
      "      umbrella       0.42      0.85      0.56        34\n",
      "          vase       0.03      1.00      0.06         1\n",
      "    wine glass       0.06      0.50      0.11         4\n",
      "         zebra       0.56      1.00      0.72        14\n",
      "\n",
      "     micro avg       0.26      0.86      0.40      1735\n",
      "     macro avg       0.18      0.72      0.26      1735\n",
      "  weighted avg       0.41      0.86      0.53      1735\n",
      "\n"
     ]
    }
   ],
   "source": [
    "eval_results.print_report()"
   ]
  },
  {
   "cell_type": "code",
   "execution_count": 49,
   "id": "65e524d5-d3de-4e84-8b87-b03c54e12031",
   "metadata": {},
   "outputs": [],
   "source": [
    "# The top-10 most common classes\n",
    "counts = dataset.count_values(\"ground_truth.detections.label\")\n",
    "classes = sorted(counts, key=counts.get, reverse=True)[:10]"
   ]
  },
  {
   "cell_type": "code",
   "execution_count": 50,
   "id": "c9c0e635-9f30-4d5a-81c1-9b935d8e4841",
   "metadata": {},
   "outputs": [],
   "source": [
    "#PLOTS\n",
    "cm = eval_results.plot_confusion_matrix(classes=classes)"
   ]
  },
  {
   "cell_type": "code",
   "execution_count": 51,
   "id": "9a32a634-a072-42c9-aebe-e174b456da28",
   "metadata": {},
   "outputs": [],
   "source": [
    "session1.plots.attach(cm) # only jupyter"
   ]
  },
  {
   "cell_type": "code",
   "execution_count": 56,
   "id": "38b5361c-c11e-468f-b0c7-e68f152200d2",
   "metadata": {},
   "outputs": [
    {
     "data": {
      "text/plain": []
     },
     "metadata": {},
     "output_type": "display_data"
    },
    {
     "data": {
      "text/plain": []
     },
     "metadata": {},
     "output_type": "display_data"
    },
    {
     "data": {
      "application/vnd.jupyter.widget-view+json": {
       "model_id": "df63d2d03c754853b921a9c231ccf5c8",
       "version_major": 2,
       "version_minor": 0
      },
      "text/plain": [
       "FigureWidget({\n",
       "    'data': [{'mode': 'markers',\n",
       "              'opacity': 0.1,\n",
       "              'selectedpoints': [],\n",
       "              'type': 'scatter',\n",
       "              'uid': '21d05b71-d039-4dde-ad43-c71e1b3fe6fb',\n",
       "              'x': array([ 0,  1,  2,  3,  4,  5,  6,  7,  8,  9, 10,  0,  1,  2,  3,  4,  5,  6,\n",
       "                           7,  8,  9, 10,  0,  1,  2,  3,  4,  5,  6,  7,  8,  9, 10,  0,  1,  2,\n",
       "                           3,  4,  5,  6,  7,  8,  9, 10,  0,  1,  2,  3,  4,  5,  6,  7,  8,  9,\n",
       "                          10,  0,  1,  2,  3,  4,  5,  6,  7,  8,  9, 10,  0,  1,  2,  3,  4,  5,\n",
       "                           6,  7,  8,  9, 10,  0,  1,  2,  3,  4,  5,  6,  7,  8,  9, 10,  0,  1,\n",
       "                           2,  3,  4,  5,  6,  7,  8,  9, 10,  0,  1,  2,  3,  4,  5,  6,  7,  8,\n",
       "                           9, 10,  0,  1,  2,  3,  4,  5,  6,  7,  8,  9, 10]),\n",
       "              'y': array([ 0,  0,  0,  0,  0,  0,  0,  0,  0,  0,  0,  1,  1,  1,  1,  1,  1,  1,\n",
       "                           1,  1,  1,  1,  2,  2,  2,  2,  2,  2,  2,  2,  2,  2,  2,  3,  3,  3,\n",
       "                           3,  3,  3,  3,  3,  3,  3,  3,  4,  4,  4,  4,  4,  4,  4,  4,  4,  4,\n",
       "                           4,  5,  5,  5,  5,  5,  5,  5,  5,  5,  5,  5,  6,  6,  6,  6,  6,  6,\n",
       "                           6,  6,  6,  6,  6,  7,  7,  7,  7,  7,  7,  7,  7,  7,  7,  7,  8,  8,\n",
       "                           8,  8,  8,  8,  8,  8,  8,  8,  8,  9,  9,  9,  9,  9,  9,  9,  9,  9,\n",
       "                           9,  9, 10, 10, 10, 10, 10, 10, 10, 10, 10, 10, 10])},\n",
       "             {'colorscale': [[0.0, 'rgb(255,245,235)'], [0.125,\n",
       "                             'rgb(254,230,206)'], [0.25, 'rgb(253,208,162)'],\n",
       "                             [0.375, 'rgb(253,174,107)'], [0.5, 'rgb(253,141,60)'],\n",
       "                             [0.625, 'rgb(241,105,19)'], [0.75, 'rgb(217,72,1)'],\n",
       "                             [0.875, 'rgb(166,54,3)'], [1.0, 'rgb(127,39,4)']],\n",
       "              'hoverinfo': 'skip',\n",
       "              'showscale': False,\n",
       "              'type': 'heatmap',\n",
       "              'uid': 'a9f6b5a8-31c8-4790-b4db-c1d0d9c97832',\n",
       "              'z': array([[None, None, None, None, None, None, None, None, None, None, None],\n",
       "                          [None, None, None, None, None, None, None, None, None, None, None],\n",
       "                          [0, None, None, None, None, None, None, None, None, None, None],\n",
       "                          [None, None, None, None, None, None, None, None, None, None, None],\n",
       "                          [None, None, None, None, None, None, None, None, None, None, None],\n",
       "                          [None, None, None, None, None, None, None, None, None, None, None],\n",
       "                          [None, None, None, None, None, None, None, None, None, None, None],\n",
       "                          [None, None, None, None, None, None, None, None, None, None, None],\n",
       "                          [None, None, None, None, None, None, None, None, None, None, None],\n",
       "                          [None, None, None, None, None, None, None, None, None, None, None],\n",
       "                          [None, None, None, None, None, None, None, None, None, None, None]],\n",
       "                         dtype=object),\n",
       "              'zmax': 672,\n",
       "              'zmin': 0},\n",
       "             {'colorbar': {'len': 1, 'lenmode': 'fraction'},\n",
       "              'colorscale': [[0.0, 'rgb(255,245,235)'], [0.125,\n",
       "                             'rgb(254,230,206)'], [0.25, 'rgb(253,208,162)'],\n",
       "                             [0.375, 'rgb(253,174,107)'], [0.5, 'rgb(253,141,60)'],\n",
       "                             [0.625, 'rgb(241,105,19)'], [0.75, 'rgb(217,72,1)'],\n",
       "                             [0.875, 'rgb(166,54,3)'], [1.0, 'rgb(127,39,4)']],\n",
       "              'hovertemplate': '<b>count: %{z}</b><br>truth: %{y}<br>predicted: %{x}<extra></extra>',\n",
       "              'opacity': 0.25,\n",
       "              'type': 'heatmap',\n",
       "              'uid': '5f86cf40-3b33-40ea-ad3f-1a0849e1f0eb',\n",
       "              'z': array([[618,  84, 228,  47, 349, 164, 104,  41,  36, 141,   0],\n",
       "                          [  0,   0,   0,   0,   0,   0,   0,   0,   0,  11,  12],\n",
       "                          [  0,   0,   0,   0,   0,   0,   0,   0,  20,   0,   4],\n",
       "                          [  0,   0,   0,   0,   0,   0,   0,  19,   0,   0,   5],\n",
       "                          [  0,   0,   0,   0,   0,   0,  22,   0,   0,   0,   8],\n",
       "                          [  0,   0,   0,   0,   0,  17,   0,   0,   0,   0,  20],\n",
       "                          [  0,   0,   0,   0,  35,   0,   0,   0,   0,   0,  12],\n",
       "                          [  0,   0,   0,  86,   0,   0,   0,   0,   0,   0,  24],\n",
       "                          [  0,   0,  49,   0,   0,   0,   0,   0,   0,   0,  12],\n",
       "                          [  0, 123,   0,   0,   0,   0,   0,   0,   0,   0,  17],\n",
       "                          [672,   0,   0,   0,   0,   0,   0,   0,   0,   0,  44]]),\n",
       "              'zmax': 672,\n",
       "              'zmin': 0}],\n",
       "    'layout': {'clickmode': 'event',\n",
       "               'template': '...',\n",
       "               'xaxis': {'constrain': 'domain',\n",
       "                         'range': [-0.5, 10.5],\n",
       "                         'tickmode': 'array',\n",
       "                         'ticktext': [person, kite, car, bird, carrot, boat,\n",
       "                                      surfboard, traffic light, airplane, chair,\n",
       "                                      (none)],\n",
       "                         'tickvals': array([ 0,  1,  2,  3,  4,  5,  6,  7,  8,  9, 10])},\n",
       "               'yaxis': {'constrain': 'domain',\n",
       "                         'range': [-0.5, 10.5],\n",
       "                         'scaleanchor': 'x',\n",
       "                         'scaleratio': 1,\n",
       "                         'tickmode': 'array',\n",
       "                         'ticktext': array(['(none)', 'chair', 'airplane', 'traffic light', 'surfboard', 'boat',\n",
       "                                            'carrot', 'bird', 'car', 'kite', 'person'], dtype=object),\n",
       "                         'tickvals': array([ 0,  1,  2,  3,  4,  5,  6,  7,  8,  9, 10])}}\n",
       "})"
      ]
     },
     "metadata": {},
     "output_type": "display_data"
    }
   ],
   "source": [
    "cm.show() #won't work in pycharm"
   ]
  },
  {
   "cell_type": "code",
   "execution_count": 55,
   "id": "cd76c3b4-7e43-42c1-8428-513983ece54c",
   "metadata": {},
   "outputs": [
    {
     "data": {
      "text/html": [
       "\n",
       "<style>\n",
       "@import url(\"https://fonts.googleapis.com/css2?family=Palanquin&display=swap\");\n",
       "\n",
       "body, html {\n",
       "  margin: 0;\n",
       "  padding: 0;\n",
       "  width: 100%;\n",
       "}\n",
       "\n",
       "#focontainer-c4381b85-0132-44fe-a29c-bdd26af96f56 {\n",
       "  position: relative;\n",
       "  height: 800px;\n",
       "  display: block !important;\n",
       "}\n",
       "#foactivate-c4381b85-0132-44fe-a29c-bdd26af96f56 {\n",
       "  font-weight: bold;\n",
       "  cursor: pointer;\n",
       "  font-size: 24px;\n",
       "  border-radius: 3px;\n",
       "  text-align: center;\n",
       "  padding: 0.5em;\n",
       "  color: rgb(255, 255, 255);\n",
       "  font-family: \"Palanquin\", sans-serif;\n",
       "  position: absolute;\n",
       "  left: 50%;\n",
       "  top: 50%;\n",
       "  width: 160px;\n",
       "  margin-left: -80px;\n",
       "  margin-top: -23px;\n",
       "  background: hsla(210,11%,15%, 0.8);\n",
       "  border: none;\n",
       "}\n",
       "#foactivate-c4381b85-0132-44fe-a29c-bdd26af96f56:focus {\n",
       "  outline: none;\n",
       "}\n",
       "#fooverlay-c4381b85-0132-44fe-a29c-bdd26af96f56 {\n",
       "  width: 100%;\n",
       "  height: 100%;\n",
       "  background: hsla(208, 7%, 46%, 0.7);\n",
       "  position: absolute;\n",
       "  top: 0;\n",
       "  left: 0;\n",
       "  display: none;\n",
       "  cursor: pointer;\n",
       "}\n",
       "</style>\n",
       "\n",
       "<div id=\"focontainer-c4381b85-0132-44fe-a29c-bdd26af96f56\">\n",
       "   <div id=\"fooverlay-c4381b85-0132-44fe-a29c-bdd26af96f56\" style=\"display: none;\">\n",
       "      <button id=\"foactivate-c4381b85-0132-44fe-a29c-bdd26af96f56\" >Activate</button>\n",
       "   </div>\n",
       "   <img src='data:image/jpeg;base64,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' style=\"width: 100%; max-width: 1193px;\"/>\n",
       "</div>\n",
       "\n",
       "<script type=\"text/javascript\">\n",
       "   (function() {\n",
       "     var container = document.getElementById(\"focontainer-c4381b85-0132-44fe-a29c-bdd26af96f56\");\n",
       "     var overlay = document.getElementById(\"fooverlay-c4381b85-0132-44fe-a29c-bdd26af96f56\");\n",
       "     fetch(`http://localhost:5151/fiftyone`)\n",
       "     .then(() => {\n",
       "        overlay.addEventListener(\"click\", () => {\n",
       "          fetch(`http://localhost:5151/event`, {\n",
       "            method: \"POST\",\n",
       "            body: JSON.stringify({\n",
       "              event: \"reactivate_notebook_cell\",\n",
       "              data: { subscription: \"c4381b85-0132-44fe-a29c-bdd26af96f56\" },\n",
       "              subscription: \"c4381b85-0132-44fe-a29c-bdd26af96f56\"\n",
       "            })\n",
       "          })\n",
       "        });\n",
       "        container.addEventListener(\"mouseenter\", () => overlay.style.display = \"block\");\n",
       "        container.addEventListener(\"mouseleave\", () => overlay.style.display = \"none\");\n",
       "     });\n",
       "   })();\n",
       "</script>"
      ],
      "text/plain": [
       "<IPython.core.display.HTML object>"
      ]
     },
     "metadata": {},
     "output_type": "display_data"
    }
   ],
   "source": [
    "session1.show()"
   ]
  },
  {
   "cell_type": "code",
   "execution_count": 57,
   "id": "7c24fc9a-5d07-4cbf-ac46-9dfd333eaa1a",
   "metadata": {},
   "outputs": [
    {
     "name": "stdout",
     "output_type": "stream",
     "text": [
      "Evaluating detections...\n",
      " 100% |█████████████████| 200/200 [3.8s elapsed, 0s remaining, 36.3 samples/s]      \n",
      "Performing IoU sweep...\n",
      " 100% |█████████████████| 200/200 [5.5s elapsed, 0s remaining, 30.0 samples/s]      \n"
     ]
    }
   ],
   "source": [
    "# Performs an IoU sweep so that mAP and PR curves can be computed\n",
    "results = dataset.evaluate_detections(\n",
    "    \"predictions\",\n",
    "    gt_field=\"ground_truth\",\n",
    "    compute_mAP=True,\n",
    ")"
   ]
  },
  {
   "cell_type": "code",
   "execution_count": 58,
   "id": "418a32e9-fe3e-4e9b-9eb5-658cf49769c9",
   "metadata": {},
   "outputs": [
    {
     "name": "stdout",
     "output_type": "stream",
     "text": [
      "0.3957238101325776\n"
     ]
    }
   ],
   "source": [
    "print(results.mAP())"
   ]
  },
  {
   "cell_type": "code",
   "execution_count": 59,
   "id": "c1620a77-b2df-4b86-b546-d9a3c83298d4",
   "metadata": {},
   "outputs": [
    {
     "data": {
      "text/plain": []
     },
     "metadata": {},
     "output_type": "display_data"
    },
    {
     "data": {
      "text/plain": []
     },
     "metadata": {},
     "output_type": "display_data"
    },
    {
     "data": {
      "application/vnd.jupyter.widget-view+json": {
       "model_id": "c0cd334bceeb49de938f2e2f32f8410b",
       "version_major": 2,
       "version_minor": 0
      },
      "text/plain": [
       "FigureWidget({\n",
       "    'data': [{'customdata': array([0.99981445, 0.99971025, 0.99933897, 0.99146698, 0.89948725, 0.89933202,\n",
       "                                   0.89920615, 0.8990235 , 0.89863278, 0.89828128, 0.89810774, 0.89736113,\n",
       "                                   0.89694064, 0.89569733, 0.89247285, 0.8879249 , 0.88152048, 0.81809828,\n",
       "                                   0.79508709, 0.79479273, 0.79435104, 0.79367471, 0.79314081, 0.79214821,\n",
       "                                   0.79109748, 0.7896721 , 0.78796003, 0.78567557, 0.77992168, 0.77624626,\n",
       "                                   0.77238688, 0.76858566, 0.74028469, 0.71128512, 0.68377445, 0.68253206,\n",
       "                                   0.68021176, 0.67790278, 0.67524313, 0.6687835 , 0.66507474, 0.66118948,\n",
       "                                   0.65797289, 0.64610919, 0.6392695 , 0.61132967, 0.59846317, 0.58963702,\n",
       "                                   0.57124192, 0.55173311, 0.54765629, 0.53897182, 0.52870825, 0.51907299,\n",
       "                                   0.49691882, 0.47944629, 0.46605456, 0.45220594, 0.43347933, 0.40586855,\n",
       "                                   0.39449654, 0.38014933, 0.36439801, 0.34962354, 0.33565284, 0.31247639,\n",
       "                                   0.30068812, 0.28303293, 0.25961261, 0.23618781, 0.22427873, 0.20597611,\n",
       "                                   0.18443405, 0.17062171, 0.16193175, 0.13553562, 0.11465184, 0.10438898,\n",
       "                                   0.09264527, 0.07971501, 0.06218805, 0.05526922, 0.04992771, 0.04127994,\n",
       "                                   0.03186953, 0.02409054, 0.01545252, 0.01129674, 0.00697212, 0.        ,\n",
       "                                   0.        , 0.        , 0.        , 0.        , 0.        , 0.        ,\n",
       "                                   0.        , 0.        , 0.        , 0.        , 0.        ]),\n",
       "              'hovertemplate': ('<b>class: %{text}</b><br>recal' ... 'customdata:.3f}<extra></extra>'),\n",
       "              'line': {'color': '#3366CC'},\n",
       "              'mode': 'lines',\n",
       "              'name': 'person (AP = 0.469)',\n",
       "              'text': array(['person', 'person', 'person', 'person', 'person', 'person', 'person',\n",
       "                             'person', 'person', 'person', 'person', 'person', 'person', 'person',\n",
       "                             'person', 'person', 'person', 'person', 'person', 'person', 'person',\n",
       "                             'person', 'person', 'person', 'person', 'person', 'person', 'person',\n",
       "                             'person', 'person', 'person', 'person', 'person', 'person', 'person',\n",
       "                             'person', 'person', 'person', 'person', 'person', 'person', 'person',\n",
       "                             'person', 'person', 'person', 'person', 'person', 'person', 'person',\n",
       "                             'person', 'person', 'person', 'person', 'person', 'person', 'person',\n",
       "                             'person', 'person', 'person', 'person', 'person', 'person', 'person',\n",
       "                             'person', 'person', 'person', 'person', 'person', 'person', 'person',\n",
       "                             'person', 'person', 'person', 'person', 'person', 'person', 'person',\n",
       "                             'person', 'person', 'person', 'person', 'person', 'person', 'person',\n",
       "                             'person', 'person', 'person', 'person', 'person', 'person', 'person',\n",
       "                             'person', 'person', 'person', 'person', 'person', 'person', 'person',\n",
       "                             'person', 'person', 'person'], dtype='<U6'),\n",
       "              'type': 'scatter',\n",
       "              'uid': '86042dd2-0927-42ee-af95-d3c0305c416b',\n",
       "              'x': array([0.  , 0.01, 0.02, 0.03, 0.04, 0.05, 0.06, 0.07, 0.08, 0.09, 0.1 , 0.11,\n",
       "                          0.12, 0.13, 0.14, 0.15, 0.16, 0.17, 0.18, 0.19, 0.2 , 0.21, 0.22, 0.23,\n",
       "                          0.24, 0.25, 0.26, 0.27, 0.28, 0.29, 0.3 , 0.31, 0.32, 0.33, 0.34, 0.35,\n",
       "                          0.36, 0.37, 0.38, 0.39, 0.4 , 0.41, 0.42, 0.43, 0.44, 0.45, 0.46, 0.47,\n",
       "                          0.48, 0.49, 0.5 , 0.51, 0.52, 0.53, 0.54, 0.55, 0.56, 0.57, 0.58, 0.59,\n",
       "                          0.6 , 0.61, 0.62, 0.63, 0.64, 0.65, 0.66, 0.67, 0.68, 0.69, 0.7 , 0.71,\n",
       "                          0.72, 0.73, 0.74, 0.75, 0.76, 0.77, 0.78, 0.79, 0.8 , 0.81, 0.82, 0.83,\n",
       "                          0.84, 0.85, 0.86, 0.87, 0.88, 0.89, 0.9 , 0.91, 0.92, 0.93, 0.94, 0.95,\n",
       "                          0.96, 0.97, 0.98, 0.99, 1.  ]),\n",
       "              'y': array([0.91923077, 0.88681319, 0.87557355, 0.86807112, 0.86153846, 0.85497738,\n",
       "                          0.8517094 , 0.8484226 , 0.8351586 , 0.8310281 , 0.82988988, 0.81855577,\n",
       "                          0.81586385, 0.81038136, 0.79658323, 0.79125878, 0.78671458, 0.76116208,\n",
       "                          0.74581199, 0.74187431, 0.74082754, 0.73877784, 0.73698151, 0.73255133,\n",
       "                          0.72866671, 0.72265375, 0.71947798, 0.71493389, 0.70430859, 0.70287691,\n",
       "                          0.70015658, 0.69552679, 0.68286259, 0.66772274, 0.64071078, 0.63918989,\n",
       "                          0.63383227, 0.62909262, 0.6206565 , 0.61181735, 0.6077258 , 0.60083806,\n",
       "                          0.59523566, 0.58371577, 0.57860034, 0.56523949, 0.5597376 , 0.555483  ,\n",
       "                          0.54386987, 0.51221908, 0.50786083, 0.50157344, 0.49464701, 0.48943927,\n",
       "                          0.47894304, 0.47189892, 0.46458863, 0.45697757, 0.44436727, 0.40401447,\n",
       "                          0.39979268, 0.39225128, 0.38343786, 0.37632265, 0.36889867, 0.35642549,\n",
       "                          0.35123182, 0.34252954, 0.32674957, 0.28968146, 0.28471589, 0.27726177,\n",
       "                          0.26356067, 0.25757634, 0.25298121, 0.23136377, 0.19090631, 0.18344345,\n",
       "                          0.17683589, 0.16492103, 0.12290818, 0.11740569, 0.11332946, 0.10628424,\n",
       "                          0.09737345, 0.08770682, 0.04891975, 0.04458333, 0.0386174 , 0.        ,\n",
       "                          0.        , 0.        , 0.        , 0.        , 0.        , 0.        ,\n",
       "                          0.        , 0.        , 0.        , 0.        , 0.        ])},\n",
       "             {'customdata': array([0.99891448, 0.99891448, 0.99812043, 0.99781221, 0.99781221, 0.99708987,\n",
       "                                   0.99675134, 0.99497979, 0.99497979, 0.89720337, 0.89689009, 0.89634794,\n",
       "                                   0.89634794, 0.89582993, 0.89473051, 0.89473051, 0.89345058, 0.89254058,\n",
       "                                   0.79465134, 0.79465134, 0.79346237, 0.79300302, 0.79226256, 0.79226256,\n",
       "                                   0.79148862, 0.79064933, 0.79064933, 0.78966264, 0.7874805 , 0.78580551,\n",
       "                                   0.78580551, 0.77843411, 0.73028161, 0.69723   , 0.69723   , 0.68815871,\n",
       "                                   0.68679316, 0.68449506, 0.68449506, 0.68244727, 0.67797742, 0.67797742,\n",
       "                                   0.67428693, 0.62610902, 0.6117749 , 0.6117749 , 0.58936196, 0.57566236,\n",
       "                                   0.56715315, 0.56715315, 0.55877134, 0.55231621, 0.55231621, 0.52339867,\n",
       "                                   0.46423211, 0.44055491, 0.44055491, 0.41400315, 0.34429185, 0.3268968 ,\n",
       "                                   0.3268968 , 0.24788913, 0.21496122, 0.21496122, 0.18653455, 0.16220194,\n",
       "                                   0.11651844, 0.11651844, 0.10068391, 0.06929949, 0.06422291, 0.06422291,\n",
       "                                   0.06220916, 0.03455678, 0.0167983 , 0.0167983 , 0.01369008, 0.        ,\n",
       "                                   0.        , 0.        , 0.        , 0.        , 0.        , 0.        ,\n",
       "                                   0.        , 0.        , 0.        , 0.        , 0.        , 0.        ,\n",
       "                                   0.        , 0.        , 0.        , 0.        , 0.        , 0.        ,\n",
       "                                   0.        , 0.        , 0.        , 0.        , 0.        ]),\n",
       "              'hovertemplate': ('<b>class: %{text}</b><br>recal' ... 'customdata:.3f}<extra></extra>'),\n",
       "              'line': {'color': '#DC3912'},\n",
       "              'mode': 'lines',\n",
       "              'name': 'kite (AP = 0.449)',\n",
       "              'text': array(['kite', 'kite', 'kite', 'kite', 'kite', 'kite', 'kite', 'kite', 'kite',\n",
       "                             'kite', 'kite', 'kite', 'kite', 'kite', 'kite', 'kite', 'kite', 'kite',\n",
       "                             'kite', 'kite', 'kite', 'kite', 'kite', 'kite', 'kite', 'kite', 'kite',\n",
       "                             'kite', 'kite', 'kite', 'kite', 'kite', 'kite', 'kite', 'kite', 'kite',\n",
       "                             'kite', 'kite', 'kite', 'kite', 'kite', 'kite', 'kite', 'kite', 'kite',\n",
       "                             'kite', 'kite', 'kite', 'kite', 'kite', 'kite', 'kite', 'kite', 'kite',\n",
       "                             'kite', 'kite', 'kite', 'kite', 'kite', 'kite', 'kite', 'kite', 'kite',\n",
       "                             'kite', 'kite', 'kite', 'kite', 'kite', 'kite', 'kite', 'kite', 'kite',\n",
       "                             'kite', 'kite', 'kite', 'kite', 'kite', 'kite', 'kite', 'kite', 'kite',\n",
       "                             'kite', 'kite', 'kite', 'kite', 'kite', 'kite', 'kite', 'kite', 'kite',\n",
       "                             'kite', 'kite', 'kite', 'kite', 'kite', 'kite', 'kite', 'kite', 'kite',\n",
       "                             'kite', 'kite'], dtype='<U4'),\n",
       "              'type': 'scatter',\n",
       "              'uid': 'd8e5ba67-2de8-4067-be71-a22f8d38a70b',\n",
       "              'x': array([0.  , 0.01, 0.02, 0.03, 0.04, 0.05, 0.06, 0.07, 0.08, 0.09, 0.1 , 0.11,\n",
       "                          0.12, 0.13, 0.14, 0.15, 0.16, 0.17, 0.18, 0.19, 0.2 , 0.21, 0.22, 0.23,\n",
       "                          0.24, 0.25, 0.26, 0.27, 0.28, 0.29, 0.3 , 0.31, 0.32, 0.33, 0.34, 0.35,\n",
       "                          0.36, 0.37, 0.38, 0.39, 0.4 , 0.41, 0.42, 0.43, 0.44, 0.45, 0.46, 0.47,\n",
       "                          0.48, 0.49, 0.5 , 0.51, 0.52, 0.53, 0.54, 0.55, 0.56, 0.57, 0.58, 0.59,\n",
       "                          0.6 , 0.61, 0.62, 0.63, 0.64, 0.65, 0.66, 0.67, 0.68, 0.69, 0.7 , 0.71,\n",
       "                          0.72, 0.73, 0.74, 0.75, 0.76, 0.77, 0.78, 0.79, 0.8 , 0.81, 0.82, 0.83,\n",
       "                          0.84, 0.85, 0.86, 0.87, 0.88, 0.89, 0.9 , 0.91, 0.92, 0.93, 0.94, 0.95,\n",
       "                          0.96, 0.97, 0.98, 0.99, 1.  ]),\n",
       "              'y': array([1.        , 1.        , 0.91666667, 0.85761905, 0.85761905, 0.85142857,\n",
       "                          0.8472619 , 0.83798942, 0.83798942, 0.81410053, 0.80910053, 0.8007672 ,\n",
       "                          0.8007672 , 0.79671958, 0.7955291 , 0.7955291 , 0.78775968, 0.78775968,\n",
       "                          0.73742618, 0.73742618, 0.73742618, 0.73742618, 0.73742618, 0.73742618,\n",
       "                          0.73742618, 0.73742618, 0.73742618, 0.73742618, 0.73402116, 0.73402116,\n",
       "                          0.73402116, 0.72195145, 0.70464315, 0.69296423, 0.69296423, 0.67084034,\n",
       "                          0.67084034, 0.66578755, 0.66578755, 0.66578755, 0.66119601, 0.66119601,\n",
       "                          0.6560119 , 0.63467181, 0.63167247, 0.63167247, 0.61370269, 0.5775    ,\n",
       "                          0.55681818, 0.55681818, 0.54781431, 0.54340208, 0.54340208, 0.51579899,\n",
       "                          0.47093805, 0.45554501, 0.45554501, 0.44581218, 0.39995051, 0.36082166,\n",
       "                          0.36082166, 0.31212881, 0.30052503, 0.30052503, 0.25570946, 0.24661855,\n",
       "                          0.22572099, 0.22572099, 0.21961986, 0.16902597, 0.16528213, 0.16528213,\n",
       "                          0.1642562 , 0.14279588, 0.09090909, 0.09090909, 0.08484848, 0.        ,\n",
       "                          0.        , 0.        , 0.        , 0.        , 0.        , 0.        ,\n",
       "                          0.        , 0.        , 0.        , 0.        , 0.        , 0.        ,\n",
       "                          0.        , 0.        , 0.        , 0.        , 0.        , 0.        ,\n",
       "                          0.        , 0.        , 0.        , 0.        , 0.        ])},\n",
       "             {'customdata': array([0.99445748, 0.92941872, 0.88968084, 0.88968084, 0.88273637, 0.87724458,\n",
       "                                   0.87724458, 0.86641925, 0.86641925, 0.8579754 , 0.84240721, 0.84240721,\n",
       "                                   0.79912558, 0.79912558, 0.75609893, 0.74701732, 0.74701732, 0.74229053,\n",
       "                                   0.74229053, 0.73922852, 0.72842185, 0.72842185, 0.70563062, 0.70049364,\n",
       "                                   0.70049364, 0.65630085, 0.65630085, 0.60717514, 0.59930844, 0.59930844,\n",
       "                                   0.58149074, 0.58149074, 0.57295395, 0.54556559, 0.54556559, 0.51604995,\n",
       "                                   0.51604995, 0.50782858, 0.48340314, 0.48340314, 0.45947437, 0.43626257,\n",
       "                                   0.43626257, 0.41219799, 0.41219799, 0.38893473, 0.37416168, 0.37416168,\n",
       "                                   0.35298231, 0.35298231, 0.32475131, 0.31470782, 0.31470782, 0.30554865,\n",
       "                                   0.30554865, 0.28033231, 0.26079923, 0.26079923, 0.22826411, 0.22826411,\n",
       "                                   0.20863282, 0.18557742, 0.18557742, 0.16994637, 0.14831489, 0.14831489,\n",
       "                                   0.12560252, 0.12560252, 0.10075929, 0.08466304, 0.08466304, 0.06046533,\n",
       "                                   0.06046533, 0.05287145, 0.05194135, 0.05194135, 0.0489673 , 0.0489673 ,\n",
       "                                   0.04278547, 0.02696126, 0.02696126, 0.        , 0.        , 0.        ,\n",
       "                                   0.        , 0.        , 0.        , 0.        , 0.        , 0.        ,\n",
       "                                   0.        , 0.        , 0.        , 0.        , 0.        , 0.        ,\n",
       "                                   0.        , 0.        , 0.        , 0.        , 0.        ]),\n",
       "              'hovertemplate': ('<b>class: %{text}</b><br>recal' ... 'customdata:.3f}<extra></extra>'),\n",
       "              'line': {'color': '#FF9900'},\n",
       "              'mode': 'lines',\n",
       "              'name': 'car (AP = 0.324)',\n",
       "              'text': array(['car', 'car', 'car', 'car', 'car', 'car', 'car', 'car', 'car', 'car',\n",
       "                             'car', 'car', 'car', 'car', 'car', 'car', 'car', 'car', 'car', 'car',\n",
       "                             'car', 'car', 'car', 'car', 'car', 'car', 'car', 'car', 'car', 'car',\n",
       "                             'car', 'car', 'car', 'car', 'car', 'car', 'car', 'car', 'car', 'car',\n",
       "                             'car', 'car', 'car', 'car', 'car', 'car', 'car', 'car', 'car', 'car',\n",
       "                             'car', 'car', 'car', 'car', 'car', 'car', 'car', 'car', 'car', 'car',\n",
       "                             'car', 'car', 'car', 'car', 'car', 'car', 'car', 'car', 'car', 'car',\n",
       "                             'car', 'car', 'car', 'car', 'car', 'car', 'car', 'car', 'car', 'car',\n",
       "                             'car', 'car', 'car', 'car', 'car', 'car', 'car', 'car', 'car', 'car',\n",
       "                             'car', 'car', 'car', 'car', 'car', 'car', 'car', 'car', 'car', 'car',\n",
       "                             'car'], dtype='<U3'),\n",
       "              'type': 'scatter',\n",
       "              'uid': 'fef4b3af-9ad2-4c6a-b559-aa8e7dae3e5c',\n",
       "              'x': array([0.  , 0.01, 0.02, 0.03, 0.04, 0.05, 0.06, 0.07, 0.08, 0.09, 0.1 , 0.11,\n",
       "                          0.12, 0.13, 0.14, 0.15, 0.16, 0.17, 0.18, 0.19, 0.2 , 0.21, 0.22, 0.23,\n",
       "                          0.24, 0.25, 0.26, 0.27, 0.28, 0.29, 0.3 , 0.31, 0.32, 0.33, 0.34, 0.35,\n",
       "                          0.36, 0.37, 0.38, 0.39, 0.4 , 0.41, 0.42, 0.43, 0.44, 0.45, 0.46, 0.47,\n",
       "                          0.48, 0.49, 0.5 , 0.51, 0.52, 0.53, 0.54, 0.55, 0.56, 0.57, 0.58, 0.59,\n",
       "                          0.6 , 0.61, 0.62, 0.63, 0.64, 0.65, 0.66, 0.67, 0.68, 0.69, 0.7 , 0.71,\n",
       "                          0.72, 0.73, 0.74, 0.75, 0.76, 0.77, 0.78, 0.79, 0.8 , 0.81, 0.82, 0.83,\n",
       "                          0.84, 0.85, 0.86, 0.87, 0.88, 0.89, 0.9 , 0.91, 0.92, 0.93, 0.94, 0.95,\n",
       "                          0.96, 0.97, 0.98, 0.99, 1.  ]),\n",
       "              'y': array([0.74770833, 0.74770833, 0.74666667, 0.74666667, 0.74666667, 0.74666667,\n",
       "                          0.74666667, 0.74142857, 0.74142857, 0.66642857, 0.65989362, 0.65989362,\n",
       "                          0.64833333, 0.64833333, 0.62804598, 0.62804598, 0.62804598, 0.61927405,\n",
       "                          0.61927405, 0.61355322, 0.608867  , 0.608867  , 0.54392652, 0.54392652,\n",
       "                          0.54392652, 0.51246377, 0.51246377, 0.48178571, 0.48178571, 0.48178571,\n",
       "                          0.47222689, 0.47222689, 0.47131274, 0.45845238, 0.45845238, 0.43891369,\n",
       "                          0.43891369, 0.43405962, 0.41705252, 0.41705252, 0.39889133, 0.38564205,\n",
       "                          0.38564205, 0.37281795, 0.37281795, 0.35302202, 0.34513993, 0.34513993,\n",
       "                          0.33347949, 0.33347949, 0.31578347, 0.30951665, 0.30951665, 0.30579151,\n",
       "                          0.30579151, 0.27811293, 0.26281423, 0.26281423, 0.2371805 , 0.2371805 ,\n",
       "                          0.22107985, 0.19275064, 0.19275064, 0.18712544, 0.17405633, 0.17405633,\n",
       "                          0.16027273, 0.16027273, 0.14203367, 0.13062145, 0.13062145, 0.09780902,\n",
       "                          0.09780902, 0.09459459, 0.09459459, 0.09459459, 0.09326035, 0.09326035,\n",
       "                          0.08933092, 0.05833333, 0.05833333, 0.        , 0.        , 0.        ,\n",
       "                          0.        , 0.        , 0.        , 0.        , 0.        , 0.        ,\n",
       "                          0.        , 0.        , 0.        , 0.        , 0.        , 0.        ,\n",
       "                          0.        , 0.        , 0.        , 0.        , 0.        ])}],\n",
       "    'layout': {'margin': {'b': 0, 'l': 0, 'r': 0, 't': 30},\n",
       "               'shapes': [{'line': {'dash': 'dash'}, 'type': 'line', 'x0': 0, 'x1': 1, 'y0': 1, 'y1': 0}],\n",
       "               'template': '...',\n",
       "               'xaxis': {'constrain': 'domain', 'range': [0, 1], 'title': {'text': 'Recall'}},\n",
       "               'yaxis': {'constrain': 'domain',\n",
       "                         'range': [0, 1],\n",
       "                         'scaleanchor': 'x',\n",
       "                         'scaleratio': 1,\n",
       "                         'title': {'text': 'Precision'}}}\n",
       "})"
      ]
     },
     "metadata": {},
     "output_type": "display_data"
    }
   ],
   "source": [
    "plot = results.plot_pr_curves(classes=[\"person\", \"kite\", \"car\"])\n",
    "plot.show()"
   ]
  },
  {
   "cell_type": "code",
   "execution_count": 60,
   "id": "4e92fe95-9227-404a-a784-57a653e4ba43",
   "metadata": {},
   "outputs": [
    {
     "data": {
      "text/plain": []
     },
     "metadata": {},
     "output_type": "display_data"
    },
    {
     "data": {
      "text/plain": []
     },
     "metadata": {},
     "output_type": "display_data"
    },
    {
     "data": {
      "application/vnd.jupyter.widget-view+json": {
       "model_id": "680b674207244b81b5fac5353158836f",
       "version_major": 2,
       "version_minor": 0
      },
      "text/plain": [
       "FigureWidget({\n",
       "    'data': [{'mode': 'markers',\n",
       "              'opacity': 0.1,\n",
       "              'type': 'scatter',\n",
       "              'uid': '1d241b23-19b5-46bf-8495-21a52153ee5f',\n",
       "              'x': array([ 0,  1,  2,  3,  4,  5,  6,  7,  8,  9, 10,  0,  1,  2,  3,  4,  5,  6,\n",
       "                           7,  8,  9, 10,  0,  1,  2,  3,  4,  5,  6,  7,  8,  9, 10,  0,  1,  2,\n",
       "                           3,  4,  5,  6,  7,  8,  9, 10,  0,  1,  2,  3,  4,  5,  6,  7,  8,  9,\n",
       "                          10,  0,  1,  2,  3,  4,  5,  6,  7,  8,  9, 10,  0,  1,  2,  3,  4,  5,\n",
       "                           6,  7,  8,  9, 10,  0,  1,  2,  3,  4,  5,  6,  7,  8,  9, 10,  0,  1,\n",
       "                           2,  3,  4,  5,  6,  7,  8,  9, 10,  0,  1,  2,  3,  4,  5,  6,  7,  8,\n",
       "                           9, 10,  0,  1,  2,  3,  4,  5,  6,  7,  8,  9, 10]),\n",
       "              'y': array([ 0,  0,  0,  0,  0,  0,  0,  0,  0,  0,  0,  1,  1,  1,  1,  1,  1,  1,\n",
       "                           1,  1,  1,  1,  2,  2,  2,  2,  2,  2,  2,  2,  2,  2,  2,  3,  3,  3,\n",
       "                           3,  3,  3,  3,  3,  3,  3,  3,  4,  4,  4,  4,  4,  4,  4,  4,  4,  4,\n",
       "                           4,  5,  5,  5,  5,  5,  5,  5,  5,  5,  5,  5,  6,  6,  6,  6,  6,  6,\n",
       "                           6,  6,  6,  6,  6,  7,  7,  7,  7,  7,  7,  7,  7,  7,  7,  7,  8,  8,\n",
       "                           8,  8,  8,  8,  8,  8,  8,  8,  8,  9,  9,  9,  9,  9,  9,  9,  9,  9,\n",
       "                           9,  9, 10, 10, 10, 10, 10, 10, 10, 10, 10, 10, 10])},\n",
       "             {'colorscale': [[0.0, 'rgb(255,245,235)'], [0.125,\n",
       "                             'rgb(254,230,206)'], [0.25, 'rgb(253,208,162)'],\n",
       "                             [0.375, 'rgb(253,174,107)'], [0.5, 'rgb(253,141,60)'],\n",
       "                             [0.625, 'rgb(241,105,19)'], [0.75, 'rgb(217,72,1)'],\n",
       "                             [0.875, 'rgb(166,54,3)'], [1.0, 'rgb(127,39,4)']],\n",
       "              'hoverinfo': 'skip',\n",
       "              'showscale': False,\n",
       "              'type': 'heatmap',\n",
       "              'uid': 'bda59785-49fb-4768-9832-9c79bb77698f',\n",
       "              'z': array([[618,  84, 228,  47, 349, 164, 104,  41,  36, 141,   0],\n",
       "                          [  0,   0,   0,   0,   0,   0,   0,   0,   0,  11,  12],\n",
       "                          [  0,   0,   0,   0,   0,   0,   0,   0,  20,   0,   4],\n",
       "                          [  0,   0,   0,   0,   0,   0,   0,  19,   0,   0,   5],\n",
       "                          [  0,   0,   0,   0,   0,   0,  22,   0,   0,   0,   8],\n",
       "                          [  0,   0,   0,   0,   0,  17,   0,   0,   0,   0,  20],\n",
       "                          [  0,   0,   0,   0,  35,   0,   0,   0,   0,   0,  12],\n",
       "                          [  0,   0,   0,  86,   0,   0,   0,   0,   0,   0,  24],\n",
       "                          [  0,   0,  49,   0,   0,   0,   0,   0,   0,   0,  12],\n",
       "                          [  0, 123,   0,   0,   0,   0,   0,   0,   0,   0,  17],\n",
       "                          [672,   0,   0,   0,   0,   0,   0,   0,   0,   0,  44]]),\n",
       "              'zmax': 672,\n",
       "              'zmin': 0},\n",
       "             {'colorbar': {'len': 1, 'lenmode': 'fraction'},\n",
       "              'colorscale': [[0.0, 'rgb(255,245,235)'], [0.125,\n",
       "                             'rgb(254,230,206)'], [0.25, 'rgb(253,208,162)'],\n",
       "                             [0.375, 'rgb(253,174,107)'], [0.5, 'rgb(253,141,60)'],\n",
       "                             [0.625, 'rgb(241,105,19)'], [0.75, 'rgb(217,72,1)'],\n",
       "                             [0.875, 'rgb(166,54,3)'], [1.0, 'rgb(127,39,4)']],\n",
       "              'hovertemplate': '<b>count: %{z}</b><br>truth: %{y}<br>predicted: %{x}<extra></extra>',\n",
       "              'opacity': 0.25,\n",
       "              'type': 'heatmap',\n",
       "              'uid': '7b64b421-3235-4854-8c3e-9b63726e6895',\n",
       "              'z': array([[618,  84, 228,  47, 349, 164, 104,  41,  36, 141,   0],\n",
       "                          [  0,   0,   0,   0,   0,   0,   0,   0,   0,  11,  12],\n",
       "                          [  0,   0,   0,   0,   0,   0,   0,   0,  20,   0,   4],\n",
       "                          [  0,   0,   0,   0,   0,   0,   0,  19,   0,   0,   5],\n",
       "                          [  0,   0,   0,   0,   0,   0,  22,   0,   0,   0,   8],\n",
       "                          [  0,   0,   0,   0,   0,  17,   0,   0,   0,   0,  20],\n",
       "                          [  0,   0,   0,   0,  35,   0,   0,   0,   0,   0,  12],\n",
       "                          [  0,   0,   0,  86,   0,   0,   0,   0,   0,   0,  24],\n",
       "                          [  0,   0,  49,   0,   0,   0,   0,   0,   0,   0,  12],\n",
       "                          [  0, 123,   0,   0,   0,   0,   0,   0,   0,   0,  17],\n",
       "                          [672,   0,   0,   0,   0,   0,   0,   0,   0,   0,  44]]),\n",
       "              'zmax': 672,\n",
       "              'zmin': 0}],\n",
       "    'layout': {'clickmode': 'event',\n",
       "               'margin': {'b': 0, 'l': 0, 'r': 0, 't': 30},\n",
       "               'template': '...',\n",
       "               'title': {},\n",
       "               'xaxis': {'constrain': 'domain',\n",
       "                         'range': [-0.5, 10.5],\n",
       "                         'tickmode': 'array',\n",
       "                         'ticktext': [person, kite, car, bird, carrot, boat,\n",
       "                                      surfboard, traffic light, airplane, chair,\n",
       "                                      (none)],\n",
       "                         'tickvals': array([ 0,  1,  2,  3,  4,  5,  6,  7,  8,  9, 10])},\n",
       "               'yaxis': {'constrain': 'domain',\n",
       "                         'range': [-0.5, 10.5],\n",
       "                         'scaleanchor': 'x',\n",
       "                         'scaleratio': 1,\n",
       "                         'tickmode': 'array',\n",
       "                         'ticktext': array(['(none)', 'chair', 'airplane', 'traffic light', 'surfboard', 'boat',\n",
       "                                            'carrot', 'bird', 'car', 'kite', 'person'], dtype=object),\n",
       "                         'tickvals': array([ 0,  1,  2,  3,  4,  5,  6,  7,  8,  9, 10])}}\n",
       "})"
      ]
     },
     "metadata": {},
     "output_type": "display_data"
    }
   ],
   "source": [
    "plot1 = results.plot_confusion_matrix(classes=classes)\n",
    "plot1.show()"
   ]
  },
  {
   "cell_type": "markdown",
   "id": "6d1966e9-bf71-4564-9bf1-eb924c08173a",
   "metadata": {},
   "source": [
    "Can be used to convert annotations from type to type "
   ]
  },
  {
   "cell_type": "code",
   "execution_count": 66,
   "id": "78bb76f0-e7fe-410a-a047-1886f73d56a4",
   "metadata": {},
   "outputs": [
    {
     "name": "stdout",
     "output_type": "stream",
     "text": [
      "Found multiple fields ['ground_truth', 'predictions'] with compatible type (<class 'fiftyone.core.labels.Detections'>, <class 'fiftyone.core.labels.Polylines'>, <class 'fiftyone.core.labels.Keypoints'>); exporting 'ground_truth'\n",
      " 100% |█████████████████| 200/200 [1.7s elapsed, 0s remaining, 110.3 samples/s]         \n"
     ]
    }
   ],
   "source": [
    "export_dir = \"~/temp/fiftyone-dataset\"\n",
    "\n",
    "# The dataset or view to export\n",
    "dataset_or_view = dataset\n",
    "\n",
    "# Export the dataset without copying the media files\n",
    "dataset_or_view.export(\n",
    "    export_dir=export_dir,\n",
    "    dataset_type=fo.types.COCODetectionDataset,\n",
    "    export_media=False,\n",
    ")"
   ]
  },
  {
   "cell_type": "markdown",
   "id": "7995a191-ba70-4b0e-bef8-355034f7b560",
   "metadata": {},
   "source": [
    "See https://docs.voxel51.com/tutorials/detection_mistakes.html"
   ]
  },
  {
   "cell_type": "code",
   "execution_count": 67,
   "id": "62ac9f4b-d374-425d-96a9-b2e9d4039d07",
   "metadata": {},
   "outputs": [
    {
     "name": "stdout",
     "output_type": "stream",
     "text": [
      "Evaluating detections...\n",
      " 100% |█████████████████| 200/200 [17.0s elapsed, 0s remaining, 8.1 samples/s]       \n",
      "Computing mistakenness...\n",
      " 100% |█████████████████| 200/200 [3.9s elapsed, 0s remaining, 38.4 samples/s]      \n",
      "Mistakenness computation complete\n"
     ]
    }
   ],
   "source": [
    "# Compute mistakenness of annotations in `ground_truth` field using\n",
    "# predictions from `predictions` field as point of reference\n",
    "fob.compute_mistakenness(dataset, \"predictions\", label_field=\"ground_truth\")"
   ]
  },
  {
   "cell_type": "code",
   "execution_count": 71,
   "id": "897bcc7f-bd53-46c0-be7c-fdde241c5039",
   "metadata": {},
   "outputs": [
    {
     "data": {
      "text/plain": [
       "<Sample: {\n",
       "    'id': '6565a8f33cb18decd840b3ef',\n",
       "    'media_type': 'image',\n",
       "    'filepath': '/home/borisef/fiftyone/quickstart/data/000880.jpg',\n",
       "    'tags': ['validation'],\n",
       "    'metadata': <ImageMetadata: {\n",
       "        'size_bytes': 225193,\n",
       "        'mime_type': 'image/jpeg',\n",
       "        'width': 640,\n",
       "        'height': 480,\n",
       "        'num_channels': 3,\n",
       "        'range2target': 700,\n",
       "    }>,\n",
       "    'ground_truth': <Detections: {\n",
       "        'detections': [\n",
       "            <Detection: {\n",
       "                'id': '5f452471ef00e6374aac53c8',\n",
       "                'attributes': {},\n",
       "                'tags': [],\n",
       "                'label': 'bird',\n",
       "                'bounding_box': [0.21084375, 0.0034375, 0.46190625, 0.9442083333333334],\n",
       "                'mask': None,\n",
       "                'confidence': None,\n",
       "                'index': None,\n",
       "                'area': 73790.37944999996,\n",
       "                'iscrowd': 0.0,\n",
       "                'bb_max_side': 0.9442083333333334,\n",
       "                'bb_max_side_pixel': 604.2933333333334,\n",
       "                'eval': 'tp',\n",
       "                'eval_id': '5f452c60ef00e6374aad9394',\n",
       "                'eval_iou': 0.8575063187115628,\n",
       "                'mistakenness': 0.01245725154876709,\n",
       "                'mistakenness_loc': 0.2903442955979618,\n",
       "            }>,\n",
       "            <Detection: {\n",
       "                'id': '5f452471ef00e6374aac53c9',\n",
       "                'attributes': {},\n",
       "                'tags': [],\n",
       "                'label': 'bird',\n",
       "                'bounding_box': [0.74946875, 0.489375, 0.2164375, 0.23183333333333334],\n",
       "                'mask': None,\n",
       "                'confidence': None,\n",
       "                'index': None,\n",
       "                'area': 3935.7593000000006,\n",
       "                'iscrowd': 0.0,\n",
       "                'bb_max_side': 0.23183333333333334,\n",
       "                'bb_max_side_pixel': 148.37333333333333,\n",
       "                'eval': 'fn',\n",
       "                'eval_id': '',\n",
       "                'possible_spurious': True,\n",
       "            }>,\n",
       "            <Detection: {\n",
       "                'id': '5f452471ef00e6374aac53ca',\n",
       "                'attributes': {},\n",
       "                'tags': [],\n",
       "                'label': 'bird',\n",
       "                'bounding_box': [\n",
       "                    0.044234375,\n",
       "                    0.5282083333333333,\n",
       "                    0.151390625,\n",
       "                    0.14145833333333335,\n",
       "                ],\n",
       "                'mask': None,\n",
       "                'confidence': None,\n",
       "                'index': None,\n",
       "                'area': 4827.32605,\n",
       "                'iscrowd': 0.0,\n",
       "                'bb_max_side': 0.151390625,\n",
       "                'bb_max_side_pixel': 90.53333333333335,\n",
       "                'eval': 'tp',\n",
       "                'eval_id': '5f452c60ef00e6374aad9396',\n",
       "                'eval_iou': 0.5616570254202724,\n",
       "                'mistakenness': 0.17154088616371155,\n",
       "                'mistakenness_loc': 0.7474518661109917,\n",
       "            }>,\n",
       "        ],\n",
       "    }>,\n",
       "    'uniqueness': 0.8175834390151201,\n",
       "    'predictions': <Detections: {\n",
       "        'detections': [\n",
       "            <Detection: {\n",
       "                'id': '5f452c60ef00e6374aad9394',\n",
       "                'attributes': {},\n",
       "                'tags': [],\n",
       "                'label': 'bird',\n",
       "                'bounding_box': [\n",
       "                    0.22192673683166503,\n",
       "                    0.06093006531397502,\n",
       "                    0.4808845520019531,\n",
       "                    0.8937615712483724,\n",
       "                ],\n",
       "                'mask': None,\n",
       "                'confidence': 0.9750854969024658,\n",
       "                'index': None,\n",
       "                'eval': 'tp',\n",
       "                'eval_id': '5f452471ef00e6374aac53c8',\n",
       "                'eval_iou': 0.8575063187115628,\n",
       "            }>,\n",
       "            <Detection: {\n",
       "                'id': '5f452c60ef00e6374aad9395',\n",
       "                'attributes': {},\n",
       "                'tags': [],\n",
       "                'label': 'bird',\n",
       "                'bounding_box': [\n",
       "                    0.3962469816207886,\n",
       "                    0.006943931678930918,\n",
       "                    0.27418792247772217,\n",
       "                    0.46793556213378906,\n",
       "                ],\n",
       "                'mask': None,\n",
       "                'confidence': 0.759726881980896,\n",
       "                'index': None,\n",
       "                'eval': 'fp',\n",
       "                'eval_id': '',\n",
       "            }>,\n",
       "            <Detection: {\n",
       "                'id': '5f452c60ef00e6374aad9396',\n",
       "                'attributes': {},\n",
       "                'tags': [],\n",
       "                'label': 'bird',\n",
       "                'bounding_box': [\n",
       "                    0.02506386339664459,\n",
       "                    0.548487663269043,\n",
       "                    0.16438478231430054,\n",
       "                    0.16736234029134114,\n",
       "                ],\n",
       "                'mask': None,\n",
       "                'confidence': 0.6569182276725769,\n",
       "                'index': None,\n",
       "                'eval': 'tp',\n",
       "                'eval_id': '5f452471ef00e6374aac53ca',\n",
       "                'eval_iou': 0.5616570254202724,\n",
       "            }>,\n",
       "            <Detection: {\n",
       "                'id': '5f452c60ef00e6374aad9397',\n",
       "                'attributes': {},\n",
       "                'tags': [],\n",
       "                'label': 'bird',\n",
       "                'bounding_box': [\n",
       "                    0.4889101028442383,\n",
       "                    0.009576511383056641,\n",
       "                    0.13802199363708495,\n",
       "                    0.2093157132466634,\n",
       "                ],\n",
       "                'mask': None,\n",
       "                'confidence': 0.2359301745891571,\n",
       "                'index': None,\n",
       "                'eval': 'fp',\n",
       "                'eval_id': '',\n",
       "            }>,\n",
       "            <Detection: {\n",
       "                'id': '5f452c60ef00e6374aad9398',\n",
       "                'attributes': {},\n",
       "                'tags': [],\n",
       "                'label': 'elephant',\n",
       "                'bounding_box': [\n",
       "                    0.015171945095062256,\n",
       "                    0.555288823445638,\n",
       "                    0.1813342332839966,\n",
       "                    0.15938574473063152,\n",
       "                ],\n",
       "                'mask': None,\n",
       "                'confidence': 0.221974179148674,\n",
       "                'index': None,\n",
       "                'eval': 'fp',\n",
       "                'eval_id': '',\n",
       "            }>,\n",
       "            <Detection: {\n",
       "                'id': '5f452c60ef00e6374aad9399',\n",
       "                'attributes': {},\n",
       "                'tags': [],\n",
       "                'label': 'bear',\n",
       "                'bounding_box': [\n",
       "                    0.017808181047439576,\n",
       "                    0.5488224665323893,\n",
       "                    0.17450940608978271,\n",
       "                    0.16891117095947267,\n",
       "                ],\n",
       "                'mask': None,\n",
       "                'confidence': 0.1965726613998413,\n",
       "                'index': None,\n",
       "                'eval': 'fp',\n",
       "                'eval_id': '',\n",
       "            }>,\n",
       "            <Detection: {\n",
       "                'id': '5f452c60ef00e6374aad939a',\n",
       "                'attributes': {},\n",
       "                'tags': [],\n",
       "                'label': 'elephant',\n",
       "                'bounding_box': [\n",
       "                    0.16558188199996948,\n",
       "                    0.5723957061767578,\n",
       "                    0.09993256330490112,\n",
       "                    0.10098978678385416,\n",
       "                ],\n",
       "                'mask': None,\n",
       "                'confidence': 0.18904592096805573,\n",
       "                'index': None,\n",
       "                'eval': 'fp',\n",
       "                'eval_id': '',\n",
       "            }>,\n",
       "            <Detection: {\n",
       "                'id': '5f452c60ef00e6374aad939b',\n",
       "                'attributes': {},\n",
       "                'tags': [],\n",
       "                'label': 'sheep',\n",
       "                'bounding_box': [\n",
       "                    0.213010573387146,\n",
       "                    0.05354320605595907,\n",
       "                    0.5153374671936035,\n",
       "                    0.8933518091837566,\n",
       "                ],\n",
       "                'mask': None,\n",
       "                'confidence': 0.11480894684791565,\n",
       "                'index': None,\n",
       "                'eval': 'fp',\n",
       "                'eval_id': '',\n",
       "            }>,\n",
       "            <Detection: {\n",
       "                'id': '5f452c60ef00e6374aad939c',\n",
       "                'attributes': {},\n",
       "                'tags': [],\n",
       "                'label': 'bird',\n",
       "                'bounding_box': [\n",
       "                    0.29751906394958494,\n",
       "                    0.010790024201075237,\n",
       "                    0.3315577507019043,\n",
       "                    0.34026527404785156,\n",
       "                ],\n",
       "                'mask': None,\n",
       "                'confidence': 0.11089690029621124,\n",
       "                'index': None,\n",
       "                'eval': 'fp',\n",
       "                'eval_id': '',\n",
       "            }>,\n",
       "            <Detection: {\n",
       "                'id': '5f452c60ef00e6374aad939d',\n",
       "                'attributes': {},\n",
       "                'tags': [],\n",
       "                'label': 'elephant',\n",
       "                'bounding_box': [\n",
       "                    0.08351035118103027,\n",
       "                    0.5574632008870443,\n",
       "                    0.18209288120269776,\n",
       "                    0.1426785151163737,\n",
       "                ],\n",
       "                'mask': None,\n",
       "                'confidence': 0.0971052274107933,\n",
       "                'index': None,\n",
       "                'eval': 'fp',\n",
       "                'eval_id': '',\n",
       "            }>,\n",
       "            <Detection: {\n",
       "                'id': '5f452c60ef00e6374aad939e',\n",
       "                'attributes': {},\n",
       "                'tags': [],\n",
       "                'label': 'bird',\n",
       "                'bounding_box': [\n",
       "                    0.4461814880371094,\n",
       "                    0.0007838249827424685,\n",
       "                    0.209574556350708,\n",
       "                    0.309667714436849,\n",
       "                ],\n",
       "                'mask': None,\n",
       "                'confidence': 0.08403241634368896,\n",
       "                'index': None,\n",
       "                'eval': 'fp',\n",
       "                'eval_id': '',\n",
       "            }>,\n",
       "            <Detection: {\n",
       "                'id': '5f452c60ef00e6374aad939f',\n",
       "                'attributes': {},\n",
       "                'tags': [],\n",
       "                'label': 'bird',\n",
       "                'bounding_box': [\n",
       "                    0.5395165920257569,\n",
       "                    0.034476550420125325,\n",
       "                    0.07703280448913574,\n",
       "                    0.16296254793802897,\n",
       "                ],\n",
       "                'mask': None,\n",
       "                'confidence': 0.07699568569660187,\n",
       "                'index': None,\n",
       "                'eval': 'fp',\n",
       "                'eval_id': '',\n",
       "            }>,\n",
       "            <Detection: {\n",
       "                'id': '5f452c60ef00e6374aad93a0',\n",
       "                'attributes': {},\n",
       "                'tags': [],\n",
       "                'label': 'bear',\n",
       "                'bounding_box': [\n",
       "                    0.217216157913208,\n",
       "                    0.05954849322636922,\n",
       "                    0.49451656341552735,\n",
       "                    0.8721434275309244,\n",
       "                ],\n",
       "                'mask': None,\n",
       "                'confidence': 0.058097004890441895,\n",
       "                'index': None,\n",
       "                'eval': 'fp',\n",
       "                'eval_id': '',\n",
       "            }>,\n",
       "            <Detection: {\n",
       "                'id': '5f452c60ef00e6374aad93a1',\n",
       "                'attributes': {},\n",
       "                'tags': [],\n",
       "                'label': 'sheep',\n",
       "                'bounding_box': [\n",
       "                    0.018094074726104737,\n",
       "                    0.5562847137451172,\n",
       "                    0.17362892627716064,\n",
       "                    0.15742950439453124,\n",
       "                ],\n",
       "                'mask': None,\n",
       "                'confidence': 0.0519101656973362,\n",
       "                'index': None,\n",
       "                'eval': 'fp',\n",
       "                'eval_id': '',\n",
       "            }>,\n",
       "        ],\n",
       "    }>,\n",
       "    'my_uniqueness': 0.48707140297217894,\n",
       "    'eval_tp': 2,\n",
       "    'eval_fp': 12,\n",
       "    'eval_fn': 1,\n",
       "    'mistakenness': 0.17154088616371155,\n",
       "    'possible_missing': 0,\n",
       "    'possible_spurious': 1,\n",
       "}>"
      ]
     },
     "execution_count": 71,
     "metadata": {},
     "output_type": "execute_result"
    }
   ],
   "source": [
    "#see new attributes \n",
    "dataset.first()"
   ]
  },
  {
   "cell_type": "code",
   "execution_count": 73,
   "id": "774e084c-aa60-4815-8257-10831e12bf53",
   "metadata": {},
   "outputs": [
    {
     "name": "stdout",
     "output_type": "stream",
     "text": [
      "Dataset:     quickstart\n",
      "Media type:  image\n",
      "Num samples: 200\n",
      "Sample fields:\n",
      "    id:                fiftyone.core.fields.ObjectIdField\n",
      "    filepath:          fiftyone.core.fields.StringField\n",
      "    tags:              fiftyone.core.fields.ListField(fiftyone.core.fields.StringField)\n",
      "    metadata:          fiftyone.core.fields.EmbeddedDocumentField(fiftyone.core.metadata.ImageMetadata)\n",
      "    ground_truth:      fiftyone.core.fields.EmbeddedDocumentField(fiftyone.core.labels.Detections)\n",
      "    uniqueness:        fiftyone.core.fields.FloatField\n",
      "    predictions:       fiftyone.core.fields.EmbeddedDocumentField(fiftyone.core.labels.Detections)\n",
      "    my_uniqueness:     fiftyone.core.fields.FloatField\n",
      "    eval_tp:           fiftyone.core.fields.IntField\n",
      "    eval_fp:           fiftyone.core.fields.IntField\n",
      "    eval_fn:           fiftyone.core.fields.IntField\n",
      "    mistakenness:      fiftyone.core.fields.FloatField\n",
      "    possible_missing:  fiftyone.core.fields.IntField\n",
      "    possible_spurious: fiftyone.core.fields.IntField\n",
      "View stages:\n",
      "    1. SortBy(field_or_expr='mistakenness', reverse=True, create_index=True)\n"
     ]
    }
   ],
   "source": [
    "# Sort by likelihood of mistake (most likely first)\n",
    "mistake_view = dataset.sort_by(\"mistakenness\", reverse=True)\n",
    "\n",
    "# Print some information about the view\n",
    "print(mistake_view)\n",
    "\n"
   ]
  },
  {
   "cell_type": "code",
   "execution_count": 108,
   "id": "949f032a-9936-4d80-9014-c856f161c8c2",
   "metadata": {},
   "outputs": [
    {
     "data": {
      "text/html": [
       "\n",
       "<style>\n",
       "@import url(\"https://fonts.googleapis.com/css2?family=Palanquin&display=swap\");\n",
       "\n",
       "body, html {\n",
       "  margin: 0;\n",
       "  padding: 0;\n",
       "  width: 100%;\n",
       "}\n",
       "\n",
       "#focontainer-af562160-4add-4180-a28c-c25be6fd21bd {\n",
       "  position: relative;\n",
       "  height: 800px;\n",
       "  display: block !important;\n",
       "}\n",
       "#foactivate-af562160-4add-4180-a28c-c25be6fd21bd {\n",
       "  font-weight: bold;\n",
       "  cursor: pointer;\n",
       "  font-size: 24px;\n",
       "  border-radius: 3px;\n",
       "  text-align: center;\n",
       "  padding: 0.5em;\n",
       "  color: rgb(255, 255, 255);\n",
       "  font-family: \"Palanquin\", sans-serif;\n",
       "  position: absolute;\n",
       "  left: 50%;\n",
       "  top: 50%;\n",
       "  width: 160px;\n",
       "  margin-left: -80px;\n",
       "  margin-top: -23px;\n",
       "  background: hsla(210,11%,15%, 0.8);\n",
       "  border: none;\n",
       "}\n",
       "#foactivate-af562160-4add-4180-a28c-c25be6fd21bd:focus {\n",
       "  outline: none;\n",
       "}\n",
       "#fooverlay-af562160-4add-4180-a28c-c25be6fd21bd {\n",
       "  width: 100%;\n",
       "  height: 100%;\n",
       "  background: hsla(208, 7%, 46%, 0.7);\n",
       "  position: absolute;\n",
       "  top: 0;\n",
       "  left: 0;\n",
       "  display: none;\n",
       "  cursor: pointer;\n",
       "}\n",
       "</style>\n",
       "\n",
       "<div id=\"focontainer-af562160-4add-4180-a28c-c25be6fd21bd\">\n",
       "   <div id=\"fooverlay-af562160-4add-4180-a28c-c25be6fd21bd\" style=\"display: none;\">\n",
       "      <button id=\"foactivate-af562160-4add-4180-a28c-c25be6fd21bd\" >Activate</button>\n",
       "   </div>\n",
       "   <img src='data:image/jpeg;base64,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' style=\"width: 100%; max-width: 1193px;\"/>\n",
       "</div>\n",
       "\n",
       "<script type=\"text/javascript\">\n",
       "   (function() {\n",
       "     var container = document.getElementById(\"focontainer-af562160-4add-4180-a28c-c25be6fd21bd\");\n",
       "     var overlay = document.getElementById(\"fooverlay-af562160-4add-4180-a28c-c25be6fd21bd\");\n",
       "     fetch(`http://localhost:5151/fiftyone`)\n",
       "     .then(() => {\n",
       "        overlay.addEventListener(\"click\", () => {\n",
       "          fetch(`http://localhost:5151/event`, {\n",
       "            method: \"POST\",\n",
       "            body: JSON.stringify({\n",
       "              event: \"reactivate_notebook_cell\",\n",
       "              data: { subscription: \"af562160-4add-4180-a28c-c25be6fd21bd\" },\n",
       "              subscription: \"af562160-4add-4180-a28c-c25be6fd21bd\"\n",
       "            })\n",
       "          })\n",
       "        });\n",
       "        container.addEventListener(\"mouseenter\", () => overlay.style.display = \"block\");\n",
       "        container.addEventListener(\"mouseleave\", () => overlay.style.display = \"none\");\n",
       "     });\n",
       "   })();\n",
       "</script>"
      ],
      "text/plain": [
       "<IPython.core.display.HTML object>"
      ]
     },
     "metadata": {},
     "output_type": "display_data"
    }
   ],
   "source": [
    "# Show the samples we processed in rank order by the mistakenness\n",
    "session1.view = mistake_view\n",
    "session1.show()"
   ]
  },
  {
   "cell_type": "code",
   "execution_count": 78,
   "id": "49d036f2-d17c-4e2c-8e28-6ca6aac43a6a",
   "metadata": {},
   "outputs": [],
   "source": [
    "from fiftyone import ViewField as F\n",
    "\n",
    "session1.view = dataset.filter_labels(\"ground_truth\", F(\"mistakenness\") > 0.95)"
   ]
  },
  {
   "cell_type": "markdown",
   "id": "564fc033-3d95-4dd8-84f2-d197137c16ae",
   "metadata": {},
   "source": [
    "Aggregations, see https://docs.voxel51.com/user_guide/using_aggregations.html"
   ]
  },
  {
   "cell_type": "code",
   "execution_count": 80,
   "id": "e7befe59-e72e-46fb-924d-beb200c0b6ad",
   "metadata": {},
   "outputs": [
    {
     "name": "stdout",
     "output_type": "stream",
     "text": [
      "['bounds', 'count', 'count_values', 'distinct', 'histogram_values', 'mean', 'quantiles', 'schema', 'list_schema', 'std', 'sum', 'values']\n"
     ]
    }
   ],
   "source": [
    "# List available aggregations\n",
    "print(dataset.list_aggregations())"
   ]
  },
  {
   "cell_type": "code",
   "execution_count": 81,
   "id": "5467a69f-afa2-4cf6-9697-76f0d8baf0d5",
   "metadata": {},
   "outputs": [
    {
     "name": "stdout",
     "output_type": "stream",
     "text": [
      "{'scissors': 1, 'bear': 6, 'chair': 23, 'pizza': 9, 'bottle': 10, 'horse': 17, 'fire hydrant': 2, 'hot dog': 5, 'dog': 15, 'fork': 9, 'train': 5, 'toothbrush': 2, 'boat': 37, 'knife': 9, 'cake': 4, 'skateboard': 3, 'refrigerator': 3, 'book': 11, 'orange': 2, 'donut': 13, 'bench': 23, 'giraffe': 23, 'cat': 16, 'backpack': 7, 'bird': 51, 'motorcycle': 19, 'apple': 2, 'sink': 5, 'zebra': 14, 'baseball glove': 4, 'umbrella': 23, 'surfboard': 30, 'traffic light': 24, 'skis': 8, 'teddy bear': 1, 'banana': 3, 'bowl': 15, 'sandwich': 6, 'laptop': 4, 'broccoli': 16, 'sheep': 2, 'couch': 4, 'parking meter': 1, 'dining table': 15, 'cup': 21, 'tie': 6, 'wine glass': 4, 'carrot': 47, 'tennis racket': 2, 'cow': 22, 'snowboard': 2, 'elephant': 17, 'person': 378, 'clock': 4, 'stop sign': 2, 'frisbee': 2, 'truck': 19, 'bed': 1, 'airplane': 24, 'sports ball': 3, 'microwave': 1, 'cell phone': 1, 'handbag': 15, 'spoon': 9, 'oven': 2, 'bus': 1, 'car': 61, 'kite': 75, 'tv': 1, 'suitcase': 9, 'vase': 1}\n"
     ]
    }
   ],
   "source": [
    "counts = dataset.count_values(\"ground_truth.detections.label\")\n",
    "print(counts) "
   ]
  },
  {
   "cell_type": "code",
   "execution_count": 93,
   "id": "fe098fe8-c66a-4e12-8ef8-96ba131eb5ad",
   "metadata": {},
   "outputs": [
    {
     "data": {
      "text/plain": [
       "(0.15001302256126986, 1.0)"
      ]
     },
     "execution_count": 93,
     "metadata": {},
     "output_type": "execute_result"
    }
   ],
   "source": [
    "dataset.bounds(\"uniqueness\")"
   ]
  },
  {
   "cell_type": "code",
   "execution_count": 94,
   "id": "e42148d8-13c5-4fd7-970a-4db3585a0c55",
   "metadata": {},
   "outputs": [
    {
     "data": {
      "text/plain": [
       "['validation']"
      ]
     },
     "execution_count": 94,
     "metadata": {},
     "output_type": "execute_result"
    }
   ],
   "source": [
    "dataset.distinct(\"tags\")"
   ]
  },
  {
   "cell_type": "code",
   "execution_count": 95,
   "id": "e6dd3f8c-8239-41e7-87cf-78300a334d3a",
   "metadata": {},
   "outputs": [
    {
     "data": {
      "text/plain": [
       "['airplane',\n",
       " 'apple',\n",
       " 'backpack',\n",
       " 'banana',\n",
       " 'baseball glove',\n",
       " 'bear',\n",
       " 'bed',\n",
       " 'bench',\n",
       " 'bicycle',\n",
       " 'bird',\n",
       " 'boat',\n",
       " 'book',\n",
       " 'bottle',\n",
       " 'bowl',\n",
       " 'broccoli',\n",
       " 'bus',\n",
       " 'cake',\n",
       " 'car',\n",
       " 'carrot',\n",
       " 'cat',\n",
       " 'cell phone',\n",
       " 'chair',\n",
       " 'clock',\n",
       " 'couch',\n",
       " 'cow',\n",
       " 'cup',\n",
       " 'dining table',\n",
       " 'dog',\n",
       " 'donut',\n",
       " 'elephant',\n",
       " 'fire hydrant',\n",
       " 'fork',\n",
       " 'frisbee',\n",
       " 'giraffe',\n",
       " 'hair drier',\n",
       " 'handbag',\n",
       " 'horse',\n",
       " 'hot dog',\n",
       " 'keyboard',\n",
       " 'kite',\n",
       " 'knife',\n",
       " 'laptop',\n",
       " 'microwave',\n",
       " 'motorcycle',\n",
       " 'mouse',\n",
       " 'orange',\n",
       " 'oven',\n",
       " 'parking meter',\n",
       " 'person',\n",
       " 'pizza',\n",
       " 'potted plant',\n",
       " 'refrigerator',\n",
       " 'remote',\n",
       " 'sandwich',\n",
       " 'scissors',\n",
       " 'sheep',\n",
       " 'sink',\n",
       " 'skateboard',\n",
       " 'skis',\n",
       " 'snowboard',\n",
       " 'spoon',\n",
       " 'sports ball',\n",
       " 'stop sign',\n",
       " 'suitcase',\n",
       " 'surfboard',\n",
       " 'teddy bear',\n",
       " 'tennis racket',\n",
       " 'tie',\n",
       " 'toaster',\n",
       " 'toilet',\n",
       " 'toothbrush',\n",
       " 'traffic light',\n",
       " 'train',\n",
       " 'truck',\n",
       " 'tv',\n",
       " 'umbrella',\n",
       " 'vase',\n",
       " 'wine glass',\n",
       " 'zebra']"
      ]
     },
     "execution_count": 95,
     "metadata": {},
     "output_type": "execute_result"
    }
   ],
   "source": [
    "dataset.distinct(\"predictions.detections.label\")"
   ]
  },
  {
   "cell_type": "code",
   "execution_count": 82,
   "id": "09e980c3-6262-44fb-815d-e014a44b6eaa",
   "metadata": {},
   "outputs": [],
   "source": [
    "# Expression that computes the number of predicted objects\n",
    "num_objects = F(\"predictions.detections\").length()"
   ]
  },
  {
   "cell_type": "code",
   "execution_count": 92,
   "id": "de86181f-3496-4a7f-bf91-038a35aadbf9",
   "metadata": {},
   "outputs": [
    {
     "name": "stdout",
     "output_type": "stream",
     "text": [
      "(1, 100)\n"
     ]
    }
   ],
   "source": [
    "# The `(min, max)` number of predictions per sample\n",
    "print(dataset.bounds(num_objects))"
   ]
  },
  {
   "cell_type": "code",
   "execution_count": 99,
   "id": "710d01d4-7086-4e2e-94f5-1d867b4e96f1",
   "metadata": {},
   "outputs": [
    {
     "name": "stdout",
     "output_type": "stream",
     "text": [
      "[0.09230882674455643, 0.2025071531534195, 0.5627268552780151, 0.9435436725616455]\n"
     ]
    }
   ],
   "source": [
    "# Compute quantiles of detection confidence in the `predictions` field\n",
    "quantiles = dataset.quantiles(\n",
    "    \"predictions.detections.confidence\",\n",
    "    [0.25, 0.5, 0.75, 0.9],\n",
    ")\n",
    "print(quantiles)"
   ]
  },
  {
   "cell_type": "markdown",
   "id": "d6374550-982d-44f1-89f3-a38cf31f57ae",
   "metadata": {},
   "source": [
    "<b> Dataset Views, see https://docs.voxel51.com/user_guide/using_views.html"
   ]
  },
  {
   "cell_type": "code",
   "execution_count": 111,
   "id": "3de4a962-65c2-4416-abcd-84c45d46110a",
   "metadata": {},
   "outputs": [
    {
     "name": "stdout",
     "output_type": "stream",
     "text": [
      "200\n",
      "5\n"
     ]
    }
   ],
   "source": [
    "view = dataset.view() # whole dataset\n",
    "print(len(view))\n",
    "\n",
    "# Take 5 random samples from the dataset\n",
    "view1 = dataset.take(5)\n",
    "print(len(view1))"
   ]
  },
  {
   "cell_type": "code",
   "execution_count": 103,
   "id": "060b557f-e866-4e84-a134-2d3851bb9230",
   "metadata": {},
   "outputs": [],
   "source": [
    "# Use view to iterate samples \n",
    "for sample in view:\n",
    "    # Do something with `sample`\n",
    "    pass\n",
    "sample = view.take(1).first()\n",
    "same_sample = view[sample.id]\n",
    "also_same_sample = view[sample.filepath]\n"
   ]
  },
  {
   "cell_type": "code",
   "execution_count": 114,
   "id": "497cbf1b-02bf-4b16-93cb-9f0e725a4aa1",
   "metadata": {},
   "outputs": [],
   "source": [
    "# Filtering \n",
    "# Samples whose image is less than 48 KB\n",
    "small_images_view = dataset.match(F(\"metadata.size_bytes\") < 48 * 1024)\n",
    "\n",
    "# Samples that contain at least one prediction with confidence above 0.99\n",
    "# or whose label ifs \"cat\" or \"dog\"\n",
    "match = (F(\"confidence\") > 0.99) & (F(\"label\").is_in((\"cat\", \"dog\")))\n",
    "matching_view = dataset.match(\n",
    "    F(\"predictions.detections\").filter(match).length() > 0\n",
    ")"
   ]
  },
  {
   "cell_type": "code",
   "execution_count": 125,
   "id": "71255524-b9ec-4a3b-985e-439dd0471152",
   "metadata": {},
   "outputs": [
    {
     "name": "stdout",
     "output_type": "stream",
     "text": [
      "Session launched. Run `session.show()` to open the App in a cell output.\n"
     ]
    },
    {
     "data": {
      "text/html": [
       "\n",
       "        <iframe\n",
       "            width=\"100%\"\n",
       "            height=\"800\"\n",
       "            src=\"http://localhost:5151/?notebook=True&subscription=63322c6a-2fa0-4905-bfbe-d377dde74a5a\"\n",
       "            frameborder=\"0\"\n",
       "            allowfullscreen\n",
       "            \n",
       "        ></iframe>\n",
       "        "
      ],
      "text/plain": [
       "<IPython.lib.display.IFrame at 0x7f46da1f21f0>"
      ]
     },
     "metadata": {},
     "output_type": "display_data"
    }
   ],
   "source": [
    "session2 = fo.launch_app(matching_view, auto=False, desktop=False)\n",
    "session2.show()"
   ]
  },
  {
   "cell_type": "code",
   "execution_count": 110,
   "id": "eb068292-6d62-49c0-991c-90f6f2d42ea7",
   "metadata": {},
   "outputs": [],
   "source": [
    "dataset.persistent = True \n",
    "# Create a view\n",
    "cats_view = (\n",
    "    dataset\n",
    "    .select_fields(\"ground_truth\")\n",
    "    .filter_labels(\"ground_truth\", F(\"label\") == \"cat\")\n",
    "    .sort_by(F(\"ground_truth.detections\").length(), reverse=True)\n",
    ")\n",
    "\n",
    "# Save the view\n",
    "dataset.save_view(\"cats-view\", cats_view)\n",
    "\n",
    "# ..next week..\n",
    "\n",
    "# Retrieve a saved view\n",
    "cats_view = dataset.load_saved_view(\"cats-view\")"
   ]
  },
  {
   "cell_type": "code",
   "execution_count": 109,
   "id": "3e49be07-c601-4b7e-8c48-9f380f1ff262",
   "metadata": {},
   "outputs": [],
   "source": [
    "dataset.delete_saved_view(\"cats-view\")"
   ]
  },
  {
   "cell_type": "code",
   "execution_count": 116,
   "id": "59135a0c-4df9-4314-bb19-c3567e6ef0bd",
   "metadata": {},
   "outputs": [],
   "source": [
    "#add tags via views \n",
    "# Perform a random 90-10 test-train split\n",
    "dataset.persistent = False\n",
    "dataset.take(0.1 * len(dataset)).tag_samples(\"test\")\n",
    "dataset.match_tags(\"test\", bool=False).tag_samples(\"train\")"
   ]
  },
  {
   "cell_type": "markdown",
   "id": "fe31de8e-1cfd-4324-b01f-ed391df4a522",
   "metadata": {},
   "source": [
    "<B> Plugins\n",
    "https://github.com/voxel51/fiftyone-plugins"
   ]
  },
  {
   "cell_type": "code",
   "execution_count": 124,
   "id": "df45caf4-2722-40b5-9bfa-3e77a4b98c57",
   "metadata": {},
   "outputs": [
    {
     "name": "stdout",
     "output_type": "stream",
     "text": [
      "Downloading jacobmarks/zero-shot-prediction-plugin...\n",
      "  115.2Kb [71.3ms elapsed, ? remaining, 1.6Mb/s]   \n",
      "Skipping existing plugin '@jacobmarks/zero_shot_prediction'\n",
      "Downloading jacobmarks/image-quality-issues...\n",
      "  189.3Kb [66.0ms elapsed, ? remaining, 2.8Mb/s]   \n",
      "Skipping existing plugin '@jacobmarks/image_issues'\n",
      "Downloading voxel51/fiftyone-plugins...\n",
      "  329.1Mb [13.6s elapsed, ? remaining, 21.1Mb/s]   \n",
      "Skipping existing plugin '@voxel51/brain'\n",
      "Plugins not found: {'@voxel51/brain'}\n",
      "Downloading allenleetc/model-comparison...\n",
      "   87.1Kb [61.3ms elapsed, ? remaining, 1.4Mb/s]   \n",
      "Skipping existing plugin '@allenleetc/model_comparison'\n",
      "Downloading voxel51/fiftyone-plugins...\n",
      "  329.1Mb [15.4s elapsed, ? remaining, 23.2Mb/s]   \n",
      "Copying plugin '@voxel51/io' to '/home/borisef/fiftyone/__plugins__/@voxel51/io'\n"
     ]
    }
   ],
   "source": [
    "!fiftyone plugins download https://github.com/jacobmarks/zero-shot-prediction-plugin\n",
    "!fiftyone plugins download https://github.com/jacobmarks/image-quality-issues\n",
    "!fiftyone plugins download \\\n",
    "    https://github.com/voxel51/fiftyone-plugins \\\n",
    "    --plugin-names @voxel51/brain\n",
    "!fiftyone plugins download https://github.com/allenleetc/model-comparison\n",
    "!fiftyone plugins download \\\n",
    "    https://github.com/voxel51/fiftyone-plugins \\\n",
    "    --plugin-names @voxel51/io"
   ]
  },
  {
   "cell_type": "code",
   "execution_count": null,
   "id": "42b60d5c-c020-4e63-a560-7919d6089041",
   "metadata": {},
   "outputs": [],
   "source": []
  },
  {
   "cell_type": "code",
   "execution_count": null,
   "id": "afe12c53-3a3f-482b-ae73-a5d4001edd62",
   "metadata": {},
   "outputs": [],
   "source": []
  },
  {
   "cell_type": "code",
   "execution_count": null,
   "id": "86d2771c-b9b6-4724-8362-c0dd24da6b52",
   "metadata": {},
   "outputs": [],
   "source": []
  },
  {
   "cell_type": "markdown",
   "id": "b33b20bf-97d0-4f62-8e17-92f320c9dfda",
   "metadata": {},
   "source": [
    "RUN DETECTION MODEL (see https://docs.voxel51.com/recipes/adding_detections.html)"
   ]
  }
 ],
 "metadata": {
  "kernelspec": {
   "display_name": "Python 3 (ipykernel)",
   "language": "python",
   "name": "python3"
  },
  "language_info": {
   "codemirror_mode": {
    "name": "ipython",
    "version": 3
   },
   "file_extension": ".py",
   "mimetype": "text/x-python",
   "name": "python",
   "nbconvert_exporter": "python",
   "pygments_lexer": "ipython3",
   "version": "3.8.10"
  }
 },
 "nbformat": 4,
 "nbformat_minor": 5
}
