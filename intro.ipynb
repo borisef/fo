{
 "cells": [
  {
   "cell_type": "markdown",
   "id": "7c7393d6-5909-472f-a4a2-671d9c2b5a48",
   "metadata": {},
   "source": [
    "Core Components: "
   ]
  },
  {
   "cell_type": "markdown",
   "id": "0a50d030-d2bf-44b4-a810-1152a7b573ff",
   "metadata": {},
   "source": [
    "* Fiftyone library\n",
    "* Fiftyone App\n",
    "* FiftyOne Brain \n",
    "* Dataset / Model Zoo\n",
    "* Plugins\n"
   ]
  },
  {
   "cell_type": "markdown",
   "id": "45739239-72cf-4eb1-a792-d5daa53f6b23",
   "metadata": {},
   "source": [
    "Data model"
   ]
  },
  {
   "cell_type": "markdown",
   "id": "5c194cbe-d471-4e9c-a423-c5e2ab11d645",
   "metadata": {},
   "source": [
    "* Dataset\n",
    "* Sample\n",
    "* View\n",
    "* ViewStage\n",
    "* Field\n",
    "* Label\n",
    "* Tag\n",
    "* Metadata\n",
    "* Aggregation"
   ]
  },
  {
   "cell_type": "code",
   "execution_count": 1,
   "id": "26449a9b-bfa5-4409-86e0-49e01243eb99",
   "metadata": {},
   "outputs": [],
   "source": [
    "import fiftyone as fo\n",
    "import fiftyone.zoo as foz"
   ]
  },
  {
   "cell_type": "markdown",
   "id": "408230ed-f628-4de7-b57b-eedc1ae130f3",
   "metadata": {},
   "source": [
    "List zoo models and datasets"
   ]
  },
  {
   "cell_type": "code",
   "execution_count": 7,
   "id": "4ff0378a-a504-4ac5-8d59-5c64750bae15",
   "metadata": {},
   "outputs": [
    {
     "name": "stdout",
     "output_type": "stream",
     "text": [
      "['coco-2014', 'coco-2017', 'kitti', 'kitti-multiview', 'open-images-v6', 'open-images-v7', 'sama-coco', 'voc-2007', 'voc-2012']\n"
     ]
    }
   ],
   "source": [
    "list_zoo_datasets_detection = foz.list_zoo_datasets('detection')\n",
    "print(list_zoo_datasets_detection)"
   ]
  },
  {
   "cell_type": "code",
   "execution_count": 8,
   "id": "2f34e7ad-c055-4105-a771-92a027ea3174",
   "metadata": {
    "scrolled": true
   },
   "outputs": [
    {
     "data": {
      "text/plain": [
       "['centernet-hg104-1024-coco-tf2',\n",
       " 'centernet-hg104-512-coco-tf2',\n",
       " 'centernet-mobilenet-v2-fpn-512-coco-tf2',\n",
       " 'centernet-resnet101-v1-fpn-512-coco-tf2',\n",
       " 'centernet-resnet50-v1-fpn-512-coco-tf2',\n",
       " 'centernet-resnet50-v2-512-coco-tf2',\n",
       " 'efficientdet-d0-512-coco-tf2',\n",
       " 'efficientdet-d0-coco-tf1',\n",
       " 'efficientdet-d1-640-coco-tf2',\n",
       " 'efficientdet-d1-coco-tf1',\n",
       " 'efficientdet-d2-768-coco-tf2',\n",
       " 'efficientdet-d2-coco-tf1',\n",
       " 'efficientdet-d3-896-coco-tf2',\n",
       " 'efficientdet-d3-coco-tf1',\n",
       " 'efficientdet-d4-1024-coco-tf2',\n",
       " 'efficientdet-d4-coco-tf1',\n",
       " 'efficientdet-d5-1280-coco-tf2',\n",
       " 'efficientdet-d5-coco-tf1',\n",
       " 'efficientdet-d6-1280-coco-tf2',\n",
       " 'efficientdet-d6-coco-tf1',\n",
       " 'efficientdet-d7-1536-coco-tf2',\n",
       " 'faster-rcnn-inception-resnet-atrous-v2-coco-tf',\n",
       " 'faster-rcnn-inception-resnet-atrous-v2-lowproposals-coco-tf',\n",
       " 'faster-rcnn-inception-v2-coco-tf',\n",
       " 'faster-rcnn-nas-coco-tf',\n",
       " 'faster-rcnn-nas-lowproposals-coco-tf',\n",
       " 'faster-rcnn-resnet101-coco-tf',\n",
       " 'faster-rcnn-resnet101-lowproposals-coco-tf',\n",
       " 'faster-rcnn-resnet50-coco-tf',\n",
       " 'faster-rcnn-resnet50-fpn-coco-torch',\n",
       " 'faster-rcnn-resnet50-lowproposals-coco-tf',\n",
       " 'retinanet-resnet50-fpn-coco-torch',\n",
       " 'rfcn-resnet101-coco-tf',\n",
       " 'ssd-inception-v2-coco-tf',\n",
       " 'ssd-mobilenet-v1-coco-tf',\n",
       " 'ssd-mobilenet-v1-fpn-640-coco17',\n",
       " 'ssd-mobilenet-v1-fpn-coco-tf',\n",
       " 'ssd-mobilenet-v2-320-coco17',\n",
       " 'ssd-resnet50-fpn-coco-tf',\n",
       " 'yolo-v2-coco-tf1',\n",
       " 'yolov5l-coco-torch',\n",
       " 'yolov5m-coco-torch',\n",
       " 'yolov5n-coco-torch',\n",
       " 'yolov5s-coco-torch',\n",
       " 'yolov5x-coco-torch']"
      ]
     },
     "execution_count": 8,
     "metadata": {},
     "output_type": "execute_result"
    }
   ],
   "source": [
    "foz.list_zoo_models(\"detection\")"
   ]
  },
  {
   "cell_type": "code",
   "execution_count": 9,
   "id": "ea19ef1f-b1df-4eb2-ac6d-022e14f5986d",
   "metadata": {},
   "outputs": [
    {
     "data": {
      "text/plain": [
       "{'mobilenet-v2-imagenet-torch': ('/home/borisef/fiftyone/__models__/mobilenet_v2-b0353104.pth',\n",
       "  <fiftyone.zoo.models.ZooModel at 0x7f97d07a15b0>),\n",
       " 'clip-vit-base32-torch': ('/home/borisef/fiftyone/__models__/CLIP-ViT-B-32.pt',\n",
       "  <fiftyone.zoo.models.ZooModel at 0x7f97d07a68b0>)}"
      ]
     },
     "execution_count": 9,
     "metadata": {},
     "output_type": "execute_result"
    }
   ],
   "source": [
    "foz.list_downloaded_zoo_models()"
   ]
  },
  {
   "cell_type": "code",
   "execution_count": 10,
   "id": "0102f099-86f6-4ea2-8a66-a540b0ebe7db",
   "metadata": {},
   "outputs": [
    {
     "name": "stdout",
     "output_type": "stream",
     "text": [
      "Dataset already downloaded\n",
      "Loading existing dataset 'quickstart'. To reload from disk, either delete the existing dataset or provide a custom `dataset_name` to use\n"
     ]
    }
   ],
   "source": [
    "dataset = foz.load_zoo_dataset('quickstart')"
   ]
  },
  {
   "cell_type": "code",
   "execution_count": 11,
   "id": "59792fbc-c9a4-4514-89d0-0be55c349fd5",
   "metadata": {},
   "outputs": [
    {
     "name": "stdout",
     "output_type": "stream",
     "text": [
      "Session launched. Run `session.show()` to open the App in a cell output.\n"
     ]
    }
   ],
   "source": [
    "session1 = fo.launch_app(dataset, auto=False, desktop=False)"
   ]
  },
  {
   "cell_type": "code",
   "execution_count": 35,
   "id": "bc4af692-6148-4bf4-b027-c2091157862f",
   "metadata": {},
   "outputs": [
    {
     "data": {
      "text/html": [
       "\n",
       "        <iframe\n",
       "            width=\"100%\"\n",
       "            height=\"800\"\n",
       "            src=\"http://localhost:5151/?notebook=True&subscription=24a85c08-dd56-4ec1-968f-429196975731\"\n",
       "            frameborder=\"0\"\n",
       "            allowfullscreen\n",
       "            \n",
       "        ></iframe>\n",
       "        "
      ],
      "text/plain": [
       "<IPython.lib.display.IFrame at 0x7f968f5ac6a0>"
      ]
     },
     "metadata": {},
     "output_type": "display_data"
    }
   ],
   "source": [
    "session1.show()"
   ]
  },
  {
   "cell_type": "code",
   "execution_count": 15,
   "id": "3fcc3bab-7475-4b68-b050-b92e2c88b758",
   "metadata": {},
   "outputs": [],
   "source": [
    "session1.freeze() # freezing app in notebook"
   ]
  },
  {
   "cell_type": "code",
   "execution_count": 18,
   "id": "f12680e0-4775-4891-9ac4-ebe847bca6f9",
   "metadata": {},
   "outputs": [],
   "source": [
    "import fiftyone.brain as fob"
   ]
  },
  {
   "cell_type": "code",
   "execution_count": 19,
   "id": "15de38e9-ad91-46e4-a128-c90169c2c214",
   "metadata": {},
   "outputs": [
    {
     "name": "stdout",
     "output_type": "stream",
     "text": [
      "Computing embeddings...\n"
     ]
    },
    {
     "name": "stderr",
     "output_type": "stream",
     "text": [
      "/home/borisef/Envs/fo_python38/lib/python3.8/site-packages/torch/cuda/__init__.py:138: UserWarning: CUDA initialization: The NVIDIA driver on your system is too old (found version 11040). Please update your GPU driver by downloading and installing a new version from the URL: http://www.nvidia.com/Download/index.aspx Alternatively, go to: https://pytorch.org to install a PyTorch version that has been compiled with your version of the CUDA driver. (Triggered internally at ../c10/cuda/CUDAFunctions.cpp:108.)\n",
      "  return torch._C._cuda_getDeviceCount() > 0\n"
     ]
    },
    {
     "name": "stdout",
     "output_type": "stream",
     "text": []
    },
    {
     "name": "stdout",
     "output_type": "stream",
     "text": [
      " 100% |█████████████████| 200/200 [885.7ms elapsed, 0s remaining, 232.2 samples/s]      \n",
      "Computing uniqueness...\n",
      "Uniqueness computation complete\n"
     ]
    }
   ],
   "source": [
    "fob.compute_uniqueness(dataset, uniqueness_field=\"my_uniqueness\")"
   ]
  },
  {
   "cell_type": "code",
   "execution_count": 23,
   "id": "fee22c91-eb83-4460-af82-0da2bd971172",
   "metadata": {},
   "outputs": [
    {
     "data": {
      "text/plain": [
       "\u001b[0;31mSignature:\u001b[0m \u001b[0mfob\u001b[0m\u001b[0;34m.\u001b[0m\u001b[0mcompute_exact_duplicates\u001b[0m\u001b[0;34m(\u001b[0m\u001b[0msamples\u001b[0m\u001b[0;34m,\u001b[0m \u001b[0mnum_workers\u001b[0m\u001b[0;34m=\u001b[0m\u001b[0;32mNone\u001b[0m\u001b[0;34m,\u001b[0m \u001b[0mskip_failures\u001b[0m\u001b[0;34m=\u001b[0m\u001b[0;32mTrue\u001b[0m\u001b[0;34m)\u001b[0m\u001b[0;34m\u001b[0m\u001b[0;34m\u001b[0m\u001b[0m\n",
       "\u001b[0;31mDocstring:\u001b[0m\n",
       "Detects duplicate media in a sample collection.\n",
       "\n",
       "This method detects exact duplicates with the same filehash. Use\n",
       ":meth:`compute_similarity` to detect near-duplicate images.\n",
       "\n",
       "If duplicates are found, the first instance in ``samples`` will be the key\n",
       "in the returned dictionary, while the subsequent duplicates will be the\n",
       "values in the corresponding list.\n",
       "\n",
       "Args:\n",
       "    samples: a :class:`fiftyone.core.collections.SampleCollection`\n",
       "    num_workers (None): an optional number of processes to use\n",
       "    skip_failures (True): whether to gracefully ignore samples whose\n",
       "        filehash cannot be computed\n",
       "\n",
       "Returns:\n",
       "    a dictionary mapping IDs of samples with exact duplicates to lists of\n",
       "    IDs of the duplicates for the corresponding sample\n",
       "\u001b[0;31mFile:\u001b[0m      ~/Envs/fo_python38/lib/python3.8/site-packages/fiftyone/brain/__init__.py\n",
       "\u001b[0;31mType:\u001b[0m      function"
      ]
     },
     "metadata": {},
     "output_type": "display_data"
    }
   ],
   "source": [
    "fob.compute_exact_duplicates?"
   ]
  },
  {
   "cell_type": "code",
   "execution_count": 25,
   "id": "437453da-125d-4bf5-8d66-d39e769eafc5",
   "metadata": {},
   "outputs": [
    {
     "name": "stdout",
     "output_type": "stream",
     "text": [
      "Computing embeddings...\n",
      " 100% |█████████████████| 200/200 [13.5s elapsed, 0s remaining, 15.2 samples/s]      \n"
     ]
    },
    {
     "data": {
      "text/plain": [
       "<fiftyone.brain.internal.core.sklearn.SklearnSimilarityIndex at 0x7f97c2c76460>"
      ]
     },
     "execution_count": 25,
     "metadata": {},
     "output_type": "execute_result"
    }
   ],
   "source": [
    "fob.compute_similarity(dataset,brain_key = \"sim\") # TODO: EXPLORE"
   ]
  },
  {
   "cell_type": "code",
   "execution_count": 27,
   "id": "3098cccc-d3e5-47ee-a8fc-09e5699b3f42",
   "metadata": {},
   "outputs": [
    {
     "name": "stdout",
     "output_type": "stream",
     "text": [
      "Computing embeddings...\n",
      " 100% |█████████████████| 200/200 [13.9s elapsed, 0s remaining, 15.7 samples/s]      \n",
      "Generating visualization...\n",
      "UMAP( verbose=True)\n",
      "Tue Dec  5 21:31:41 2023 Construct fuzzy simplicial set\n",
      "Tue Dec  5 21:31:41 2023 Finding Nearest Neighbors\n",
      "Tue Dec  5 21:31:43 2023 Finished Nearest Neighbor Search\n",
      "Tue Dec  5 21:31:45 2023 Construct embedding\n"
     ]
    },
    {
     "data": {
      "application/vnd.jupyter.widget-view+json": {
       "model_id": "acec7d441005441cb1bb2db9a7232d1f",
       "version_major": 2,
       "version_minor": 0
      },
      "text/plain": [
       "Epochs completed:   0%|            0/500 [00:00]"
      ]
     },
     "metadata": {},
     "output_type": "display_data"
    },
    {
     "name": "stdout",
     "output_type": "stream",
     "text": [
      "\tcompleted  0  /  500 epochs\n",
      "\tcompleted  50  /  500 epochs\n",
      "\tcompleted  100  /  500 epochs\n",
      "\tcompleted  150  /  500 epochs\n",
      "\tcompleted  200  /  500 epochs\n",
      "\tcompleted  250  /  500 epochs\n",
      "\tcompleted  300  /  500 epochs\n",
      "\tcompleted  350  /  500 epochs\n",
      "\tcompleted  400  /  500 epochs\n",
      "\tcompleted  450  /  500 epochs\n",
      "Tue Dec  5 21:31:47 2023 Finished embedding\n"
     ]
    },
    {
     "data": {
      "text/plain": [
       "<fiftyone.brain.visualization.VisualizationResults at 0x7f97d0c83550>"
      ]
     },
     "execution_count": 27,
     "metadata": {},
     "output_type": "execute_result"
    }
   ],
   "source": [
    "# Image embeddings. Run this. See results in App\n",
    "fob.compute_visualization(dataset, brain_key=\"img_viz\")"
   ]
  },
  {
   "cell_type": "code",
   "execution_count": 33,
   "id": "dcd7fd8f-0c9c-4514-921a-ad001bdf7089",
   "metadata": {},
   "outputs": [
    {
     "name": "stdout",
     "output_type": "stream",
     "text": [
      "Computing patch embeddings...\n",
      " 100% |█████████████████| 200/200 [6.4m elapsed, 0s remaining, 0.5 samples/s]    \n",
      "Generating visualization...\n",
      "UMAP( verbose=True)\n",
      "Tue Dec  5 21:45:24 2023 Construct fuzzy simplicial set\n",
      "Tue Dec  5 21:45:24 2023 Finding Nearest Neighbors\n",
      "Tue Dec  5 21:45:24 2023 Building RP forest with 9 trees\n",
      "Tue Dec  5 21:45:27 2023 NN descent for 12 iterations\n",
      "\t 1  /  12\n",
      "\t 2  /  12\n",
      "\t 3  /  12\n",
      "\t 4  /  12\n",
      "\tStopping threshold met -- exiting after 4 iterations\n",
      "Tue Dec  5 21:45:36 2023 Finished Nearest Neighbor Search\n",
      "Tue Dec  5 21:45:36 2023 Construct embedding\n"
     ]
    },
    {
     "data": {
      "application/vnd.jupyter.widget-view+json": {
       "model_id": "dc1f9d6fab4e41d0af15b8ae5d8a376d",
       "version_major": 2,
       "version_minor": 0
      },
      "text/plain": [
       "Epochs completed:   0%|            0/500 [00:00]"
      ]
     },
     "metadata": {},
     "output_type": "display_data"
    },
    {
     "name": "stdout",
     "output_type": "stream",
     "text": [
      "\tcompleted  0  /  500 epochs\n",
      "\tcompleted  50  /  500 epochs\n",
      "\tcompleted  100  /  500 epochs\n",
      "\tcompleted  150  /  500 epochs\n",
      "\tcompleted  200  /  500 epochs\n",
      "\tcompleted  250  /  500 epochs\n",
      "\tcompleted  300  /  500 epochs\n",
      "\tcompleted  350  /  500 epochs\n",
      "\tcompleted  400  /  500 epochs\n",
      "\tcompleted  450  /  500 epochs\n",
      "Tue Dec  5 21:45:41 2023 Finished embedding\n"
     ]
    },
    {
     "data": {
      "text/plain": [
       "<fiftyone.brain.visualization.VisualizationResults at 0x7f96c589bc70>"
      ]
     },
     "execution_count": 33,
     "metadata": {},
     "output_type": "execute_result"
    }
   ],
   "source": [
    "# Object patch embeddings\n",
    "fob.compute_visualization(\n",
    "    dataset, patches_field=\"predictions\", brain_key=\"prediction_bb_viz\"\n",
    ")"
   ]
  },
  {
   "cell_type": "code",
   "execution_count": 34,
   "id": "3cd31424-be2a-4b6f-97f2-8da7e8876923",
   "metadata": {},
   "outputs": [
    {
     "name": "stdout",
     "output_type": "stream",
     "text": [
      "Computing metadata...\n",
      " 100% |█████████████████| 200/200 [620.3ms elapsed, 0s remaining, 322.4 samples/s]      \n"
     ]
    }
   ],
   "source": [
    "# Compute metadata so we can reference image height/width in our view\n",
    "dataset.compute_metadata()"
   ]
  },
  {
   "cell_type": "markdown",
   "id": "b33b20bf-97d0-4f62-8e17-92f320c9dfda",
   "metadata": {},
   "source": [
    "RUN DETECTION MODEL (see https://docs.voxel51.com/recipes/adding_detections.html)"
   ]
  }
 ],
 "metadata": {
  "kernelspec": {
   "display_name": "Python 3 (ipykernel)",
   "language": "python",
   "name": "python3"
  },
  "language_info": {
   "codemirror_mode": {
    "name": "ipython",
    "version": 3
   },
   "file_extension": ".py",
   "mimetype": "text/x-python",
   "name": "python",
   "nbconvert_exporter": "python",
   "pygments_lexer": "ipython3",
   "version": "3.8.10"
  }
 },
 "nbformat": 4,
 "nbformat_minor": 5
}
