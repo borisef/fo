{
 "cells": [
  {
   "cell_type": "markdown",
   "id": "7c7393d6-5909-472f-a4a2-671d9c2b5a48",
   "metadata": {},
   "source": [
    "<B> Core Components: "
   ]
  },
  {
   "cell_type": "markdown",
   "id": "0a50d030-d2bf-44b4-a810-1152a7b573ff",
   "metadata": {},
   "source": [
    "* Fiftyone library\n",
    "* Fiftyone App\n",
    "* FiftyOne Brain \n",
    "* Dataset / Model Zoo\n",
    "* Plugins\n",
    "* ... more \n"
   ]
  },
  {
   "cell_type": "markdown",
   "id": "45739239-72cf-4eb1-a792-d5daa53f6b23",
   "metadata": {},
   "source": [
    "Data model"
   ]
  },
  {
   "cell_type": "markdown",
   "id": "5c194cbe-d471-4e9c-a423-c5e2ab11d645",
   "metadata": {},
   "source": [
    "* Dataset\n",
    "* Sample\n",
    "* View\n",
    "* ViewStage\n",
    "* Field\n",
    "* Label\n",
    "* Tag\n",
    "* Metadata\n",
    "* Aggregation\n",
    "* ...more "
   ]
  },
  {
   "cell_type": "code",
   "execution_count": 1,
   "id": "26449a9b-bfa5-4409-86e0-49e01243eb99",
   "metadata": {},
   "outputs": [],
   "source": [
    "import fiftyone as fo\n",
    "import fiftyone.zoo as foz"
   ]
  },
  {
   "cell_type": "markdown",
   "id": "408230ed-f628-4de7-b57b-eedc1ae130f3",
   "metadata": {},
   "source": [
    "\n",
    "<B> List or load zoo models and datasets\n",
    "\n",
    "\n"
   ]
  },
  {
   "cell_type": "code",
   "execution_count": 2,
   "id": "4ff0378a-a504-4ac5-8d59-5c64750bae15",
   "metadata": {},
   "outputs": [
    {
     "name": "stdout",
     "output_type": "stream",
     "text": [
      "['coco-2014', 'coco-2017', 'kitti', 'kitti-multiview', 'open-images-v6', 'open-images-v7', 'sama-coco', 'voc-2007', 'voc-2012']\n"
     ]
    }
   ],
   "source": [
    "list_zoo_datasets_detection = foz.list_zoo_datasets('detection')\n",
    "print(list_zoo_datasets_detection)"
   ]
  },
  {
   "cell_type": "code",
   "execution_count": 3,
   "id": "2f34e7ad-c055-4105-a771-92a027ea3174",
   "metadata": {
    "scrolled": true
   },
   "outputs": [
    {
     "data": {
      "text/plain": [
       "['centernet-hg104-1024-coco-tf2',\n",
       " 'centernet-hg104-512-coco-tf2',\n",
       " 'centernet-mobilenet-v2-fpn-512-coco-tf2',\n",
       " 'centernet-resnet101-v1-fpn-512-coco-tf2',\n",
       " 'centernet-resnet50-v1-fpn-512-coco-tf2',\n",
       " 'centernet-resnet50-v2-512-coco-tf2',\n",
       " 'efficientdet-d0-512-coco-tf2',\n",
       " 'efficientdet-d0-coco-tf1',\n",
       " 'efficientdet-d1-640-coco-tf2',\n",
       " 'efficientdet-d1-coco-tf1',\n",
       " 'efficientdet-d2-768-coco-tf2',\n",
       " 'efficientdet-d2-coco-tf1',\n",
       " 'efficientdet-d3-896-coco-tf2',\n",
       " 'efficientdet-d3-coco-tf1',\n",
       " 'efficientdet-d4-1024-coco-tf2',\n",
       " 'efficientdet-d4-coco-tf1',\n",
       " 'efficientdet-d5-1280-coco-tf2',\n",
       " 'efficientdet-d5-coco-tf1',\n",
       " 'efficientdet-d6-1280-coco-tf2',\n",
       " 'efficientdet-d6-coco-tf1',\n",
       " 'efficientdet-d7-1536-coco-tf2',\n",
       " 'faster-rcnn-inception-resnet-atrous-v2-coco-tf',\n",
       " 'faster-rcnn-inception-resnet-atrous-v2-lowproposals-coco-tf',\n",
       " 'faster-rcnn-inception-v2-coco-tf',\n",
       " 'faster-rcnn-nas-coco-tf',\n",
       " 'faster-rcnn-nas-lowproposals-coco-tf',\n",
       " 'faster-rcnn-resnet101-coco-tf',\n",
       " 'faster-rcnn-resnet101-lowproposals-coco-tf',\n",
       " 'faster-rcnn-resnet50-coco-tf',\n",
       " 'faster-rcnn-resnet50-fpn-coco-torch',\n",
       " 'faster-rcnn-resnet50-lowproposals-coco-tf',\n",
       " 'retinanet-resnet50-fpn-coco-torch',\n",
       " 'rfcn-resnet101-coco-tf',\n",
       " 'ssd-inception-v2-coco-tf',\n",
       " 'ssd-mobilenet-v1-coco-tf',\n",
       " 'ssd-mobilenet-v1-fpn-640-coco17',\n",
       " 'ssd-mobilenet-v1-fpn-coco-tf',\n",
       " 'ssd-mobilenet-v2-320-coco17',\n",
       " 'ssd-resnet50-fpn-coco-tf',\n",
       " 'yolo-v2-coco-tf1',\n",
       " 'yolov5l-coco-torch',\n",
       " 'yolov5m-coco-torch',\n",
       " 'yolov5n-coco-torch',\n",
       " 'yolov5s-coco-torch',\n",
       " 'yolov5x-coco-torch']"
      ]
     },
     "execution_count": 3,
     "metadata": {},
     "output_type": "execute_result"
    }
   ],
   "source": [
    "foz.list_zoo_models(\"detection\")"
   ]
  },
  {
   "cell_type": "code",
   "execution_count": 4,
   "id": "ea19ef1f-b1df-4eb2-ac6d-022e14f5986d",
   "metadata": {},
   "outputs": [
    {
     "data": {
      "text/plain": [
       "{'faster-rcnn-resnet50-fpn-coco-torch': ('/home/borisef/fiftyone/__models__/fasterrcnn_resnet50_fpn_coco-258fb6c6.pth',\n",
       "  <fiftyone.zoo.models.ZooModel at 0x7f22e5c4df70>),\n",
       " 'mobilenet-v2-imagenet-torch': ('/home/borisef/fiftyone/__models__/mobilenet_v2-b0353104.pth',\n",
       "  <fiftyone.zoo.models.ZooModel at 0x7f22e5c64d30>),\n",
       " 'clip-vit-base32-torch': ('/home/borisef/fiftyone/__models__/CLIP-ViT-B-32.pt',\n",
       "  <fiftyone.zoo.models.ZooModel at 0x7f22e5c65070>)}"
      ]
     },
     "execution_count": 4,
     "metadata": {},
     "output_type": "execute_result"
    }
   ],
   "source": [
    "foz.list_downloaded_zoo_models()"
   ]
  },
  {
   "cell_type": "code",
   "execution_count": 5,
   "id": "0102f099-86f6-4ea2-8a66-a540b0ebe7db",
   "metadata": {},
   "outputs": [
    {
     "name": "stdout",
     "output_type": "stream",
     "text": [
      "Dataset already downloaded\n",
      "Loading existing dataset 'quickstart'. To reload from disk, either delete the existing dataset or provide a custom `dataset_name` to use\n"
     ]
    }
   ],
   "source": [
    "dataset = foz.load_zoo_dataset('quickstart')"
   ]
  },
  {
   "cell_type": "markdown",
   "id": "bbc1a9e6-1b65-4963-8f7a-29d4d924cd7f",
   "metadata": {},
   "source": [
    "<B> ____________________________"
   ]
  },
  {
   "cell_type": "markdown",
   "id": "fc1937b9-b0ba-4b5c-af66-281f0a80d21e",
   "metadata": {},
   "source": [
    "<B> APPs and SESSIONS"
   ]
  },
  {
   "cell_type": "code",
   "execution_count": 6,
   "id": "59792fbc-c9a4-4514-89d0-0be55c349fd5",
   "metadata": {},
   "outputs": [
    {
     "name": "stdout",
     "output_type": "stream",
     "text": [
      "Session launched. Run `session.show()` to open the App in a cell output.\n"
     ]
    }
   ],
   "source": [
    "session1 = fo.launch_app(dataset, auto=False, desktop=False)"
   ]
  },
  {
   "cell_type": "code",
   "execution_count": 7,
   "id": "bc4af692-6148-4bf4-b027-c2091157862f",
   "metadata": {},
   "outputs": [
    {
     "data": {
      "text/html": [
       "\n",
       "<style>\n",
       "@import url(\"https://fonts.googleapis.com/css2?family=Palanquin&display=swap\");\n",
       "\n",
       "body, html {\n",
       "  margin: 0;\n",
       "  padding: 0;\n",
       "  width: 100%;\n",
       "}\n",
       "\n",
       "#focontainer-a9142ddb-affa-4dfb-9b93-5bb277ccb655 {\n",
       "  position: relative;\n",
       "  height: 800px;\n",
       "  display: block !important;\n",
       "}\n",
       "#foactivate-a9142ddb-affa-4dfb-9b93-5bb277ccb655 {\n",
       "  font-weight: bold;\n",
       "  cursor: pointer;\n",
       "  font-size: 24px;\n",
       "  border-radius: 3px;\n",
       "  text-align: center;\n",
       "  padding: 0.5em;\n",
       "  color: rgb(255, 255, 255);\n",
       "  font-family: \"Palanquin\", sans-serif;\n",
       "  position: absolute;\n",
       "  left: 50%;\n",
       "  top: 50%;\n",
       "  width: 160px;\n",
       "  margin-left: -80px;\n",
       "  margin-top: -23px;\n",
       "  background: hsla(210,11%,15%, 0.8);\n",
       "  border: none;\n",
       "}\n",
       "#foactivate-a9142ddb-affa-4dfb-9b93-5bb277ccb655:focus {\n",
       "  outline: none;\n",
       "}\n",
       "#fooverlay-a9142ddb-affa-4dfb-9b93-5bb277ccb655 {\n",
       "  width: 100%;\n",
       "  height: 100%;\n",
       "  background: hsla(208, 7%, 46%, 0.7);\n",
       "  position: absolute;\n",
       "  top: 0;\n",
       "  left: 0;\n",
       "  display: none;\n",
       "  cursor: pointer;\n",
       "}\n",
       "</style>\n",
       "\n",
       "<div id=\"focontainer-a9142ddb-affa-4dfb-9b93-5bb277ccb655\">\n",
       "   <div id=\"fooverlay-a9142ddb-affa-4dfb-9b93-5bb277ccb655\" style=\"display: none;\">\n",
       "      <button id=\"foactivate-a9142ddb-affa-4dfb-9b93-5bb277ccb655\" >Activate</button>\n",
       "   </div>\n",
       "   <img src='data:image/jpeg;base64,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' style=\"width: 100%; max-width: 1193px;\"/>\n",
       "</div>\n",
       "\n",
       "<script type=\"text/javascript\">\n",
       "   (function() {\n",
       "     var container = document.getElementById(\"focontainer-a9142ddb-affa-4dfb-9b93-5bb277ccb655\");\n",
       "     var overlay = document.getElementById(\"fooverlay-a9142ddb-affa-4dfb-9b93-5bb277ccb655\");\n",
       "     fetch(`http://localhost:5151/fiftyone`)\n",
       "     .then(() => {\n",
       "        overlay.addEventListener(\"click\", () => {\n",
       "          fetch(`http://localhost:5151/event`, {\n",
       "            method: \"POST\",\n",
       "            body: JSON.stringify({\n",
       "              event: \"reactivate_notebook_cell\",\n",
       "              data: { subscription: \"a9142ddb-affa-4dfb-9b93-5bb277ccb655\" },\n",
       "              subscription: \"a9142ddb-affa-4dfb-9b93-5bb277ccb655\"\n",
       "            })\n",
       "          })\n",
       "        });\n",
       "        container.addEventListener(\"mouseenter\", () => overlay.style.display = \"block\");\n",
       "        container.addEventListener(\"mouseleave\", () => overlay.style.display = \"none\");\n",
       "     });\n",
       "   })();\n",
       "</script>"
      ],
      "text/plain": [
       "<IPython.core.display.HTML object>"
      ]
     },
     "metadata": {},
     "output_type": "display_data"
    }
   ],
   "source": [
    "session1.show()"
   ]
  },
  {
   "cell_type": "code",
   "execution_count": 8,
   "id": "3fcc3bab-7475-4b68-b050-b92e2c88b758",
   "metadata": {},
   "outputs": [],
   "source": [
    "session1.freeze() # freezing app in notebook"
   ]
  },
  {
   "cell_type": "markdown",
   "id": "b9527c75-82d5-4de0-8863-d3ff8782716d",
   "metadata": {},
   "source": [
    "<B> Let's Add some interesting stuff"
   ]
  },
  {
   "cell_type": "code",
   "execution_count": 9,
   "id": "f12680e0-4775-4891-9ac4-ebe847bca6f9",
   "metadata": {},
   "outputs": [],
   "source": [
    "import fiftyone.brain as fob"
   ]
  },
  {
   "cell_type": "code",
   "execution_count": 10,
   "id": "15de38e9-ad91-46e4-a128-c90169c2c214",
   "metadata": {},
   "outputs": [
    {
     "name": "stdout",
     "output_type": "stream",
     "text": [
      "Computing embeddings...\n"
     ]
    },
    {
     "name": "stderr",
     "output_type": "stream",
     "text": [
      "/home/borisef/Envs/fo_python38/lib/python3.8/site-packages/torch/cuda/__init__.py:138: UserWarning: CUDA initialization: The NVIDIA driver on your system is too old (found version 11040). Please update your GPU driver by downloading and installing a new version from the URL: http://www.nvidia.com/Download/index.aspx Alternatively, go to: https://pytorch.org to install a PyTorch version that has been compiled with your version of the CUDA driver. (Triggered internally at ../c10/cuda/CUDAFunctions.cpp:108.)\n",
      "  return torch._C._cuda_getDeviceCount() > 0\n"
     ]
    },
    {
     "name": "stdout",
     "output_type": "stream",
     "text": []
    },
    {
     "name": "stdout",
     "output_type": "stream",
     "text": [
      " 100% |█████████████████| 200/200 [933.8ms elapsed, 0s remaining, 214.2 samples/s]      \n",
      "Computing uniqueness...\n",
      "Uniqueness computation complete\n"
     ]
    }
   ],
   "source": [
    "fob.compute_uniqueness(dataset, uniqueness_field=\"my_uniqueness\")"
   ]
  },
  {
   "cell_type": "code",
   "execution_count": 11,
   "id": "fee22c91-eb83-4460-af82-0da2bd971172",
   "metadata": {},
   "outputs": [
    {
     "data": {
      "text/plain": [
       "\u001b[0;31mSignature:\u001b[0m \u001b[0mfob\u001b[0m\u001b[0;34m.\u001b[0m\u001b[0mcompute_exact_duplicates\u001b[0m\u001b[0;34m(\u001b[0m\u001b[0msamples\u001b[0m\u001b[0;34m,\u001b[0m \u001b[0mnum_workers\u001b[0m\u001b[0;34m=\u001b[0m\u001b[0;32mNone\u001b[0m\u001b[0;34m,\u001b[0m \u001b[0mskip_failures\u001b[0m\u001b[0;34m=\u001b[0m\u001b[0;32mTrue\u001b[0m\u001b[0;34m)\u001b[0m\u001b[0;34m\u001b[0m\u001b[0;34m\u001b[0m\u001b[0m\n",
       "\u001b[0;31mDocstring:\u001b[0m\n",
       "Detects duplicate media in a sample collection.\n",
       "\n",
       "This method detects exact duplicates with the same filehash. Use\n",
       ":meth:`compute_similarity` to detect near-duplicate images.\n",
       "\n",
       "If duplicates are found, the first instance in ``samples`` will be the key\n",
       "in the returned dictionary, while the subsequent duplicates will be the\n",
       "values in the corresponding list.\n",
       "\n",
       "Args:\n",
       "    samples: a :class:`fiftyone.core.collections.SampleCollection`\n",
       "    num_workers (None): an optional number of processes to use\n",
       "    skip_failures (True): whether to gracefully ignore samples whose\n",
       "        filehash cannot be computed\n",
       "\n",
       "Returns:\n",
       "    a dictionary mapping IDs of samples with exact duplicates to lists of\n",
       "    IDs of the duplicates for the corresponding sample\n",
       "\u001b[0;31mFile:\u001b[0m      ~/Envs/fo_python38/lib/python3.8/site-packages/fiftyone/brain/__init__.py\n",
       "\u001b[0;31mType:\u001b[0m      function"
      ]
     },
     "metadata": {},
     "output_type": "display_data"
    }
   ],
   "source": [
    "fob.compute_exact_duplicates?"
   ]
  },
  {
   "cell_type": "code",
   "execution_count": 13,
   "id": "437453da-125d-4bf5-8d66-d39e769eafc5",
   "metadata": {},
   "outputs": [
    {
     "name": "stdout",
     "output_type": "stream",
     "text": [
      "Computing embeddings...\n",
      " 100% |█████████████████| 200/200 [13.7s elapsed, 0s remaining, 15.2 samples/s]      \n"
     ]
    },
    {
     "data": {
      "text/plain": [
       "<fiftyone.brain.internal.core.sklearn.SklearnSimilarityIndex at 0x7f2378287070>"
      ]
     },
     "execution_count": 13,
     "metadata": {},
     "output_type": "execute_result"
    }
   ],
   "source": [
    "fob.compute_similarity(dataset,brain_key = \"sim2\") # TODO: EXPLORE"
   ]
  },
  {
   "cell_type": "code",
   "execution_count": 14,
   "id": "3098cccc-d3e5-47ee-a8fc-09e5699b3f42",
   "metadata": {},
   "outputs": [
    {
     "name": "stdout",
     "output_type": "stream",
     "text": [
      "Computing embeddings...\n",
      " 100% |█████████████████| 200/200 [13.8s elapsed, 0s remaining, 15.5 samples/s]      \n",
      "Generating visualization...\n",
      "UMAP( verbose=True)\n",
      "Wed Dec  6 22:13:10 2023 Construct fuzzy simplicial set\n",
      "Wed Dec  6 22:13:10 2023 Finding Nearest Neighbors\n",
      "Wed Dec  6 22:13:12 2023 Finished Nearest Neighbor Search\n",
      "Wed Dec  6 22:13:14 2023 Construct embedding\n"
     ]
    },
    {
     "data": {
      "application/vnd.jupyter.widget-view+json": {
       "model_id": "73086b13c05f49f3b41e67265015f0e6",
       "version_major": 2,
       "version_minor": 0
      },
      "text/plain": [
       "Epochs completed:   0%|            0/500 [00:00]"
      ]
     },
     "metadata": {},
     "output_type": "display_data"
    },
    {
     "name": "stdout",
     "output_type": "stream",
     "text": [
      "\tcompleted  0  /  500 epochs\n",
      "\tcompleted  50  /  500 epochs\n",
      "\tcompleted  100  /  500 epochs\n",
      "\tcompleted  150  /  500 epochs\n",
      "\tcompleted  200  /  500 epochs\n",
      "\tcompleted  250  /  500 epochs\n",
      "\tcompleted  300  /  500 epochs\n",
      "\tcompleted  350  /  500 epochs\n",
      "\tcompleted  400  /  500 epochs\n",
      "\tcompleted  450  /  500 epochs\n",
      "Wed Dec  6 22:13:16 2023 Finished embedding\n"
     ]
    },
    {
     "data": {
      "text/plain": [
       "<fiftyone.brain.visualization.VisualizationResults at 0x7f223036f6d0>"
      ]
     },
     "execution_count": 14,
     "metadata": {},
     "output_type": "execute_result"
    }
   ],
   "source": [
    "# Image embeddings. Run this. See results in App\n",
    "fob.compute_visualization(dataset, brain_key=\"img_viz\")"
   ]
  },
  {
   "cell_type": "code",
   "execution_count": 15,
   "id": "dcd7fd8f-0c9c-4514-921a-ad001bdf7089",
   "metadata": {},
   "outputs": [
    {
     "name": "stdout",
     "output_type": "stream",
     "text": [
      "Computing patch embeddings...\n",
      " 100% |█████████████████| 200/200 [6.1m elapsed, 0s remaining, 0.6 samples/s]    \n",
      "Generating visualization...\n",
      "UMAP( verbose=True)\n",
      "Wed Dec  6 22:19:23 2023 Construct fuzzy simplicial set\n",
      "Wed Dec  6 22:19:23 2023 Finding Nearest Neighbors\n",
      "Wed Dec  6 22:19:23 2023 Building RP forest with 9 trees\n",
      "Wed Dec  6 22:19:26 2023 NN descent for 12 iterations\n",
      "\t 1  /  12\n",
      "\t 2  /  12\n",
      "\t 3  /  12\n",
      "\t 4  /  12\n",
      "\tStopping threshold met -- exiting after 4 iterations\n",
      "Wed Dec  6 22:19:36 2023 Finished Nearest Neighbor Search\n",
      "Wed Dec  6 22:19:36 2023 Construct embedding\n"
     ]
    },
    {
     "data": {
      "application/vnd.jupyter.widget-view+json": {
       "model_id": "5978a1b80cf740448ed21703ccbc4e1e",
       "version_major": 2,
       "version_minor": 0
      },
      "text/plain": [
       "Epochs completed:   0%|            0/500 [00:00]"
      ]
     },
     "metadata": {},
     "output_type": "display_data"
    },
    {
     "name": "stdout",
     "output_type": "stream",
     "text": [
      "\tcompleted  0  /  500 epochs\n",
      "\tcompleted  50  /  500 epochs\n",
      "\tcompleted  100  /  500 epochs\n",
      "\tcompleted  150  /  500 epochs\n",
      "\tcompleted  200  /  500 epochs\n",
      "\tcompleted  250  /  500 epochs\n",
      "\tcompleted  300  /  500 epochs\n",
      "\tcompleted  350  /  500 epochs\n",
      "\tcompleted  400  /  500 epochs\n",
      "\tcompleted  450  /  500 epochs\n",
      "Wed Dec  6 22:19:40 2023 Finished embedding\n"
     ]
    },
    {
     "data": {
      "text/plain": [
       "<fiftyone.brain.visualization.VisualizationResults at 0x7f21e8762760>"
      ]
     },
     "execution_count": 15,
     "metadata": {},
     "output_type": "execute_result"
    }
   ],
   "source": [
    "# Object patch embeddings\n",
    "fob.compute_visualization(\n",
    "    dataset, patches_field=\"predictions\", brain_key=\"prediction_bb_viz\"\n",
    ")"
   ]
  },
  {
   "cell_type": "code",
   "execution_count": 19,
   "id": "3cd31424-be2a-4b6f-97f2-8da7e8876923",
   "metadata": {},
   "outputs": [],
   "source": [
    "# Compute metadata so we can reference image height/width in our view\n",
    "dataset.compute_metadata()"
   ]
  },
  {
   "cell_type": "code",
   "execution_count": 20,
   "id": "2211bb64-eb0f-431a-b1d3-ec75a2218d07",
   "metadata": {},
   "outputs": [],
   "source": [
    "# add some attributes to ground_truth bboxes \n",
    "for sample in dataset.view():\n",
    "    for d in sample['ground_truth']['detections']:\n",
    "        d[\"bb_max_side\"] = max(d['bounding_box'][2],d['bounding_box'][3])\n",
    "        d[\"bb_max_side_pixel\"] = max(d['bounding_box'][2]*sample['metadata']['height'],d['bounding_box'][3]*sample['metadata']['width'])\n",
    "    sample.save()"
   ]
  },
  {
   "cell_type": "code",
   "execution_count": 21,
   "id": "85594fa1-7fab-4bcf-b1af-eda96b4b6030",
   "metadata": {},
   "outputs": [],
   "source": [
    "#lets add pseudo metadata (range to target) to each sample (aka image)\n",
    "import random \n",
    "for sample in dataset.view():\n",
    "    sample['metadata']['range2target'] = random.randint(10,1000)\n",
    "    sample.save()\n",
    "\n",
    "dataset.add_dynamic_sample_fields()"
   ]
  },
  {
   "cell_type": "markdown",
   "id": "71f0cf25-dc28-4e0f-8b8f-fd4300f9fb17",
   "metadata": {},
   "source": [
    "<B> -------------------------------------------------------"
   ]
  },
  {
   "cell_type": "markdown",
   "id": "253ff9b5-b01b-4ad7-a458-32877df3dd84",
   "metadata": {},
   "source": [
    "<B> In this dataset we already have GT and predictions, lets do <b> EVALUATION </b> "
   ]
  },
  {
   "cell_type": "code",
   "execution_count": 22,
   "id": "a945a91e-c435-4ecb-b69c-2fa9e0dd5d1c",
   "metadata": {},
   "outputs": [],
   "source": [
    "#evaluate only predictions with high confidence\n",
    "from fiftyone import ViewField as F\n",
    "high_conf_view = dataset.filter_labels(\"predictions\", F(\"confidence\") > 0.75, only_matches=False)\n"
   ]
  },
  {
   "cell_type": "code",
   "execution_count": 23,
   "id": "83e92360-c5d6-4dd1-b32d-18124e913c92",
   "metadata": {},
   "outputs": [
    {
     "name": "stdout",
     "output_type": "stream",
     "text": [
      "Evaluating detections...\n",
      " 100% |█████████████████| 200/200 [15.5s elapsed, 0s remaining, 9.1 samples/s]       \n"
     ]
    }
   ],
   "source": [
    "eval_results = fo.evaluate_detections(dataset,pred_field=\"predictions\",gt_field = \"ground_truth\",eval_key = 'eval',method=None,classwise=True)"
   ]
  },
  {
   "cell_type": "code",
   "execution_count": 24,
   "id": "f870c120-20b2-45fb-b304-df30d70c6f7c",
   "metadata": {},
   "outputs": [
    {
     "name": "stdout",
     "output_type": "stream",
     "text": [
      "                precision    recall  f1-score   support\n",
      "\n",
      "      airplane       0.36      0.83      0.50        24\n",
      "         apple       0.07      1.00      0.13         2\n",
      "      backpack       0.09      0.86      0.16         7\n",
      "        banana       0.04      1.00      0.08         3\n",
      "baseball glove       0.38      0.75      0.50         4\n",
      "          bear       0.42      0.83      0.56         6\n",
      "           bed       0.05      1.00      0.09         1\n",
      "         bench       0.17      0.52      0.26        23\n",
      "       bicycle       0.00      0.00      0.00         0\n",
      "          bird       0.65      0.78      0.71       110\n",
      "          boat       0.09      0.46      0.16        37\n",
      "          book       0.07      0.91      0.13        11\n",
      "        bottle       0.10      0.90      0.18        10\n",
      "          bowl       0.16      0.93      0.28        15\n",
      "      broccoli       0.10      1.00      0.19        16\n",
      "           bus       0.06      1.00      0.12         1\n",
      "          cake       0.11      0.75      0.19         4\n",
      "           car       0.18      0.80      0.29        61\n",
      "        carrot       0.09      0.74      0.16        47\n",
      "           cat       0.43      0.94      0.59        16\n",
      "    cell phone       0.00      0.00      0.00         1\n",
      "         chair       0.07      0.48      0.13        23\n",
      "         clock       0.11      0.75      0.19         4\n",
      "         couch       0.12      1.00      0.22         4\n",
      "           cow       0.25      0.91      0.39        22\n",
      "           cup       0.18      0.81      0.30        21\n",
      "  dining table       0.08      0.93      0.15        15\n",
      "           dog       0.24      0.80      0.38        15\n",
      "         donut       0.17      0.46      0.24        13\n",
      "      elephant       0.57      1.00      0.72        25\n",
      "  fire hydrant       0.33      1.00      0.50         2\n",
      "          fork       0.15      1.00      0.26         9\n",
      "       frisbee       0.22      1.00      0.36         2\n",
      "       giraffe       0.36      0.91      0.52        23\n",
      "    hair drier       0.00      0.00      0.00         0\n",
      "       handbag       0.10      0.53      0.17        15\n",
      "         horse       0.24      0.88      0.37        17\n",
      "       hot dog       0.12      0.20      0.15         5\n",
      "      keyboard       0.00      0.00      0.00         0\n",
      "          kite       0.59      0.88      0.71       140\n",
      "         knife       0.11      0.78      0.19         9\n",
      "        laptop       0.19      0.75      0.30         4\n",
      "     microwave       0.33      1.00      0.50         1\n",
      "    motorcycle       0.64      1.00      0.78        41\n",
      "         mouse       0.00      0.00      0.00         0\n",
      "        orange       0.11      1.00      0.20         2\n",
      "          oven       0.04      1.00      0.07         2\n",
      " parking meter       0.00      0.00      0.00         1\n",
      "        person       0.52      0.94      0.67       716\n",
      "         pizza       0.18      0.78      0.29         9\n",
      "  potted plant       0.00      0.00      0.00         0\n",
      "  refrigerator       0.21      1.00      0.35         3\n",
      "        remote       0.00      0.00      0.00         0\n",
      "      sandwich       0.25      1.00      0.40         6\n",
      "      scissors       0.11      1.00      0.20         1\n",
      "         sheep       0.07      1.00      0.12         2\n",
      "          sink       0.03      0.60      0.06         5\n",
      "    skateboard       0.12      1.00      0.22         3\n",
      "          skis       0.15      1.00      0.27         8\n",
      "     snowboard       0.06      0.50      0.10         2\n",
      "         spoon       0.10      0.67      0.18         9\n",
      "   sports ball       0.27      1.00      0.43         3\n",
      "     stop sign       0.50      0.50      0.50         2\n",
      "      suitcase       0.11      0.22      0.15         9\n",
      "     surfboard       0.17      0.73      0.28        30\n",
      "    teddy bear       0.14      1.00      0.25         1\n",
      " tennis racket       0.12      1.00      0.22         2\n",
      "           tie       0.11      0.83      0.20         6\n",
      "       toaster       0.00      0.00      0.00         0\n",
      "        toilet       0.00      0.00      0.00         0\n",
      "    toothbrush       0.06      0.50      0.10         2\n",
      " traffic light       0.32      0.79      0.45        24\n",
      "         train       0.16      1.00      0.27         5\n",
      "         truck       0.15      0.68      0.24        19\n",
      "            tv       0.06      1.00      0.12         1\n",
      "      umbrella       0.42      0.85      0.56        34\n",
      "          vase       0.03      1.00      0.06         1\n",
      "    wine glass       0.06      0.50      0.11         4\n",
      "         zebra       0.56      1.00      0.72        14\n",
      "\n",
      "     micro avg       0.26      0.86      0.40      1735\n",
      "     macro avg       0.18      0.72      0.26      1735\n",
      "  weighted avg       0.41      0.86      0.53      1735\n",
      "\n"
     ]
    }
   ],
   "source": [
    "eval_results.print_report()"
   ]
  },
  {
   "cell_type": "code",
   "execution_count": 25,
   "id": "65e524d5-d3de-4e84-8b87-b03c54e12031",
   "metadata": {},
   "outputs": [],
   "source": [
    "# The top-10 most common classes\n",
    "counts = dataset.count_values(\"ground_truth.detections.label\")\n",
    "classes = sorted(counts, key=counts.get, reverse=True)[:10]"
   ]
  },
  {
   "cell_type": "code",
   "execution_count": 26,
   "id": "c9c0e635-9f30-4d5a-81c1-9b935d8e4841",
   "metadata": {},
   "outputs": [],
   "source": [
    "#PLOTS\n",
    "cm = eval_results.plot_confusion_matrix(classes=classes)"
   ]
  },
  {
   "cell_type": "code",
   "execution_count": 27,
   "id": "9a32a634-a072-42c9-aebe-e174b456da28",
   "metadata": {},
   "outputs": [],
   "source": [
    "session1.plots.attach(cm) # only jupyter"
   ]
  },
  {
   "cell_type": "code",
   "execution_count": 30,
   "id": "38b5361c-c11e-468f-b0c7-e68f152200d2",
   "metadata": {},
   "outputs": [
    {
     "data": {
      "text/plain": []
     },
     "metadata": {},
     "output_type": "display_data"
    },
    {
     "data": {
      "text/plain": []
     },
     "metadata": {},
     "output_type": "display_data"
    },
    {
     "data": {
      "application/vnd.jupyter.widget-view+json": {
       "model_id": "0181f3f41d9842cd8706cb8fe3eb9fcc",
       "version_major": 2,
       "version_minor": 0
      },
      "text/plain": [
       "FigureWidget({\n",
       "    'data': [{'mode': 'markers',\n",
       "              'opacity': 0.1,\n",
       "              'type': 'scatter',\n",
       "              'uid': '8ff7ed95-0c4e-4ee7-b736-adf1ac2a4e8a',\n",
       "              'x': array([ 0,  1,  2,  3,  4,  5,  6,  7,  8,  9, 10,  0,  1,  2,  3,  4,  5,  6,\n",
       "                           7,  8,  9, 10,  0,  1,  2,  3,  4,  5,  6,  7,  8,  9, 10,  0,  1,  2,\n",
       "                           3,  4,  5,  6,  7,  8,  9, 10,  0,  1,  2,  3,  4,  5,  6,  7,  8,  9,\n",
       "                          10,  0,  1,  2,  3,  4,  5,  6,  7,  8,  9, 10,  0,  1,  2,  3,  4,  5,\n",
       "                           6,  7,  8,  9, 10,  0,  1,  2,  3,  4,  5,  6,  7,  8,  9, 10,  0,  1,\n",
       "                           2,  3,  4,  5,  6,  7,  8,  9, 10,  0,  1,  2,  3,  4,  5,  6,  7,  8,\n",
       "                           9, 10,  0,  1,  2,  3,  4,  5,  6,  7,  8,  9, 10]),\n",
       "              'y': array([ 0,  0,  0,  0,  0,  0,  0,  0,  0,  0,  0,  1,  1,  1,  1,  1,  1,  1,\n",
       "                           1,  1,  1,  1,  2,  2,  2,  2,  2,  2,  2,  2,  2,  2,  2,  3,  3,  3,\n",
       "                           3,  3,  3,  3,  3,  3,  3,  3,  4,  4,  4,  4,  4,  4,  4,  4,  4,  4,\n",
       "                           4,  5,  5,  5,  5,  5,  5,  5,  5,  5,  5,  5,  6,  6,  6,  6,  6,  6,\n",
       "                           6,  6,  6,  6,  6,  7,  7,  7,  7,  7,  7,  7,  7,  7,  7,  7,  8,  8,\n",
       "                           8,  8,  8,  8,  8,  8,  8,  8,  8,  9,  9,  9,  9,  9,  9,  9,  9,  9,\n",
       "                           9,  9, 10, 10, 10, 10, 10, 10, 10, 10, 10, 10, 10])},\n",
       "             {'colorscale': [[0.0, 'rgb(255,245,235)'], [0.125,\n",
       "                             'rgb(254,230,206)'], [0.25, 'rgb(253,208,162)'],\n",
       "                             [0.375, 'rgb(253,174,107)'], [0.5, 'rgb(253,141,60)'],\n",
       "                             [0.625, 'rgb(241,105,19)'], [0.75, 'rgb(217,72,1)'],\n",
       "                             [0.875, 'rgb(166,54,3)'], [1.0, 'rgb(127,39,4)']],\n",
       "              'hoverinfo': 'skip',\n",
       "              'showscale': False,\n",
       "              'type': 'heatmap',\n",
       "              'uid': '06fe9380-c2f4-4c8d-a0a8-12d274ccbd10',\n",
       "              'z': array([[618,  84, 228,  47, 349, 164, 104,  36,  41,  37,   0],\n",
       "                          [  0,   0,   0,   0,   0,   0,   0,   0,   0,  21,   2],\n",
       "                          [  0,   0,   0,   0,   0,   0,   0,   0,  19,   0,   5],\n",
       "                          [  0,   0,   0,   0,   0,   0,   0,  20,   0,   0,   4],\n",
       "                          [  0,   0,   0,   0,   0,   0,  22,   0,   0,   0,   8],\n",
       "                          [  0,   0,   0,   0,   0,  17,   0,   0,   0,   0,  20],\n",
       "                          [  0,   0,   0,   0,  35,   0,   0,   0,   0,   0,  12],\n",
       "                          [  0,   0,   0,  86,   0,   0,   0,   0,   0,   0,  24],\n",
       "                          [  0,   0,  49,   0,   0,   0,   0,   0,   0,   0,  12],\n",
       "                          [  0, 123,   0,   0,   0,   0,   0,   0,   0,   0,  17],\n",
       "                          [672,   0,   0,   0,   0,   0,   0,   0,   0,   0,  44]]),\n",
       "              'zmax': 672,\n",
       "              'zmin': 0},\n",
       "             {'colorbar': {'len': 1, 'lenmode': 'fraction'},\n",
       "              'colorscale': [[0.0, 'rgb(255,245,235)'], [0.125,\n",
       "                             'rgb(254,230,206)'], [0.25, 'rgb(253,208,162)'],\n",
       "                             [0.375, 'rgb(253,174,107)'], [0.5, 'rgb(253,141,60)'],\n",
       "                             [0.625, 'rgb(241,105,19)'], [0.75, 'rgb(217,72,1)'],\n",
       "                             [0.875, 'rgb(166,54,3)'], [1.0, 'rgb(127,39,4)']],\n",
       "              'hovertemplate': '<b>count: %{z}</b><br>truth: %{y}<br>predicted: %{x}<extra></extra>',\n",
       "              'opacity': 0.25,\n",
       "              'type': 'heatmap',\n",
       "              'uid': '7fdf6559-b905-4bd7-824f-59f193e3bdf7',\n",
       "              'z': array([[618,  84, 228,  47, 349, 164, 104,  36,  41,  37,   0],\n",
       "                          [  0,   0,   0,   0,   0,   0,   0,   0,   0,  21,   2],\n",
       "                          [  0,   0,   0,   0,   0,   0,   0,   0,  19,   0,   5],\n",
       "                          [  0,   0,   0,   0,   0,   0,   0,  20,   0,   0,   4],\n",
       "                          [  0,   0,   0,   0,   0,   0,  22,   0,   0,   0,   8],\n",
       "                          [  0,   0,   0,   0,   0,  17,   0,   0,   0,   0,  20],\n",
       "                          [  0,   0,   0,   0,  35,   0,   0,   0,   0,   0,  12],\n",
       "                          [  0,   0,   0,  86,   0,   0,   0,   0,   0,   0,  24],\n",
       "                          [  0,   0,  49,   0,   0,   0,   0,   0,   0,   0,  12],\n",
       "                          [  0, 123,   0,   0,   0,   0,   0,   0,   0,   0,  17],\n",
       "                          [672,   0,   0,   0,   0,   0,   0,   0,   0,   0,  44]]),\n",
       "              'zmax': 672,\n",
       "              'zmin': 0}],\n",
       "    'layout': {'clickmode': 'event',\n",
       "               'template': '...',\n",
       "               'xaxis': {'constrain': 'domain',\n",
       "                         'range': [-0.5, 10.5],\n",
       "                         'tickmode': 'array',\n",
       "                         'ticktext': [person, kite, car, bird, carrot, boat,\n",
       "                                      surfboard, airplane, traffic light, giraffe,\n",
       "                                      (none)],\n",
       "                         'tickvals': array([ 0,  1,  2,  3,  4,  5,  6,  7,  8,  9, 10])},\n",
       "               'yaxis': {'constrain': 'domain',\n",
       "                         'range': [-0.5, 10.5],\n",
       "                         'scaleanchor': 'x',\n",
       "                         'scaleratio': 1,\n",
       "                         'tickmode': 'array',\n",
       "                         'ticktext': array(['(none)', 'giraffe', 'traffic light', 'airplane', 'surfboard', 'boat',\n",
       "                                            'carrot', 'bird', 'car', 'kite', 'person'], dtype=object),\n",
       "                         'tickvals': array([ 0,  1,  2,  3,  4,  5,  6,  7,  8,  9, 10])}}\n",
       "})"
      ]
     },
     "metadata": {},
     "output_type": "display_data"
    }
   ],
   "source": [
    "cm.show() #won't work in pycharm"
   ]
  },
  {
   "cell_type": "code",
   "execution_count": 29,
   "id": "cd76c3b4-7e43-42c1-8428-513983ece54c",
   "metadata": {},
   "outputs": [
    {
     "data": {
      "text/html": [
       "\n",
       "<style>\n",
       "@import url(\"https://fonts.googleapis.com/css2?family=Palanquin&display=swap\");\n",
       "\n",
       "body, html {\n",
       "  margin: 0;\n",
       "  padding: 0;\n",
       "  width: 100%;\n",
       "}\n",
       "\n",
       "#focontainer-75eb95f1-cb92-4368-9d3a-242b558d7bb0 {\n",
       "  position: relative;\n",
       "  height: 800px;\n",
       "  display: block !important;\n",
       "}\n",
       "#foactivate-75eb95f1-cb92-4368-9d3a-242b558d7bb0 {\n",
       "  font-weight: bold;\n",
       "  cursor: pointer;\n",
       "  font-size: 24px;\n",
       "  border-radius: 3px;\n",
       "  text-align: center;\n",
       "  padding: 0.5em;\n",
       "  color: rgb(255, 255, 255);\n",
       "  font-family: \"Palanquin\", sans-serif;\n",
       "  position: absolute;\n",
       "  left: 50%;\n",
       "  top: 50%;\n",
       "  width: 160px;\n",
       "  margin-left: -80px;\n",
       "  margin-top: -23px;\n",
       "  background: hsla(210,11%,15%, 0.8);\n",
       "  border: none;\n",
       "}\n",
       "#foactivate-75eb95f1-cb92-4368-9d3a-242b558d7bb0:focus {\n",
       "  outline: none;\n",
       "}\n",
       "#fooverlay-75eb95f1-cb92-4368-9d3a-242b558d7bb0 {\n",
       "  width: 100%;\n",
       "  height: 100%;\n",
       "  background: hsla(208, 7%, 46%, 0.7);\n",
       "  position: absolute;\n",
       "  top: 0;\n",
       "  left: 0;\n",
       "  display: none;\n",
       "  cursor: pointer;\n",
       "}\n",
       "</style>\n",
       "\n",
       "<div id=\"focontainer-75eb95f1-cb92-4368-9d3a-242b558d7bb0\">\n",
       "   <div id=\"fooverlay-75eb95f1-cb92-4368-9d3a-242b558d7bb0\" style=\"display: none;\">\n",
       "      <button id=\"foactivate-75eb95f1-cb92-4368-9d3a-242b558d7bb0\" >Activate</button>\n",
       "   </div>\n",
       "   <img src='data:image/jpeg;base64,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' style=\"width: 100%; max-width: 1193px;\"/>\n",
       "</div>\n",
       "\n",
       "<script type=\"text/javascript\">\n",
       "   (function() {\n",
       "     var container = document.getElementById(\"focontainer-75eb95f1-cb92-4368-9d3a-242b558d7bb0\");\n",
       "     var overlay = document.getElementById(\"fooverlay-75eb95f1-cb92-4368-9d3a-242b558d7bb0\");\n",
       "     fetch(`http://localhost:5151/fiftyone`)\n",
       "     .then(() => {\n",
       "        overlay.addEventListener(\"click\", () => {\n",
       "          fetch(`http://localhost:5151/event`, {\n",
       "            method: \"POST\",\n",
       "            body: JSON.stringify({\n",
       "              event: \"reactivate_notebook_cell\",\n",
       "              data: { subscription: \"75eb95f1-cb92-4368-9d3a-242b558d7bb0\" },\n",
       "              subscription: \"75eb95f1-cb92-4368-9d3a-242b558d7bb0\"\n",
       "            })\n",
       "          })\n",
       "        });\n",
       "        container.addEventListener(\"mouseenter\", () => overlay.style.display = \"block\");\n",
       "        container.addEventListener(\"mouseleave\", () => overlay.style.display = \"none\");\n",
       "     });\n",
       "   })();\n",
       "</script>"
      ],
      "text/plain": [
       "<IPython.core.display.HTML object>"
      ]
     },
     "metadata": {},
     "output_type": "display_data"
    }
   ],
   "source": [
    "session1.show()"
   ]
  },
  {
   "cell_type": "code",
   "execution_count": 31,
   "id": "7c24fc9a-5d07-4cbf-ac46-9dfd333eaa1a",
   "metadata": {},
   "outputs": [
    {
     "name": "stdout",
     "output_type": "stream",
     "text": [
      "Evaluating detections...\n",
      " 100% |█████████████████| 200/200 [4.1s elapsed, 0s remaining, 36.6 samples/s]      \n",
      "Performing IoU sweep...\n",
      " 100% |█████████████████| 200/200 [5.4s elapsed, 0s remaining, 29.1 samples/s]      \n"
     ]
    }
   ],
   "source": [
    "# Performs an IoU sweep so that mAP and PR curves can be computed\n",
    "results = dataset.evaluate_detections(\n",
    "    \"predictions\",\n",
    "    gt_field=\"ground_truth\",\n",
    "    compute_mAP=True,\n",
    ")"
   ]
  },
  {
   "cell_type": "code",
   "execution_count": 32,
   "id": "418a32e9-fe3e-4e9b-9eb5-658cf49769c9",
   "metadata": {},
   "outputs": [
    {
     "name": "stdout",
     "output_type": "stream",
     "text": [
      "0.3957238101325776\n"
     ]
    }
   ],
   "source": [
    "print(results.mAP())"
   ]
  },
  {
   "cell_type": "code",
   "execution_count": 33,
   "id": "c1620a77-b2df-4b86-b546-d9a3c83298d4",
   "metadata": {},
   "outputs": [
    {
     "data": {
      "text/plain": []
     },
     "metadata": {},
     "output_type": "display_data"
    },
    {
     "data": {
      "text/plain": []
     },
     "metadata": {},
     "output_type": "display_data"
    },
    {
     "data": {
      "application/vnd.jupyter.widget-view+json": {
       "model_id": "52795eebfd2145f1b69ba05d856ec96e",
       "version_major": 2,
       "version_minor": 0
      },
      "text/plain": [
       "FigureWidget({\n",
       "    'data': [{'customdata': array([0.99981445, 0.99971025, 0.99933897, 0.99146698, 0.89948725, 0.89933202,\n",
       "                                   0.89920615, 0.8990235 , 0.89863278, 0.89828128, 0.89810774, 0.89736113,\n",
       "                                   0.89694064, 0.89569733, 0.89247285, 0.8879249 , 0.88152048, 0.81809828,\n",
       "                                   0.79508709, 0.79479273, 0.79435104, 0.79367471, 0.79314081, 0.79214821,\n",
       "                                   0.79109748, 0.7896721 , 0.78796003, 0.78567557, 0.77992168, 0.77624626,\n",
       "                                   0.77238688, 0.76858566, 0.74028469, 0.71128512, 0.68377445, 0.68253206,\n",
       "                                   0.68021176, 0.67790278, 0.67524313, 0.6687835 , 0.66507474, 0.66118948,\n",
       "                                   0.65797289, 0.64610919, 0.6392695 , 0.61132967, 0.59846317, 0.58963702,\n",
       "                                   0.57124192, 0.55173311, 0.54765629, 0.53897182, 0.52870825, 0.51907299,\n",
       "                                   0.49691882, 0.47944629, 0.46605456, 0.45220594, 0.43347933, 0.40586855,\n",
       "                                   0.39449654, 0.38014933, 0.36439801, 0.34962354, 0.33565284, 0.31247639,\n",
       "                                   0.30068812, 0.28303293, 0.25961261, 0.23618781, 0.22427873, 0.20597611,\n",
       "                                   0.18443405, 0.17062171, 0.16193175, 0.13553562, 0.11465184, 0.10438898,\n",
       "                                   0.09264527, 0.07971501, 0.06218805, 0.05526922, 0.04992771, 0.04127994,\n",
       "                                   0.03186953, 0.02409054, 0.01545252, 0.01129674, 0.00697212, 0.        ,\n",
       "                                   0.        , 0.        , 0.        , 0.        , 0.        , 0.        ,\n",
       "                                   0.        , 0.        , 0.        , 0.        , 0.        ]),\n",
       "              'hovertemplate': ('<b>class: %{text}</b><br>recal' ... 'customdata:.3f}<extra></extra>'),\n",
       "              'line': {'color': '#3366CC'},\n",
       "              'mode': 'lines',\n",
       "              'name': 'person (AP = 0.469)',\n",
       "              'text': array(['person', 'person', 'person', 'person', 'person', 'person', 'person',\n",
       "                             'person', 'person', 'person', 'person', 'person', 'person', 'person',\n",
       "                             'person', 'person', 'person', 'person', 'person', 'person', 'person',\n",
       "                             'person', 'person', 'person', 'person', 'person', 'person', 'person',\n",
       "                             'person', 'person', 'person', 'person', 'person', 'person', 'person',\n",
       "                             'person', 'person', 'person', 'person', 'person', 'person', 'person',\n",
       "                             'person', 'person', 'person', 'person', 'person', 'person', 'person',\n",
       "                             'person', 'person', 'person', 'person', 'person', 'person', 'person',\n",
       "                             'person', 'person', 'person', 'person', 'person', 'person', 'person',\n",
       "                             'person', 'person', 'person', 'person', 'person', 'person', 'person',\n",
       "                             'person', 'person', 'person', 'person', 'person', 'person', 'person',\n",
       "                             'person', 'person', 'person', 'person', 'person', 'person', 'person',\n",
       "                             'person', 'person', 'person', 'person', 'person', 'person', 'person',\n",
       "                             'person', 'person', 'person', 'person', 'person', 'person', 'person',\n",
       "                             'person', 'person', 'person'], dtype='<U6'),\n",
       "              'type': 'scatter',\n",
       "              'uid': '796687a7-99dc-41ea-bd13-55e33476c334',\n",
       "              'x': array([0.  , 0.01, 0.02, 0.03, 0.04, 0.05, 0.06, 0.07, 0.08, 0.09, 0.1 , 0.11,\n",
       "                          0.12, 0.13, 0.14, 0.15, 0.16, 0.17, 0.18, 0.19, 0.2 , 0.21, 0.22, 0.23,\n",
       "                          0.24, 0.25, 0.26, 0.27, 0.28, 0.29, 0.3 , 0.31, 0.32, 0.33, 0.34, 0.35,\n",
       "                          0.36, 0.37, 0.38, 0.39, 0.4 , 0.41, 0.42, 0.43, 0.44, 0.45, 0.46, 0.47,\n",
       "                          0.48, 0.49, 0.5 , 0.51, 0.52, 0.53, 0.54, 0.55, 0.56, 0.57, 0.58, 0.59,\n",
       "                          0.6 , 0.61, 0.62, 0.63, 0.64, 0.65, 0.66, 0.67, 0.68, 0.69, 0.7 , 0.71,\n",
       "                          0.72, 0.73, 0.74, 0.75, 0.76, 0.77, 0.78, 0.79, 0.8 , 0.81, 0.82, 0.83,\n",
       "                          0.84, 0.85, 0.86, 0.87, 0.88, 0.89, 0.9 , 0.91, 0.92, 0.93, 0.94, 0.95,\n",
       "                          0.96, 0.97, 0.98, 0.99, 1.  ]),\n",
       "              'y': array([0.91923077, 0.88681319, 0.87557355, 0.86807112, 0.86153846, 0.85497738,\n",
       "                          0.8517094 , 0.8484226 , 0.8351586 , 0.8310281 , 0.82988988, 0.81855577,\n",
       "                          0.81586385, 0.81038136, 0.79658323, 0.79125878, 0.78671458, 0.76116208,\n",
       "                          0.74581199, 0.74187431, 0.74082754, 0.73877784, 0.73698151, 0.73255133,\n",
       "                          0.72866671, 0.72265375, 0.71947798, 0.71493389, 0.70430859, 0.70287691,\n",
       "                          0.70015658, 0.69552679, 0.68286259, 0.66772274, 0.64071078, 0.63918989,\n",
       "                          0.63383227, 0.62909262, 0.6206565 , 0.61181735, 0.6077258 , 0.60083806,\n",
       "                          0.59523566, 0.58371577, 0.57860034, 0.56523949, 0.5597376 , 0.555483  ,\n",
       "                          0.54386987, 0.51221908, 0.50786083, 0.50157344, 0.49464701, 0.48943927,\n",
       "                          0.47894304, 0.47189892, 0.46458863, 0.45697757, 0.44436727, 0.40401447,\n",
       "                          0.39979268, 0.39225128, 0.38343786, 0.37632265, 0.36889867, 0.35642549,\n",
       "                          0.35123182, 0.34252954, 0.32674957, 0.28968146, 0.28471589, 0.27726177,\n",
       "                          0.26356067, 0.25757634, 0.25298121, 0.23136377, 0.19090631, 0.18344345,\n",
       "                          0.17683589, 0.16492103, 0.12290818, 0.11740569, 0.11332946, 0.10628424,\n",
       "                          0.09737345, 0.08770682, 0.04891975, 0.04458333, 0.0386174 , 0.        ,\n",
       "                          0.        , 0.        , 0.        , 0.        , 0.        , 0.        ,\n",
       "                          0.        , 0.        , 0.        , 0.        , 0.        ])},\n",
       "             {'customdata': array([0.99891448, 0.99891448, 0.99812043, 0.99781221, 0.99781221, 0.99708987,\n",
       "                                   0.99675134, 0.99497979, 0.99497979, 0.89720337, 0.89689009, 0.89634794,\n",
       "                                   0.89634794, 0.89582993, 0.89473051, 0.89473051, 0.89345058, 0.89254058,\n",
       "                                   0.79465134, 0.79465134, 0.79346237, 0.79300302, 0.79226256, 0.79226256,\n",
       "                                   0.79148862, 0.79064933, 0.79064933, 0.78966264, 0.7874805 , 0.78580551,\n",
       "                                   0.78580551, 0.77843411, 0.73028161, 0.69723   , 0.69723   , 0.68815871,\n",
       "                                   0.68679316, 0.68449506, 0.68449506, 0.68244727, 0.67797742, 0.67797742,\n",
       "                                   0.67428693, 0.62610902, 0.6117749 , 0.6117749 , 0.58936196, 0.57566236,\n",
       "                                   0.56715315, 0.56715315, 0.55877134, 0.55231621, 0.55231621, 0.52339867,\n",
       "                                   0.46423211, 0.44055491, 0.44055491, 0.41400315, 0.34429185, 0.3268968 ,\n",
       "                                   0.3268968 , 0.24788913, 0.21496122, 0.21496122, 0.18653455, 0.16220194,\n",
       "                                   0.11651844, 0.11651844, 0.10068391, 0.06929949, 0.06422291, 0.06422291,\n",
       "                                   0.06220916, 0.03455678, 0.0167983 , 0.0167983 , 0.01369008, 0.        ,\n",
       "                                   0.        , 0.        , 0.        , 0.        , 0.        , 0.        ,\n",
       "                                   0.        , 0.        , 0.        , 0.        , 0.        , 0.        ,\n",
       "                                   0.        , 0.        , 0.        , 0.        , 0.        , 0.        ,\n",
       "                                   0.        , 0.        , 0.        , 0.        , 0.        ]),\n",
       "              'hovertemplate': ('<b>class: %{text}</b><br>recal' ... 'customdata:.3f}<extra></extra>'),\n",
       "              'line': {'color': '#DC3912'},\n",
       "              'mode': 'lines',\n",
       "              'name': 'kite (AP = 0.449)',\n",
       "              'text': array(['kite', 'kite', 'kite', 'kite', 'kite', 'kite', 'kite', 'kite', 'kite',\n",
       "                             'kite', 'kite', 'kite', 'kite', 'kite', 'kite', 'kite', 'kite', 'kite',\n",
       "                             'kite', 'kite', 'kite', 'kite', 'kite', 'kite', 'kite', 'kite', 'kite',\n",
       "                             'kite', 'kite', 'kite', 'kite', 'kite', 'kite', 'kite', 'kite', 'kite',\n",
       "                             'kite', 'kite', 'kite', 'kite', 'kite', 'kite', 'kite', 'kite', 'kite',\n",
       "                             'kite', 'kite', 'kite', 'kite', 'kite', 'kite', 'kite', 'kite', 'kite',\n",
       "                             'kite', 'kite', 'kite', 'kite', 'kite', 'kite', 'kite', 'kite', 'kite',\n",
       "                             'kite', 'kite', 'kite', 'kite', 'kite', 'kite', 'kite', 'kite', 'kite',\n",
       "                             'kite', 'kite', 'kite', 'kite', 'kite', 'kite', 'kite', 'kite', 'kite',\n",
       "                             'kite', 'kite', 'kite', 'kite', 'kite', 'kite', 'kite', 'kite', 'kite',\n",
       "                             'kite', 'kite', 'kite', 'kite', 'kite', 'kite', 'kite', 'kite', 'kite',\n",
       "                             'kite', 'kite'], dtype='<U4'),\n",
       "              'type': 'scatter',\n",
       "              'uid': 'f75eff5d-2a24-48eb-9c5f-a230b99c67fb',\n",
       "              'x': array([0.  , 0.01, 0.02, 0.03, 0.04, 0.05, 0.06, 0.07, 0.08, 0.09, 0.1 , 0.11,\n",
       "                          0.12, 0.13, 0.14, 0.15, 0.16, 0.17, 0.18, 0.19, 0.2 , 0.21, 0.22, 0.23,\n",
       "                          0.24, 0.25, 0.26, 0.27, 0.28, 0.29, 0.3 , 0.31, 0.32, 0.33, 0.34, 0.35,\n",
       "                          0.36, 0.37, 0.38, 0.39, 0.4 , 0.41, 0.42, 0.43, 0.44, 0.45, 0.46, 0.47,\n",
       "                          0.48, 0.49, 0.5 , 0.51, 0.52, 0.53, 0.54, 0.55, 0.56, 0.57, 0.58, 0.59,\n",
       "                          0.6 , 0.61, 0.62, 0.63, 0.64, 0.65, 0.66, 0.67, 0.68, 0.69, 0.7 , 0.71,\n",
       "                          0.72, 0.73, 0.74, 0.75, 0.76, 0.77, 0.78, 0.79, 0.8 , 0.81, 0.82, 0.83,\n",
       "                          0.84, 0.85, 0.86, 0.87, 0.88, 0.89, 0.9 , 0.91, 0.92, 0.93, 0.94, 0.95,\n",
       "                          0.96, 0.97, 0.98, 0.99, 1.  ]),\n",
       "              'y': array([1.        , 1.        , 0.91666667, 0.85761905, 0.85761905, 0.85142857,\n",
       "                          0.8472619 , 0.83798942, 0.83798942, 0.81410053, 0.80910053, 0.8007672 ,\n",
       "                          0.8007672 , 0.79671958, 0.7955291 , 0.7955291 , 0.78775968, 0.78775968,\n",
       "                          0.73742618, 0.73742618, 0.73742618, 0.73742618, 0.73742618, 0.73742618,\n",
       "                          0.73742618, 0.73742618, 0.73742618, 0.73742618, 0.73402116, 0.73402116,\n",
       "                          0.73402116, 0.72195145, 0.70464315, 0.69296423, 0.69296423, 0.67084034,\n",
       "                          0.67084034, 0.66578755, 0.66578755, 0.66578755, 0.66119601, 0.66119601,\n",
       "                          0.6560119 , 0.63467181, 0.63167247, 0.63167247, 0.61370269, 0.5775    ,\n",
       "                          0.55681818, 0.55681818, 0.54781431, 0.54340208, 0.54340208, 0.51579899,\n",
       "                          0.47093805, 0.45554501, 0.45554501, 0.44581218, 0.39995051, 0.36082166,\n",
       "                          0.36082166, 0.31212881, 0.30052503, 0.30052503, 0.25570946, 0.24661855,\n",
       "                          0.22572099, 0.22572099, 0.21961986, 0.16902597, 0.16528213, 0.16528213,\n",
       "                          0.1642562 , 0.14279588, 0.09090909, 0.09090909, 0.08484848, 0.        ,\n",
       "                          0.        , 0.        , 0.        , 0.        , 0.        , 0.        ,\n",
       "                          0.        , 0.        , 0.        , 0.        , 0.        , 0.        ,\n",
       "                          0.        , 0.        , 0.        , 0.        , 0.        , 0.        ,\n",
       "                          0.        , 0.        , 0.        , 0.        , 0.        ])},\n",
       "             {'customdata': array([0.99445748, 0.92941872, 0.88968084, 0.88968084, 0.88273637, 0.87724458,\n",
       "                                   0.87724458, 0.86641925, 0.86641925, 0.8579754 , 0.84240721, 0.84240721,\n",
       "                                   0.79912558, 0.79912558, 0.75609893, 0.74701732, 0.74701732, 0.74229053,\n",
       "                                   0.74229053, 0.73922852, 0.72842185, 0.72842185, 0.70563062, 0.70049364,\n",
       "                                   0.70049364, 0.65630085, 0.65630085, 0.60717514, 0.59930844, 0.59930844,\n",
       "                                   0.58149074, 0.58149074, 0.57295395, 0.54556559, 0.54556559, 0.51604995,\n",
       "                                   0.51604995, 0.50782858, 0.48340314, 0.48340314, 0.45947437, 0.43626257,\n",
       "                                   0.43626257, 0.41219799, 0.41219799, 0.38893473, 0.37416168, 0.37416168,\n",
       "                                   0.35298231, 0.35298231, 0.32475131, 0.31470782, 0.31470782, 0.30554865,\n",
       "                                   0.30554865, 0.28033231, 0.26079923, 0.26079923, 0.22826411, 0.22826411,\n",
       "                                   0.20863282, 0.18557742, 0.18557742, 0.16994637, 0.14831489, 0.14831489,\n",
       "                                   0.12560252, 0.12560252, 0.10075929, 0.08466304, 0.08466304, 0.06046533,\n",
       "                                   0.06046533, 0.05287145, 0.05194135, 0.05194135, 0.0489673 , 0.0489673 ,\n",
       "                                   0.04278547, 0.02696126, 0.02696126, 0.        , 0.        , 0.        ,\n",
       "                                   0.        , 0.        , 0.        , 0.        , 0.        , 0.        ,\n",
       "                                   0.        , 0.        , 0.        , 0.        , 0.        , 0.        ,\n",
       "                                   0.        , 0.        , 0.        , 0.        , 0.        ]),\n",
       "              'hovertemplate': ('<b>class: %{text}</b><br>recal' ... 'customdata:.3f}<extra></extra>'),\n",
       "              'line': {'color': '#FF9900'},\n",
       "              'mode': 'lines',\n",
       "              'name': 'car (AP = 0.324)',\n",
       "              'text': array(['car', 'car', 'car', 'car', 'car', 'car', 'car', 'car', 'car', 'car',\n",
       "                             'car', 'car', 'car', 'car', 'car', 'car', 'car', 'car', 'car', 'car',\n",
       "                             'car', 'car', 'car', 'car', 'car', 'car', 'car', 'car', 'car', 'car',\n",
       "                             'car', 'car', 'car', 'car', 'car', 'car', 'car', 'car', 'car', 'car',\n",
       "                             'car', 'car', 'car', 'car', 'car', 'car', 'car', 'car', 'car', 'car',\n",
       "                             'car', 'car', 'car', 'car', 'car', 'car', 'car', 'car', 'car', 'car',\n",
       "                             'car', 'car', 'car', 'car', 'car', 'car', 'car', 'car', 'car', 'car',\n",
       "                             'car', 'car', 'car', 'car', 'car', 'car', 'car', 'car', 'car', 'car',\n",
       "                             'car', 'car', 'car', 'car', 'car', 'car', 'car', 'car', 'car', 'car',\n",
       "                             'car', 'car', 'car', 'car', 'car', 'car', 'car', 'car', 'car', 'car',\n",
       "                             'car'], dtype='<U3'),\n",
       "              'type': 'scatter',\n",
       "              'uid': 'dba98475-7134-4212-9b0b-b8207bd7cab6',\n",
       "              'x': array([0.  , 0.01, 0.02, 0.03, 0.04, 0.05, 0.06, 0.07, 0.08, 0.09, 0.1 , 0.11,\n",
       "                          0.12, 0.13, 0.14, 0.15, 0.16, 0.17, 0.18, 0.19, 0.2 , 0.21, 0.22, 0.23,\n",
       "                          0.24, 0.25, 0.26, 0.27, 0.28, 0.29, 0.3 , 0.31, 0.32, 0.33, 0.34, 0.35,\n",
       "                          0.36, 0.37, 0.38, 0.39, 0.4 , 0.41, 0.42, 0.43, 0.44, 0.45, 0.46, 0.47,\n",
       "                          0.48, 0.49, 0.5 , 0.51, 0.52, 0.53, 0.54, 0.55, 0.56, 0.57, 0.58, 0.59,\n",
       "                          0.6 , 0.61, 0.62, 0.63, 0.64, 0.65, 0.66, 0.67, 0.68, 0.69, 0.7 , 0.71,\n",
       "                          0.72, 0.73, 0.74, 0.75, 0.76, 0.77, 0.78, 0.79, 0.8 , 0.81, 0.82, 0.83,\n",
       "                          0.84, 0.85, 0.86, 0.87, 0.88, 0.89, 0.9 , 0.91, 0.92, 0.93, 0.94, 0.95,\n",
       "                          0.96, 0.97, 0.98, 0.99, 1.  ]),\n",
       "              'y': array([0.74770833, 0.74770833, 0.74666667, 0.74666667, 0.74666667, 0.74666667,\n",
       "                          0.74666667, 0.74142857, 0.74142857, 0.66642857, 0.65989362, 0.65989362,\n",
       "                          0.64833333, 0.64833333, 0.62804598, 0.62804598, 0.62804598, 0.61927405,\n",
       "                          0.61927405, 0.61355322, 0.608867  , 0.608867  , 0.54392652, 0.54392652,\n",
       "                          0.54392652, 0.51246377, 0.51246377, 0.48178571, 0.48178571, 0.48178571,\n",
       "                          0.47222689, 0.47222689, 0.47131274, 0.45845238, 0.45845238, 0.43891369,\n",
       "                          0.43891369, 0.43405962, 0.41705252, 0.41705252, 0.39889133, 0.38564205,\n",
       "                          0.38564205, 0.37281795, 0.37281795, 0.35302202, 0.34513993, 0.34513993,\n",
       "                          0.33347949, 0.33347949, 0.31578347, 0.30951665, 0.30951665, 0.30579151,\n",
       "                          0.30579151, 0.27811293, 0.26281423, 0.26281423, 0.2371805 , 0.2371805 ,\n",
       "                          0.22107985, 0.19275064, 0.19275064, 0.18712544, 0.17405633, 0.17405633,\n",
       "                          0.16027273, 0.16027273, 0.14203367, 0.13062145, 0.13062145, 0.09780902,\n",
       "                          0.09780902, 0.09459459, 0.09459459, 0.09459459, 0.09326035, 0.09326035,\n",
       "                          0.08933092, 0.05833333, 0.05833333, 0.        , 0.        , 0.        ,\n",
       "                          0.        , 0.        , 0.        , 0.        , 0.        , 0.        ,\n",
       "                          0.        , 0.        , 0.        , 0.        , 0.        , 0.        ,\n",
       "                          0.        , 0.        , 0.        , 0.        , 0.        ])}],\n",
       "    'layout': {'margin': {'b': 0, 'l': 0, 'r': 0, 't': 30},\n",
       "               'shapes': [{'line': {'dash': 'dash'}, 'type': 'line', 'x0': 0, 'x1': 1, 'y0': 1, 'y1': 0}],\n",
       "               'template': '...',\n",
       "               'xaxis': {'constrain': 'domain', 'range': [0, 1], 'title': {'text': 'Recall'}},\n",
       "               'yaxis': {'constrain': 'domain',\n",
       "                         'range': [0, 1],\n",
       "                         'scaleanchor': 'x',\n",
       "                         'scaleratio': 1,\n",
       "                         'title': {'text': 'Precision'}}}\n",
       "})"
      ]
     },
     "metadata": {},
     "output_type": "display_data"
    }
   ],
   "source": [
    "plot = results.plot_pr_curves(classes=[\"person\", \"kite\", \"car\"])\n",
    "plot.show()"
   ]
  },
  {
   "cell_type": "code",
   "execution_count": 34,
   "id": "4e92fe95-9227-404a-a784-57a653e4ba43",
   "metadata": {},
   "outputs": [
    {
     "data": {
      "text/plain": []
     },
     "metadata": {},
     "output_type": "display_data"
    },
    {
     "data": {
      "text/plain": []
     },
     "metadata": {},
     "output_type": "display_data"
    },
    {
     "data": {
      "application/vnd.jupyter.widget-view+json": {
       "model_id": "f94cc68c76b2477d814103348945bfcf",
       "version_major": 2,
       "version_minor": 0
      },
      "text/plain": [
       "FigureWidget({\n",
       "    'data': [{'mode': 'markers',\n",
       "              'opacity': 0.1,\n",
       "              'type': 'scatter',\n",
       "              'uid': '012f504d-c96e-4c2e-844a-59ef629f7783',\n",
       "              'x': array([ 0,  1,  2,  3,  4,  5,  6,  7,  8,  9, 10,  0,  1,  2,  3,  4,  5,  6,\n",
       "                           7,  8,  9, 10,  0,  1,  2,  3,  4,  5,  6,  7,  8,  9, 10,  0,  1,  2,\n",
       "                           3,  4,  5,  6,  7,  8,  9, 10,  0,  1,  2,  3,  4,  5,  6,  7,  8,  9,\n",
       "                          10,  0,  1,  2,  3,  4,  5,  6,  7,  8,  9, 10,  0,  1,  2,  3,  4,  5,\n",
       "                           6,  7,  8,  9, 10,  0,  1,  2,  3,  4,  5,  6,  7,  8,  9, 10,  0,  1,\n",
       "                           2,  3,  4,  5,  6,  7,  8,  9, 10,  0,  1,  2,  3,  4,  5,  6,  7,  8,\n",
       "                           9, 10,  0,  1,  2,  3,  4,  5,  6,  7,  8,  9, 10]),\n",
       "              'y': array([ 0,  0,  0,  0,  0,  0,  0,  0,  0,  0,  0,  1,  1,  1,  1,  1,  1,  1,\n",
       "                           1,  1,  1,  1,  2,  2,  2,  2,  2,  2,  2,  2,  2,  2,  2,  3,  3,  3,\n",
       "                           3,  3,  3,  3,  3,  3,  3,  3,  4,  4,  4,  4,  4,  4,  4,  4,  4,  4,\n",
       "                           4,  5,  5,  5,  5,  5,  5,  5,  5,  5,  5,  5,  6,  6,  6,  6,  6,  6,\n",
       "                           6,  6,  6,  6,  6,  7,  7,  7,  7,  7,  7,  7,  7,  7,  7,  7,  8,  8,\n",
       "                           8,  8,  8,  8,  8,  8,  8,  8,  8,  9,  9,  9,  9,  9,  9,  9,  9,  9,\n",
       "                           9,  9, 10, 10, 10, 10, 10, 10, 10, 10, 10, 10, 10])},\n",
       "             {'colorscale': [[0.0, 'rgb(255,245,235)'], [0.125,\n",
       "                             'rgb(254,230,206)'], [0.25, 'rgb(253,208,162)'],\n",
       "                             [0.375, 'rgb(253,174,107)'], [0.5, 'rgb(253,141,60)'],\n",
       "                             [0.625, 'rgb(241,105,19)'], [0.75, 'rgb(217,72,1)'],\n",
       "                             [0.875, 'rgb(166,54,3)'], [1.0, 'rgb(127,39,4)']],\n",
       "              'hoverinfo': 'skip',\n",
       "              'showscale': False,\n",
       "              'type': 'heatmap',\n",
       "              'uid': '73553e99-d266-4310-9e31-dae348617f2c',\n",
       "              'z': array([[618,  84, 228,  47, 349, 164, 104,  36,  41,  37,   0],\n",
       "                          [  0,   0,   0,   0,   0,   0,   0,   0,   0,  21,   2],\n",
       "                          [  0,   0,   0,   0,   0,   0,   0,   0,  19,   0,   5],\n",
       "                          [  0,   0,   0,   0,   0,   0,   0,  20,   0,   0,   4],\n",
       "                          [  0,   0,   0,   0,   0,   0,  22,   0,   0,   0,   8],\n",
       "                          [  0,   0,   0,   0,   0,  17,   0,   0,   0,   0,  20],\n",
       "                          [  0,   0,   0,   0,  35,   0,   0,   0,   0,   0,  12],\n",
       "                          [  0,   0,   0,  86,   0,   0,   0,   0,   0,   0,  24],\n",
       "                          [  0,   0,  49,   0,   0,   0,   0,   0,   0,   0,  12],\n",
       "                          [  0, 123,   0,   0,   0,   0,   0,   0,   0,   0,  17],\n",
       "                          [672,   0,   0,   0,   0,   0,   0,   0,   0,   0,  44]]),\n",
       "              'zmax': 672,\n",
       "              'zmin': 0},\n",
       "             {'colorbar': {'len': 1, 'lenmode': 'fraction'},\n",
       "              'colorscale': [[0.0, 'rgb(255,245,235)'], [0.125,\n",
       "                             'rgb(254,230,206)'], [0.25, 'rgb(253,208,162)'],\n",
       "                             [0.375, 'rgb(253,174,107)'], [0.5, 'rgb(253,141,60)'],\n",
       "                             [0.625, 'rgb(241,105,19)'], [0.75, 'rgb(217,72,1)'],\n",
       "                             [0.875, 'rgb(166,54,3)'], [1.0, 'rgb(127,39,4)']],\n",
       "              'hovertemplate': '<b>count: %{z}</b><br>truth: %{y}<br>predicted: %{x}<extra></extra>',\n",
       "              'opacity': 0.25,\n",
       "              'type': 'heatmap',\n",
       "              'uid': '864a3aac-38b5-4ec9-978b-a5ce147f96f5',\n",
       "              'z': array([[618,  84, 228,  47, 349, 164, 104,  36,  41,  37,   0],\n",
       "                          [  0,   0,   0,   0,   0,   0,   0,   0,   0,  21,   2],\n",
       "                          [  0,   0,   0,   0,   0,   0,   0,   0,  19,   0,   5],\n",
       "                          [  0,   0,   0,   0,   0,   0,   0,  20,   0,   0,   4],\n",
       "                          [  0,   0,   0,   0,   0,   0,  22,   0,   0,   0,   8],\n",
       "                          [  0,   0,   0,   0,   0,  17,   0,   0,   0,   0,  20],\n",
       "                          [  0,   0,   0,   0,  35,   0,   0,   0,   0,   0,  12],\n",
       "                          [  0,   0,   0,  86,   0,   0,   0,   0,   0,   0,  24],\n",
       "                          [  0,   0,  49,   0,   0,   0,   0,   0,   0,   0,  12],\n",
       "                          [  0, 123,   0,   0,   0,   0,   0,   0,   0,   0,  17],\n",
       "                          [672,   0,   0,   0,   0,   0,   0,   0,   0,   0,  44]]),\n",
       "              'zmax': 672,\n",
       "              'zmin': 0}],\n",
       "    'layout': {'clickmode': 'event',\n",
       "               'margin': {'b': 0, 'l': 0, 'r': 0, 't': 30},\n",
       "               'template': '...',\n",
       "               'title': {},\n",
       "               'xaxis': {'constrain': 'domain',\n",
       "                         'range': [-0.5, 10.5],\n",
       "                         'tickmode': 'array',\n",
       "                         'ticktext': [person, kite, car, bird, carrot, boat,\n",
       "                                      surfboard, airplane, traffic light, giraffe,\n",
       "                                      (none)],\n",
       "                         'tickvals': array([ 0,  1,  2,  3,  4,  5,  6,  7,  8,  9, 10])},\n",
       "               'yaxis': {'constrain': 'domain',\n",
       "                         'range': [-0.5, 10.5],\n",
       "                         'scaleanchor': 'x',\n",
       "                         'scaleratio': 1,\n",
       "                         'tickmode': 'array',\n",
       "                         'ticktext': array(['(none)', 'giraffe', 'traffic light', 'airplane', 'surfboard', 'boat',\n",
       "                                            'carrot', 'bird', 'car', 'kite', 'person'], dtype=object),\n",
       "                         'tickvals': array([ 0,  1,  2,  3,  4,  5,  6,  7,  8,  9, 10])}}\n",
       "})"
      ]
     },
     "metadata": {},
     "output_type": "display_data"
    }
   ],
   "source": [
    "plot1 = results.plot_confusion_matrix(classes=classes)\n",
    "plot1.show()"
   ]
  },
  {
   "cell_type": "markdown",
   "id": "6d1966e9-bf71-4564-9bf1-eb924c08173a",
   "metadata": {},
   "source": [
    "Can be used to convert annotations from type to type "
   ]
  },
  {
   "cell_type": "code",
   "execution_count": 35,
   "id": "78bb76f0-e7fe-410a-a047-1886f73d56a4",
   "metadata": {},
   "outputs": [
    {
     "name": "stdout",
     "output_type": "stream",
     "text": [
      "Found multiple fields ['ground_truth', 'predictions', 'owlvit_1', 'predictions_faster', 'fo_faster_rcnn', 'fo_yolo5'] with compatible type (<class 'fiftyone.core.labels.Detections'>, <class 'fiftyone.core.labels.Polylines'>, <class 'fiftyone.core.labels.Keypoints'>); exporting 'ground_truth'\n",
      " 100% |█████████████████| 200/200 [2.0s elapsed, 0s remaining, 102.8 samples/s]      \n"
     ]
    }
   ],
   "source": [
    "export_dir = \"~/temp/fiftyone-dataset\"\n",
    "\n",
    "# The dataset or view to export\n",
    "dataset_or_view = dataset\n",
    "\n",
    "# Export the dataset without copying the media files\n",
    "dataset_or_view.export(\n",
    "    export_dir=export_dir,\n",
    "    dataset_type=fo.types.COCODetectionDataset,\n",
    "    export_media=False,\n",
    ")"
   ]
  },
  {
   "cell_type": "markdown",
   "id": "7995a191-ba70-4b0e-bef8-355034f7b560",
   "metadata": {},
   "source": [
    "See https://docs.voxel51.com/tutorials/detection_mistakes.html"
   ]
  },
  {
   "cell_type": "code",
   "execution_count": 36,
   "id": "62ac9f4b-d374-425d-96a9-b2e9d4039d07",
   "metadata": {},
   "outputs": [
    {
     "name": "stdout",
     "output_type": "stream",
     "text": [
      "Evaluating detections...\n",
      " 100% |█████████████████| 200/200 [17.2s elapsed, 0s remaining, 7.9 samples/s]       \n",
      "Computing mistakenness...\n",
      " 100% |█████████████████| 200/200 [3.9s elapsed, 0s remaining, 39.9 samples/s]      \n",
      "Mistakenness computation complete\n"
     ]
    }
   ],
   "source": [
    "# Compute mistakenness of annotations in `ground_truth` field using\n",
    "# predictions from `predictions` field as point of reference\n",
    "fob.compute_mistakenness(dataset, \"predictions\", label_field=\"ground_truth\")"
   ]
  },
  {
   "cell_type": "code",
   "execution_count": 37,
   "id": "897bcc7f-bd53-46c0-be7c-fdde241c5039",
   "metadata": {},
   "outputs": [
    {
     "data": {
      "text/plain": [
       "<Sample: {\n",
       "    'id': '6565a8f33cb18decd840b3ef',\n",
       "    'media_type': 'image',\n",
       "    'filepath': '/home/borisef/fiftyone/quickstart/data/000880.jpg',\n",
       "    'tags': ['validation', 'train'],\n",
       "    'metadata': <ImageMetadata: {\n",
       "        'size_bytes': 225193,\n",
       "        'mime_type': 'image/jpeg',\n",
       "        'width': 640,\n",
       "        'height': 480,\n",
       "        'num_channels': 3,\n",
       "        'range2target': 622,\n",
       "    }>,\n",
       "    'ground_truth': <Detections: {\n",
       "        'detections': [\n",
       "            <Detection: {\n",
       "                'id': '5f452471ef00e6374aac53c8',\n",
       "                'attributes': {},\n",
       "                'tags': [],\n",
       "                'label': 'bird',\n",
       "                'bounding_box': [0.21084375, 0.0034375, 0.46190625, 0.9442083333333334],\n",
       "                'mask': None,\n",
       "                'confidence': None,\n",
       "                'index': None,\n",
       "                'area': 73790.37944999996,\n",
       "                'iscrowd': 0.0,\n",
       "                'bb_max_side': 0.9442083333333334,\n",
       "                'bb_max_side_pixel': 604.2933333333334,\n",
       "                'eval': 'tp',\n",
       "                'eval_id': '5f452c60ef00e6374aad9394',\n",
       "                'eval_iou': 0.8575063187115628,\n",
       "                'mistakenness': 0.01245725154876709,\n",
       "                'mistakenness_loc': 0.2903442955979618,\n",
       "            }>,\n",
       "            <Detection: {\n",
       "                'id': '5f452471ef00e6374aac53c9',\n",
       "                'attributes': {},\n",
       "                'tags': [],\n",
       "                'label': 'bird',\n",
       "                'bounding_box': [0.74946875, 0.489375, 0.2164375, 0.23183333333333334],\n",
       "                'mask': None,\n",
       "                'confidence': None,\n",
       "                'index': None,\n",
       "                'area': 3935.7593000000006,\n",
       "                'iscrowd': 0.0,\n",
       "                'bb_max_side': 0.23183333333333334,\n",
       "                'bb_max_side_pixel': 148.37333333333333,\n",
       "                'eval': 'fn',\n",
       "                'eval_id': '',\n",
       "                'possible_spurious': True,\n",
       "            }>,\n",
       "            <Detection: {\n",
       "                'id': '5f452471ef00e6374aac53ca',\n",
       "                'attributes': {},\n",
       "                'tags': [],\n",
       "                'label': 'bird',\n",
       "                'bounding_box': [\n",
       "                    0.044234375,\n",
       "                    0.5282083333333333,\n",
       "                    0.151390625,\n",
       "                    0.14145833333333335,\n",
       "                ],\n",
       "                'mask': None,\n",
       "                'confidence': None,\n",
       "                'index': None,\n",
       "                'area': 4827.32605,\n",
       "                'iscrowd': 0.0,\n",
       "                'bb_max_side': 0.151390625,\n",
       "                'bb_max_side_pixel': 90.53333333333335,\n",
       "                'eval': 'tp',\n",
       "                'eval_id': '5f452c60ef00e6374aad9396',\n",
       "                'eval_iou': 0.5616570254202724,\n",
       "                'mistakenness': 0.17154088616371155,\n",
       "                'mistakenness_loc': 0.7474518661109917,\n",
       "            }>,\n",
       "        ],\n",
       "    }>,\n",
       "    'uniqueness': 0.8175834390151201,\n",
       "    'predictions': <Detections: {\n",
       "        'detections': [\n",
       "            <Detection: {\n",
       "                'id': '5f452c60ef00e6374aad9394',\n",
       "                'attributes': {},\n",
       "                'tags': [],\n",
       "                'label': 'bird',\n",
       "                'bounding_box': [\n",
       "                    0.22192673683166503,\n",
       "                    0.06093006531397502,\n",
       "                    0.4808845520019531,\n",
       "                    0.8937615712483724,\n",
       "                ],\n",
       "                'mask': None,\n",
       "                'confidence': 0.9750854969024658,\n",
       "                'index': None,\n",
       "                'eval': 'tp',\n",
       "                'eval_id': '5f452471ef00e6374aac53c8',\n",
       "                'eval_iou': 0.8575063187115628,\n",
       "            }>,\n",
       "            <Detection: {\n",
       "                'id': '5f452c60ef00e6374aad9395',\n",
       "                'attributes': {},\n",
       "                'tags': [],\n",
       "                'label': 'bird',\n",
       "                'bounding_box': [\n",
       "                    0.3962469816207886,\n",
       "                    0.006943931678930918,\n",
       "                    0.27418792247772217,\n",
       "                    0.46793556213378906,\n",
       "                ],\n",
       "                'mask': None,\n",
       "                'confidence': 0.759726881980896,\n",
       "                'index': None,\n",
       "                'eval': 'fp',\n",
       "                'eval_id': '',\n",
       "            }>,\n",
       "            <Detection: {\n",
       "                'id': '5f452c60ef00e6374aad9396',\n",
       "                'attributes': {},\n",
       "                'tags': [],\n",
       "                'label': 'bird',\n",
       "                'bounding_box': [\n",
       "                    0.02506386339664459,\n",
       "                    0.548487663269043,\n",
       "                    0.16438478231430054,\n",
       "                    0.16736234029134114,\n",
       "                ],\n",
       "                'mask': None,\n",
       "                'confidence': 0.6569182276725769,\n",
       "                'index': None,\n",
       "                'eval': 'tp',\n",
       "                'eval_id': '5f452471ef00e6374aac53ca',\n",
       "                'eval_iou': 0.5616570254202724,\n",
       "            }>,\n",
       "            <Detection: {\n",
       "                'id': '5f452c60ef00e6374aad9397',\n",
       "                'attributes': {},\n",
       "                'tags': [],\n",
       "                'label': 'bird',\n",
       "                'bounding_box': [\n",
       "                    0.4889101028442383,\n",
       "                    0.009576511383056641,\n",
       "                    0.13802199363708495,\n",
       "                    0.2093157132466634,\n",
       "                ],\n",
       "                'mask': None,\n",
       "                'confidence': 0.2359301745891571,\n",
       "                'index': None,\n",
       "                'eval': 'fp',\n",
       "                'eval_id': '',\n",
       "            }>,\n",
       "            <Detection: {\n",
       "                'id': '5f452c60ef00e6374aad9398',\n",
       "                'attributes': {},\n",
       "                'tags': [],\n",
       "                'label': 'elephant',\n",
       "                'bounding_box': [\n",
       "                    0.015171945095062256,\n",
       "                    0.555288823445638,\n",
       "                    0.1813342332839966,\n",
       "                    0.15938574473063152,\n",
       "                ],\n",
       "                'mask': None,\n",
       "                'confidence': 0.221974179148674,\n",
       "                'index': None,\n",
       "                'eval': 'fp',\n",
       "                'eval_id': '',\n",
       "            }>,\n",
       "            <Detection: {\n",
       "                'id': '5f452c60ef00e6374aad9399',\n",
       "                'attributes': {},\n",
       "                'tags': [],\n",
       "                'label': 'bear',\n",
       "                'bounding_box': [\n",
       "                    0.017808181047439576,\n",
       "                    0.5488224665323893,\n",
       "                    0.17450940608978271,\n",
       "                    0.16891117095947267,\n",
       "                ],\n",
       "                'mask': None,\n",
       "                'confidence': 0.1965726613998413,\n",
       "                'index': None,\n",
       "                'eval': 'fp',\n",
       "                'eval_id': '',\n",
       "            }>,\n",
       "            <Detection: {\n",
       "                'id': '5f452c60ef00e6374aad939a',\n",
       "                'attributes': {},\n",
       "                'tags': [],\n",
       "                'label': 'elephant',\n",
       "                'bounding_box': [\n",
       "                    0.16558188199996948,\n",
       "                    0.5723957061767578,\n",
       "                    0.09993256330490112,\n",
       "                    0.10098978678385416,\n",
       "                ],\n",
       "                'mask': None,\n",
       "                'confidence': 0.18904592096805573,\n",
       "                'index': None,\n",
       "                'eval': 'fp',\n",
       "                'eval_id': '',\n",
       "            }>,\n",
       "            <Detection: {\n",
       "                'id': '5f452c60ef00e6374aad939b',\n",
       "                'attributes': {},\n",
       "                'tags': [],\n",
       "                'label': 'sheep',\n",
       "                'bounding_box': [\n",
       "                    0.213010573387146,\n",
       "                    0.05354320605595907,\n",
       "                    0.5153374671936035,\n",
       "                    0.8933518091837566,\n",
       "                ],\n",
       "                'mask': None,\n",
       "                'confidence': 0.11480894684791565,\n",
       "                'index': None,\n",
       "                'eval': 'fp',\n",
       "                'eval_id': '',\n",
       "            }>,\n",
       "            <Detection: {\n",
       "                'id': '5f452c60ef00e6374aad939c',\n",
       "                'attributes': {},\n",
       "                'tags': [],\n",
       "                'label': 'bird',\n",
       "                'bounding_box': [\n",
       "                    0.29751906394958494,\n",
       "                    0.010790024201075237,\n",
       "                    0.3315577507019043,\n",
       "                    0.34026527404785156,\n",
       "                ],\n",
       "                'mask': None,\n",
       "                'confidence': 0.11089690029621124,\n",
       "                'index': None,\n",
       "                'eval': 'fp',\n",
       "                'eval_id': '',\n",
       "            }>,\n",
       "            <Detection: {\n",
       "                'id': '5f452c60ef00e6374aad939d',\n",
       "                'attributes': {},\n",
       "                'tags': [],\n",
       "                'label': 'elephant',\n",
       "                'bounding_box': [\n",
       "                    0.08351035118103027,\n",
       "                    0.5574632008870443,\n",
       "                    0.18209288120269776,\n",
       "                    0.1426785151163737,\n",
       "                ],\n",
       "                'mask': None,\n",
       "                'confidence': 0.0971052274107933,\n",
       "                'index': None,\n",
       "                'eval': 'fp',\n",
       "                'eval_id': '',\n",
       "            }>,\n",
       "            <Detection: {\n",
       "                'id': '5f452c60ef00e6374aad939e',\n",
       "                'attributes': {},\n",
       "                'tags': [],\n",
       "                'label': 'bird',\n",
       "                'bounding_box': [\n",
       "                    0.4461814880371094,\n",
       "                    0.0007838249827424685,\n",
       "                    0.209574556350708,\n",
       "                    0.309667714436849,\n",
       "                ],\n",
       "                'mask': None,\n",
       "                'confidence': 0.08403241634368896,\n",
       "                'index': None,\n",
       "                'eval': 'fp',\n",
       "                'eval_id': '',\n",
       "            }>,\n",
       "            <Detection: {\n",
       "                'id': '5f452c60ef00e6374aad939f',\n",
       "                'attributes': {},\n",
       "                'tags': [],\n",
       "                'label': 'bird',\n",
       "                'bounding_box': [\n",
       "                    0.5395165920257569,\n",
       "                    0.034476550420125325,\n",
       "                    0.07703280448913574,\n",
       "                    0.16296254793802897,\n",
       "                ],\n",
       "                'mask': None,\n",
       "                'confidence': 0.07699568569660187,\n",
       "                'index': None,\n",
       "                'eval': 'fp',\n",
       "                'eval_id': '',\n",
       "            }>,\n",
       "            <Detection: {\n",
       "                'id': '5f452c60ef00e6374aad93a0',\n",
       "                'attributes': {},\n",
       "                'tags': [],\n",
       "                'label': 'bear',\n",
       "                'bounding_box': [\n",
       "                    0.217216157913208,\n",
       "                    0.05954849322636922,\n",
       "                    0.49451656341552735,\n",
       "                    0.8721434275309244,\n",
       "                ],\n",
       "                'mask': None,\n",
       "                'confidence': 0.058097004890441895,\n",
       "                'index': None,\n",
       "                'eval': 'fp',\n",
       "                'eval_id': '',\n",
       "            }>,\n",
       "            <Detection: {\n",
       "                'id': '5f452c60ef00e6374aad93a1',\n",
       "                'attributes': {},\n",
       "                'tags': [],\n",
       "                'label': 'sheep',\n",
       "                'bounding_box': [\n",
       "                    0.018094074726104737,\n",
       "                    0.5562847137451172,\n",
       "                    0.17362892627716064,\n",
       "                    0.15742950439453124,\n",
       "                ],\n",
       "                'mask': None,\n",
       "                'confidence': 0.0519101656973362,\n",
       "                'index': None,\n",
       "                'eval': 'fp',\n",
       "                'eval_id': '',\n",
       "            }>,\n",
       "        ],\n",
       "    }>,\n",
       "    'blurriness': 6971.472085098426,\n",
       "    'owlvit_1': None,\n",
       "    'predictions_faster': None,\n",
       "    'fo_faster_rcnn': None,\n",
       "    'fo_yolo5': None,\n",
       "    'my_uniqueness': 0.5056095906256154,\n",
       "    'eval_tp': 2,\n",
       "    'eval_fp': 12,\n",
       "    'eval_fn': 1,\n",
       "    'mistakenness': 0.17154088616371155,\n",
       "    'possible_missing': 0,\n",
       "    'possible_spurious': 1,\n",
       "}>"
      ]
     },
     "execution_count": 37,
     "metadata": {},
     "output_type": "execute_result"
    }
   ],
   "source": [
    "#see new attributes \n",
    "dataset.first()"
   ]
  },
  {
   "cell_type": "code",
   "execution_count": 38,
   "id": "774e084c-aa60-4815-8257-10831e12bf53",
   "metadata": {},
   "outputs": [
    {
     "name": "stdout",
     "output_type": "stream",
     "text": [
      "Dataset:     quickstart\n",
      "Media type:  image\n",
      "Num samples: 200\n",
      "Sample fields:\n",
      "    id:                 fiftyone.core.fields.ObjectIdField\n",
      "    filepath:           fiftyone.core.fields.StringField\n",
      "    tags:               fiftyone.core.fields.ListField(fiftyone.core.fields.StringField)\n",
      "    metadata:           fiftyone.core.fields.EmbeddedDocumentField(fiftyone.core.metadata.ImageMetadata)\n",
      "    ground_truth:       fiftyone.core.fields.EmbeddedDocumentField(fiftyone.core.labels.Detections)\n",
      "    uniqueness:         fiftyone.core.fields.FloatField\n",
      "    predictions:        fiftyone.core.fields.EmbeddedDocumentField(fiftyone.core.labels.Detections)\n",
      "    blurriness:         fiftyone.core.fields.FloatField\n",
      "    owlvit_1:           fiftyone.core.fields.EmbeddedDocumentField(fiftyone.core.labels.Detections)\n",
      "    predictions_faster: fiftyone.core.fields.EmbeddedDocumentField(fiftyone.core.labels.Detections)\n",
      "    fo_faster_rcnn:     fiftyone.core.fields.EmbeddedDocumentField(fiftyone.core.labels.Detections)\n",
      "    fo_yolo5:           fiftyone.core.fields.EmbeddedDocumentField(fiftyone.core.labels.Detections)\n",
      "    my_uniqueness:      fiftyone.core.fields.FloatField\n",
      "    eval_tp:            fiftyone.core.fields.IntField\n",
      "    eval_fp:            fiftyone.core.fields.IntField\n",
      "    eval_fn:            fiftyone.core.fields.IntField\n",
      "    mistakenness:       fiftyone.core.fields.FloatField\n",
      "    possible_missing:   fiftyone.core.fields.IntField\n",
      "    possible_spurious:  fiftyone.core.fields.IntField\n",
      "View stages:\n",
      "    1. SortBy(field_or_expr='mistakenness', reverse=True, create_index=True)\n"
     ]
    }
   ],
   "source": [
    "# Sort by likelihood of mistake (most likely first)\n",
    "mistake_view = dataset.sort_by(\"mistakenness\", reverse=True)\n",
    "\n",
    "# Print some information about the view\n",
    "print(mistake_view)\n",
    "\n"
   ]
  },
  {
   "cell_type": "code",
   "execution_count": 39,
   "id": "949f032a-9936-4d80-9014-c856f161c8c2",
   "metadata": {},
   "outputs": [
    {
     "data": {
      "text/html": [
       "\n",
       "<style>\n",
       "@import url(\"https://fonts.googleapis.com/css2?family=Palanquin&display=swap\");\n",
       "\n",
       "body, html {\n",
       "  margin: 0;\n",
       "  padding: 0;\n",
       "  width: 100%;\n",
       "}\n",
       "\n",
       "#focontainer-4212ca44-8962-44c6-8ba5-e979332903d3 {\n",
       "  position: relative;\n",
       "  height: 800px;\n",
       "  display: block !important;\n",
       "}\n",
       "#foactivate-4212ca44-8962-44c6-8ba5-e979332903d3 {\n",
       "  font-weight: bold;\n",
       "  cursor: pointer;\n",
       "  font-size: 24px;\n",
       "  border-radius: 3px;\n",
       "  text-align: center;\n",
       "  padding: 0.5em;\n",
       "  color: rgb(255, 255, 255);\n",
       "  font-family: \"Palanquin\", sans-serif;\n",
       "  position: absolute;\n",
       "  left: 50%;\n",
       "  top: 50%;\n",
       "  width: 160px;\n",
       "  margin-left: -80px;\n",
       "  margin-top: -23px;\n",
       "  background: hsla(210,11%,15%, 0.8);\n",
       "  border: none;\n",
       "}\n",
       "#foactivate-4212ca44-8962-44c6-8ba5-e979332903d3:focus {\n",
       "  outline: none;\n",
       "}\n",
       "#fooverlay-4212ca44-8962-44c6-8ba5-e979332903d3 {\n",
       "  width: 100%;\n",
       "  height: 100%;\n",
       "  background: hsla(208, 7%, 46%, 0.7);\n",
       "  position: absolute;\n",
       "  top: 0;\n",
       "  left: 0;\n",
       "  display: none;\n",
       "  cursor: pointer;\n",
       "}\n",
       "</style>\n",
       "\n",
       "<div id=\"focontainer-4212ca44-8962-44c6-8ba5-e979332903d3\">\n",
       "   <div id=\"fooverlay-4212ca44-8962-44c6-8ba5-e979332903d3\" style=\"display: none;\">\n",
       "      <button id=\"foactivate-4212ca44-8962-44c6-8ba5-e979332903d3\" >Activate</button>\n",
       "   </div>\n",
       "   <img src='data:image/jpeg;base64,/9j/4AAQSkZJRgABAQAAAQABAAD/4gHYSUNDX1BST0ZJTEUAAQEAAAHIAAAAAAQwAABtbnRyUkdCIFhZWiAH4AABAAEAAAAAAABhY3NwAAAAAAAAAAAAAAAAAAAAAAAAAAAAAAAAAAAAAQAA9tYAAQAAAADTLQAAAAAAAAAAAAAAAAAAAAAAAAAAAAAAAAAAAAAAAAAAAAAAAAAAAAAAAAAAAAAAAAAAAAlkZXNjAAAA8AAAACRyWFlaAAABFAAAABRnWFlaAAABKAAAABRiWFlaAAABPAAAABR3dHB0AAABUAAAABRyVFJDAAABZAAAAChnVFJDAAABZAAAAChiVFJDAAABZAAAAChjcHJ0AAABjAAAADxtbHVjAAAAAAAAAAEAAAAMZW5VUwAAAAgAAAAcAHMAUgBHAEJYWVogAAAAAAAAb6IAADj1AAADkFhZWiAAAAAAAABimQAAt4UAABjaWFlaIAAAAAAAACSgAAAPhAAAts9YWVogAAAAAAAA9tYAAQAAAADTLXBhcmEAAAAAAAQAAAACZmYAAPKnAAANWQAAE9AAAApbAAAAAAAAAABtbHVjAAAAAAAAAAEAAAAMZW5VUwAAACAAAAAcAEcAbwBvAGcAbABlACAASQBuAGMALgAgADIAMAAxADb/2wBDACAWGBwYFCAcGhwkIiAmMFA0MCwsMGJGSjpQdGZ6eHJmcG6AkLicgIiuim5woNqirr7EztDOfJri8uDI8LjKzsb/2wBDASIkJDAqMF40NF7GhHCExsbGxsbGxsbGxsbGxsbGxsbGxsbGxsbGxsbGxsbGxsbGxsbGxsbGxsbGxsbGxsbGxsb/wAARCANwBKkDASIAAhEBAxEB/8QAGgABAAMBAQEAAAAAAAAAAAAAAAECAwQFBv/EAEYQAAIBAgQDBAcFBQgCAgIDAQABAgMRBBIhMRNBUSJhcZEFFDJSgaGxFTNTctEjNEKSwRYkNUNic+HwgqJU8SWyBjZFY//EABgBAQEBAQEAAAAAAAAAAAAAAAABAgME/8QAJxEBAQACAgICAgICAwEAAAAAAAECEQMhEjFBURMyBGEUIjNxgSP/2gAMAwEAAhEDEQA/APIAAAAAAAAAAAAAAAAAAAAAAAAAAAAAAAAAAAAAAAAAAAAAAAAAbsRmfT5gSCMz6fMZn0+YEgjM+nzGZ9PmBIIzPp8xmfT5gSCMz6fMZn0+YEgjM+nzGZ9PmBIIzPp8xmfT5gSCMz6fMZn0+YEgjM+nzGZ9PmBIIzPp8xmfT5gSCMz6fMZn0+YEgjM+nzGZ9PmBIIzPp8xmfT5gSCMz6fMZn0+YEgjM+nzGZ9PmBIIzPp8xmfT5gSCMz6fMZn0+YEgjM+nzGZ9PmBIIzPp8xmfT5gSCMz6fMZn0+YEgjM+nzGZ9PmBIIzPp8xmfT5gSCMz6fMZn0+YEgjM+nzGZ9PmBIIzPp8xmfT5gSCMz6fMZn0+YEgjM+nzGZ9PmBIIzPp8xmfT5gSCMz6fMZn0+YEgjM+nzGZ9PmBIIzPp8xmfT5gSCMz6fMZn0+YEgjM+nzGZ9PmBIIzPp8xmfT5gSCMz6fMZn0+YEgjM+nzGZ9PmBIIzPp8xmfT5gSCMz6fMZn0+YEgjM+nzGZ9PmBICd0AAAAAAAAAAAAAAAAAAAAAAAAAAAAAAAAAAAAAAAAAAAAAAACABvhaSq1lGWyV2aerRq9umnSpc3P+htQw6oVKbveUotv5G9KnCrhKcZq6yoxO863esI51hsNVjlpzanvd8/gctahUovtrTk1sd9SlOKWZcWC2a9pfqIVJZH/nU9n7y8VzHlr9jw33j28sHXiaNFwdWhNabxOQ2wAF6dOdWWWnCU5dIq4FAdHqOK/wDjVf5GZOlUUHN05KKdnK2ifQCgOmhgMViKfEpUnKHW6VznswIAAAF6dKpVdqcJTfSKuTUo1aP3tOcL+9FoDMAAAAAAAAAAAAAAAAAAAAAAAES3RMIZru6SW7ZEt0Wj9zPxX9QGSH4i8mMkPxF5MzAF5U7QzRkpJOztyKGkfup/AzAlK7si3DfVCnuzQDPhvqhw31RoAM+G+qHDfVGgAz4b6ocN9UaADPhvqhw31RoAM+G+qHDfVGgAz4b6ocN9UaADPhvqi6odlNzir9UyS0vYh8QKcGP4sfJjgx/Fj5MkARwY/ix8mOCvxI+TJAEcFfiR8mOCvxI+TJAEcFfiR8mOCvxI+TL1aU6NR06kcsluiHGSipOLUXs7bgV4K/Ej5McGP4sfJkkqMpJuMW0ld2WwFeDH8WPkxwY/ix8mXnSnTjCU42U1ePeioB4dK16kdVfZkcFfiR8mXqbQ/KVAjgr8SPkxwF+LHyZJMfaXiBEsPkk4upFNdzI4K/Fj5M0rO9V3NaeAxVWCnCjKUXswObgr8SPkxwV+JHyZepTnSqOFSLjJbplQI4K/Fj5McGP4sfJkgA6CW9SK+DI4MfxY+TL1fb+C+hpRwlevBypU3KKdrrqBhwV+JHyY4K/Ej5MtOEqc3CatKLs0TKlOFOFSUbRnfK+tgKcFfiR8mODH8WPkyQBHATvapF/BkcJe+vJl48/AgCvCXvryY4S99eTLACkqdotqSdtzM3/gl4GAFoxcpWRbJD8WPkxS3l+V/QzA0yQ/EXkxw003GalbVrUzNKW8vyv6AZgAAAAAAAAAAAAJIJIAkAAQSQXjSqTV4U5SXVK4FAS007NWZAFo7EkR2JAAEgQCfgPgBAJ+A+AEAn4D4AQCfgPgBAJ+A+AEAn4D4AQCSAAAAAtKEoxjJqyls+pUAAAAAAAG9HB1qyvGFo9XoBgDoq4KvSjmlG6XOOpzgAAAAAAAAQAAPXf3tH8j/oXw37tT/Kij+9o/kf8AQvhv3an+VGJ+1/8AG7+k/wDU1q8KMbze+yW7PMrYqU6ueCUGua3fiaek/v4/l/qznpUZ1XaEfjyRq612zN76dEasK6aqxcXbWcf6mFak6U8t1JNXTXNGqjGiqijJTtFN9L5loY1akqs803qYxmr16byu537UPR9B/wCIx/Kzzj0fQf8AiMfys6Oa2KxfpClWqvNVjTU2k8ulr6cjWHFq+hW51oqnKp2rw11lrrf4nNjsfialStQlUvTztZcq2T8Doj//AFuf5/6oDtxNONP0bRhTxipKK7Mk7KeniVqYXDv0RTpeswVNSuqttJPU5PSP+D4LwX0JrJv/APjlCyv2+XiwOTEYDhYKniY1FOM3ZpLYQwGb0f61KplbllhC3ta2/U6/RLWKweIwM3q1mhfl/wBdiPS9VYeWGwtPWNFKT73/AN+oG2NxD9FUaWFwqSm45pTtcj0djJekM+ExlpqUbqVrMz9O0pVZUsVTTlTlBK65c/6lfQVCSryxM1lpQi+09mBhhfRksTUxFNVFGdF21Wjd3+hu/QqcZKli6dSrFawS/wCTX0XU4tT0hVWmbtL5nP6A/wAQf5H/AEA58FgamMqSSahGHtSlyOiv6JUaE6uHxMK6h7Sjy+Z2+j5R9TxqVNVZKpJuF/aX/bnPR9KU6anwfRyjp28suXfoB44AA6sNg+NRlWqVY0aUXlzS1u+hs/RbVaNNVovNSdRSS0sRh6uHqYF4XEVHStPPGajm5WtY7a1ejhsVhHJydJ4ZQzW1t1sB5tDC58PHEOSaVVQytbnRXwKqY3E2cKFGk1mlyV+hZ1cJRwcaFKu6j40ZtuDWhapi8NXq4ulOo40q0lKNRRbs13AVwuGgoYuFOcK96V4uK5/qYx9GVHiY0OJDPkzT55O41wuIoYJ4jg13JunaEnC15eAnWw1XE08THESw9SS/aZYt5ZdfBgMHgsNLHU4SxEK0JJvKk1drk+n/AAYeq0ZYipH1unGnHaTT17kjrnjsNHGYarm4soX4lVQy5r6bFKFbC0JVo08QlKbTjWdK9uqsBkvRc3iXR4sLOnxIz5NGywWFXo+rP1iEpKSXEUXZd3/JrPH4eWJU+K5L1Z08zi1eXgceEq0Hgq2Gr1HSzSUlLLf4AcIJIAiW6LR+5n4r+pWW6LR+5n4r+oFFa6vtzsXq0uG007xkrplE7NPoTOcpycpO7YFo/dT+BmaR+6n8DMC9PdnRhoKpiaUJezKaT8LnPT3Z0YacaeKpTk7RjNNvuuB28GhLGrDrCzj22ruo+0lfuJo4ClXo0HdQcozcm5b2ehSli19qqtVqydKM5OLd3ZO/IvQxdCEMLGU2ssakZ2T7N3oBzUsDWqpuLhbNlTc1aT7upCwVZ0ZVWoxjFtPNK2q5HXRxVOGHjRjieG6UnafCzKabv8DnxGIjVwijnzVOLKT0tdPmBTH0YUMbUpU1aMbWu+4s8DUpuEp5JQclGWWSdr9TbGPCVsTPELEqSbTyZJXdltc2q4yg6NSMayalOLhBU8uVJ7bAc2NwM6M6s6ai6UZWspXcVyuZ1MDXpUnUko9lJyipK8b9UdVXE4enLE1aVV1J1npHK0lrfUYvGxqwqSp4mymrcJ0lfvVwM8R6PbxNRUVGFOOVXnKyu0nbU4ZRcZOL3Tsz1Xi6EsVVk8QuFLLeEqbkpWS8meZWcHWm6Sag5PKnyQEUqcqs1CCu2b+pt3UKsZzW8f0LejpxhXalpmVkz0MqVVzlpGC00sl1A8R6OzLS9iPxJrSU605R2cm0RL2I/EDpwcaccPXxE6aqOnlSjLbV7s7HSw6bqerwt6tGpk1te5wYLELD1JScqkU1bsW+jL4vHTrVZOm3GLgqbvZtrvA6KcaK9Wi8NCfrLbk9ezray8CJYalGeCioqSlWlGT95KVtTkpYzEUafDp1XGPTp4dBRxuIoQyUqrjG97WTA7JKhQoubw8Jt15QWbkia9Ghg41pqjGr+2yJSvaKtc8+eIqzjllK6zOey3fM0jjsTCpOcarUp6y0WoGnpb/Eqvw+iOlSjUw3o2nKlBqU2np0kl8+Zxr0hiU288W5O7bgnyt07iqxuISsqllmz2yrR3uB1VY0Z0sbkowhwXGMbav2tWdEclCjUUaNN3w0JNNbvvPMp4qtSqyqQnaU/adlr8C3r2J43F4rz5ct7LYDvg6U/UaNSjGfEhZybd0rvY8mayzlHo7GnrVbPTnn7VPSDstDJtttvdgWntH8pUtPaP5SoAmPtLxLyquUKcckFw76pavx6l44h+sSq8OneemXLor9EBnW+9Z04H7jF/7X9Uc1b71iFWdOM4wlZTVpaboDspKlD0fTnKjGc51HDM+S0L1aFNVMelBJQtl09nU4HVm6SpOXYTzJW5mtTH4mpSdOdVyi1Zppagd2LpYKjCpQeVTjHstRlmb73tqeSbyxuIlR4UqrcLWs0tvEwAtU9r4L6HbS4X2Q+M5pcfTIk9cvecVT2vgvoTxZ8Hg3/Z5s1rc9gPRwGHoyp0o14U/218u7k/6IR4EaGCWIV4JVErrS+bS9uRxUcbiKEFGnUsltonYQxleGTLUtkvl0Wl9wO+GGpKpVrVqdGMYQjKOW7g7ve25w471d1YvDNZXHtJJpJ91yPXcTxuLxXnta+m3S2xnWrVK889WWaVrbWArHn4EEx5+BAG8MLUqU4TpftMzs0t4vv/UyqwVOo4Kanbmtjejilh6aVGN5S+8cua93wMarpuo3SUlB7KW6Ap/BLwMDf+CXgYAaUt5flf0MzSlvL8r+hmBrUpJU1Ug24vTXdMilvL8r+hE5ym1me2iXQmlvL8r+gGYAAAAAAAAAAAACTp9XjWoqeHTc4q04bvxRzHXCpDB01Km1OvNb8oL9QKV6NOhTUJPNXers9Irocx04jhVYceDUZN9uHf1RzgdXo7Dxr1+3rGKu11PTrKunLhzjRpQjo7J3/Q8/0XWjTxDjJ2U1ZPvPSxUYzjCM3LK5rRK9+59wHPXpLF4FVnBRqKOa5459BjKsaGGk3u1aK7z58C0diSI7EgCWQSwNI0k8NKrd3UkrFpUHlpZE5SqJuxejW4WEqZZRU3JaOzNeJCpKg6kot5Hzsr8r22A5JUKsXJSg04q78BGjUllywbzbW5nbKtCM6ClKm004zUHokxGtTVapTjKGVQUIOWzsBwThKnLLOLi+jLSoVYQU5U5KL52NMXNynFN03ljZcPVHTKVKNCqoSp5XBZe12n4gc2FpUq01TnKam3pZKxXhKrPLho1Jaa3SLYKUY4unKTSSvq33F8JUiqVWm3BSlZrPswMY0KspuCpyco7q2wjQqzk4xpybi7NW2OrPGdSo5ui6iSUdXlaJxFWDjictSN5KFrPfqByPDVoxcnSklHd2NHQpSozlTqSbgru8bJm/Fi8Qm6iy8G2+l7HPUn/dKMFJW1bSffzAwRBKIAG1GOdOjw7zm1lltYxOulWrOUa85Zo0nbV235IDWtgakaMW6iqKmvZtbTmcdWSnNyjDJF7JHo1vSFOVK1NSzSVlmVkjgrSrQXAqS7MdkBkenhcHVoTzvhyurWbf6HmHp4d0cRVUIcRQjDVOT38wFSlxcDShCMVKU9O7c8+tSlRqypys2uh30/V6NGLq06itJ2lrY4cRKEq0pU08r2vuBpgKKrYhKSvGKu11N8RjqtLEThTcXBaJNbGXo2oqeKs/4lb4jGULSnWjJZXLWL3TA0pekKs60IzcVFuzsjP0jRVGveKtGavboMFhJV5KpdKEZa9S/pSopV4wWuRa+IFfRn72vys7/SMU8HNtaq1vM4PRn72vys7/AEh+5VPh9QOiMVGKUVZLkfP1vvp/mZ9CfP1vvqn5n9QMwABAAA7aeJjVjGNTNCcFpOP9fkdcakKNOFNSzySSSjuzzMPV4NVSaurWaNJYlQjkoRyR5vmzFt31G5Jrutq7g5qpiLXSsqcXd/Ezc6laC2pUVz2X/JWVai4pqj2/9Tuv+TGpUlUlmm7sTH5pc/idLyqQjTdOknZ+1J7syANsBvhMTPCVlVpqLklbtbGAAvUm6lSU5WvJtuxssbUWBeEyw4bd7213ucwA6a+MqV8NSoSjFRpbNLU0wnpPEYSm6dPLKO6UlexxAD1/Q9Gbryx1SUYUo5ru+7POxdZ4jFVKr/ilp4cjPNLLlzPLe9r6FQOzCek8ThIZKclKHKMldInFelMTioZJyUYPeMVa5xADpwmNqYSNWNOMGqis8y/71K4PFTwdbi01FytbtLQwAHRRxlahXlWpSyyk7tcmdFf0ziq1KVNqnFSVnljuvieeAABIEGlSrUqqCnJyyRyx7kRw5+5LyHDn7kvIm4uqoC/Dn7kvIcOfuS8huGqoC/Dn7kvIcOfuS8huGqoC/Dn7kvIcOfuS8huGqoC/Dn7kvIcOfuS8huGqoCzjKPtRa8UVKiJbotH7mfiv6lZbomEkk4yTafQCgNP2X+v5D9l/r+QCP3U/gZmjlFQcYJ6vVszAvT3ZoZReVluIugFwU4i6DiLoBcFOIug4i6AXBTiLoOIugFwU4i6DiLoBcFOIug4i6AXLOpOStKcmujZlxF0HEXQC5aXsQ+JlxF0NFWpuMVKMtOjAgDiUfdn5ojiU+k/NASCOJT6T80OJT6T80BII4lPpPzQ4lPpPzQEgjiU+k/NDiU+k/NASCOJT6T80OJT6T80BIHEpdJ+aHEo+7PzQFqm0PylSZVqUkuzPRW3RXiU+k/NASTH2l4leJT6T80SqlJO+WfmgL1vvWULVK9Kc3Jxnd96KcSn0n5oCQRxKfSfmhxKfSfmgJBHEp9J+aJVSlzjPzQFqvt/BfQqTKtSk7uM9rborxKfSfmgJBHEp9J+aHEp9J+aAkEcSn0n5oniU+k/NATHn4EE8Wkk7RntzaK54f6vICQRnh/q8hnh/q8gJ/gl4GBrKosrUU9epkBpS3l+V/QzLQllldq6tZlv2X+v5AZmlLeX5X9B+y/1/IZoRTyqV2ra8gMwAAAAAAAAAAAAEkAASQSAB0Qx+JhHKql13q5zEgXq1alaWapJyfeZgAWjsSRHYkASQAJsxZkACbMWZAAmzFmQAJsxZkACbMWZAAmzFmQAJIAAAADSdVzpwg0rQTSMwABpRrVKEnKnKzatsZgDWeIqzpKnKV4p3sZAASbVMTKrSyzjFy9+2pgAOiji6lCjKnTSTk75uhg22227t8yABaE5U5ZoScX1RqsVVv25OpHnGTumYADb1qv8AjT8zJtt3erZAAAAAAAAAAAAAAAAAAAAAAAAAAAAAAAAAAEkACcz6sZn1ZAAnM+rGZ9WQAJzPqxmfVkACcz6sZn1ZAAnM+rGZ9WQAJbb3bIAAiSvsRZ9xYAVs+4WfcWAFbPuFn3FgBWz7hZ9xYAVs+4WfcWAFbPuFn3FgBWz7hZ9xYAVs+4WfcWAFbPuFn3FgBWz7hZ9xYAVs+4WfcWAFbPuFn3FgBWz7hZ9xYAVs+4WfcWAFbPuFn3FgBWz7hZ9xYAVs+4WfcWAFbPuFn3FgBWz7hZ9xYAVs+4WfcWAFbPuFn3FgBWz7hZ9xYAVs+4WfcWAFbPuFn3FgBWz7hZ9xYAVs+4WfcWAFbPuFn3FgBWz7hZ9xYAVs+4WfcWAFbPuFn3FgBWz7hZ9xYAVs+4WfcWAFbPuFn3FgBWz7hZ9xYAVs+4WfcWAFbPuFn3FgBWz7hZ9xYAVs+4WfcWAFbPuFn3FgASsgAAAAAAAAAAAAAAAAAAAAAAAAAAAAAAAAAAAAAAAAAAAAAAAVuxdkACbsXZDdiuZgXuxdlMzGZgXuxdlMzF2Be7F2UuxdgXuxdlLsXYF7sXZS7F2Be7F2UuxdgXuxdlLsXYF7sXZS7F2Be7F2UuxdgXuxdlLsXYF7sXZS7F2Be7F2UuxdgXuxdlLsXYF7sXZS7F2Be7F2UuxdgXuxdlMzGZgXuxdlMzGZgXuxdlU7kgWTDdipLAXYuyDspYOFSNJvFUYcS91KXs26gcl2Ls2rUI0qVKarQm5p3jF6x8TKEZTnGEVeUnZLqwIuxdmtagqS+9pzd7NRb0+RiBN2LsgATdi7L0qTqqbTSyRcnczAm7F2QALJklC62AAF6VN1asYJ2b5gUAAAAAAAAAAAAAAAAAAAAAAAAAAAAAAAAAAAAAAAAAAAAAAAAAAAAAAAAAAAAAAAAAAAAAAAAAAAAAAAAAAAAAAAAAAAAAAAAAAAAAAAAAAAAAAAAAAAAAAAAAAFAABV7kEvcgADq9HUoVcTadmkr2fM9TE0adShJSiuzF2dtgPBAOqtCKxlKKiknGndW6xQHKDrqYenmrVJ1OHCNVwSjG/kPUlF1c9R5abSvCOZ2et7ckByA6cNhViG0pTveyaptr4vkIYRydG0tJycZO3stb/LUDmB20vR8qsINOd6msbU218XyIwmHpqrh5VZ2dSacYZb3V7agcYNoUuNXnBOz7TirbtcjSlQtFScledKc7ON7JJ/owOUHYvR83SUrzzOGdLI8trX9rrYiGBc5NKatw1OLt7TfLzuvgByA0q0uHGm27ucc1rba6GYAAAAAAAAAAAAAAAAAAAAC0JunNSVrra4CUZQdpJp9GVLzqzqRSm72e73KAStyxVblgBLIJYEHr4Wtlp4X+84eOVS0lH2fHU8gAduNnmwuFXFpzsn2YKzjtuclNyVSLg7STVvEqAPQq0HOm54iksPUc0lLZSvvp89DeqpOmuJGreGIgoyqNNta7aaLY8gAenPE1VTxdp24dRKGnsavboX/aSlXnRT40sPTleK1beW78TyTSFVwp1IJK1RJPu1T/oB3zzXqcT771Z8TrfNpfvtYvWm44e1OjUnh3SSTUlkTtva26feeSAPRxPFqYJTnxKUYqKUH7Eu+J5wAAutiheOyAHVhK6hVhGUaain7Tir+ZygDSpVdRK8IRt7sUjMAAAAAAAAAAAAAAAAAAAAAAAAAAAAAAAAAAAAAAAAAAAAAAAAAAAAAAAAAAAAAAAAAAAAAAAAAAAAAAAAAAAAAAAAAAAAAAAAAAAAAAAAAAAAAAAAAAAAAAAAACgAAq9yC0lzKgWhOVOanB2ktmb1sdXrU8kpJLnZbnMAB1RxUL05zo5qlNJJ5rJ22ujlAGsq7lRlCSu5TzuV+41WKh6w6zpzzaWyztayt0OUAdUMXFSjKdK7hUc4qMrK77vgRDFuFKtBRT4junf2evy0OYAb8enOlCNWk5SgrRkpW079C9LFQgqTnSzzovsPNbS99ficoAvGo4VlVjpJSzI2ni82InUVPLGUHCMU/ZTVjmAG869OrBcSk3UUVFSUrLTRXVi0cZKFClTjGzpzzKV97apfNnMANcTW49aVRRyp2SiuSWiRkAAAAAAAAAAAAAAAAAAAAAtCThNSVrrqVAGlWop2UIKEVyMwAJW5YqlqWAEsglgAQWUWwIBbhvuHDfcBUEuDRAAEEgAWUGOG+4CoLcN9xDi0BAuQAJuxdhJvYtkfcBW7F2W4b7hkfcBW7F2GmtyAJuxdkG1LD1a2sI6dXsS2T2slvUZXYuzq+z6vvQ82Ps+r70PNmfyYfbf4s/py3YuzqlgKyV04vuTOaUZQllkmmuTLMpl6rNxuPuIuxdkEmmS7F2b08FWmr2UV/qL/AGfV96HmzF5MZ8tzjyvw5bsXZ1fZ9X3oebK1MFWgr2UvyicmN+S8eU+HPdi7BBthN2LsblsjArdi7LcN9w4b7gK3YuyXFoqBN2Lsg0p0p1XaEWxbr2sm/Sl2Ls6vs+r70PNj7Pq+9DzZj8mH23+PP6ct2Ls6n6Pq+9DzZz1KU6TtOLRZnjfVZuGU9xW7F2QDTKbsXZKi2Tw33AVuxdluG+4ZGBW7F2CAJuxdkACbsXZAAm7F2QAJuxdkACbsXZAAm7F2QAJuxdkACbsXZAAm7F2QAJuxdkACbsXZAAm7F2QAJuxdkACbsXZAAm7F2QAJuxdkACbsXZAAm7F2QAJuxdkACbsXZAAm7F2QAJuxdkACbsXZAAm7F2QAJuxdkACbsXZAAm7F2QAAL2QsgKAvZCyAoC9kLICgsi9kLIClkLIvZCyApZCyL2QsgKWQsi9kLIClkLIvZCyApZCyL2QsgKWQsi9kLIClkLIvZCyApZCyL2QsgKWQsi9kLIClkLIvZCyApZCyL2QsgKWQsi9kLIClkLIvZCyAoC9kLICgL2QsgKAvZCyAoSy1kVe4FoRvqzQrD2UWAEuMkk2mk9n1L4dU3WiqrtEtiuJxmqqtbZLa3cBiUnG6vzLkPZgYmsI2XeZmwBJt2WrZ108Es6hVqZZuOayVzPBW9bp32uerShKELTm5u+7A8qrh8tJVacs9N87WaMD18V2I1JzqdlwcVDvPIAznGzuiqV3Y0qeyUh7SA0SsrI68PQpyo55wnNueW0eRynoeja0VF0npJu67wLVvR0HB8K6kur3POlFxk1JWa3R75w+kqVPh8R6T2XeB5jVzKSs7GxnU3A1wdHjVe17MdWeqkkrJWSOL0bbLU63R2ni5srctPbw4yY7XhC7WZSSavorkpU9Lyl7PTmbP7uj7fsP2dznyT92W19uRmzTcuycVG1r6q+qsYYmgq1Nq3aWzOmr/AAe37K9r+ncZk3q7i63NV4b0dmd2AoJriyV/d/U5MR+8VPzM9TC29Wp26Hp5cr4dfLy8OMuffw1Oh0KdNJVquWTWyV7GCdmn0OqrRlXqOrSalGWr11R58ZuetvTldX3phWpOlJK6lFq6a5mZ04mDhRpRXajG/aW1+hzEymquN3HFj6CcOLFWa9rvOA9mv9xUv7r+h4y3R6uDK3HVeXnxky3GkY2XeWAOzg6MPhJV4uV1FLZvmzCcZQm4yVmtzpwNOc1Vts4OK8WcsrqTzXvzuAMpqzNSlTYBRpurVjBc2evThGnBRirJHn+jresO/uux6R5OfK709fBjNbSotq6TavYtwqn4cvItTvkX3ntr2Vp/9nVeXXF/ymMcZXTLOxxShKPtRa8UZ1KcakHGaumdWJbyq/G3/wAxaHOZs8b01L5Tt4tWm6VWUHyZEFdnR6Qt6xp7quY0/ZPdjd4yvBnNZWLm1LC1auWSg8kna5ierR4ywGyz5ezboaZYYnAZFHgKUrvW7RxThKE3GSs1ueh6PlXdSXEcnC38XU5cbn9ZlxLX5W6Ac0o3XeZmxi9wIAAAAAAAAAAAAAAAAAAAAAAAAAAAAAAAAAAGioVXT4ipyydbGZ6sHHPSpvNxuDZe7scOE4SqPjJWt2b7X7wMAegqUYVKk6lOjGGlnq1r0JqU6VD1hqlGeSUcqlyugPOB6M6dFzqUo0Yx/ZZ1K7una4jTpSnRoOjH9pSUnPmnbcDhlTlBRclZSV13lD0oU4VFRdSzjCi5WfiUvg3VjLs6xd+y8qfIDgBtioOFZpwjG6TWV3T70YgOYAA1o0J15Why3b5HTL0dJR7NRN9GrGvo9L1e63zanUeXPlymWo9fHxY3HdeJOMoScZKzW6KnuOKe6TGWPuryL/kf0z/j/wBvDB7mWPuryGWPuryH+R/R/j/28MHb6RhCLg4pKT3scR3xy8ptwzx8boJSu0upBMbZlfa5pl2S9HTVeNLiRvJN3sVWBk4VpZ1+ybT03sjSTwXrELTlw8ru+1uVTwmSveTvd8PfXTQDiAAAAAXAAA2oUeNftJNcrGJaE3TmpR3QHT6k/fXkc8oWqZE762udmJquNGLjo5/I4oe3HxA7K2BpUqvB9ai6uZRy5HzfUyq4N06daTmnwqnDem/edeOqqXpdQ4cI5ase0lq9tzSpRqV6WOhSg5S9YvZfEDjw2DpYim361GMoxcpRcG7JExwVGUJ1PW4qlBqObI9W+4vgqVShVxVOrFxksPO6fgaej41Jej6ypUY1pcSPZkrrYDnp4OlUjVn61FUqbSz5HrfuMcTh5YacYuUZKUVKMo7NM7qKnhMHi+NQi3mg8k1prcx9KXnVp1o/c1ILhpfwpcvgwOEAAAAAAAAAAAAAAAAAAAAAAAAAAAAAAAGlGnxaije3U64QpYdNTkm5dUcuHUXWjmduh04ig601KEl0dwM6uFUYSnGV+aXccp3V4xWFyuXs/U4QBV7lir3AtB8jQxJU2gNS0pykoqUm1HRdxjxH0Q4j6IDQrN2VuZVzZUCDWDuu8yJ2A2Taaadmjvh6RTp5akG5WtdPc8zOxxH0QGgM+I+iIc2wJm7uyKp2dyABsndXRKdndbmKbWxbiPogPVoekIqlarfOtrczir1p16mab8F0OfiPohxH0QGmxjJ3dw5N7kAdGDrKjV7Xsy0fcerueEb0cVVoq0XePRnDk4vLuO/Fy+M1XvKrSlTgpqopQTV4tBzo5ezKte1leSPG+0KnuRH2hU9yJj8ef06fk4/t6Tbe7uZYisqNNye/JdWcL9IVWtIxRzTnKpLNOTbGPBd/7GXPNf6obu7vc7/R9dZeFJ6r2Tzydj0Z4zKaefDO43b3AeXTx1aCs7S8S/2hU9yJ5bw5PVOfB61Ks6acWs0JbxZked9oVPciVnjq0lZZY+CH4s71U/NhO43x9dRhwk+09+5Hnhtt3buyD04YeE082edzu2sXdFjFO2xbO+42w6qtdzyxprJCPspfUitWVZRbjaotJSXM5uI+iHEfRAaGU3d+AcmyoGlGo6VWM1yPYhKM4qUXdM8M0pV6lF9iVu7kcuTj8+47cXJ4dX09tSklZSaV778y3Hq/iz/mZ5X2hU9yHzH2hU9yJw/Fm7/l43pyqTmrSnKXi7lJzjTg5Sdkjz/tCpyhD5nPVrVKzvOV+7kWcOVvbN58ZP8AUrVHVqym+ZEHZ+JQHrk108tu+25vRxdWkoxUuwntbkcak0TxH0QR6eJx91HgSafO6OKc5VJucndsx4j6IZ2BaTsu8zDd9yAAAAAAAAAAAAAAAAAAAAAAAAAAAAAAAAAAAA2WKrKnw1UeW1vh4laVWdGWanKzatsZgDdYqupylxHeW90is8RVqKSlK+ezlotbbGQA19Yq53LN2nHK3ZbG1bGTdOFOnNqKpqMlbnzOQAaqvVi4NTacFaNuSLet18+fP2rW2WxgAL1Kk6s3KcnKT5lAAHMAAb4bESoSdleL3R1S9IQy9mEnLvPOBzy48cruumPJljNRrPEVZycuJJX5J2RHGq/iz/mZmDfjPpjyv2041X8Wf8zHGq/iz/mZmBqG6ltt3bbfVkAFQJTs0+hAA7pekW8RGrw12YtWuVWPahWjw1+1be+10cYAAAAAALgAABB5nYtlNZY3G6ovUrOpCMWkspkWyjKZFQWyjKBUFsoygVBbKMoFQWyjKBUFsoygVBbKMoFQWyjKBUFsoygVBbKMoFQWyjKBUFsoygVBbKMoFQWyjKBUFsoygVBbKMoFTWlXlRTUUnfqUyjKBDd22+ZBLViABV7lir3AgA+gw3oPDVsNSqSnWUpwUnZq2q8APnwfSf2fwn4lb+ZfoP7P4T8St/Mv0A+bB9J/Z/CfiVv5l+g/s/hPxK38y/QD5sH0Ff0FhqdGc4zrXSvq1+hTCehsPWp5pzqp8rNfoB4QPpP7P4T8St/Mv0H9n8J+JW/mX6AfNg+k/s/hPxK38y/QL0BhWvvK38y/QD5sH0n9n8J+JW/mX6D+z+E/ErfzL9APmwfR/YGDvbi1v5l+hP8AZ/CfiVv5l+gHzYPpP7P4T8St/Mv0H9n8J+JW/mX6AfNg+k/s/hPxK38y/Qf2fwn4lb+ZfoB82D6T+z+E/ErfzL9B/Z/CfiVv5l+gHzYPpP7P4T8St/Mv0H9n8J+JW/mX6AfNg+k/s/hPxK38y/Qf2fwn4lb+ZfoB82D6T+z+E/ErfzL9B/Z/CfiVv5l+gHzYPpP7P4T8St/Mv0H9n8J+JW/mX6AfNg+k/s/hPxK38y/Qf2fwn4lb+ZfoB82D6DE+g8NSw1WpGdZyhByV2raLwPnJTadtALgz4j6IcR9EBoDPiPohxH0QGgM+I+iHEfRAaAz4j6IcR9EBoDPiPohxH0QGgM+I+iHEfRAaAz4j6IcR9EBoCmd9EM77gLgpnfcM77gLgrmfcMzAsCuZ9xKbYEgsoyYcJIbFQQ7ojM+4CwK5n3EZ33AXBTO+4Z33AXBTO+iI4j6IDQGfEfRDiPogNAUU22loezgvRlHEYSFWcqilK97NW38APJB7v2Lhvfq+a/QfYuG9+r5r9C6Tbwge79i4b36vmv0H2Lhvfq+a/QaXbwge99i4b36vmv0H2Lhvfq+a/QaNvBB732Lhvfq+a/QfYuG9+r5r9CaNvBB732Lhvfq+a/QfYuG9+r5r9BoeCD3vsXDe/V81+g+xcN79XzX6DQ8EHvfYuG9+r5r9B9i4b36vmv0GjbwQe99i4b36vmv0H2Lhvfq+a/QaNvBB732Lhvfq+a/QfYuG9+r5r9AbeCD3vsXDe/V81+g+xcN79XzX6DRt4IPe+xcN79XzX6D7Fw3v1fNfoDbwQe79i4b36vmv0J+xcN79XzX6AeCD3fsXDe/V81+g+xcN79XzX6AeED3fsXDe/V81+g+xcN79XzX6DQ8IHu/YuG9+r5r9B9i4b36vmv0Gh4QPd+xsN79XzX6D7Gw3v1fNfoNDwge79jYb36vmv0H2Nh/fq+a/Quh4QPar+icPToVJxnUvGLau108DxSAAALkkErdATw5Q1ta47RvW9leJnCEqkssItvojry4+OWmMMvKbU7Q7R0eqV/wpFZ4erCOaVOSS5nJtj2h2iwAr2h2iwAr2h2iwAr2h2iwAr2h2iwAr2h2iwAr2h2iwAr2h2iwAr2h2iwAr2h2iwAr2h2iwAr2h2iwAr2h2iwAr2h2iwAr2h2iwAr2h2iwAo78yC0uRUAVe5Yq9wIPs8D+4Yf8A2o/RHxh9ngf3DD/7UfogNwAAAAGGLu6EkjLB1FDDU8z0eh01o56Ul3HHhoRqYVRdtGNkjtU4vZ38CxSnBQgki1wJIjsRnV7COxNyixStPJTcmXK1IqcGns0UcMZOc03Ju3J7kz9JUaLcW5TfVHDjavDThHS+5w7iYo9qPpek/ahJLu1OmjjKVaSjFvM1s0fOLRo1pzcXo7NG9RNvpbknF6PxEq0Wpa2V79TtMWaaCG7K7JM6rtEC17pNWafeSQvYXwGWLeyAm+gIyR91eRDjBfwx8gLXF9TN5L7R8iytfoNizdkQ33Mh2u1r5jKur82BOZ+6/kMz91/IhxVnv5stbxA58dK+BxKXKnJP+U+Kn7TPs8Yl6ni+uSX/AOp8ZP2mBUAAAdGCxcsJWU1FSXOL5nq1fS2FxMbSpZH3pMDwgehPgyfZyPwsZ5YpXcYpeBNjjFjtjOjF3ahYpUxNPaFKPi0UctgbOu3/AAxI4791AZA6I4iH8VK/xNY4jC/xUJfCQHFYmx6KqejZLVVov4foZzlgf4HUfil+gHGDqvhn/E18C8KOGn/nJeKIriB6PqFFrTF0F+aTRH2dHlicO/CoB55J2SwOX/MpvwmjP1V9V/MgOdG9CCnJK6XiWWEqPZN+CuWjg8RHVU5/yMDrhhb27UfMmthHGDa1OdRxMX90/JipUrqLzUpJeP8AwY1VclRNNpmZpLM3syjT6M2ioJs+j8hlfRgQQTYBEAAogEgBH2l4n1Hor/DqXx+rPl4+0vE+o9Ff4dS+P1ZYldgAKgACKAAAAAAAAAAAAAAAAAAAAAAAAAAAAABBJAAAAAAAAAGWL/dK3+3L6Hyx9Ri/3St/ty+h8uKQABFXJW6IJW6LB0VvZXiXwft1P9uRSt7K8S2D1qTjdJyg0r9Tt/I/dz4v1Y5n1fmb4dt0q92/YHqVbpH+ZF4UZ0KNZ1MqTjZao4OjkO2Po7NGnavDiVIZ4Qad2cR6tStQw6wlWcakqsaCcUrZee4HL6jJ0aU1Ujnq6Qhrdu9i1X0ZUilw5xqPOoNJNWb8eRV4xJ4WUU3Kje99nrc1qY+CqRqUp4mTU1JwqT7NugFo4SlTw1Xt0601UhFtJ9nXVGdXBJ1q851KdClGpkWjav0RZ4vCwp1I0Y1U6k4zea2lnexFTGYevxYVo1ckqjqQcbXXcwDwlCOFpTVSMpupl2dpa7CrgU61WU6lOhTVRwjvZvuKRxND1dU3GouHUzwtZ6d5pUxmGruca8KuTiOcHG19eTAzXo9pVXWrQpKlLLJu78ifs6UZVeJVhCFO3bs3e+xGIxsa9KsnFqVSopLoklY1jjqPrHFzV4dmK7FtbLW6A8+ccs5RUlJJ2utmQXrzjVrznGKhGTbUVyKAAAAAAAAAAAAAAAAAAAAAAAAAdVXA1I1KapftYVfYlHZ/oZYmisPWdNVIzaWrjsnzRajjK9ClOnTm1Ge/d4GAFZcipaXIqAKvcsVe4EH2eB/cMP8A7Ufoj4w+ywN/UMP/ALUfogOgFXNLdhSTdk9QLAgN23ApWnkhcwwUGoNu1m2TjZXpqz58hRk4UtFfUzsjadRxfs3M5VHHdmk48SHR/Q5LuMmravTVGMtjfMpNcrczVcjBPRJl2+yr22GPoaSfISsoNtKyRjTn2dXuV9IyccLKzsdZR4mLq8Sq3sc6bbskacOVWdkbQgqMbe1JltWYqwjp2tES4r2kaKCbzS36CokkTyW4u30W+013Hp3t1PH9FztWnztE9LiyvqrLuLe2PTW7/wCoxqy1aIniVCOqv3t2OOvi6dJZnbXaKJFehGqnpsy8ZKTdjwJ+kpSfZil8zooekFKOWURqpt68nZHPJ9luzun1MZO6zxjContpclRpPenHwcTNotCSclbQ3i8qvv3HJGMHOL4cYtf6TppuMZ2aS0v0HyDleb0a1NIyel0YSnZZne3dLvEVGV7Ob/8AN/qTeqrpezJMorLFqz295mtjco5sZ+54v8kv/wBT4uftM+0xq/uWJe/7OX/6nxc/aYFQAAAAFqbtIvNtx1ZSHtIvP2WBkAAABNgIAAAAAC0W0TGm3uS42RNrpfMmiif7RWZRstSi272A6VYm/eFCVtiXCXusiq55LaTXgy8MVXpyTjUd+/Uo4tbopPRXA9CPpbFRW8H4r9A/S9Vrt0qcvgeUpyXMlTvvoVHZP0lN/wAEUuisUWNpP26KfwOOb1KjRt3+s4aW8LfD9AqmFf8ADb4/8nABo277YaT0quP5mi8MHTqytTxFOb6L/mx5pI0PVn6HrRV7Rf8A3uMZejKy/wAu/hc4YVJwd4SlF9U7Gyx2KTv6xVfjJsqNZ+j68VeVKaXUw4L5J+RpU9IYmrbiVM1v9KRV4ys1ZyduibApwZxd3F28D6T0V/h1L4/VnzvrEn2bWufReiv8OpfH6sQrrABUACQAAAAAAAAAAAAAAAAAAAAAAAAAAAEAAAAAAAAAAAABji/3St/ty+h8ufUYv90rf7cvofLikAARVyVuiCQOit7K8TIhx7yMvedea259zTOOPhNLArl7xl7zk0sG29yuXvGXvAsCuXvGXvAsCuXvGXvAsCuXvGXvAsCuXvGXvAsCuXvGXvAsCuXvGXvAsCuXvGXvAsCuXvGXvAsCuXvGXvAsCuXvGXvAsCuXvGXvAsCuXvGXvAsCuXvGXvAsCuXvGXvAsCuXvGXvASKktWIAFXuWKvcCD67DVVT9G0JdKUfoj5E+ihWbwFOEF2lTiufTxJdjWGIeIbSupLY3hLI897LnfkeXDiQvprodFSrPI0rKT3ZLLtG1TFSu3CV5a2V1YtTxMqtLtuze1tTz60ZyjC0nJLe4p1KkLxyr4xJljbB2KpnlKOfMrb8kbU3/AHed3srnJhm1nc42uvM6aPaoVI2teOxNaqx1YeanBa6jEQi4OVrtHHhZzUkuVtLI6K1SUk4pWS3voWWWLf6ZRalpKLXS/M1qO0YNPkYOO7Ts+RvNJwhmvsTXSKQd2k1z2NcVT4lFwSTk9jOEsrTtdM0qVVHWfZVrXsbg8vhyprK1aRm8sW73u+djprVYzd43slbUxzJysZ27fDO7Su9hFOq1bVd2prNxyu2pNClHwctlzYSt/R9Hh5p2fa+Z15o7O1yaNoQjG1rI1UkkjcycdODERSg5Nu17njOrxq7zbPRaXset6WqZMM0v4meRg4ZpSk9i712Sb6QqFSUnki8vK5eFGrFptI7o2J06GfJ08GeExDhPJJJpux6doVW1dp8nzPFmlGqmveR6lOm4QVRyTvqrNvcmU33GNaTJRVOK0T5NeJVzyy00fejZU42Wd52tVsrCoqc5NulK/VNX+pJDTCNacVayy9/PU3ptSqbOzT1TKOneDyqV3s21pqRSjKlVWfVdwHTmtB/EesxUldW0f9DkdTsZVdtt3un1Ic5TlpFppdHqJsa4yvmwNdaK8JL6nyE/aZ9JiaM/VajTXsScrvxPm5+0zUFQAUAABekr1EbVY2psyw/30TunTi4NN6EvtZ6eaD1qODwc4dpvN4kS9G0m7Qk38So8oHdX9GzpxbjmduVrnKqNS9skl4oDM1jrokZF4TUYtdSVY1jdppx0Iyxi7lJ1XLSOiKOTe7Gl20lU6Gbbe4uSEVPQwsFkicNjfDVZKpGK2Kj0qcUo2saZYtbIyjNLe6+BZzVrpPTuIrOpTRx1IpysnojprYi8XFLVnK2orvJa1IynFIoo82axg5u72FSNouxYlYPcgArIAABJAAAAAAAJj7S8T6j0V/h1L4/Vny8faXifUeiv8OpfH6ssSusAACSABIIAEggASAAAAAAEASAAAIAEkEkASQAAAAAAAAAAAAAAACAAMsX+6Vv9uX0Plz6jF/ulb/bl9D5cUgACKuStyCVuWexoy9ClxpuOZRSV230KM2wftVP9uR3/AJP/ACNZe08Cj/8AJj/KxLDw4cpU6ym4q7VmjnN8N93X/IedlgAelTwmHc6OHkpurVhmzp6RbV0rAeaTGMpXyxbsruy2R6eH9H0arpVJXVGVPtO/8d7FqOHjhoTjJftpUKjl4bIDyQ04uzTT7z0Z4OjGM8RZ8DgqUVf+J6W8zpxHDhDHKcJVGlTu3LV3tb5geKCYtKScldX1V9zp9IwhDER4cFCLhF5V3oDlAAAAAAAAAAAAAAAAAAAAAAAAAAAAAAegsHRxSVbDzVOmvvYyetP9UcmJdF1X6vFqmlZXer7wMJcipaXIqAKvcsVe4EH0eFw8pYWi1s4R59x84fW4GMvU6FpL7uOlu5Et0KxopS9lt9LipQztZVbrc2UJ5rynf/xL5bLV3ZndHGsM4xaqK6fQpwHa8e1Huep6Djfnp4FI0kk9XvtYeVRy04RfJrTzKUZy9dlBvstbHROOWad29HoclJtY9Pqh3e2sfb1KdOFNdhWM5qN23t3GlOTnG+gt2nqW9RGOWMlpL5FpxvGN3ZJFmtXqvIrWnGnSTk9eWm5N3Q541Mk32rW8NDlrVJVZXc3LxIu5bkapWy3Se5r3HSTTNsq2mt7MvJJ6FMqMNJSTW9zfDzjZuUu1ysjBWtpsbexTi9LNf8mozXXUnJ0YuDcpGkZRnlhNt5lzMcDmlGUm1l5XOqMVli+a5mflix5PpfNCUU32Gvmc2GX7BWR6/pCh6xSy256M82lT4UIqXg/EtreJFyvZRlHxs7lqjmlpf4Frq+i8SzknHYjTlcJOMpNW1T1Z7VCN8PFS1kt0cD4aou+l2kvE7adam1lUlma5J9DUYyjXhpbvkZVI8lOx0yirpPncpOlG2jKwqqdo2vzJdO7utS6tfclb7pokmhzZHGF7fxf1CpWnmktjeekOXtL6osvas7bF2OTFQisDXa3ySfyPlVQnUd0lZ82z67HJLCV7L/Kn9D5aNVRgoprv1AqsG/4qkUdFLAUJe3Wl8EZxnG+r+aNY1Yrm0jNta1Fvs/DN2hXk332Ky9FpSsnUfekaxaqSVot22bR1U69SMMqpN/Ez5Vrxjzn6OydpVdu4h4Wq2lmdnzseq5VpLs4R+aLwpV7XWHpxfWT2LvI1HnUcBJuzqHVDCqDvnbt3k1qeMlHLGpSTel47/Qw9VxdCN3icq743JMvulx+o9GnKFsrsu8zrYOFW9qr1VrI5LekUrxjTqLqVdb0hHfDeSubZTL0TGO12ZT9GqKbs7eB6OFnWlTUqztJ/wpbE1KlSSyxul4Gcumse3kLC0mua72jGphVG9nfwPdU7xSqU8z7i9WhCdPMuy3ysYmV+WvGPmvV5WumVdOa3iz3J4apsramMsLK2sL96NTkS8bx3dbpo1wy/bLuO54eEtGpRfermbwsqTzRSfejflKx41vfs3uVdSMaLWZOT7znk212mV0G10PRXZEKbk7y0Rams8t1ZGyi29RIWoy37kjGtrF22OiT0sc9XSLKy5LCwJKiLEFyAKgtYZQKgs0RYCAABMfaXifUeiv8ADqXx+rPl4+0vE+n9Ff4dS+P1ZYldgAAAAAAAAAAAAAAAAAAAAAAAAAAAAAAAAAAAAAAABAAAAAZYv90rf7cvofLn1GL/AHSt/ty+h8uKQABFXJW5BIg0ZrhqkadSWdtRlFxuuRi5Ii6O/wDIsue41l7dPDw348v5CVKhSpVFCpKcpxtbLY5boXRwZSdUPSFaFOMVGnmjHLGo49pLomcl0LoDoji6scL6umlDNmvzuXnj61SvUqyUc04Om1bRLuOS6F0Bu8VUeEWGduGpZl1NPX6rq1JyhTkqiSlFq602OS6F0B1PFxat6ph135X+pXFYqWKlGUqdODirdhNXRz3QugJBF0LoCQRdC6AkEXQugJBF0LoCQRdC6AkEXQugJBF0LoCQRdC6AkEXQugJBF0LoCQRdC6Am7V7PfcEXQugIlyKlpO5UAVe5Yq9wIPrME2sJQ1X3ceXcj5M+uwNvU8P/tx+iM5DRSs3dom9/wCIh2U2r2uiV3SuRUX/ANQTs9yzT6oWebdEGLf7eCvyZz1o8PHU2uaZ1TX7aG2zOf0jJUp0qj1toXaz26cPUTzRUbJGkr79Uc2Ed3N7XibuSeVXTdupvJmIle+5yYueaUY+6jqnKN3vt0PNnK8m+pz23jAtxclNxtdyfMpaUmox3JUXT9rV/wBTWPtqpq0Gu0loY2vpubVKyl2b2ZaLjw7r2trs1cE3ZO3Ne9lG2pKXGqRpxWqvfW5TEScYtprpojX0Us2IcuiZMuumrXq0qahSUY7Jc0WjGTimpLyJWrehhWquhSzSk2npa9n8DDn7TiKkaKjxJx1fQ8epXUqzS9lu6KzvOcpJ6t3sUUb36l06eMnbdK+qbRpGOa+rSOZTa7jWM29NSKVpNqOXaOviXo1crWpW37K3cRGGsWX1DXT16dTPGDbe+vkatprWxz4aD4UfE3yeRNuV0tCSyRd90hmTk1dbGUIyyR15IKL4j15Ln4jaLzjJrSTWq5IoqcnVl+1lsuS7+4tr18iIuXFbvpZb/EvlEZ46OXCVnv8Aspq/wPknBS1ufWY+beAr/wC2z5FytK1zXsTwe86cJhoTblKSdtkcspWWhEKkoSzReoV6GGm08ja0exerKopWjFq+zRxRxEXUU5RtLqjr9cpTsnKy7zFx+m5k6Y1q0Ixc1KNtN7HVHFVnGzcWvM4o1KM968TohOhHapBv8xNVfKNXBKKnGeWS5M3aValaVWFmtbs5atak6cssoOVupyxq2Ss9US46Jlt6qaSyrS21hKTirnDTxUk1eUEu+SO9TbhecoqPVajeRZiwjUc7uUcq5NmGLxNTC5ZKCnB8uaOtwUo/sbTlyc5WRzywWIqSzVKkG+iZqbS6c8PS1J+3CUToh6Sw7a/a28URL0dp2nHyM5ejYJauC8dC7RrPFUKkm+NT+LsWjjKaVnWpW/Mcj9Gw5Om//Ij7PS/gT8GYsjW67E6GIbUKsc3+nUtLBWg3xV4s58LB0JuPCklLmkdkk5WSloviWYyTpLbfbz36PUr9p1GuiMZYNQetKfjLRHrQhld1LU1tnTTlFp8jN82p4vE9VjbRP4EcJ2tFtPoz1p4aKTcaa+DMHg24dm8etzO8ousa8y1RbxuY1m3FqzTPYeDcI7X7zCeGknfS3Ro3OS/LNwnw8OzXJko9OpQptaJxfdsc1XDyhq43XVbHSZS+mLjZ7cpJZ00OHPkrlZVJRDut0xcollSbkABYAAlqj6b0V/h1L4/VnzS3R9L6K/w6l8fqxCuwAFQAAAAAAAAAAAAAAAAAAAAAAAAAAAEEgAQAJBAAAAAAAAAAxxf7pW/JL6HzB9Pi/wB0rfkl9D5gUgACKuSldpEEx9peIHTXpQhFOKtrYwsjqxXsLxKYanGdSWdNxjFysnub5JrJ05JJl0wshZHTxMN+BL+clRoVaVRwpuEoRvfNcw5uWyFkSAIshZEgCLIWRtTw86tKdSLjaLSd31KVabpVJQla8XZ2dwKWQsjRUZuEZ2tGUsqbfMirTdKpKErXi7OzuBSyFkSAIshZEms8NUp0IVpZVGeyvq++wGNkLIktClOopOEb5I5pdyApZCyJAEWQsiQBFkLIkARZCyJAEWQsiQBFkLIkARZCyJAEWQsiQBFkLIkAVkrFS0uRUAVe5Yq9wIPq8Ff1ShZJ/s48+4+UPssD+4Yf/aj9ESzYhZuI+XZ6XLRzX/4NuYJ4jGUW9m/Ih01pe7NyJSUVeTSQ8V2wyxheT2S5nmek6nEScF2U97HpylGtJrMmvdOb0lCKwDSSVpI14yRJe1MBiEqSzq7atc7HXg7bnPgKVOWHTmlqjWeEf+XL4Mli7lUxOIWS0Hq99DjRardTytp26FJOyMukmumzglDR2k1ujCTqSspQd+qe5eUW46WEJSuuz49pnT9fab051PJHVrLc0TUoPLKz2vyMK8ryea1+5GuF0pyloo66NF9t5SeO0YmCVBq+Zt7mnol5cRl6pmde2R2lpZaGnov99h4P6GLHP47erOpGkpSleyXQ8utOVdvM3l5LodvpKqlFUlu9X4HnVaipUnJ78kZ0YzU2lU0jOcctTKrO+qTNqlCtChCo3FqSTstzmu3PNNXSWxrGdrctSivezhbmWjz05XENYJPVclfYlr9qrWbtffqb8Ix531GkYtNaKV+/QpUbhUhDTLurd5okpSspy0fav0KVlfFQhpdJL5jOSY6Z487a9bDSfBj2W1bkauaT2lp/pZEL0IwjJK2i06mjlZSunocvFqxjxFFWyVOmkWFNOV8k9VbWLN8ybsmvAkeKaYVGk46NXe9u5kKUVLtTvobvXL4k9R4DzsXrgayb/wAn9T5WVObeZRuj7HFa+jaz60ZfRnyDqyjojeOIzySSu4tLvRMYqXPU041R815FJRcdbavWxdT7DhSI4UuheFRtpXOiF3Jp6ks0rk4U+hPDn0Z25SVExtdOJUqneaU8PUqTUb6tnZGN3sbJKlao9ou78CzdG+EwNGglJrNP3mdVWmq1KUM1rmcJqcc0GpLqi99Co8+VLFYe6jeUesf0LUMTWpW4inle7a1+Z3qTLKS5mfFryTQxeHnC2a35hUyzg5RakltlKSw+HnvTSfVaGbwUo64eu01ykZuNalgoycc7g49zJlJwpuThJtbJalY1asJxjWcYy5t8zpy501KTUn/EuXmYbrgjOc6l0pQv/DK5vTlUjPWLt8jV4dp9mrma5O1yJ8WNO+ifUWfKS/DRNS236Gc6sKb/AGilBL+JrTzIpSnJXqaW7rGjUalLJJXjJWafM6Y3bGU0zjiqLfZr03/5I240ZxazRfgzxMR6MhCo1CTS5GPqNSPs1BdJ295ScXpcniJxtJPyPA9XxK2qy8xwMS96svMx44tbr2KlJT0jljfq0UqYOSoOEWnfqzzsHTdDFQnUm3y15HsNvKrM1JMZ/qltt7eZ9myW815BYKcVpNfynqwyzh29JEOjo8rv4mt3TOnkTwc5ezKNzmlhJrTsyfcz2lTlBvstX7rmNalkmoxea+66Iz535b8JfTxpYaov8ufkZypyjumvFHqSo9qzcrctdisqc7dnNa3jcvnGfB5eoO2VOMdZxi+5GTwzks1Np9z5Gpds2aYLdeJ9L6K/w+l8fqz5x05Rfai1r0Po/RX+H0vj9WaiV1gAqBJAAEkACQQAJBAAkEACQQAJBAAkEACQQAJMa9dUssE06k9Irp3svUqRppZnq9lzfgjg9SqVsV6zWk2lLsQb2QHoQjkja7b5t8yQAAAAAAAAAAAAAEAZYv8AdK35JfQ+YPp8X+6VvyS+h8wKQABFXJj7S8SCY+0vEDsxXsLxK4P2qn+3ItivYXiY0arozzJJ3VmnzR05P2deX9lDfDfd1/yE+sU//jU/mRLErJKMKUIZlZtHNyYHtUlNvCU+DF0J0VxG4ePM8U6K+MnUp06cJThGNNQaUtJW5gdqcOHgaLUOHU9puKu1m01Na3BqVY0qtCokqqSlKmoxXddcjxnOUlFSk2o7JvYtOtVqRUZ1JyS2Tk3YD1pSrSw9dVqSglWgo2hbS/zIrKVJYiphqalV47i+xmajboeXLEVpK0q1Rro5MiNerGcpxqzUpbtSd2B6TqVp4GknGy4zU0oLs6rTuNKynS4s8LSjOpKu4y7Gay5LwPJVWpFNRqTSk7tKT1JjXrRlKUas1KXtNSd34genXlHC08VKhGGlZJXinl01sXWWOJqKFJxlUUHxI08yi2trd542eWVxzPK3dq+jZdYism2q1RNqzakwL4jD1liKidNtqT1hHT4HoylUrVMHByj91nd4J6q/I8yGKxEI5YV6kV0UmVdWo5Rk6krx2d9vAD16jgp4au6E5ynGaf7NZtLWdtiYuvSq10pRlKdDPG1NJvXmup5DxFZyUnWqOS2eZ3RHGq8TicSef3szv5gevR4dLDUP2FSoppuahSUrvmn0OTF1FDA4eEIxUZxbbcVmdnpqcca9WCajVnFS3Sk1crKcpJKUm1HZN7AQAAAAAAAAAAAAAAAAAAPRjXwmJiquLTVanuor73p8TjxNeWJrOpJJaWUUtEuhkAKy5FS0uRUAVe5Yq9wIPssD+4Yf/aj9EfGn2WB/cMP/ALUfogNySCQKzk4wckr25Hn1a0q0lfRdD0Tlr08lRSS0fyJuy7WSXpGEotPiN/AelF/cpeKOuKSikjm9IxzYOfdqW3aSMcA1LD01zSOyrUVOm5Pkc+HnDgwUl4E437mPiLel13p57eZuT5kJNvszs/AmO5nUm59myUE+mvmTF2nts26ME5LN3mcMXZyUlvsTLNUpJxeVdL3OeWanGUZK+bmXK3ZqX20qwjK04qyS2Ja0gk0rW5GSUkoxtformtKEqlPOnld9bm5qwvU9odHO5rMrxXmVwVXg14zabsnoaU69FTi4SUmnsuZxVcVGnVnkWl9EYs7c/L7aY7E1OJfS8tzmhVnKym72d1czlV4jbe7IzLkWRi3b16/pLi04xnSy25p6eRy0pWku0nfk2ciqNa8izqZkWJfWndOnJybi/aLwSTUZSvboeXmfeWVWa2kzXkzq2eO3pYfVuFm+prgYcXF8TaKlpf5HlxxNTVZ5a76noej8RlrQhJtXdjN7dLlbdvbqU1UlBu/Zd0We0iEn77a+BbluZQe68SFFXfLXkGpdV5BKV915ARaVlaS+KDur2V/iWWxWor05rqmByYif/wCMqpqStSktv9J8pGk5u97H1+NVsBiP9uX/AOp8nSvdlnyVaFFRd8zb5dCPV2226l2+40tJ8xln1XmZEUcHHixzT08CYq9SXjvco5TjJK5ei+07vmWfIv2ua+ITNkVnTt2lsZ01taC10NMZCSwU5JX6laC7aT0uev6rHEYOdO9sysWJXy+HxVTDyvCTXXoz0qPpOnNpVVlfVHmYrCVcNUcKkGrbO2jMAPpY16MvZqQfxNeWh8spNczali61J9ipKPgwPpEyykeBH0rXW8r+KNo+l5c4xYHrYiCr03F2vyfQ81uvTqKMm009G27eIXphc4B+k6dXsuk5N8iWLK76Cqxm51akWuSidUmpJXTk+SSPPoVak7ZcPkXvT0OuMmt5eRjwa8luFUnJObUYr+FFK+Io0E05xcl/CnqaqSekldd5LqUKELtQiuisa9M915SqurJyk9S1ztfpCjJ2yv4lo1KdX2fmjHV+W+58PPuLnoOjG13CNutjOWHoy0Vk+Wo1PWzbz6sc0Xbcyo4yphZZZpyp9HyPRlhEr5Z3tvzMK2Dm1aUb96LNxLqtKVWjUnnp1ou/8LdmbueVXbsu88GthKtJ5lGVuti1L0hXp9mfaj0ka/6T/t7yrSscPpGavCS0euqM6eJw0+Ti+53RpXdGpTSVWOmzvcmjbnhjMnZnFS7+Z306lCpHsSu+iZ4lSMoytJr4O5TNKEs0W010JcJV869qeEpTW611WhisNOlHZNLZJilWdWkpxV76O3IlSndpttrotjOrOmuqwrRkoSzXTs9D0vRbt6PpfH6s83EVnKm7xV7NXuej6M/cKXx+rOvG5Z9Oy5NygOjC9xcoALgrcm5FSCLjMBIIzDMBIF0LgALoXAAC4AC4uABF0LoCsaa4jqtdpqyvyRcXFwAIuLgSCLoZkBIIuhdASCLoXQEkC6F0AAuiMwRni/3St+SX0PmD6bFS/utb8kvofMirAAEVclOzuQTH2l4gbVa7qJLLbmZZu47MX93HxOUuVtva2291XN3DN3FgRFc3cM3cWAFc3cM3cWAFc3cM3cWAFc3cM3cWAFc3cM3cWAFc3cM3cWAFc3cM3cWAFc3cM3cWAFc3cM3cWAFc3cM3cWAFc3cM3cWAFc3cM3cWAFc3cM3cWAFc3cM3cWAFc3cM3cWAFc3cM3cWAFG7kFpFQBV7lir3Ag+twU6iwVDs6cONvI+SPq8LUnHBYfTThx+hLlIOjPVt7BWriJ0YqUqbd3a0dy2eeumxji5vJTT/ABEJlLUT67U/+HX+X6kPFykrSwdez7l+pvxXdWXyJ4jS21Hnj9DFYtpW9VxHkv1M8ViZSw1SPq1dXW7S/U63OyTsylaWalJdU9xc8Vefh8TJQjbDVZW6JP8AqTicXOds1Cql4L9SMJiLQlBOzSRM6s2kpRun3Gp/03ertyqq7/dVPl+pWVZxjKKoz7T52OiUcrRpTjGcWpJPW5MdetLf7c9OcowS9WqaPXb9SlSrneaVGpo9L2/U1xFRyqRhG+VPlzMqjcezFLTkzfWSau9kmqjvw6t7aWt+pFSo44GcFTmrp6u36nRQWaneKTk9kyJU4KlUhPZq929xep6Zu/TwPDcO/PctUSjNpO65FbvKTc+kQmXTfIpYsmNz6HVCcI07ShfTuMJO/KxGawTG4Cfcyb9zBJdxEZrPZl4VZLZMqkaU4SnJKKbb2sibivb9FYmSw8lwas2pbxt+p1TxcoQu8NWsnrt18R6Lw8sPhbT0lJ5rdDqaTi01dMm59Dmhjc+scPWkv/H9S3rcrP8Au1fyj+px14TwtfPSenLmT65NSc0k0/aj070Nz6NOz1qX/wAWv5R/UzqYqXBn/dq2z5R/U6KdWFVJxad1ewqK9KS66Dc+hyYzESlgq69XrK9OSu0rLTxPmKbsfW4z/D8R/tz+jPkIp2b5Is+Rrn6F4RlNOTvlju0YXfI0jKSpOnFu0t+8yK3jm7+82px0lfR3M6dG01J6tG8X25tieqLxM8TWUIxpp9pu77iJ11BWptSny5pHA3JzvK978yD2MBWo1P2dWSg+TPVpznQsqmsHtNf1Pl+R1Yb0jVorJKTlDbXkUex6QnCvTtpKNtzxZ4aL9k6XWhP2WlfpsVuk1m0vtczY1HG8JK9lFvwM5YaUXZpp96PawyWZX2PUdJOGqUk0Ox8hwJf9RHAmfQYmhS1tCKt3HFKEY8humo8+nhKlSaiufO2x7GGwdLDR0WafOTJoQyU82qbLSd07u3eBopp815lJV1F2a8NbnPSUaWZptt85GkHTnLtZW+SMXLfpvx+13iU2ku1332MqtJ17TjUXdFla2Hnlk4VHn/gi5X+pnGnXai3FRmnq0TRtdYas5XcFlXK50UlUi/YaXe7lM9aDs5Ql15M46qqRqudK6W/ZY1Ddemq06NROSlkl37HWuHVSbik+TsfPyxNdwkszTezlJbeB1x9ItYeLSXEt2u7vHjo3t6cqeVt51drS+mpy+sSjPKoydn2tDnn6R49LJGLz6bczpliJOledod/MllnpZ37UqVa0JuMoJ+BhKnhcR7UMkuqN6dZ1qjjCUZ6ayudUqVJJKUNbbpXE3C6eNVwFam+y1VXTmcs6clJqWaLXXRo+imouDlslzatY895ZJxm+JF82jflpnx28Z1JrSSJ4l3aWx1V8Jq5U+2unM5XBLe5rcrPpvhMSqGZPVM3ni6NVWmjz9no7lpKEl2dGXSNZOlZ2qyfcz2/Rn7hS+P1Z84k1JXXM+h9HStgKaXf9WajNdtwY31LxnyZpFwRcXIJBAAkAi66gSCMyXMjOuoFgZup0K5pdSjYXMsz6kAbAxUmtmW4j6EGgKKouehZO+wEgAAAAAAAAAAAQBJAAAAAAAUZYr91rfkf0Pmz6TFfutb8j+h82ZqwABFXLR9peJUtH2l4gduL+7XiUwTtUnJbxg2u5l8X92vEpg9Z1P9uRb7D17Efif+qNIV6lejWVWWZKN1ojl4c/cl5G+HjKNKveLXY5og5jtr+j5UcPRlapKrUfspaLu8TiPTp16UK2EbqRVqLi5J3yt3A4K2Hq4dpVqcoX2vzN8Bgni5TbzKEFd5Vdt9DWpTTwsML6xSnU4jnmz9mKttcihSWGjiFOrSeejJLLNPW60A55YSvw5VVSnwlftNciFhMQ6aqKjPI9nY9HCToU6UMs6Ki6TUnKXbzdLdDKpKFTA3r1aTnGmlBwn2n3NAc+IwFahXjSUXNyV42W/UzeExCqum6M89r5bcj0lWorGSq8Wk1Wo5Y3fsuy9roVWIcZSjOph45aE1B0pbN8r9QPKnCVObhNOMlo0zV4TEJRboztJpR030uWjhJTpqfGo6q9nUVzt9YprG071UougoKV7qDaA4XgsSp5HRnmte1uRDwmIjVVJ0pZ2rqNt0dWHXqzrqWIpyboSUXCd9brTxNcNXhGGEcqsVKMKqd5aroB51bD1qFuLTlC+11uZnXUqKXoynFzTmqrdr62scgAAAAAAAAAAAAAAAAAAAAABpWoVKFTh1ItS+pFajUoTUKscsrJ2Omhj5UqShKEakofdSlvA5JylOTlJtybu2+YFJcipaXIqAKvcsVe4EH1uCjmwOHvuoR+h8kfV4Oo/UqCX4cdl3GMx08rPcwxqtTp6fxrUvnfd8WZYp3pwdv8xExu6jpemxDu9tyHK79l6E5uzz0MqnW+pSbeRpa3T2Jzrd38iHKNpNJ+QR5OFoShGz/id31R1ysndaxS3LPSOamrX6mdWelkraaHXLLrUdN/CKmqWmtrsyTlqlzL2aUl/F37mbztK67SY9VprTlGLvNJO27OWpJZ5ZXe+9uXgdEovN1T3M0owhJpWd7R7zpMtp1O00qqjF2adlomtzjxld5ZNqzlpY6U7K81ZPd32R5eLqxq1bx9laImULZJ0ybuXpKDklK6XczIGXNepGMajUXddSLEE3AJEkXJvoAzEplLk2kldqyA6MNQliKsYxTtfV9D6bB4OlhYRyK7f8T3PO9EU4Rwzn/E9WezDWEXtoWxNrkLZAq5xgkm7EVFSnGrCUJbNHjVl6vXcL3sz13Wim3Zs8/0hFVpRlTi8yun/Qoph6/AqqStklo10PUqZXBOyabX1PHVCo6b021selh5OeFpxl7SaXkyCcdG2CxFm1+yl9D5BNJO59jj/wBxxD//AOUvofF2vPuLPkaKVvA2jUpRjdyV+hyzelimUg7JYtL2FqYSqSm9XuQoslLR6FnqiYbrkbKKqQtJeDRnFWtdJGkHZ6GRjOM6V4yV1yZk9T0HJSjlkr3OavhnTWaDvHp0AyhJwldHoYWtCq1CVteTZ5pK0KPooUKlFqTi5QfNbrxOynXja8ZJ/E8b0f6WqUXGnWean15o7asqNRcWjOKn3PR+IVOLqqTbsl4Hn1JXuXqVG1qrHNUlZPUyr0ac3OjGV09CKrtSZyYCtZuk3vsdc4ZoyhLS+hRyTqRUE8y70tblY4qEVljB28TOrgqkbuMrmPq9ZPZmJi15OyOJjHtK9+jehMcU4u6qXT5N3SORYWtJatLxLLA1feLpNup4innzVGpvwtYh4qm27OVu/U5/UavvfIPBTj7U7DRtnJqpNylNxXgaxhSlJKlKUtNdCssHlTcqyVuqOnBU3ToyUo3V73tuKQoUFTk3Ko1fZWudKUoUmuI5Ne4kys6MpVE4u8ed+SNOG4Q4d3JS2d2mRWCxcqcpcOmox6238i9PH15tcGOZc825niKFNLtOUns318hCrUp01kpx0JYOmWMlGN5PK3/DZu5zxpSm7RlGHPtXTNYV1NJzSh4mqrR96PmZuLUyrmeGlTndVVJroyssNKoneMbvmzrnUgo5paHLPFKzSmZ/2la3LHm16E6LSnFxv1/Uxsd867qRcJ9qL6nHOnOlLVXXyO+N37cbNJyyR7Xo/wDcqfx+rPGU010Z7Po/9zp/H6s3ixXSCCTaFyU2tioIL52Q5N8yAABAAkEAIkEEhQkgAAAAJTa2IAF1PqOJ3FABqmnsyTEm76ga3F7mIvYDYGedkqfUC4IuLkEgi4uBIIuLgAAUZ4n91rfkf0Pmz6PE/utX8j+h84ZqwABFXLR9peJUkDuxf3a8TlhOUJZoNp9UJyqySzu9inaG9rZcbquj1uv+LIrPEVZxyyqSafIx7Q7QRYFe0O0BYFe0O0BYFe0O0BYFe0O0BYFe0O0BYFe0O0BYFe0O0BYFe0O0BYFe0O0BYFe0O0BYFe0O0BYFe0O0BYFe0O0BYFe0O0BYFe0O0BYFe0O0AlyKku/MgAVe5Yq9wIPq8GrYPDqyV6cfofKH0eGxdGOEowctciT7tDOQ9Bxjq76nNi5WhDb7xaGVbFQi1kvN81fRGNXFuql2ErNPQY8eVssjU48rNyPTei10bKZ0jGliHVg5bcmedP0k3JtU9OWp0w4csupDxvp7Ckpcy6inG7VrnjUfSLdWMXCybtoz01VdtzPJxZYXuJZp5eFjUePknmdPM7ndKhJbWdu+1zRNLYvcSJtTIpRV4bcjP1e7urLx1Nr9wuWzfs8qzhh8ru6kmQ8JTlNybdy7qKOrkku9nBj/AElGEHCjNOT5rkXWk3XL6TrRhLg0pNq3aZ5jLSk5Ntu7ZUihNtCEWCI2IJZBFRc7MJgp4lZnJRheyb5s5qdN1J2XxPTi3CnGMfZi+Q2uttJej4UIN8N5urZy4ujJYfNbRM9mnXz0038TOuo1KUoOK1N7ljE3OlPRMozwdr2cXZne67js/A8nARlRlOLW9jscie1buvJ8yrn3meYrLUDVyur30KO0W7SST2TMm5pWT0fMrBOLu3d9Wxs06l8zSnNJ36GMaiyNy0sTB3alF6NCjTG14TwOIV7N039D5Fu0j6vFxpRwVdqKu6cvOzPlbdpszMvpVdL3ZbLc1w9HjSavZI6PUl778jcmV7kbmGVm45LNPfUta2je5adN06jhe/eTw1bc1jx5571GfGqtO1yU+TE42V1qVd7WuYywuF1kWaXUtLWReE9dUUhfRsm6vfYwitShe8o79DCzvZqzOtb6W8yalOM6dnvyYHLpFd5EKkoSvFicJwbUltzKBXbSrKb33/hfMV6doqUXdPlfVHEaKq3HK/MCFNwqJrdM9nD144mGjtUS26niT113FOpKnNSi7NFHu3Ku3/BlQxkMQrTajV68maWSbdtyK0aSV7cuhVpau7XxCfZWll06EOzVnqmQTFxvpK/xJqQjUVpq5SMIRekUi10rvYDnq4eUYt03dc4y1udVHs0knFaKxhVrODsmjWFaMqa1in1ZmtaVnOrCcXZZG7NnRJNQ3033OWti501FQyyh/FzZKxcJLW6ty5gXha+Xk+dzOthb9unJ05PVt7MvpKCs1l5FVWnJOnUUdNNREcCoV5RnPMuzum9Wa0Zfs3mSb5XNuEne6a777mkYwjuk9N7i9q5akMyvdruuZypWWjubV7XikltyKJaWcmielYZZJp5TWTlKD015XRopQhzM6mIS0WpqM1y6O2jT6Htej/3On8fqzyGr7+J6+A/c6fx+rOmLnXSClSeRbXuU4/8Ap+Z0mNrWPHllNxsClOedPS1jnnjcs3FQuk7Xuax48srqJ43enWDiWP11p6eJ2kzwyw9pZZ7AAYRJAAAkgAZ1ZzUoRhlvK+rQtX96n/K/1Iqff0viamvQztX96n/K/wBSP2/vU7/lf6meLxTpp06UXOr0XLvNcPBwowjK2a2tupNi1GbqUoyejaLmWF/d4eBqL7AEAgkEACQQABJAAknMyoAupdSbmYuBpcXM7k3AvcXKZmRdgMS/7tV/I/ofOnvYj93q/kf0PBM1YAAirkrdEErdBZ7bT2Ip051Z5YK7JnsaYP2qn+3Ixh6d/wCV/wAifUcR+H/7IrPC16cHKcLJbu6Zib4b7uv+Q287AA9OrhKUqOGo0HTdSoszm007a6+AHmA6MRheFTjVhVjVpyeXNHSz6FKVB1aNWcZK9NJuPNoDIHZ9nuN3UqxhGMYym2n2W9l4l44Xg08UpqM2qcZQkuje6A4Adk/R8oQn+1g6sI5p01e6RpXwFOjhuJau3lTuorLd94HngAAAAAAAAAAAAAAAAAAAAAAAAAAAAAOufo+o50/V3xqdT2ZpfXoY4mlCjVcIVFUstWlpfmBhLkVLS5FQBV7lir3Ag+gwuAjLDU5uT1hF6b6o+fPqMJJQwdGWdJOnH6GM6lctehGnVhBPR80dDanXq4d04qnGLtpqrc7mWPac4NaXRSWLqSg4tRu1ZyS1a8T08ctwj1YS3GNML9zLxOLBWp4fEYjLGU6aio5ldK73PQwa/u0/F/Q8jD4ieHk3FRakrSjJXTR24Zb5yf0xf2rpr2nHCV8sYzqNqWVWTs9z0tzx5V54jEUnJJJNKMYqySvyPVqVYU43k7Iz/IlmoxkvtsHK3M8+r6Sik1Sjd9WefVxFSp7U5NPlc87m9irjqNJe1mfcebifSFSo7Qk4ruOOUupD1ASqTk7yk2VbDIuQAQALElUWAhkLcNloU5zu4q9tyK6sM4qNortPdm8NM13ozkw6kpN7HQnZkrc9OulPK0mzpZwQn1O+TNRnJSKSLXK3ILtnSzkWi7oyZKlllZk2rVowxMHKF4+0vmbZjHEUs8bxeVrUqOeVSdPDSjK7d8r8Df0bio1IcJvtK9vA8ypOpVmqSeifwNIWox7PtPdkLXoY7FQdGpCN3vrytax4K9po66km4vwON6SbJqT0R24H2peB6yUJ4WcpUowSSUZJu7Z4+Afbn4HrVMW6sMsqVLRWVk9PDU74frHqw34zTyMR+8v4HfgFQ4FR1XRz5ll4l3p4I4MQ7Yp/A3oVaMItVqHEd7pqbiduGbmU/tzvuq4+nKnXnGUYxae0NvgcvM6cXXlXqyqySTfJckczkmcf5G/Kb+mMvaz8QrLo9Cj+SIW+p52Wt9LK1iYyurMona7XwJ3XgBo5QnHK9jmq0XDWOsTXS+iLuVlbl3gcQNp01LWKszF95QuGAATsdVDFyhZSd4nIAPZhiIStaSZrozw1Jp3OmljJx0buiaXb0pXtpqyHOMU3Jq63RjTxcJc7eJeparTkoyV2rEGTr0paNKxWdmr05LzOaeGrQ21XcZtVVvCXkTxjXlXTGU76b/UtbJrPQ5OJOPJonjztrdrvHieTrVeomrO66MtNN2bt323OWnicnJFniZSXtJDRt0+s1JxjG6yx013M6zcrRV+u9zBzz72v4kdtezGXkDbddmOs9e8ylUdyvDqze1vE0jh4r25XLIlrFyb0WoUGtzaUox0iYSndlZaNWTsev6P/AHOn8fqzyIy7HI9bAfudP4/VmsUq9f8AhOpNQr0sOqcXTlFX01d1vc5a+0S0cXUjBRSjdKym12kvE7ybj04S3CFFZZTW9mc+EjHjYirKKm6UJSinqr3NqH8RxQrTw+JlOFr3aaaumujO3FLblIzl+9b4lqvgaeIlGMamdwbirZla52LY8zEYmdfKnGMIR9mMFZI9NbGeeak/9c8/gAB5nMAAAAAY1pRhVpyk7JX1HGpt61Y5ei5m24suiLuDJVaCk2pxu+ZPrFL8SJpZdELLoh0M8N+7w8DUgEvYEkAAAAAFwABBAFgQAJBUm4Egi4AkEC4FMR+71PyP6Hgnu4j93q/kf0PCJVgADKrkrdEErcLPbaexpg2uJNNpZoNK75mc9kUMYenf+T/yN/VZ+/T/AJ0XhT4NKs5zh2o2VpXOUG3nDujjoQqYeWWTVOnw5rrvscIA7ZVsK6UcPFVlRUnOUnZybtY1wKorGRdBzlTyy4vESSUTzQB3euU6ssRHEKbp1ZKScLXjbbfuE8dCSqxjGUYunGnT52SfM4QB6FTG0G6taEKir1YZZXayq+7QhVo0YVJ+tTrSnTcFBxatfr4HngAAAAAAAAAAAAAAAAAAAAAAAAAAAAAA1pYmtSpzp05uMZ+0kZAAVlyKlpFQBV7lir3Ag9OliJ8GCvpFLS/ceYd9P0fiJ0oyjVioyimldjW0rohXbXbs10aL1KlJUoNK0s2uhz/ZeJe9WHm/0IforEfi0/N/oJLCXXy7PtCnSeXTJvZcjjrYunKblCjBp82iPsqv+JT83+hP2TX/ABKfm/0NY7x9G3O6ss2ZJR8CkpuTd7tnV9k1/fp+b/QfZNf36fm/0Lbb7NuS7sUbtud/2TiPfp+b/QfZFf36fm/0JpNx5rd2Smeh9j1/fpeb/QfY9f36Xm/0Gqu488hnpfZFf36Xm/0I+yK/v0vN/oNJuPNJPR+yK/v0vN/oPsiv79Lzf6DS7jzweh9kV/fp+b/QfZNf36fm/wBBo3Hm8z18NQVLDLrLVmS9E191On5v9C/2di/x4/zMmjcZzjlmErsu/ReKe9WH8z/QfZeJ/Fh5v9CeNa8ojK9LdT0L3RwfZeK/Gh/M/wBCfs3GLavH+Z/oXVZuUdj3IfRHJ9m4z8eP8zJXo7GJ3WISfdJjVPKO6NGbWZ6K17czSlSU1LNG/R9DzvUcctsV/wC8h6jjv/lf+8ieN0bjunSlTs7dlmVWoo02m90cz9H42Ss8Smu+bKv0TinvVg//ACf6Fm57T2w7EFaK15vqUbudH2TiPxKfm/0H2ViPxKfm/wBC6TpzSfZfgcr9o9P7JxH4lPzf6EfZFf36Xm/0FlWWR58ZOMrxbT7i3rFX35eZ3fZFf36Xm/0MPU5+syoXhmirt8uX6k7jUy+q5nd6t3bJzy95nX9nVfeh8yfs2r70BLZ6NuNyvZtkXSd0jt+zavvU/wDvwH2bV96Hz/QXd9jjurC/Q7Ps2t78PmPs2t78PmTQ5XpqiE+vkdn2dW9+HmyPs2t78PNjQ5leSsS1ay3On7Or+/DzY+zq/wCJDzY0OVaGdSN9Tu+za3vw82R9m1vfh8/0Gh5trEnofZtX3qf/AH4D7Nqe9T/78Boec0Qd9bAzo03OTg0uhaHo+dSCkpU7NXA84HpfZlS9s1P/AL8B9mVetP8A78APOTZaNRxejaO77NqX3p/9+BK9GVGr3p/9+AGFLG1INXtJdGdEcdRkrTpOL6xehH2ZU96n/wB+BD9HTX8VP5/oNG1+LQk327X6oONCS9qmyPsypa+en8/0H2ZV9+n8/wBBo2o6VD/T5jh4de75ln6NqL+On8/0C9G1H/HTX/fAaNoTox2yiWIguY+z53tnp3C9H1HzgNDKWJ6IxlVb3Z2L0bUavmp/9+BD9G1EtZU0BwOQPQXo2b/ip/8AfgF6MqvaVN/98AOGMmtuZ7eA/c6fx+rOF+jqkXZyp/8AfgaRwuJjG0K6UVyUmWdJXpNJrVXIyR91Hnxw2Ll/nv4zYeGxadniP/dmvIm58vRSSWisUlSpyd3CLfWxw+r4qyfrDs9u0wsPi2r8dr/yYmVnodyo007qnG67jQ8z1fF/jv8AmZMcNjJO3GkvGTFyt9j0gec8Li1vif8A3YWGxb2xH/sybTT0Qef6pjLX9Y/92U4GKW+Jt/5MbNPTB5joYpK/rP8A7shUcU9sQ/52NmnqA81YfFt2WIf8zHq+LW+Jt/5sbNPSB5U6WMjKyqVJd6k7IVKeJpxcpV5WXSTG109UHkUliKsW415adZMVPWacoKVaXadl2mNmnrg8rJivx5fzMcPFfjy/mY2aeqDy+Fivx3/MxwsV+O/5mNmnqA8tUcVd/t3p/qZGTE3a9Yen+pjZp6hFjzOFivx3/MxwsV+O/wCZjyNPUB5fDxP47/mYVLE//If8zHkaeoDzOFivx5fzMrkxP48v5mNmnqg8rLifx5fzMZcT+PL+ZjZp6oPJy4n8eX8zFsR+PL+ZjZp6WI/d6n5H9Dwjplx8rzVpNW1WZnMS3ZAAEVckgkCWrEWLMhJydkm30QEWFizjJOzi03ysJRlH2oteKArYWLZZdHtfYhJvZXsBFhYsqc3tCT+BLpzW8JL4AUsLEtNOzViypze0JeQFLCxbJJtpRd1urEARYWAAWFgAFhYABYWAAWFgAFhYABYWAAWFgSBFhYtYWQFbCxayFkBWwsWaKgLCwAAglkACr3LFXuBB9LhP3Sj/ALcfofNH0uEf90o/7cfoaxZya2FgNWbY0Cw1CBpJFiQEAABBIFgoASo3Js0rYGjhpoUcWmNrpAsB8RtNFhYadQNrpKWpLiVuTm01Ha9IAvcku2bEAAIAALtGaxKmRckml2N3ABWb2EEgCDzP/wDXrfkX0R6h5n/+xX/IvoiZNY+3SSQSZbAAABNhYAQSLAALCwEAmwArYFiAObHr+6T+H1RphoqWHp6v2EUx/wC51Ph9UTh/uKerXZWt+4g1y2lo2FFt3zO3iFFuSeZ22Jzq11Gd+lgK9ybuSoySad2+8JKd3lkvElRUVswLK6XLyKSbskreI2ftNeJMY6975gTfs6rUiD5XvYq098z07g+IpJq0rAWzuL1Ta52GjXs+ZKn3JEa2VpaAVvrtd+BVyd12X5FrWd5WbFm5LVq3JMCM1pbN3JdviTktZSqTCllerbXeAaa1vfuuUu81rP4M0bTd7JlZK73S7gJck5W5kXa2kvIlR0Tau+4nS+uvUClm99dehFk2rxV+VzRvVu6siW4dzArUTklGKVlsV1itrlsqiVcWtle7AKW94+RCl0Tv3svktq1YlRi4rMr/ABAylKq27K3RkqU+cLmlllskyYxTklKXMDO8ny+BKm76pF5RtdPkRlSTutQM2720TQTabvBZeTuXStyiulkQ4x5tK/ICsZ2dppq/QtKMakbbone1nYh2bb1ArJU4ay0S2dytGtDEKUrNJOyzI0UtNviQmmrOwFXkjLsq3Wxy41p1cPb3v0Oy2XnqceM1q4f836CjVItYEmWkWJsTYWAJczCokqruvidK2ZnON25Pm0EZO8bpS8GWp7JSepWteFKT5kYePEhCbe2gGzgUdk7X1NuZlWSstNWwK3a2ZObuM7Sl3Nbl6dpQv8wDyvuIa6ENWKsbUehDJuyLp7oIpP2H4HGd07cOXgcJQAAFySCQLM2wH75D4/RmLJpVHRqKcUm11A7FJpUoVKqqVOKmrO9l4lsQ7UK7dV1U52S9x3OCEnCcZreLurl1XknUdk1U9pPYDtjJRruUldLDq667FVGjToVo0pZnKGa/RckcvrM7t2jrDh/ApTqOnGaSXbVncDrlOca+GUZSScIXSe4jOcsbWjKUmkp2TexzSrSlOnJpXppJfAKvKNWdRJXne/xA6YwWI4FR7R7M/hr9CVUdTDTqOs6Waq9VfptoctOvOnTnTja09GTTxDp0uHw4TjfN2lzA2o1s1LJxnTqZr5ve8Wc9aM4VZRqe3fUusTZv9jS1d7OOxlUnKpNzm7ye4FQAAAAAAAAAAAAAAAAAAJW5BIFjqjSpSwc6jjOEo7TctJSvslbocps8XWlRVJyi4JWSyLReNgM6dKdVtU1maV7czenShRpKtiFfMv2dP3u9931OeMpQkpRbUk7prkTVqzrVHUqScpPdsCpV7kkAXVGrJXjTm0+aiyJU5wV5wlFdWrBVaiVlOSXRMiVSclaU5Nd7AqyCWQAKvcsVe4EH02Ev6pR0/gj9D5k+lwrfqlH8kfoaiVu33EXIuyLXNaZSSVJCFwTdEABcAATe5ACrW7iW9CuZkZmTQspNByuVuwBKt1IsT8CAJt3oZWyCVICLE6DQgotYaFdOo06kEgqSVNBJAv3A0CwuhcGjRAAANANAaQeav8Yr/kX0R6R5sf8AGK/5F9ESri6yQCNFiQSBAJAEWFiQBFhYkAVsLFgBWxFiwA5fSH7lU+H1RFDJ6tTsnfKr+Ni3pD9yqfD6ojDOk6NPNVjF5Vp8CDRNtWSSEXmXZlcriISSyRlFtx3TtbvKUGqNGU5tZs3sgdCi3u0HGy3RzyxdONrtNyeyeyNKUo1ZtOVtL2f/AH/twLNX1dvFjLzui1qOrz9lLV20XxNvVqm8ZxtyAw7cnbSwUZJ3i1bnqdHqtV7ySsSsGr6y36IDlUZJvNJWsrak5Wk3obPCpTu5XXI58S6VnSk5a6aMCJVFTy5rPNs0i6k3aXd0OanVVHNCcbQ/gfgT63bRv5AbVJTyyvFO61siVka313afI53iYN63Se+hTDypUp1JcRyz9eQNuuK71buDSejMJYi2sWrNWfW5WnVUW3Um5R5KwHSobrku8iUJK+W6vrpzIVak3fMlz1ZaNWLV1NO/eBEZpzyzsn/39S+XpY5ZzhKp2qV1myt5vgdWZbX8C2aB3voQ5SX8LduYzLNbMvgVq53TahK0+TexBZTzLVW8SrSu812rmEqs8rhBOpK9s7WiL0lKCWepmdrsC+VN3S0RNm/Z1JzXjZPchR313AsrxfasxkTadnfxItotLjLySsBEpRh2pzaXeWWVpdlPvRWpTp1exNXsFDJFRUZKPICXGK2pkp66lY5+/uJ/aX3T6XAtm11y68kZyhB2klZ82TKLbvewUJ8537rAMkXz1OTGxtWw93e8unejrV46aPxOXHX4+Gv739UBrYmxNibGWkWJsSAH8LMX24yTfgbNdn4nPUoZ+1na/wBIQlbhNS1drGlH7tGNOnmpO97Jm0Jvi5LaW3CrSWrInrZciZytNdLGTm5wk9ktgjCDaq26s6JK0dDBxjFrM5Ns6JbAZMqy5VkVRkMsyAKz9iXgcR3T9iXgcJYgACi5JBIFmVNalKpTScluZ9oksvpbLPaAT2h2iogE9odoCAT2h2gIBPaHaAgE9odoCAT2h2gIBPaHaAgE9odoCAT2h2gIBPaHaAgE9odoCAT2h2gIBPaHaAC47Q7QC4uO0O0AIJ7Q7QEAntDtAQyCXfmQAKvcsVe4EH0uEX90o/kj9D5o+lwj/ulH8kfoaxZyagXGppkAAAmxAAAACdCAAAAAAABcC4bADQgASEgQBLAAAOxBIAgm6DaABIgkANAQBN0HYgADzV/jFf8AIvoj0jzY/wCMV/yL6IlWOskEkaACQABIEEgAQCbCwEAkgAQSQBzekf3Kp8PqjjhG9GOnJHZ6R/cqnw+qMcNQtThJ1G4yinZrbQg5nKpF9lu+yJjB2ve9ztdCLe/yI9WXV2Cac1NQpzU+GpO38RetUjO2WDW6bvy00NvV49ZMn1aN/bfkDtZYynKmqdSmsrVmjtp1qbjFU6iSS2OP1aNtJXHq63tqFeg6ml27J23MauIUZZFLtPn0XU5XTlb2pX8RwHazfeBlisXUdZqnLRLc5Xd6yd2+p2PDq+kb/Et6tFxvaz5psJpw6t66l1BdDqWHinokW4UVpogacvCb21IVOx15LN20TW65hU1a9gacuTm9w4J83Y61BB01YGnI4RemgyW5eR08OL25k8NW5A04nTakrTdr3tY1UnzV7czpVJPVInhItuxz53e6jr1Lqo3/AMoRw6jFxlLNd+Brw4paPREVnBpTckldrWxdyd72XxLZNV5hxjKd27JLbvAopLW6XwGf4fAWjK2V9l6oOkve+YDiJd/xCrJLfUOnp3EKnpfl1ApGo4xir5mlv1Lus5tuSd2FTvqrMcOW+VASqkdne3eFUirWCpSfLcOi1vpcCzkms2ZKN9ykqsU3Z6dbEcJdUSqemlgIjWjzXyOGrUnPE0lN3tPT5fod/DOTFRy4nD98v6oUjssTYWJMtIsTYWJsQVVm1F89TnnFOLnJtcrnTNLKm9+RzVovOoX0irsqLQf91vDqZwdT1tRbskr2LR1gqcdFysS6bp1lO929NQrRpOqr9CtdpU5WXkJwdSTS6mcoyhTlcBTbdPt2T5ladTiZukZWRKUIx7XKyXeUpu0pQtzuQXZFr7NFpRUlZkRUIqOayb6sCklbmiPLzNpTp22T+BnxKd9KXyKM6jjklrrY4TvrVIOm0qdm+djgEQABRctH2l4lS0faXiKR3Yz7uPictOnOrPLBXZ1Yz7uPiZYP2qn+3I5cP6OvN+6fUcR+H/7IrPC16cHKcLJbu6Zib4b7uv8AkOrkwAO6WD4jo2yU48BTnLXbq+8DhB2Y6jTpYfDcNxleMrzirZtTjAAAAAAAAAAAAAAAAAAAAAAAAAAAAAAAAAAAADsqej5udP1Z8anU9mS5ePQwxNKFGs4U6nESWsktL8wMJcipaXIqAKvcsVe4EHt4fFOOHpxyrSKW/ceIfRYXD4Z4Wi5VLNwTevcWXTNm1fW3zh8x64vcfmbxoYOL1nF+LEsPhZ+zKK8Ga8ommPrkfcY9cj7ki/q2HvbirzNY4TD2ummvEeUTVc/rkPdkPXI+6zp9ToaOyJ9SorWyQ8ovjXN63DmmiVi6fO6+B0LBUHqkRP0dTe10PKHjWHrVL3n5D1ul1fkafZcH/EzSHoyktZNseUNVh61Sf8T8ifWKfvHX6nRtbImjCr6OjKV4PL3Dyh41nx6fvonj0vfj5mb9HTT9or6hNMbiarfjUvxI+ZHGp+/HzKLA5Ved2jSOCpTja+VroPKGqcSD2kiVKL2aMn6NafZqp+JlLAVovRxa63LuGq68y6oZl1Xmci9H1m94+Zf7MqL+OBNw1XRddULrqjllg8rtxEvEpLDVUv8Akbhqu25Jx08LWavm+Zo8HWW1VJd7Y3DtuDklhqy3q2t3spKlWT9tv/yLuHbuB5+SvfRTdujIy1+kx0j0Qefkr9KhDhXW6n8x0PRB5rVde+Rnqr+KQNvTPNj/AIxX/IvoieLX5ORzQqSWPqSm3dxs7/AmTWPt6hJyU66vrojoVSCV8xnbelyTmnVWaWXVNI2hVhLRSWg2jQFOJFK7aIWIpt2zFGgKqpF8zPPaO6vmA3IJurXuVjOMr2ewEgKSezQeiAgESnCO8kiFOLWjTA5/SP7lU+H1RphqV8LSaa1gt/Ay9ISTwdSz6fVHRhaMXhaLc3rBO3wIJ4SjdOcfIrGCu7NNrezOiy6srOnJtSWZNdwGeWybT1I0e8S/CbTTcrPkSqbtq/kBlJwzqN9XsWei1Vy7p3jZ8u4hU8qstb9QM5Nd5K/03NPVr6ojgyiBChOfeynq8ou92tbvU3jGV7uOvIvma3jcDiy1oyeZJprRo0VNJ30bN3FS5tPpYoozvK8XZPR23Awc6am4trMjZRT9lalVSkouNm023quruW/aWWln3xAlwe+xR024tJtPuNc9rJxWvPvIe+iQGEIShLK3Jx5Pp3G2SPP5iyZOZLxAq4xvoyFTXvW7i6s9Un8ULK//AABVQXiJU3rZF3G60ZGV9UBRU3f2CZUnJWs14MvG8b6olzbdrfG4HHFxhN0o05yUdG+hyzx2XSNJOTemp0PDVPWZtOThOXa1tZc/kb4XBUqDz6yn1a2CsaeepSXGpuLveyfyNoyST9pNnS4RauyuRdV5BGFotqze1rFsiunqbcOC3dviQlTqPsTTt3gZtdxGltFd+Btw2n7TuRknnS1ytbrkBjZW1jYLKtUjbhSvqzGspxkqcUs0k3rsrf8A2BN42OHH5fWMLlVu3/VHY6c4UJSes0m9NrnBipqdTCS55tV02A7LE2IzR6olST5oy0klEXXVEtq26AzrzUId/IxqSlODTWr+ZpOMp1o6dhbvqUnrIDOUWqEY07572TOi37RXV9NTnVWXHVOytujqhe3a3swKx0kZ1ZXhrzNIvVnNOrKs2oxtCHMDNzzK7im46mkFngqjVpNmkIRW27WoveDdlblYgqymIX3aReWxo7ZlfoB50KspSSdrGrk88YpJ353MKf3nmdVNZp0Go30f1Zdmozq3jmTWltziPQxSvGenM881WQAEVctH2l4lSY6SXiB34z7uPiZYNpVJJyUc0Gk31NMZJOnFJre5yHLh/V15v3dHqkvxaX85eNPgUarlUpvNGyUZXOQHVyDvWOpNQhOE3TdBUp2te973RwADpxdejUpUadFTUaSa7dru7OYAAAAAAAAAAAAAAAAAAAAAAAAAAAAAAAAAAAANaWJrUqc6dObjGftJGQAFZcipaRUAVe5Yq9wIPYoR/YU/yr6HjnuYdf3en+RfQsZyMjGV9DTYJ3V07oumWeWXQlKS2uX+JOj5gRCnWk04bX6llVqwdr3+BelOdO9mrW0TKTu3dpa8yNaUc6rftS+DLR40otqb05XKtStpZ+BpKpUnTjT4TevtLYJIrGVb+Gbv0vuaRxVeCs3fxRz5qtOo0qWbo72sTCM9XKWZt72My3fa66dXFrJOfFjl6NWKeuV475fIwk1s5bEadUakS120sRXrXUcl11RR4utGTjKMU07HPCWR3i7M1dWE03Ujq3vElurpZ6TPFTmmrJIrGrKL3MrdNiLMumXRxqm6aK8Wrb2tDLUAacSo37ZMK9VzcYy5dTO5z1K00k4tKbbt4EWOyU5SeruaKpeGWS+JxYdzVJZndttlf2bqVXVnly7LM1cvj5LLZXZeSbs9fEs5VnT7LSvzep59OdKXC4ebPdqScm1ax03dhZpF1Ucl18Q5PuM0y2smltfmyIvGrKO1rc0TxddFYwbWZqLzW0uuZF2DtrJqT1fw6l51E75b/E5nd7kRd27P2dxpd2uhO71aRoqGZXVSBzRm09Vdd52weHqJJ6N8gSKeq1Hzi/iePiYOHpGrF7pL6I+hVGmnpdfE8HHJR9LV9dEl9EK1JpV8kuQbIT1JerMOiU+8vF2MnJJd5HGfQqN5SzPfQq49Dn4snKy3RtGo7bajadLRk1oWWruZJu7feaKWuw2uloylG9nuWVWUbrqZtlMz6DZppxHfoWjWlFWvoY3TehKeo2LSk3K/Mo2735k38w3uxsZ4iTdCSfd9T3MHBvBUL21px+iPAr34TPXw2KksLQjkdlTS37jUZrucFfXfuIzZXbJr+Y55Ym8bpNPvKwxby2qQbfVFR2WbV09xJPfV9zZiq9OVNdpxfToUeLh/q8AOpK8e0rW5JiKinpddTini7pqMXfk2YOtWmlmlt0A9GWW77bTEckVdO7a3uecsz3bZZOUdgO2coStkqWbJSjazqM43dxaae1iIKUNItpdLgdnETdlK9uZZpZVd6cjk4k9ly6ji1NNX5Aayg2pOLlZdSk1PJmjNPor7kOvVTtpbwKSnKWr+lgLus4LttRS37iZYmknZu77lcxm1NNSje+92VpUlTu1zA6lVWqaatz3GeN7qSMNdiHF7gdKcZOylF/Emdk73Vzkyye3yDhLRu4HTeyu9F4FZTipczGLqdW0X7cuVvECY1N76kzqa2Um/hYpKLasrFXGT0vuBpCbvq7/FESqVEk4tb7XMnDqUlJU12uulgL4rG5aU6clmlKm/DXQn0fXthKcHKMmt7mEoOvTy37LeqtujSMMsUkrJKyA7o1YyesNPOxpKMZp66tb21R5rTvawWZbSa+IHpK1t3frlMqlSabhTsmv4pbeRzwxVWnZPtLqavFU3ZtPyA14yhBOrJvwWxDxNBa57/ArxqE12mtNrkyjh4wc2k0lyerAl4qjlvF3bWmh42Kaji6FTR9pNpK2zR6lKlQjOc5xyqVm4t+z/AN/ocXpZ03Xw0aaStJ379gNXjIP/AC5/Ir6xSlvC3wMcreyIcWt1Y14xnddT4eVNpJPuKNQla1nd2JV+HCVr2IWs4u1u1/RmbFlrek1limzCo4Xsn2k9iqpynNtbIs6UZxUlLVNIy2jKrppa5lqbJpyko8r3Odwd32paamuHknTtfXUCYrUVVCEdbK/TmStyuIpuc0+SWoGSaitejEfufgmQ1prdx12YpK0ZRW1tCCs/YfgXlJRlG8rXja1isldNGeKpzqTgoSUXYCiw0YO/Ev8AA0pwcJxedPLsUm5U5qnJXbV7o0UnFO9NtN6l6TdVrpunN3js2eaehVleNSMf4U0zzygAALkkErdAXlTyrcrlNamyJoUlVm05ZUk23a5nC7nbeckuoxyjKdXDw348v5A6FKVOcqVVycVdpxsaYcuUZSxZQm0moyafNIDPKMpdxlFJuLSls2tyAK5RlLACuUZS+WWXNleW9r20IArlGUsAK5RlLACuUZSwArlGUsAK5RlLACuUZSwArlGUsAK5RlLACuUZSwArlGUsAK5RlLACuUZSwAo1YgtLkVAFXuWKvcCD2aM5LD07e4voeMe3h5L1eno28i+hYzktdWedy8OpmktVFaLY2umvZYVorZl13tPjTGxFmdCcXysGo8rDSMVmRMnJ835mqt0+ZKUeg0MFmXNl1KotpSXxNOx0HZ5MaVm51M180rlZZ3u2zdJENDQ58r6BQk+R0ZSLdBpGPCZGRr/7N7DL4DRplFzitGLyve5tl+BGXxGhRSknyNY1Y27UCttd0FDXRjSpcqL3jJNnNUhBtSUnfvR0ZXvcrJX3JYsv2zhTpxgoqd2kS6clq38yVBdEXs1yQkpdfDJZo95OaXRmqv8A/Y/8bmmWWeQzVE7xk0+qNEn0IuugGV5rRaBSn1Nbp8iLIis7yvfM0y2eWvf0LWXcS0gMryT3J4k+pexFkEQ6k73zHn1ZN4ycpauy/oejlPNrr++T8F9ES+msfa6a8S8dLttGDulpzLZu8w6Irb3iZRu7Xkja3EVvkZSpPXLaz6BE+Lv3ovBpTV7tFOFKDSaXgaJSSTacVyQ0NL6uxaJknrbVl43TvyCru5lJtO5fM768jOcr9wEqRfdIy+NrEqXQC92t1e5ZO65GTk+RMZX35EEV3+ykj2MNH+6UW/cj9DxKz7Ej3cLUSwVFO11Tjp8DUZqyg3y07iMtuV/gTPExhGU22kld2J9Zfuo0iHG60XmOF/p+RLxMc1m4p802QsZHKmopeIDhJ8vkRwV3lvWVfVFKlWrdyjKElyg1r5gWVKPRla1qUHJQcn3FsLKUKa41RVKnPoiyr0qsmlNXXc7AZUE5U1KbTbV7RWxokumpsowezXmUkopptWu7ICqWmqfkHG603ZZwbWikivCd9ZPzAwWJjGWStB05dXqn8TRVKU5qMZJtq+nw/UTqOnHe+vxMKVOGJlmqRTkpyUZLp8AOhqC8dtyJZYRcptRiubLxpZJRyWcea6KxyYqnVxU1ThSnli9XJWiwNIU3Vip068rPXVXLSw+dpzndLTKtEV9F0JxhJ1XOMsz7LXhr9TrqpRVle75dQrnpQgllhoou1ly1LqDtyM5NUqaVOnOLTXK+l9TqjFSvdP4hGShou1YnJpqXVKVuSXmWjTW8pMDPLdezYq6S/wDs6VCLTyzdvEzqYdyacJ7dQMXS10Kujzsr9bGjo1oavtLqiknLm7fBgZzjJOyV2/kTkai7puXXZEuckr53bwOPHY2dJRhCTWbVyty7gOnJmV8rXigqWpk8TOiowtdO3bl1NVVqOVlyYFuB1LcCPO5KdR6pJqydyqrLN7PzAngQvzsUlh6Tte9076GsaynK3Dk/AjiUm+0mgMuHTtftHD6RpqFbDWd7yf8AQ9Hi09tTgx2WpisIotazt80B3YepRpqybu+7crjcsoKW8k7fArwpQmnO2RG1aKdLW+XexZ7S+nBTUpyUU3bdle0sRTT6v6M7ZUoU6bVPWUtLs87N+3hfk7fIXsldadqLJ+7pxzW1d2TSSlSae17kVstSlGz0uYaZ8SMZZbuzdi0aL4mi7KM5ZXbM3ZNPQ6o+y2RVVuTPn4EQ3YquzKOd6U49blcNNzou61WniJNpJS1tLcUE7TXIgP8AqRN/3qK7hPb4oidlic11dLZgrRS/vS5PKiKi/ZVPzGWZ8dTy3VraGrnFxmmrZnfdC+0+GNTTjabo849GcW4VZabcmecaAAAXJW6IJW6A2qbI0wftVP8AbkZ1NkWw1SNOo898souLsYw9OnJ+zI3w33df8hNsJ71XyRPEoU6dRU3Ucpq3aSNubmPbp1IyqYGjBTpxdNy0n3P/ALc8Q6YY2pCpRmowvSjkjo9Vrv5gdlPDxxNLCKo7QhSlOWttn1IWDwkq0XGScXCTlCFRSs13nHDG1YcLLlXCi4rTdPe5vhcZFYhznTpUkqcklGOjb6gSsLRrcCrRpzyTk4yg5rkt7nTQw9CjiqFSEcyqRnop5lFpdeZwPH1c8JRjThGCaUIxtHXfQl+kKuajKMKcOFfKox013A6Iyw79HwdSlNwdZ5YqW2i5nFi6Kw+KqUottRdlcmpipVKahkhGKnnSiralK9aWIrSqzSUpO7tsBmAAAAAAAAAAAAAAAAAAAAAAAAAAAAA71h8Pikq1OcaMY/ewb9nvXW5y4mdKdVujTyQSslfV97MgBWXIqWlyKgCr3LFXuBB7uHivVqT6wX0PCPdw0/7vSWvsL6FiVe3f8yUn1uTmF11ZplDiw1Zf8Fr+I8WBR78/IWvsmXv4huXcBXJfW7CgSlLqg01/EBDT/wCoKLtz8ibN/wAQyv3gGWz2I1fVEq3OQf5gqLO2/wAhl7yy23GnNgUysh5rmis9ncX6tEGeq5EJtcjW65ajR80BneXQjUvz3Jt3k0qna7xrzZpl5jJYaFLdRo9ky+3K4S8SiluhDj3mrsElYaNsbdCd+XyNLLmxaPUDPLoMveaJRtoTYaRjlT6E5bGlk+gsug0bZ28DysU2sZUsuS+iPYsnyPOkl9p1U1/CvoiZdRY53GotbXK2lu0z0ElyuGovR7HLyacGVqN3dBTdjvUFa11bvRDpRvfs+Q8hx5tNURKb1afwOyWGjJXVk2Y1sHKFOU7rKtTWNlqsYuavaxClLLfs2RRuVpSs1Ha5WObM4pa9DUqOjM0vhsQtXvZB0KuVNq6aKZKlno0Si7y3aWveNnYy7V9b/EtGVpJPmQXezYi9G+RXOrqN/iFJxktrBSpdU2evh5JYWk8t3kWu/I8ick6U1bmmj2MPTTwtKzd3BafA1GamadSlONrZo2M1xqVN2lxLLTQ2tlukrmclzjG1iowjhsspSnPNOXPkh6s4UpZZzk1F6PnvYKuo1Zxn1Vopamt0oOXESja927ATTzQgo3u0t3qW4ktraEQjaCTl5hzs49pK7AmVSTT0sYU6Sg4tZlblfQtSqKtbLLtb2e5q41Fq0wDqPkjNcScuJLOtOyk7OJrG6bbi/gTeW2V/UCFVk7JptJc3qUWLy1Jxk2lCy23ZLjJ/wnPLC55SdVdpu/Z3YG7nUqQ9rsvUzoQnSjKKm9S9OPCpxpq9raPqXtKTd1ZX0ApefOo33mqxNTNdSuuaZRwtrqSoLS8bd4F1jJNy00TsuQli6iVo2XzKcOejjlSXduMl1qgEsRUajHiPMxJ1La1bvxZSUIRmpPR7av8A70NE1ZO9u6wEesVKVlxLNuyVtGVlXrJ8RPO+nJis1CKb1Tdlbe5FNdlW+CYF44iq4raLa1XeTDE146T3a0diuVrkiHdRuo6J6q4Ha8bolpd2W9i9OtGTedxdnppt8Tz8mt5xevsJrkSoJO9opBXoOtTlLI7PuPMrYBYjFtSm4wtdabq+xacHKrF7pXb/AKFG5KrZNLvuB2VMJQlBwlPsvryKQwlGLWapUk46qV9jGUZRTcnfTVWMaMuLCTjdJO2r3A7G/wBpN05uMLJJrVeRrSr4SMbKSTS56t2XzPPUGkuwm13s5EqmWUFHM315a7/RAfTUp05wUqbTi9mKlKNRWkk0eFgY1MJCU1Uemrgtbvod79ISpqDaUlN6eG9wL1sGoRco6roeXiLLF4PklUX1R2z9LxSblTeTbMtUcGNqLEVsK4JRzPTzQR6ircSukksqW7FabauuupyUeI60o3SaVu41qJxi804o1WNMq2Isrc2jjWtSD7y9btNWal4MRpyi7yVrcmZ23I64xbw7sY5VGnZSd97HRRsqSba5mdSUHVvBa6Xa5mWmcGnPI/4dTRYiMZSjNqPS73KWy15yeplSnf0i7q142SLBv6xST+8j5lJ1oSlL9pFK3U7FBPdIsqa5IvSPKzrhWnWUnfl0NadWlFNZ1blqd7guhDiug6HncSm37aSv1MqrpzxUc01l63PTnBWehyVOzWpXXP8AoTpXO6mVNZ46c73uKNVTSzVIxve+mxriLcb/AMTDD+wvySLNUs6Wk5OFRaaXVzhO+by0ptrdNfI4CIAAC5K3IJSu0gNJzi1oVzI3r04RinGNtbGFkZx1rprK23szIZkLIWRpkzIZkLIWQDMhmQshZAMyGZCyFkAzIZkLIWQDMhmQshZAMyGZCyFkAzIZkLIWQDMhmQshZAMyGZCyFkAzIZkLIWQDMhmQshZAMyGZCyFkAzIZkLIWQDMhmQshZAMyGZCyFkAzIZkLIWXQCG7lS0kVAFXuWKvcCD38Mv7tS0/gX0PAPfw0ksNS/IvoWJWlkPoMyF1c0hYm199Q9P8A6IdubAOKFtBfoT4sCtkSrBbktrqA062FlyuQmmG7ATlXVkOC7yb2XQhPqQQoroMqvqi1yL26gMq6CyF+5hPqAsmRl5FgwKZU3uMveizSI8QIy94s+TZKdhm12Ahp9WO0uZa9xvs7gVeZ/wARCz9Szv3E7BVbz6i8ulyyaIurgRml3DM+iJ/7sNOoEZnyQuydBp/1ARml3HnVH/8Akar/ANK+iPS8GedL/Equl+yv6GcvRF80dArX/wCS11016WIduiRwVOn/AAhuCbIB5lK0v2clqWbVuYaTVpPfcsursUrzToTWbdGNOMITnKMkuwb8Gm/4V5B4eC3gvI1LjBenOXDj3Itmlu0mVUbKwW3IzVRWg61NwTyt9xwTw1Sis0mmttD0NeqM68ZVKMo2voWUeZe8tzsw9KNWkpN2d/Mwjh5N05PSM3ZHoqKhBJJJI1lRyV6GSnKSeh6FKOahRbb0greSOTFN8CWvT6nZQclh6WmmRfQuN3ErR8RvXXny3GabVtURa6bUH5htrTK2bRnOjTqPNOCcr766CnSjBWTzK1rM0uucWQ5LkmBKcehb9nbmvgU0Fk9QJjQoq0o3TXRm6ly+epzNd47QHRKTS6pmeSObPB6razKKTTvZP4FuI+XmBaUZyhaEnG/T/wCjmxKr+s5o07q1o9rQ6FUfK/kM7vd2v4Ac+FeJqVclWKUVr2v6M6ZUu3HW7XKLsviRGfgrE55bJoCZShG2ZNXdtGLJpZb38zKpHOrSSdnz5CnalfImrvXW4G3tRd42t3iUZb3W5TiSd2/jqaRqJbR8mBVpqUlkWj3toyyzp2+qQnKG+q+RZVG+acXvqgMq9JVIpSm017srGDjw4ZYxcle7bk7narTXsxy9WRw4y0Vl43Aybkt4eJVtu0acU9bSu9jVwWyi9O4rZQWkctnt1YFbQUk25W5JvRFVLNVksyUFqub/AO6GeIbVaErtRjduz3/7+p04eXFi3F6rdWCo7N93m8NjNP8AaOCbzWzXtubqnw08q1fV7HLNVVjITUXltZ9Nwi8otwlmktntc5lTlTw6lTmnkbk0m7WWvmdleNapBqPYa573Kwqwq05whBtNWbS2CsVik1GEvbtrsrfE1cIvtXS03TMvVKcbR4c1bnfU3Ti7JRs11YHKqblVzu81eyurGOKjGOSFrQSeiR6sabftJaNPYynRhnzNLNtfUDghh4KbhPNpvzRniLKvQpJ3UWlq+9HozbjKEIQ7OzkcmLpxWMwyirOU9de9EHTq1Z3a+IaT0snc34DvlU5JLTYlYenF6ufi3oyjnlCUFtZeBlJ23Ohxpwltvu810cs5LMQWzbdUXxM7K6SvsZLYid5NXe2xnar0FNe0rx5JkRiljFOLTbWtxRc5TblpdNWM4PJO75L+pqD0oM05GUZXSfkaq4QsVkrblir6MDOfecOJvCcZ30TPQla2pw4unmg3my5dbirGDlCpO8JJWVkn/wAkU04Um2toNXTuctWnODu9U9maUb8CQx9l9Naslwmnfm9jhOy96N/9JxhNgAAuTH2l4kEx9peIHZifYXiUwsIzqSzxzKMXK19y+J9heJXB+1U/25GcPTWXtPHo/wDxo/zMsuFWpVbUVBxjdNSZym+G+7r/AJDTLAA9ijRcsVg5qnemsPrK2l7MDxy8qUo0oVG1lne1nroepRqZI4CmoU3GqrTvFNtXJpUqf91i4RdpVcqfNrZAeOD2qLnNYWWIpqM3Xa1hlurGeHw6VCnHEU3FSxX8StdWf9QPJB7NWUJ1qMZUKikq8UpSpqKSvtpuUcoYiOJhVjCMKVaCi4xSypys/kB5IPZxsqaVSm8NUeWayfs0orXZNdRVu50q3BcqSqW4LpKMlo9F1QHjA7vScJp0qkmnGaeW9PJL4o4QAAAAAAAAAAAAAAAAAAAAAAAADTTs1ZhprdWPQhisNWiqmMg5Vqa0t/mdzOPEV54iq6lR67JLZLogMZcipaXIqAKvcsVe4EHvYfTDUtf4F9DwT3MO/wC709f4F9CxGt/H4k367FFK4+PkUWvfZXGvQq0m+fkRdIgveXT5DXdormtyGZvYC97f/ZVy7iN+Y+I2aWS5pkpd7KPxYvbmBdu2jIzFNeq8ybvxGzSyk31RDkurIXkLva6Cpu9mTdL/AOirvfl5kPUbFm9dLoeZUX7xsXuugcjO/RkuSe61GxbO+4m6/wCsopW5DN3DZpa/eSrv+IzTs/6E3Q2ml723ZGblmK36kX05DZpfVC+hVNcxJrkhtVroX7il31JvqNmlr9CLuxVsLYbNLXtv9Tz5v/8AI1Gui+iO26tt8Tib/v8AVv7q/oZyvQ1u/wD7LR13evgRfqL6dxxVbW9+yMz6a9xW2pKXQCW3b2V5D/xIvbS5PLcBy2JurXa1IWn8TJtrd2uwIzL4EO11a9ibsK3PQCHZ7eYaTvuTryZV89gKunalGCdnFp6l99L/ABITdydGv0LsY4m/q8v+8z1sKoep0M0v8uOnwPIxP3Mvh9T2cLSzYGjaN04RvfwR0w9ImTitMrfTUhrqrGsacloopLmupNpL2YqPctDYxcY+/r8CMie0k/gjR4ebbei7kyvAqRXsvusBZUY80n8ERKivd0LKnO1rO/Urwqz2v8QI4UPdYdKF9LEqFZ2ul4s0jSqLdpgY8KOmqQ4MfeXkdPCyp6t368haLXXuTA5JUpX7Mqdu8cNt6KHwZ1Nw923wRFScadKdTVqMW3ZgeJ6VnOjKnGMlFvdL6nouMJJSjGMlyaZ81Xrzr1p1JvWTuel6BxElXqUdGpRur9S6HrKmml2bFnRXTU1U5/x5beBGZ3byxt3pEGPCjzQdCyu42XediULbxInklG0kuia5Acqpxvvr4Eujre7fgjR4am7Xle3XQmeHTj7av4WAwcYXy5kn0JUYNatIs6DSt7S8yfVs7uk0uQGEpwjLm10RHEpe40azws1tZlPVqjXsgY1IUKrV47alqWSi3lV78y3qzb2uS6LjsnfxAsqsO/zaLcSH8PMpwppXy6BUr62t3oC+jfX4i7iuyku6xWNNX2maXSa7M/iBClUXJEZZy1Sj8WTKb5QKZ5JeyBEuLGSStYq4Vd3JM0WZ6uHwIk9Pu23cCrpyatpfuPOx8JU8Rhm/e080ent/lO77jz/SjvXwt45Vmf8AQgs+NLXNoQ6Ur9qpp4kJx3jFX6t3NKUtXGyT7jG2tKySekpOT6JXLRpJ65J/HQ0eiEM0optpeCIIdKy7MV8WVqZ6aWkL8tLku0otxm38SK2kIK/mBRVJLVu90ZTk5Sd9G4/1IjneI5pKLs0VpylUrNPe39TpizXo0X2Fy7jaOpjCLaSSsbq0VugFgyHJJ6uxV1EAkjnqKz7nozVz7/kUqNNageZKrHM1NKPTf6F5U4xoyUXyu9GiuIoLjttqzfmicTnnmtZxStuJ7WqNWov8pxnQ8yjZ32OctQABBcmPtLxIJWjA7MT7C8TGlVlSnmik7qzT2Yq1ZySUoW57bmV30M4zUayu66fWV+BR/l/5IliW4SjGnThmVm4rU57voLvoaZWNI160I5YVZxiuSk0jG76C76AacWosvbl2PZ19nwDq1Ha85PK7rXZmd30F30A6qmLnUwsaU3KU4zz53K72Mp16tRWnVnJb2lJsyu+gu+gG0q9aWXNVqPK7xvJ6eBXiTtJZ5WnrLX2vEzu+gu+gGrrVZQUJVZuK2Tk7ImVetJxcqs247Nyehjd9Bd9ANJ1J1JZqk5TfWTuVK3fQXfQCwK3fQXfQCwK3fQXfQCwK3fQXfQCwK3fQXfQCwK3fQXfQCwK3fQXfQCwK3fQXfQCwK3fQXfQCwK3fQXfQCwK3fQXfQBLkVJbuQAKvcsVe4EHs0P3en+VfQ8Y9zDxbw9L8i+hKsQ5ZURxO4mqrSV9u40qU6Twzq04yhaVlmd8x2xwmpt3xwx1LWc6ijDNLZGHri91+ZpiE/VG/D6laapYfB06s6Masqsn7T0SR14ePG47ym+3PUTRrqrLKotM3cWjJUo0PSbjC+S10u5q51Sv0OXNjMcv9fTN0zyNq5Dg9TS8kTd8zj2jFxfRjI+mhs5S6IXkOxnkl0IlFrc01Go7GeWS6kWe5r2tO4JNX7x2MkmxZvT+pqrp7EptPZDs6YtdCYxbvyNGmyEn1HZ0o4ST5EZZJGuu92LN8x2dM8r6BRdtjTK+rIyd41TpTK0+YyvxL5BkGqbjPKTlL5ETkQ1TcZ5WFB2NMiGRDVNxRQJVPTcs494yjVNxCpuxHDatrYnKTbkNU3FXTdt0edUVvSFVdy+iPSseZW09IVPBfREs6Gqepe1+hjGV5czuoRhGhOtOCm01FJ7GuLDGy2unHjLO3M0UlVyJX1Z14qEUoVKccqnG+XozgqdqUV10OmPFheST4MsZuaW9Y/wBJeFRSV0jqdLDyxM8EqKTjF2qXebMle5w0LWd+pvm4uOYeWM0zZNN8/VEN+BF1b/kh2PCxtpokRfvsU07xmy7sC7d9g4lM6T1a1Jcorp5gTbqEknuyinGV7Mm4GeKX7GWt9vqe3hqip4HD7fdxv5I8PEu9GXw+p6dDNPC0VJ3ShGy+B1w9DqrY6FOyV3dbIz+0YveErfA5a8VCrG6urJtX3L1Y0fVVUjTlCUnaKcr6c2eiYzU2744Y6m3XVxtOlSc8yfcnqzk+2YfhS8zDFU0sIp5Vy1uZ4Slh68XTcKikouUqmbSPw6HXi48Ljcso5zGPWwuLjiKeeN007NM24jXsxR4/o6EpUZ5fe6nXwqz3ml4tnDlxmOdkZs1XYq2u3zJTzW0XxZxvCp815EqhUirRqSXgc0duqd76dCkpxV76s5uFUas6s38TKWFbe+oHVPEQWl9Vur2Jvni4uLcZKzWZ7HC8DN/xq3S50UYygrcVvxaA+axlD1bFTo5s2Xn8z2P/AOO4ePDqYiylJvIr8lv+hzV8Nxsbjm3mUad0/wDVo7fJo6/QMpRwMkml+0b18EUeu9U7wXiibcreZhnne+a/wJ4sveXkyDRpJ+zG3gWyRb9heRhxZ9fkW4krb/IDXRJtRSJW17+Rjnn1XkM8+q8gNdeeoUenw1Zjnqa6rxsVkqkmnntbkgOjtLa3jYi03LVpfAxjni7uV/Etmk9LoDbXuZEuujRj2r3UrFJSnKVlN26AbWk0m5NIm6Wj1+JzylN2Sm9NyGrR1nJJ8wOmUbqy0fgVlTaWs9+45VUnFuUajcbadTSnN1JN8RvKBs6V0ln18EZUoNuSzO0ZO/eRnlNyam7XtcrS7Oa0nlmrrxA6OGnzb066FODbRzasr3uTmaXtOxzV6nttyfRa7gbKE3JWqP8ARHm+mY5K2GvLMsz3+B3UoZYXlNprfXY8/wBJu9XC9q7zNvzQEScraKz5FozmtGybq6ZphoRq1+37KTk11sXjxlvbrhJfbJSlmvJu3Qu5KnQbnqufeaVFTq4Z1Y01TlCSTS2aZz4h/wB2fwOn48blJ/bWWMnpT1uCjljTaRrKoqkacls77mPCpP0c6sc3FU1F3257Ck7U6XizfPxYY47x+2LIq5qV1G/Lcmm3DEpPW0dS0knUcn027zGU4upnW6X9Tzxh6Squa7OiLK9jmoTTbyvQ7Yx01CM7E5TTKHEDJxIcTWxDSA5p009+Rx16TipNx+KPTdjDE5eFPT+FlnscU0uA7adk4Dtlfgu65bo4iLQABFy0faXiVLQ9teIo7sb93HxOM7Mb93HxM8E7VJtbqm2jlw/otYZX0fkQ01umbet1/wAWRrSrVKtGuqknJKF1c6o5ADrrYCpGjSq0oTnCVNTk+jA5AdM8I+DRnSUpSnBzkuiTM4YatNQcKblnvltztuBkDf1LELM3RnaPtabaX+hergavrE6dCnOag0tVrqr6gcoNY4WvKs6SpSdRbxtsTHCYiVWVKNGbnHdW2AxBvDB4mbko0ZtwdpabGDVnZgAAAAAAAAAAAAAAAAAAAAAAAAAAABrXw1WhVVOcdZaxtqpeBGIoTw9TJUspWTsnewGMuRUtLkVAFXuWKvcCD38N+60vyL6HgHv4b92pfkX0LBWs0qkHKN0t1tctiMRCtGypOLStHtaL4WLyjGS1RXhQ91nWZSTt2x5MZJtlif3F+C+pzUcVGFFUq1FVYRlmjeVrM9CUU4uLSs+Rj6nQ9z5s6cfLjjjZlGJlGFCtKvj3VnvK+3I79jKnQp0m3CNm+e5e5z5c5nluM5XdWBAuzmyEq3cR5AgsLFPEm/UKsQRckB5C1yNBoBJBIsAIGpCuBPwAFwDfeLgcgJuRoAA+JJAdwA25jbqLhC6YAAHl13b0jVa6L6I9S55WJ/xCr4L6ImXoTGV5I7aNZU4yhOCnCW6vY4bMniS6jjzmMsrrhnMZZXXiKzq65VGMY2jFckcM3exo5Selyrjc6Y82M5Jl8Qyzls06JekLqU1Riq8o5XVv/Tqc1K29lcZEWSSNcvPx5YeOMS2a6S2+X1CZUHjYWUrd5GddAmQyibq+xbNboV8LEbdxEXzLog5IpoRpYulRXf7GSv0PYwkf7rRa9yP0PEqpKm9z1sPiUsNRjkekEt+43j6EYtWrxzXtZbFcRVVWpeKtCKtFdEazq06ls1Nu3eUvRT+6/wDY748kkd8eSSTacbG3o5O3KJzQxlGOFVB4ZtbyaqWzPv0OudaM4uEoJxe6Zz8HD3+5f8zOnHy4THWTnLPlr6JjejUdv4jvyXOGnWjQp2p07R3srsQxkpOyg1+aLRx5M5llbGb3Xdw0MiOLjy8BxqnL6GNo7cneRltz+Z57xFTVuEl8V+pWFas288XFcu1cbHpW735h/mfmcGeT/ifmRnm/4n5jZpjg4SlT9Iy3c3KKV7tuz/VGnoNL1Ob0vxHz7kIrLfK2ru5EIRpq0dENq9PKuvzGWPVeZ5t9bXLDZp6GVdfmTlXU84DZp6GVdSGoc2vI87Muq8xm8beDJs09D9l7yGal78Tz83d8ibobNO6U4W9teY4lNL2jgk9VZBuSV7JfEbNOyVanldpalHWpQjZSu/A4a0slLMnouZhHERlLtc3p4E2PVVSFrZl4tMzq1Kai0pO7W6OFYum0m1zsRKupNZbLUbHTxFSleDzd1iKeJjTxKd+xJa3Rz8Rw9qKt1TM6laErp7rmybNPTdam8P7Tu+7vIr14KMcrend3HmKu403Bo6r5qV920mrF2O9V6eRvXqcvHjOs9XlUunic8auWEoyevQww1VQlCMns2Nj15YmGWSs9TzMVWVatQtyl+hrKpBpSi7xvq/A4bp14W5SGzT0UXpVXRqqcbO3J8zHOlzLKV/4fM3hlMb26YZSe29WvGVPh06apwvdq97swxH7u/gRrzaXciZOMl2ldG/yTcs+Fyyl1pnHE01gnh+C7t5s+fn4WFJ9mku9kSjSSu0ku9lVOLWZPsp6Pob5ubDPHWM+WbYtOUoyWbW/mctaKp107XW9jWeJTbtG/ec9Seed3Zacjhiw7fR9Ruco2Sjuj1U9DwcHWVKt2msjWp6McdTWa7haOzU9y6qO65FzyqvpOTjmpKNr2tLf6mMvSWIktHGP5UNUe05FXI8P17EfivyQeNrtW4nyQ1foe02+hzYqaVGbfQ4aWMnGULzbjftJsjFOnooST32ZZLv0I9YbhllHdWujnLJ6FTIAAC5aHtrxKlo+2vEUd2N+7j4meDTc6iWrdORrjfu4+Jxxk4u8W01zRy4f0Wr8Ct+FU/lZtRpzhSrucJRWTmrGPHrfi1P5mRKrUmrSqSkujdzqih69OdNTwtd4mmoUqSU4Ztb66WPIAHq0q1LLh4upCOajODu/Zbel+helKnQWFg69JuEat3GWib2PHAHW6v/4rJxO26zbjfVqx1Y2vBxxvDqxeecLZZbq2p5QA9lYik88FOk5zpU7Oo+y2t02ZqvOdecJzwjhkjGUczUZJdH1R5QA9ek6OepT41KWGVS6zzamtN0+Z5M8qnLK2430b5ogAAAAAAAAAAAAAAAAAAAAAAAAAAAB14f0hUoUeHljNx+7lJXcH3HLKTlJyk229W3zIAFZcipaXIqAKvcsVe4EHdTni1TjlqxUbKystvI4T0qX3UPyo1JtnK6RxMb+NHyX6DiY38aPkv0Lkl1GfKs82N/Gj5f8AAz41acaPkv0NUyB4nlWefG/jR8l+gz438aHkv0NAXxh5Vnnxv40fJfoM+N/Gh5L9DUDxh5Vlnxv40PJfoM+N/Gj5L9DW1iYrUeMPKsc2N/Gj5L9Bmxv40fJfobzd5FR4w8qyzY38aPkv0F8b+NHy/wCDYDxh5Vlmxv40fJfoL478aHkv0NgPGHlWX9+/Gh5L9CL478aHl/wbkk8YeVc98d+NDy/4F8d+NDy/4OgDxh5Vh/fvxoeX/A/v340PL/g3BfGHlWH9+/Gh5L9B/fvxoeX/AAdAJqHlXP8A378aHl/wP79+NDy/4OgDUPKue2O/Gh5f8C2O/Gh5f8HQSNQ8q51HHvatDy/4JyekL/ew8v8Ag74zVkWU7vREXdeblx6/zoL4f8D+/fjw8v8Ag9KcVLVbnNJWk0WSJuuW2O/Gh5L9DlxMa1KoqlSacp813HqwSctdjj9L2So27/6Esiy21wcWfvE8aov4vkZgxqNtONU975DjVPe+RmBqDTjVPe+SHGqe98kZgag049T3vkhx6nvfIzA1BpxqnvfIcap73yRmBqDTjVPe+Q41T3vkZgag041T3vkHVm95fIzA1Bd1JSVm9C8cTVjFRU7JdyMQUb+tVvf+SI9are/8kYgDb1qt7/yQWJrLafyRiANniqzXt/JD1qt7/wAkYgDf1uv7/wAkR61W9/5IxAG3rNb3/kh61W/EfkYgDf1uv7/yQ9br+/8AJGAA39ar+/8AJD1qt7/yRgAN/Wq3v/JEetVn/H8kYgDf1uv+J8kPW63v/JGAA6PXK/4nyRHrlf3/AJIwAG/rlf3/AJIet1/f+SMABs8VWbu5/JD1ms79vffRGIA0deo4KDl2VsrFItxvbmQAJJzPqVA0LurN7v5FW29/oQBoWzMtGtUhfLJq6sZgaFnOTd2yLu1uRAAspySaT0e6Iu736EADX1iqv4vkh6xVf8fyRkANfWKvv/IiVWpJWctO7QzAE3LcSahkv2ehQATdi5AAtGUoSUou0ls0S6s25artb2S1KAAAAAAAkmU5Td5O5UATcgAAAALkkErdAa1OK0s8r/Ezs+p0VvZXiUpU5VZ5YLXfUxhdxjDK5TdZWfUWfU6vU6nvU/5kVnhakIOXZaW9pXNtuez6iz6lgBWz6iz6lgBWz6iz6lgBWz6iz6lgBWz6iz6lgBWz6iz6lgBWz6iz6lgBWz6iz6lgBWz6iz6lgBWz6iz6lgBWz6iz6lgBWz6iz6lgBWz6iz6lgBWz6iz6lgBWz6iz6lgBWz6iz6lgBR35kFpcioAq9yxV7gQenTf7GH5UeYenT+5p/lRrFnJYAG3MJIAAEgASiABO4CZLAqSAAAAEgAASQSBbdEAAAABIAAEkEgACYpvREFo6GkHZlVDTvLJWWpKrSLuys6Scr3KqVmXU78iK59pHD6Uf3Xx/oenUcbO255fpN34fx/oW+ie3AADDoAAAAAAAAAAAAAAAAAAAAAAAAAAAAAAAAAAAAAAAAAAAAAAAAAAAAAAAAAAAAAAAAAAAAAAAAAAAAAAAAAAAAAAAAAAAAALkrdEErdAdNb2V4k4P2qn+3Iit7K8ScJKKqSUpKOaDSb2OfH+rlxfqwN8N93X/ACD1Zfj0f5v+C8Ixo0qt6tOTlGyUXc6OrlO6Ho1zVNKvTVSpDPGDvdnCd9PG044rC1XGeWlSyS0V27PbzAqvR+aVPh14TjNuKkr+0lsYTw7hhoVpOznJxUba6bs1o1m6FGhRjJ1lWzrpsbekKtCrjpRqOSp01ZcNJ67sDjp0HUw9armsqWW663djoj6Pb1daEUqcajclokxTrYSnGrSXGlSqxV3ZKSady9bG0ZwqRhGaUqUacb25PmBEMHw3Vu4VYug6kJa/9uVj6ObSUq8I1Mmd07O6Vrlo42mqShlnf1d0tlu39DfDV6GIrOplqKvwWntl0W4HHHAylXo0s6vVp8RO22j0+Reh6NnWpQlnjGVRXhFp6/HkaUcdh4ujUqQq8WlT4ay2tbXX5kU8dB4enCpPEQlTWVcKVlJd4FKfo7PCk5V4QlV9mLTu2RQ9HTqwzSmqd5OMU03drw2CxkM+Dk1N8H2u/W+hrDH03S4c5V6ajOUoulK103ezAxeAcKOetVhTd2kmm7tb6kVMHw8PGpOtCMpxzRhZ6rxNsPjaNKM3J15uV7wk04y6XKwxdGGClR/azco2yys4xfVcwOEAAAAAAAAAAAAAAAAAAAAB2v0fKo4Swr4lKf8AE9MvW/Q58TClTquFGo6kUrOVt3zt3FYVqlOE4Qm4xmrSSe5QCsuRUtLkVAFXuWKvcCD06X3UPyo8w9Ol91D8qNYs5LAA25hIAAAAAWjByWhLptJtsmxUAFAAkCCQAABIAAACQAAAAkAAC8V3aFUXTuQRJ6WIi7EAC6kaRZjdEqTGlaiWiKRkSpXdiCtnI4PSkXHhX7/6Hp3tyPO9Lu/B+P8AQlWe3mgAy6AAAAAAAAAAAAAAAAAAAAAAAAAAAAAAAAAAAAAAAAAAAAAAAAAAAAAAAAAAAAAAAAAAAAAAAAAAAAAAAAAAAAAAAAAAAAAC5K3RAA6asouKs0Y3Kx1ZbKjOM1NM4SSahcXGVDKjTRcXGVDKgJv3kXGVDKgFxcZUMqAXJTtsyMqGVALi4yoZUAuLjKhlQC4uMqGVALi4yoZUAuLjKhlQC4uMqGVALi4yoZUAuLjKhlQC4uMqGVALi4yoZUAuLjKhlQC4uMqGVARIqS1YgAVe5Yq9wIPTpfdQ/KjzD06X3UPyo1izkuCCTTmAAoAEgSpNBybRFgQAAUSAAAJUW9lclqzsyCACSiCQCACQAAAAAlACbaXC1DAgl7EACCQAFy0dypNwNt0ed6Xt+yt3/wBDtjKxwelLXpW7/wChmtT288AGXQAAAAAAAAAAAAAAAAAAAAAAAAAAAAAAAAAAAAAAAAAAAAAAAAAAAAAAAAAAAAAAAAAAAAAAAAAAAAAAAAAAAAAAAAAAAAAXAAEw3N6FJVZtSbSUXJ2MIbnVg/aqf7ciT0zj6MuF9+p/KieDRnTnKlOd4K9pI5zfDfd1/wAhWmAB63CwVGjShWcE6lNScssnK75prQDyQenChRdGOMyR4caTzR5Oa0/qWeGo+q1Kc4U41qdLP2L3Xi9gPMq0p0pZakcrsnYjLLLmyvK3a9tDr9Kfva/JH6GympejcNB04NOrlvbXkB5oPTxFOjP1unGhGnwNYzjfrszzAAAAAAAAAAAAAAAAAAAAAAAAAAAAAAAD0VRwuLSrqcaCj97D+sTjxNSnVrOVKmqcErJL6vvAwlyKlpcioAq9yxXmBB6dL7qH5UeYelSvwoa/wo1izk0BF30CaZpzSLEN2Ts9SyClgLgAWVipZJJAQ9wAECUrvQIsnbbcKvT7OhecFJN8zHM7msZdl+BlWShJq6INk2orW+hjdPVFlSgBJUAAAAAEgACYq5a1yFoWTsiKcPTcq425k5gmuYFLA3vFrYzlHoNmlAXsRYuxCOH0n/lfH+h6OVHB6WVlR+P9DNq4+3nAAy6AAAAAAAAAAAAAAAAAAAAAAAAAAAAAAAAAAAAAAAAAAAAAAAAAAAAAAAAAAAAAAAAAAAAAAAAAAAAAAAAAAAAAAAAAAAAAC4BICG50YeqqU25JuMouLsc8dGWzIkSenTfCe7V80OLQhTnGlGd5q3aaObMhmRVSbwxuIp0uFGq1C1rWTsc+ZDMgNFWqKg6Kk+G3mce819exLpOm6vZccrVlqvE5syGZAdUcfiE288W3beCe3wEMbWzNSn2JSUpJRRy5kMyA7MbjquJnOKm+C5XUWkvM5CMyGZASCMyGZASCMyGZASCMyGZASCMyGZASCMyGZASCMyGZASCMyGZASCMyGZASCMyGZASCMyGZASCMyGZASCMyGZARLkVLN3KgCvMsV5gQenS+5h+VHmHp0vuYflRrFnJcN2Tb5BEyjanJt2si7YcjqcZfsuWrubUZqolZ7bnPhbuNTZ6MtgdYy8RGrHVqSrvdWAKyX6kp8rgWT3AEpXISVyyVlvdkE5e/XoVsU9YSqZWuVtjfsrdPyJtdEURNqFOU27JIlaoyxjccNLwBGsZKdJODbTW5VK6TutTmoya9Ht3eifMvgKs6lJprSGifUbLG1gWulyKlQBlOrGFSKqM6Iyjbp4jZpQGry21RSVlsNmkBEC/RlRa6DlcqSFCSABZOxbOjMEFnK5SNe9WVO2yvckwjpjJd8QOrOcHpV34Xx/odhxekv8r4/wBCVcfbgABl0AAAAAAAAAAAAAAAAAAAAAAAAAAAAAAAAAAAAAAAAAAAAAAAAAAAAAAAAAAAAAAAAAAAAAAAAAAAAAAAAAAAAAAAAAAAAAFyVq0QTH2l4gdNeEVFNRS1MLLodOJ9heJGEjGVSTlFSUYOVmay9uXDd4uey6Cy6HT6zH/49LyLRnCtSq3owi4xunFGXVyWXQWXQklQk4uSi8q520ArZdBZdC2Sbko5ZZnsrahwkoqTi1F87aAVsugsuhtiqHq9XJmzdlO9rbovHByeEeIcsqvaMbNuQHNZdBZdC0oSik5RaT6ogCLLoLLoSAIsugsuhIAiy6Cy6EgCLLoLLoSAIsugsuhIAiy6Cy6EgCLLoLLoSAIsugsuhIAiy6Cy6EgCLLoLLoSAIsugsuhIAiy6Cy6FpRlCTjOLjJbpqwlGUGlKLV1dXXICkipaXIqAK8yxXmBB6lC3Chf3UeWerRi+DD8q+hYzk1T6B6pp7MjYskVlSNCmr5Y5bq2mhEaEKSfDVk9zTYndBWZKi2W8CU7DaaUcWtwaN3RCaGzShJLtzK3Kjmp646adzsMY0Yqo6iTzPvNr6EVOmzRniqbqYeUYK7L3RGYDl4U6eBlGW9noT6Lk405qz3OirP8AZS8DLANcD4kV0tJ7bkK3iWuRK3IqPOxEm8VVu32E8vkdGBk5YdNyzamdXCzlUqSjJds3oQnSpqMnmd9wtrbfRcyJJrQR9o0dna4RjcrGUcujXmaTj2W4nD6Pblnb1LtNOx6JgyxF4UnKG618TSk3OmpdVs9AJsSVlJRaT5kppgSSo3IJANWOfbGr8h0Pc5pu2Nj+X9RVjpSuzi9K/wCV8f6HbmS3OH0m7un8f6Eq4+3AADLYAAAAAAAAAAAAAAAAAAAAAAAAAAAAAAAAAAAAAAAAAAAAAAAAAAAAAAAAAAAAAAAAAAAAAAAAAAAAAAAAAAAAAAAAAAAAAuTH2l4kEx9peIK68T7C8SMH7VT/AG5E4n2F4mVKrKlPNG17Ws+ZrL25cP6KG+G+7r/kJ9bl+FS/kKzxU5QcVGEU98sbGXVie5Cq44Wi6NF1aSpWlaqopO2t11PDAHqwqR9QWLv+1p03R+PJ+Ru4tYKtB550lQvGcp3TduSPDAHo47C16+JzUqbmlCKdvBGkXWpYXC0pucWq+Vxb5aaHlXZanN06kZrVxaeoHrY3jRpYz1mV6cpLgpu/Pl8Dxy1Wo6tWdRpJzk5NLvKgAAAAAAAAAAAAAAAAAAAAAAAAAAAAAHfTxtGcFLF0uJWpexL3u6Rx161TEVXUqSvJ/IoAKy5FS0uRUAV5livMCD1qP3FP8q+h5J6tF/sYa/wosZyaXCdiNeoTfcVlNwmyHfuIUmBe/cL3IzPoLvoBa4ZVN9CXfoBEmVuT4oWAm4uVs+jI+DKNEyyszJPuZZX6Mgva65CMVHZIqnbqWzeIEgrfxIcu5gWJuZ5vEZu5gaJ2Ze6e5jmJUmBdq2i2sZU6UaatDoXu2Qr32+YRlilJ0JJK7fQvhYuGHhGWkki2vQsmwrmx0nGnBxu+1yN4K8It7takyipqzSfiLNaaWAZbbaEkavmLO2jAmXgclb97p62vodSvbVs5q+mIpa63BHTZJHD6S/y/j/Q7bLkcXpJfd/H+gqz24QAZbAAAAAAAAAAAAAAAAAAAAAAAAAAAAAAAAAAAAAAAAAAAAAAAAAAAAAAAAAAAAAAAAAAAAAAAAAAAAAAAAAAAAAAAAAAAAAFydiABrKtKoraadCl30KUvafgapOTsk2+iN8mPjlpMZJOlbvoLvoa8Gp+HP+VkSpziryhJLq0YVnd9Bd9CwArd9Bd9CwArd9Bd9CwArd9Bd9CwArd9Bd9CwArd9Bd9CwArd9Bd9CwArd9Bd9CwArd9Bd9CwArd9Bd9CwArd9Bd9CwArd9Bd9CwArd9Bd9CwArd9Bd9CwArd9Bd9CwArd9Bd9CwAo2+ZBaXIqAK82WK82BB6dJ/sYflR5h6VL7qH5UWM5NCStyblZTcEACcxOZFQBfMhmKER9uXwA0vci5FwBa5FxcAToSmVRIE3JIAC5JAuA0AAEggrUesV3gXAuRcCQQQnv3AXuRdkE3AXMqkqiklGmpJGpzYjEOEssLX5tgTmrN/crzKV4tVaUmkr8i1LFJrttKxnXrRqSi48iLHacXpL/L+P9DWjio1J5bNN7GPpF3dNeIJ7cQAI2AAAAAAAAAAAAAAAAAAAAAAAAAAAAAAAAAAAAAAAAAAAAAAAAAAAAAAAAAAAAAAAAAAAAAAAAAAAAAAAAAAAAAAAAAAAAALgAQRS9p+B24JtVKjWjVOTRxUvafgduCTdSolq3Tkkdeb90inrNf8Wfma0atSpSrqc3JKHNmXq1f8Kfka0aVSnSrucHFOHNHJXKdMMDXnSVRKOqzKLkszXVI5j1Fjoyo03DE8GcIKLhwlK7XRgcawdV1Y0+zeUM6d9LW3DwdVUOKskopZmoyTaXVo3hjKa9GuD+/SdOOn8LdzZ4vDrD1YwqqMZUssaSp2adubA4sfShRxChTVlki9+qN6eDg8Aql4yq1JZY9u1vhzYxHq+KrZ/WYwSjFawbvoQqtGnSoU1VU+HXzNqL201Ayr4CvQpynNRai7SUZJuPS5zHdLEUmsfaX3sk4aPXtXOEAAAAAAAAAAAAAAAAAAAAAAAAAAAAAA3r4SrRqxhbPn9hx1UvAriaEsNV4c3FySTeV3t3GuHx9bD0ZU4NNfwtq7g+45W2223dvmBWXIqWlyKgCvNlivNgQdCqyWVNXSS5HOdSWfD3ur+zb4BKrPESb0dkbUsQpdl79WzmjRnJ6RejszR0loslReCLJTx26sy5Sj5mdepOFlFXutytPB8SOaMalr81saydNpQbVoxy3TLJb6Z0pDELKs6a5GnFha+ZWOKT5JaExejjbR8ydz2tjtU4yV01YJ9uXwOXjqCtCnZlc85J3b1G007YyUtmmRGcZNqLu0cSlOn2Y37QU5J2lpJF1fZp3a5t9OhNzk9Zk9oolVpvtWRDTrCTzN30tscscTJe1G67jT1hWTyuzKmm0U0tXcsc/rK5R+YeIs2srBp0EXMHiOzdRZn6xKTVkkNrp1tpbkt6HHOrK1r79DNVZrRaE2adzmoxTk7JlakknHXr9DilVlKCTeqKublrLX4jZp6d0VnVhB2lJJnHTqKm5NJu60vyKJ5pO61fUbNPQhJSinF3KKag5uTss39DlndKKUna9tBFSTWt480xs00qYvTsR8y1PFRdoyVmckk46blVF5lluTa6enKtCDtKSTMsRGnOm5XV+qOOopOp2rss6csujVuepdppSMXKSjEmKuhC8dbhOytoRpNPLTbbTcuROKrcXLpa1yzUcuZx+ZjVcXbLG3XW4SMwAGgAAAAAAAAAAAAAAAAAAAAAAAAAAAAAAAAAAAAAAAAAAAAAAAAAAAAAAAAAAAAAAAAAAAAAAAAAAAAAAAAAAAAAAAAAAAABcAkCtL2n4GqbTunZiVJwV9NehWz6nTltuXcSWWdNOJP35eZDnJqzk2u9lLPqLPqc1WBWz6iz6gWBWz6iz6gWBWz6iz6gWBWz6iz6gWBWz6iz6gWBWz6iz6gWBWz6iz6gWBWz6iz6gWBWz6iz6gWBWz6iz6gWBWz6iz6gWBWz6iz6gWBWz6iz6gWBWz6iz6gWBWz6iz6gWBWz6iz6gJcipLT5kACvNlivNgQdMMPOUU01qr7nMd1O/Dj4IJWlGEo5s7TbfI6lh5erOu3aN7JdTCjbMs98t9bdD0atahUw9W0pJaKMWlpbax3xtmM09WFsxmnj1lVVRuMrR6GlDD05UZV683CmpZVlV22Ku0vAtQqUZ4WWHrTdPt54zy35WsduHestfbn81lisNwqqpxmpRnFSjLa6ZmsPU5yVjfE1oVa9NU75KcVCLe7S5i7OX8je5v6c82ccO1rm1v0JjTq5lJyStyRe7F2eZhSrRlUqZ5S17hHDq95O763L3JLu60IVNZrp2CoxXK/iTe21yPgQI0Ypt235FuFTtsiL9w+AB0odEQ6UN0kSidegGfBV1aK07yJYdSnmbt3GmpN2BksNHPe7t0LPDwfXzLgCvAgPV6b5fMtqNQKPDx6mdTD2h2LuRvqLgczpVW4rW1te4r6vUcpXdlyfU67go5oUKko3lZPvLLDTXOPmbgg53QnfqVeHm90dNxcDjq0p07WV7lJU6l9V80d9yNOhRxRqySepWblLV/A77R6I5sXbsWXULHMAAoAAAAAAAAAAAAAAAAAAAAAAAAAAAAAAAAAAAAAAAAAAAAAAAAAAAAAAAAAAAAAAAAAAAAAAAAAAAAAAAAAAAAAAAAAAAAAuSt0QSt0WDoreyvErSpSqzyxttdtvRFq3srxLYP2qn+3I7fyP3c+L9T1Z/jUf5yJYaShKSnTmo6vLK5ib4b7uv+Q4OjAA9Gn6PoTdGm601VrU86WW6Wn/AHnA9LD4WlxsPVoVHKEqjg88VvYzeDp+quvKc225exC6jbr0A4QejicPh5VcLCkqiz003lgm2tdfE2oYL1fGUnHM1UhOymrNNIDyAd8PRubE8DiNyhDNUstu5deReXoyCrRjKc405QlK8o6xt1QHmg9CngKNadF0qs+HVzK8o6ppXK+o06ypSw1WUozqcN5o2s7Xv5AcIPTqeiopwy1Jxi55JOpFL4oz9QpPFxoqdWOjbU4pN26dbgcANcTThSrOEM9ktVONmjIAAAAAAAAAAAAAAAAAAAAAAA7n6P4zhUwks1GW7k9ab53ObExoxquNCUpQStmfN9QMJcipaXIqAK82WK82BB3U5Lhx8EcJvGulFLLsuoSuuM7cieIuhyesL3PmPWF7nzNTPKTUbnJlJqOmTzX7zLh95n6yvc+Y9ZXufM1hy54ek8q1jCzu2aXOb1le58x6yvd+ZnPPLO7yS2326Qc3rK9z5j1le58zCOnQm6OX1le58yfWV7nzA6boXRzesr3PmPWV7nzA6boXOb1le58x60vc+YHTcXOb1r/R8x6z/o+YHTdE5lbkcnrP8Ao+Y9Z/0/MGnXdDfZHJ6z/p+ZKxVto/MGnTdC5zetf6fmPWv9HzBp03GZHN60vc+Y9ZXufMpp05kRdHN6yvc+Y9Z/0/MGnVci5zes/wCn5j1n/T8wadN/AX8Dn9a/0fMetL3PmE06MwzI5/WV7nzI9ZXufMGnTdHPi/4PiR6z/p+ZnVq8S2lrBWYACgAAAAAAAAAAAAAAAAAAAAAAAAAAAAAAAAAAAAAAAAAAAAAAAAAAAAAAAAAAAAAAAAAAAAAAAAAAAAAAAAAAAAAAAAAAAAC5K3RBK3Qg6K3srxJwsoxqSU5ZVKLjcrVnFxVmmZXXU7c9lz6c+L9XT6vT/wDk0/mWiqdGlV/bRm5RskjkuuouupxdEnZDHZcRh6vDvwaeS2bfR6/M4rrqLrqB2YfG8CnSjw83DqcS+a19LWJo42FGMnCh+0kms2d2d+q5nFddRddQO6GPUeC3RTnThw3LNvGz07t9yY+kYwdHh0MsaSkks975vgcF11F11A7o+kGsjnSU5KDpzbftx/XvKQxdKlVcqWHyJwcLZ29+ZyXXUXXUDtw+O4EaMeHm4bk/ate6sUo4yVChCEI9qFXiKV+61rHLddRddQOqpiMPOSksIo9q8u29e7uL1MbTqOlGWHvSpp2i6jb17ziuuouuoHRi8T6zUjLJlUYqKV7u3ezAi66i66gSCLrqLrqBIIuuouuoEgi66i66gSCLrqLrqBIIuuouuoEgi66i66gSCLrqLrqBIIuuouuoF41JwjKMZNRmrSSe5Ui66i66gRLkVLSKgCvNlivNgQAAAAAAAAAAAAAAAAAAAAAAAAAAAAAAAAAAAAAAAAAAAAAAAAAAAAAAAAAAAAAAAAAAAAAAAAAAAAAAAAAAAAAAAAAAAAAAAAAAAAAAAAAAAAAAAAAAAAAAAAAAAAAAAAAAAAAAAAAAAAAAAC5JBK3EF3FIjKizIR6ObD/6eOLWU71EZUMqLWFiX+PnJunjVcqGVEg4MoyoZUSAIyoZUSazw1anGTnBxUGlK/JsDHKhlReNKcqc6kY3jC2Z9L7FQIyoZUSAIyoZUXVObpOoovInZy7yoEZUMqLwpzqKThFtQV5W5IqBGVDKiQBGVDKiQBGVDKiQBGVDKiQBGVDKiQBGVDKiQBGVDKiQBGVDKiQBGVDKiQBVqxUtLkVAFebLFebAgAAAAAAAAAAAAAAAAAAAAAAAAAAAAAAAAAAAAAAAAAAAAAAAAAAAAAAAAAAAAAAAAAAAAAAAAAAAAAAAAAAAAAAAAAAAAAAAAAAAAAAAAAAAAAAAAAAAAAAAAAAAAAAAAAAAAAAAAAAAAAAAFyVuQStyz2NGQtyWQtD1ctk5pa3f2TcchcXOl5MNXeW13EHrU6dBzwuHeHi+NSTlPW6euvyPJO2t6QqcGlSoTlGMaSjJWW/PU8Dm3pUqMHhaLoRqcdXlPW615eBWnSoSw8qVGFOpWjmzKd1J22cTkp4zEUqXCp1XGHTp4dBDGYinR4UKjULWtZfUDqqwozwWbDU6byxTm3dTi+b70dOKlChHFvhRnFVY2jK9vZPMnjMROjwpVG4WStZFl6QxUZykqus3eXZWvyA7p0IRpYqnBZIz4Lt7t2UxsMFThVpRyRqQ9i0ZX+L2ZwSxNaSqKU2+K053522NHj8S4qMqt0rbpPbr1AejqcKuOpQqRUotu6fgzqU8P6pHEeqU83F4dru1rX8zlfpDEuUZZ4pxd01CK/oY8apwuFm7GbPa3MD06lChRVeM4vhRrxTS6WK1IYdV6VSdOl6u8yU6d7PpdHE8biHJy4mspKbdluuZMsfiZVIzdV5o3torK/cB2SopLES4dOMXQzRdNvLLXctOnh5Vp4dYeC/Y586ve9rnBPGYibk5VG80cr0W3Qj1qtxXUz9txy3strWA9ClSoRr0sM8PCSdLO5u927X8jyT0aHpGNHDKOatKai4qLtl89/gecAAAAAAAAAAAAAAAAAAAHoJYPFRVapJUJQ+8hFe1+U5MTVjWquUKcacbWUV0MgBWXIqWlyKgCvNlivNgQAAAAAAAAAAAAAAAAAAAAAAAAAAAAAAAAAAAAAAAAAAAAAAAAAAAAAAAAAAAAAAAAAAAAAAAAAAAAAAAAAAAAAAAAAAAAAAAAAAAAAAAAAAAAAAAAAAAAAAAAAAAAAAAAAAAAAAAAAAAAAAAC5JBMdZK/UCzmmMyOnExioJpJanOdOS25brecsuqjMhmRIObCMyGZEgCMyGZEgCMyGZEgCMyGZEgCMyGZEgCMyGZEgCMyGZEgCMyGZEgCMyGZEgCMyGZEgCMyGZEgCMyGZEgCMyGZEgCMyGZEgCMyGZEgCMyGZEgCjdyC0ioArzZYrzYEAAAAAAAAAAAAAAAAAAAAAAAAAAAAAAAAAAAAAAAAAAAAAAAAAAAAAAAAAAAAAAAAAAAAAAAAAAAAAAAAAAAAAAAAAAAAAAAAAAAAAAAAAAAAAAAAAAAAAAAAAAAAAAAAAAAAAAAAAAAAAAAAuTH2l4kEx9peIHZivYXiZYeKlU1V9DXFewvEzw33nwOuX7u+X/I6eHD3I+RlPJKE8sVpzSJyT9i/Y68/AtUSjRkkrJI6XuenS9z04y3DnlzZJW62KnuUuOvVJZrYVUVxLvTnujzPI8RQk4uSi2lu0tgoScXJRbS3dj2MO6jjhZUJKOGiv2vaSS11uRRz1cG4xzUaMVPLUjNWau9JIDyMksqk4tRfO2h01MDKEKkozzuE1G0YvW6udmI4tT0c5VHKiowiklNOE/hyZviFXcsWsM2qjqx2dnbKB5FPDueHrVc1uFlVrb3Zk4SUVJxaT2bW57FaVNxxbk00nR4jWzd9S2OlVnTqwhQc6dSyhLiprfSyA8RJt2WrLcOeZxySuuVjtwuGxeFxNOo8O3q0lJpX0fM7YwqrETy1KjqvDyyxnJOUHdcwPFyTzOOSV1q1bYhQk0mouzvbTc9mObNRpV5J4mVGpF3euvspsnD050JYCE1aceLdXvbQDyZUXHD8VuzzZcrTvte5R05ppOEk3srbnp4WrxMPRqYmWa+K1cvy6GmarSUXjprM68XTvK9lfV+AHj5ZWbyuydnpsJQlG2aLV9ro9aVGrQpV5SjG8sRGUE2rPX6GfpRTdGNSpKcJSm/2U5qVu9dwHmAAAAAAAAAAAAABth8O66nNzjTp00s0pcr7GJ6Ho3NwMQqUY1KrslTns11tzA5MRQlh6uSTUrpNNbNPmZHZ6UaeJi3bO4RzxTuovojjA0p0KtWE5wg5Rgrya5GZ2S9IThKmsMuFSp7R3v1b6mGJqU6tVzpU+GmtY30vzsBhLkVLS5FQBXqWK9QIAAAAAAAAAAAAAAAAAAAAAAAAAAAAAAAAAAAAAAAAAAAAAAAAAAAAAAAAAAAAAAAAAAAAAAAAAAAAAAAAAAAAAAAAAAAAAAAAAAAAAAAAAAAAAAAAAAAAAAAAAAAAAAAAAAAAAAAAAAAAAAABcmPtLxIJj7S8QOzFewvE54ycHeLszoxXsLxOSUsp05P2deX9m3HqdfkVqVpuDTfyMuJ3ESneLVjHlftjyy+1bvqy06tSeXPOTyrKrvZHTgadPh4jEVYcRUYq0G9G27K5OMhSlhqGJpU1T4maMoLa65ojLCLvFNkmcZ2ilYnidwFwU4ncOJ3AXBTidw4ncBe76mlCvKiqmVJ8SDg78kzDidw4ncBcFOJ3DidwFwU4ncOJ3AXBTidw4ncBcFOJ3DidwFwU4ncOJ3AXBTidw4ncBcFOJ3DidwFwU4ncOJ3ATNtR0M7vqyZyurHX6PhQrVY0alCVScpe0p5Ul5AckZPMtTUrieEsTPgX4Sl2bu+hHE7gLgpxO4mMswCXIqWlyKgCvUsV6gQAAAAAAAAAAAAAAAAAAAAAAAAAAAAAAAAAAAAAAAAAAAAAAAAAAAAAAAAAAAAAAAAAAAAAAAAAAAAAAAAAAAAAAAAAAAAAAAAAAAAAAAAAAAAAAAAAAAAAAAAAAAAAAAAAAAAAAAAAAAAAAAC5MfaXiQTH2l4gdmK9heJx1NkdmK9heJx1NkdOT9nXl/ZmHsAc3J0YTE+rympQVSnUjlnBu10MVieOqcIU1SpU1aME72vu7nPYWALYAAAAAAAAAAAAAAAAAAAAAAAAAAAAAAABnVh8RChhqyinx6iyp8lHn8TlFgDAsABenuyhenuwLS5FS0uRUAV6linXxAAAAAAAAAAAAAAAAAAAAAAAAAAAAAAAAAAAAAAAAAAAAAAAAAAAAAAAAAAAAAAAAAAAAAAAAAAAAAAAAAAAAAAAAAAAAAAAAAAAAAAAAAAAAAAAAAAAAAAAAAAAAAAAAAAAAAAAAAAAAAAAAAuTH2l4kEx9peIHZivYXicdTZHZivYXicdTZHTk/Z15f2ZgA5uQAAAAAAAAAAAAAAAAAAAAAAAAAAAAAAAAAAAAAAAAXp7soXp7sC0uRUtLkVAFOviXKdfEAAAAAAAAAAAAAAAAAAAAAAAAAAAAAAAAAAAAAAAAAAAAAAAAAAAAAAAAAAAAAAAAAAAAAAAAAAAAAAAAAAAAAAAAAAAAAAAAAAAAAAAAAAAAAAAAAAAAAAAAAAAAAAAAAAAAAAAAAAAAAAAAC5MfaXiQTH2l4gdmK9heJx1NkdmK9heJx1NkdOT9nXl/ZmSQSnZp9Dm5OylhIqKdTVvl0Jq4SLi3T0fS+50JppNbMNpK7dkenwx09nhjrTz/Vq3ufND1at7nzR3cWn+JHzHFp/iR8zP48ftz/Fh9uH1at7nzQ9Wre580d3Fp/iR8xxaf4kfMfjx+z8WH24fVq3ufND1at7nzR3cWn+JHzHFp/iR8x+PH7PxYfbh9Wre580PVq3ufNHdxaf4kfMcWn+JHzH48fs/Fh9uH1at7nzQ9Wre580d3Fp/iR8xxaf4kfMfjx+z8WH24fVq3ufND1at7nzR3cWn+JHzHFp/iR8x+PH7PxYfbh9Wre580PVq3ufNHdxaf4kfMcWn+JHzH48fs/Fh9uH1at7nzQ9Wre580d3Fp/iR8xxaf4kfMfjx+z8WH24fVq3ufND1at7nzR3cWn+JHzHFp/iR8x+PH7PxYfbh9Wre580PVq3ufNHdxaf4kfMcWn+JHzH48fs/Fh9uH1at7nzQ9Wre580d3Fp/iR8xxaf4kfMfjx+z8WH24fVq3ufND1at7nzR3cWn+JHzHFp/iR8x+PH7PxYfbhWFqt+zbvujqjhaUVqnJ9WzRVabdlOPmWNY4YxvHjxjixOHVOOeF7c10OY9HEyUaEr89EeccuSSXpw5ZJegvT3ZQvT3Zzc1pcipaXIqAKdfEuU6+IAAAAAAAAAAAAAAAAAAAAAAAAAAAAAAAAAAAAAAAAAAAAAAAAAAAAAAAAAAAAAAAAAAAAAAAAAAAAAAAAAAAAAAAAAAAAAAAAAAAAAAAAAAAAAAAAAAAAAAAAAAAAAAAAAAAAAAAAAAAAAAAAH/2Q==' style=\"width: 100%; max-width: 1193px;\"/>\n",
       "</div>\n",
       "\n",
       "<script type=\"text/javascript\">\n",
       "   (function() {\n",
       "     var container = document.getElementById(\"focontainer-4212ca44-8962-44c6-8ba5-e979332903d3\");\n",
       "     var overlay = document.getElementById(\"fooverlay-4212ca44-8962-44c6-8ba5-e979332903d3\");\n",
       "     fetch(`http://localhost:5151/fiftyone`)\n",
       "     .then(() => {\n",
       "        overlay.addEventListener(\"click\", () => {\n",
       "          fetch(`http://localhost:5151/event`, {\n",
       "            method: \"POST\",\n",
       "            body: JSON.stringify({\n",
       "              event: \"reactivate_notebook_cell\",\n",
       "              data: { subscription: \"4212ca44-8962-44c6-8ba5-e979332903d3\" },\n",
       "              subscription: \"4212ca44-8962-44c6-8ba5-e979332903d3\"\n",
       "            })\n",
       "          })\n",
       "        });\n",
       "        container.addEventListener(\"mouseenter\", () => overlay.style.display = \"block\");\n",
       "        container.addEventListener(\"mouseleave\", () => overlay.style.display = \"none\");\n",
       "     });\n",
       "   })();\n",
       "</script>"
      ],
      "text/plain": [
       "<IPython.core.display.HTML object>"
      ]
     },
     "metadata": {},
     "output_type": "display_data"
    }
   ],
   "source": [
    "# Show the samples we processed in rank order by the mistakenness\n",
    "session1.view = mistake_view\n",
    "session1.show()"
   ]
  },
  {
   "cell_type": "code",
   "execution_count": 40,
   "id": "49d036f2-d17c-4e2c-8e28-6ca6aac43a6a",
   "metadata": {},
   "outputs": [],
   "source": [
    "from fiftyone import ViewField as F\n",
    "\n",
    "session1.view = dataset.filter_labels(\"ground_truth\", F(\"mistakenness\") > 0.95)"
   ]
  },
  {
   "cell_type": "markdown",
   "id": "564fc033-3d95-4dd8-84f2-d197137c16ae",
   "metadata": {},
   "source": [
    "Aggregations, see https://docs.voxel51.com/user_guide/using_aggregations.html"
   ]
  },
  {
   "cell_type": "code",
   "execution_count": 41,
   "id": "e7befe59-e72e-46fb-924d-beb200c0b6ad",
   "metadata": {},
   "outputs": [
    {
     "name": "stdout",
     "output_type": "stream",
     "text": [
      "['bounds', 'count', 'count_values', 'distinct', 'histogram_values', 'mean', 'quantiles', 'schema', 'list_schema', 'std', 'sum', 'values']\n"
     ]
    }
   ],
   "source": [
    "# List available aggregations\n",
    "print(dataset.list_aggregations())"
   ]
  },
  {
   "cell_type": "code",
   "execution_count": 42,
   "id": "5467a69f-afa2-4cf6-9697-76f0d8baf0d5",
   "metadata": {},
   "outputs": [
    {
     "name": "stdout",
     "output_type": "stream",
     "text": [
      "{'cow': 22, 'giraffe': 23, 'cat': 16, 'backpack': 7, 'donut': 13, 'bench': 23, 'bird': 51, 'motorcycle': 19, 'apple': 2, 'surfboard': 30, 'traffic light': 24, 'skis': 8, 'teddy bear': 1, 'sink': 5, 'zebra': 14, 'baseball glove': 4, 'umbrella': 23, 'horse': 17, 'dog': 15, 'fire hydrant': 2, 'hot dog': 5, 'bottle': 10, 'bear': 6, 'chair': 23, 'toothbrush': 2, 'boat': 37, 'pizza': 9, 'scissors': 1, 'fork': 9, 'train': 5, 'knife': 9, 'book': 11, 'orange': 2, 'cake': 4, 'skateboard': 3, 'refrigerator': 3, 'frisbee': 2, 'truck': 19, 'bed': 1, 'elephant': 17, 'person': 378, 'clock': 4, 'sports ball': 3, 'stop sign': 2, 'cell phone': 1, 'microwave': 1, 'airplane': 24, 'car': 61, 'kite': 75, 'handbag': 15, 'spoon': 9, 'oven': 2, 'bus': 1, 'tv': 1, 'suitcase': 9, 'bowl': 15, 'vase': 1, 'banana': 3, 'couch': 4, 'parking meter': 1, 'sheep': 2, 'broccoli': 16, 'wine glass': 4, 'sandwich': 6, 'carrot': 47, 'laptop': 4, 'dining table': 15, 'cup': 21, 'tie': 6, 'snowboard': 2, 'tennis racket': 2}\n"
     ]
    }
   ],
   "source": [
    "counts = dataset.count_values(\"ground_truth.detections.label\")\n",
    "print(counts) "
   ]
  },
  {
   "cell_type": "code",
   "execution_count": 43,
   "id": "fe098fe8-c66a-4e12-8ef8-96ba131eb5ad",
   "metadata": {},
   "outputs": [
    {
     "data": {
      "text/plain": [
       "(0.15001302256126986, 1.0)"
      ]
     },
     "execution_count": 43,
     "metadata": {},
     "output_type": "execute_result"
    }
   ],
   "source": [
    "dataset.bounds(\"uniqueness\")"
   ]
  },
  {
   "cell_type": "code",
   "execution_count": 44,
   "id": "e42148d8-13c5-4fd7-970a-4db3585a0c55",
   "metadata": {},
   "outputs": [
    {
     "data": {
      "text/plain": [
       "['test', 'train', 'validation']"
      ]
     },
     "execution_count": 44,
     "metadata": {},
     "output_type": "execute_result"
    }
   ],
   "source": [
    "dataset.distinct(\"tags\")"
   ]
  },
  {
   "cell_type": "code",
   "execution_count": 45,
   "id": "e6dd3f8c-8239-41e7-87cf-78300a334d3a",
   "metadata": {},
   "outputs": [
    {
     "data": {
      "text/plain": [
       "['airplane',\n",
       " 'apple',\n",
       " 'backpack',\n",
       " 'banana',\n",
       " 'baseball glove',\n",
       " 'bear',\n",
       " 'bed',\n",
       " 'bench',\n",
       " 'bicycle',\n",
       " 'bird',\n",
       " 'boat',\n",
       " 'book',\n",
       " 'bottle',\n",
       " 'bowl',\n",
       " 'broccoli',\n",
       " 'bus',\n",
       " 'cake',\n",
       " 'car',\n",
       " 'carrot',\n",
       " 'cat',\n",
       " 'cell phone',\n",
       " 'chair',\n",
       " 'clock',\n",
       " 'couch',\n",
       " 'cow',\n",
       " 'cup',\n",
       " 'dining table',\n",
       " 'dog',\n",
       " 'donut',\n",
       " 'elephant',\n",
       " 'fire hydrant',\n",
       " 'fork',\n",
       " 'frisbee',\n",
       " 'giraffe',\n",
       " 'hair drier',\n",
       " 'handbag',\n",
       " 'horse',\n",
       " 'hot dog',\n",
       " 'keyboard',\n",
       " 'kite',\n",
       " 'knife',\n",
       " 'laptop',\n",
       " 'microwave',\n",
       " 'motorcycle',\n",
       " 'mouse',\n",
       " 'orange',\n",
       " 'oven',\n",
       " 'parking meter',\n",
       " 'person',\n",
       " 'pizza',\n",
       " 'potted plant',\n",
       " 'refrigerator',\n",
       " 'remote',\n",
       " 'sandwich',\n",
       " 'scissors',\n",
       " 'sheep',\n",
       " 'sink',\n",
       " 'skateboard',\n",
       " 'skis',\n",
       " 'snowboard',\n",
       " 'spoon',\n",
       " 'sports ball',\n",
       " 'stop sign',\n",
       " 'suitcase',\n",
       " 'surfboard',\n",
       " 'teddy bear',\n",
       " 'tennis racket',\n",
       " 'tie',\n",
       " 'toaster',\n",
       " 'toilet',\n",
       " 'toothbrush',\n",
       " 'traffic light',\n",
       " 'train',\n",
       " 'truck',\n",
       " 'tv',\n",
       " 'umbrella',\n",
       " 'vase',\n",
       " 'wine glass',\n",
       " 'zebra']"
      ]
     },
     "execution_count": 45,
     "metadata": {},
     "output_type": "execute_result"
    }
   ],
   "source": [
    "dataset.distinct(\"predictions.detections.label\")"
   ]
  },
  {
   "cell_type": "code",
   "execution_count": 46,
   "id": "09e980c3-6262-44fb-815d-e014a44b6eaa",
   "metadata": {},
   "outputs": [],
   "source": [
    "# Expression that computes the number of predicted objects\n",
    "num_objects = F(\"predictions.detections\").length()"
   ]
  },
  {
   "cell_type": "code",
   "execution_count": 47,
   "id": "de86181f-3496-4a7f-bf91-038a35aadbf9",
   "metadata": {},
   "outputs": [
    {
     "name": "stdout",
     "output_type": "stream",
     "text": [
      "(1, 100)\n"
     ]
    }
   ],
   "source": [
    "# The `(min, max)` number of predictions per sample\n",
    "print(dataset.bounds(num_objects))"
   ]
  },
  {
   "cell_type": "code",
   "execution_count": 48,
   "id": "710d01d4-7086-4e2e-94f5-1d867b4e96f1",
   "metadata": {},
   "outputs": [
    {
     "name": "stdout",
     "output_type": "stream",
     "text": [
      "[0.09230882674455643, 0.2025071531534195, 0.5627268552780151, 0.9435436725616455]\n"
     ]
    }
   ],
   "source": [
    "# Compute quantiles of detection confidence in the `predictions` field\n",
    "quantiles = dataset.quantiles(\n",
    "    \"predictions.detections.confidence\",\n",
    "    [0.25, 0.5, 0.75, 0.9],\n",
    ")\n",
    "print(quantiles)"
   ]
  },
  {
   "cell_type": "markdown",
   "id": "d6374550-982d-44f1-89f3-a38cf31f57ae",
   "metadata": {},
   "source": [
    "<b> Dataset Views, see https://docs.voxel51.com/user_guide/using_views.html"
   ]
  },
  {
   "cell_type": "code",
   "execution_count": 49,
   "id": "3de4a962-65c2-4416-abcd-84c45d46110a",
   "metadata": {},
   "outputs": [
    {
     "name": "stdout",
     "output_type": "stream",
     "text": [
      "200\n",
      "5\n"
     ]
    }
   ],
   "source": [
    "view = dataset.view() # whole dataset\n",
    "print(len(view))\n",
    "\n",
    "# Take 5 random samples from the dataset\n",
    "view1 = dataset.take(5)\n",
    "print(len(view1))"
   ]
  },
  {
   "cell_type": "code",
   "execution_count": 50,
   "id": "060b557f-e866-4e84-a134-2d3851bb9230",
   "metadata": {},
   "outputs": [],
   "source": [
    "# Use view to iterate samples \n",
    "for sample in view:\n",
    "    # Do something with `sample`\n",
    "    pass\n",
    "sample = view.take(1).first()\n",
    "same_sample = view[sample.id]\n",
    "also_same_sample = view[sample.filepath]\n"
   ]
  },
  {
   "cell_type": "code",
   "execution_count": 52,
   "id": "497cbf1b-02bf-4b16-93cb-9f0e725a4aa1",
   "metadata": {},
   "outputs": [],
   "source": [
    "# Filtering \n",
    "# Samples whose image is less than 48 KB\n",
    "small_images_view = dataset.match(F(\"metadata.size_bytes\") < 48 * 1024)\n",
    "\n",
    "# Samples that contain at least one prediction with confidence above 0.99\n",
    "# and whose label ifs \"cat\" or \"dog\"\n",
    "match = (F(\"confidence\") > 0.99) & (F(\"label\").is_in((\"cat\", \"dog\")))\n",
    "matching_view = dataset.match(\n",
    "    F(\"predictions.detections\").filter(match).length() > 0\n",
    ")"
   ]
  },
  {
   "cell_type": "code",
   "execution_count": 53,
   "id": "71255524-b9ec-4a3b-985e-439dd0471152",
   "metadata": {},
   "outputs": [
    {
     "name": "stdout",
     "output_type": "stream",
     "text": [
      "Session launched. Run `session.show()` to open the App in a cell output.\n"
     ]
    },
    {
     "data": {
      "text/html": [
       "\n",
       "        <iframe\n",
       "            width=\"100%\"\n",
       "            height=\"800\"\n",
       "            src=\"http://localhost:5151/?notebook=True&subscription=655ca2f5-08f4-4dfe-9d1d-f597df654d7c\"\n",
       "            frameborder=\"0\"\n",
       "            allowfullscreen\n",
       "            \n",
       "        ></iframe>\n",
       "        "
      ],
      "text/plain": [
       "<IPython.lib.display.IFrame at 0x7f21f3effe80>"
      ]
     },
     "metadata": {},
     "output_type": "display_data"
    }
   ],
   "source": [
    "session2 = fo.launch_app(matching_view, auto=False, desktop=False)\n",
    "session2.show()"
   ]
  },
  {
   "cell_type": "code",
   "execution_count": 56,
   "id": "eb068292-6d62-49c0-991c-90f6f2d42ea7",
   "metadata": {},
   "outputs": [],
   "source": [
    "dataset.persistent = True \n",
    "# Create a view\n",
    "cats_view = (\n",
    "    dataset\n",
    "    .select_fields(\"ground_truth\")\n",
    "    .filter_labels(\"ground_truth\", F(\"label\") == \"cat\")\n",
    "    .sort_by(F(\"ground_truth.detections\").length(), reverse=True)\n",
    ")\n",
    "\n",
    "# Save the view\n",
    "dataset.save_view(\"cats-view\", cats_view)\n",
    "\n",
    "# ..next week..\n",
    "\n",
    "# Retrieve a saved view\n",
    "cats_view = dataset.load_saved_view(\"cats-view\")"
   ]
  },
  {
   "cell_type": "code",
   "execution_count": 55,
   "id": "3e49be07-c601-4b7e-8c48-9f380f1ff262",
   "metadata": {},
   "outputs": [],
   "source": [
    "dataset.delete_saved_view(\"cats-view\")"
   ]
  },
  {
   "cell_type": "code",
   "execution_count": 57,
   "id": "59135a0c-4df9-4314-bb19-c3567e6ef0bd",
   "metadata": {},
   "outputs": [],
   "source": [
    "#add tags via views \n",
    "# Perform a random 90-10 test-train split\n",
    "dataset.persistent = False\n",
    "dataset.take(0.1 * len(dataset)).tag_samples(\"test\")\n",
    "dataset.match_tags(\"test\", bool=False).tag_samples(\"train\")"
   ]
  },
  {
   "cell_type": "markdown",
   "id": "fe31de8e-1cfd-4324-b01f-ed391df4a522",
   "metadata": {},
   "source": [
    "<B> Plugins\n",
    "https://github.com/voxel51/fiftyone-plugins"
   ]
  },
  {
   "cell_type": "code",
   "execution_count": null,
   "id": "df45caf4-2722-40b5-9bfa-3e77a4b98c57",
   "metadata": {},
   "outputs": [
    {
     "name": "stdout",
     "output_type": "stream",
     "text": [
      "Downloading jacobmarks/zero-shot-prediction-plugin...\n",
      "  115.2Kb [69.2ms elapsed, ? remaining, 1.6Mb/s]    \n",
      "Skipping existing plugin '@jacobmarks/zero_shot_prediction'\n",
      "Downloading jacobmarks/image-quality-issues...\n",
      "  189.3Kb [73.8ms elapsed, ? remaining, 2.5Mb/s]    \n",
      "Skipping existing plugin '@jacobmarks/image_issues'\n",
      "Downloading voxel51/fiftyone-plugins...\n",
      "  329.1Mb [17.9s elapsed, ? remaining, 12.7Mb/s]   \n",
      "Skipping existing plugin '@voxel51/brain'\n",
      "Plugins not found: {'@voxel51/brain'}\n",
      "Downloading allenleetc/model-comparison...\n",
      "   87.1Kb [63.2ms elapsed, ? remaining, 1.3Mb/s]   \n",
      "Skipping existing plugin '@allenleetc/model_comparison'\n"
     ]
    }
   ],
   "source": [
    "!fiftyone plugins download https://github.com/jacobmarks/zero-shot-prediction-plugin\n",
    "!fiftyone plugins download https://github.com/jacobmarks/image-quality-issues\n",
    "!fiftyone plugins download \\\n",
    "    https://github.com/voxel51/fiftyone-plugins \\\n",
    "    --plugin-names @voxel51/brain\n",
    "!fiftyone plugins download https://github.com/allenleetc/model-comparison\n",
    "!fiftyone plugins download \\\n",
    "    https://github.com/voxel51/fiftyone-plugins \\\n",
    "    --plugin-names @voxel51/io"
   ]
  },
  {
   "cell_type": "markdown",
   "id": "f369c39f-507d-4875-9d67-cb9c0cf3a68a",
   "metadata": {},
   "source": [
    "<B> RUN DETECTION MODEL FROM ZOO (see https://docs.voxel51.com/user_guide/model_zoo/index.html)"
   ]
  },
  {
   "cell_type": "code",
   "execution_count": null,
   "id": "d58e96c7-eed7-4e40-b722-2ef623baf78b",
   "metadata": {},
   "outputs": [],
   "source": [
    "model_faster = foz.load_zoo_model(\"faster-rcnn-resnet50-fpn-coco-torch\")\n",
    "model_yolo = foz.load_zoo_model(\"yolov5x-coco-torch\")"
   ]
  },
  {
   "cell_type": "code",
   "execution_count": null,
   "id": "d5e4c735-d6e2-4988-98e5-c928f663ff29",
   "metadata": {},
   "outputs": [],
   "source": [
    "samples = dataset.take(25)"
   ]
  },
  {
   "cell_type": "code",
   "execution_count": null,
   "id": "44c76c47-3a7b-453b-b1bd-8627bee312e1",
   "metadata": {},
   "outputs": [],
   "source": [
    "samples.apply_model(model_faster, label_field=\"fo_faster_rcnn\", confidence_thresh=0.5)\n",
    "print(samples)"
   ]
  },
  {
   "cell_type": "code",
   "execution_count": null,
   "id": "deb0abdb-4b18-4711-84ed-57e6473be58b",
   "metadata": {},
   "outputs": [],
   "source": [
    "samples.apply_model(model_yolo, label_field=\"fo_yolo5\", confidence_thresh=0.5)"
   ]
  },
  {
   "cell_type": "code",
   "execution_count": null,
   "id": "030ce3cf-2afe-4c53-9fcf-54271378188c",
   "metadata": {},
   "outputs": [],
   "source": [
    "session3 = fo.launch_app(view=samples)\n",
    "session3.show()"
   ]
  },
  {
   "cell_type": "markdown",
   "id": "b33b20bf-97d0-4f62-8e17-92f320c9dfda",
   "metadata": {},
   "source": [
    "TODO: <B>RUN DETECTION MODEL (see https://docs.voxel51.com/recipes/adding_detections.html) "
   ]
  },
  {
   "cell_type": "markdown",
   "id": "a656d803-8c9f-42d9-89c6-3092149cdbcc",
   "metadata": {},
   "source": [
    "TODO: <B> RUN MMDETECTION MODEL"
   ]
  },
  {
   "cell_type": "code",
   "execution_count": null,
   "id": "f5f4a933-745b-4a2e-93b5-e4b7eb9eb8dd",
   "metadata": {},
   "outputs": [],
   "source": []
  }
 ],
 "metadata": {
  "kernelspec": {
   "display_name": "Python 3 (ipykernel)",
   "language": "python",
   "name": "python3"
  },
  "language_info": {
   "codemirror_mode": {
    "name": "ipython",
    "version": 3
   },
   "file_extension": ".py",
   "mimetype": "text/x-python",
   "name": "python",
   "nbconvert_exporter": "python",
   "pygments_lexer": "ipython3",
   "version": "3.8.10"
  }
 },
 "nbformat": 4,
 "nbformat_minor": 5
}
